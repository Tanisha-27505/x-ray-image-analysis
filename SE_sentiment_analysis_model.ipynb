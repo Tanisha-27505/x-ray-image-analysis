{
  "nbformat": 4,
  "nbformat_minor": 0,
  "metadata": {
    "colab": {
      "name": "SE_sentiment analysis model.ipynb",
      "provenance": []
    },
    "kernelspec": {
      "name": "python3",
      "display_name": "Python 3"
    },
    "language_info": {
      "name": "python"
    },
    "widgets": {
      "application/vnd.jupyter.widget-state+json": {
        "f52bf11dd4384b72a1c3f84efbe939d0": {
          "model_module": "@jupyter-widgets/controls",
          "model_name": "HBoxModel",
          "model_module_version": "1.5.0",
          "state": {
            "_dom_classes": [],
            "_model_module": "@jupyter-widgets/controls",
            "_model_module_version": "1.5.0",
            "_model_name": "HBoxModel",
            "_view_count": null,
            "_view_module": "@jupyter-widgets/controls",
            "_view_module_version": "1.5.0",
            "_view_name": "HBoxView",
            "box_style": "",
            "children": [
              "IPY_MODEL_3a7d5c0f50f440eca75154f77a506c6e",
              "IPY_MODEL_148c4eb8eefe4d50814ff2904810b7ea",
              "IPY_MODEL_109244255fb84a669f5311452a28566c"
            ],
            "layout": "IPY_MODEL_f055ae90d6da477ab2a053495cc97ed6"
          }
        },
        "3a7d5c0f50f440eca75154f77a506c6e": {
          "model_module": "@jupyter-widgets/controls",
          "model_name": "HTMLModel",
          "model_module_version": "1.5.0",
          "state": {
            "_dom_classes": [],
            "_model_module": "@jupyter-widgets/controls",
            "_model_module_version": "1.5.0",
            "_model_name": "HTMLModel",
            "_view_count": null,
            "_view_module": "@jupyter-widgets/controls",
            "_view_module_version": "1.5.0",
            "_view_name": "HTMLView",
            "description": "",
            "description_tooltip": null,
            "layout": "IPY_MODEL_34379b058dc243298210da9cd5678075",
            "placeholder": "​",
            "style": "IPY_MODEL_6ad21a8a81264afda15b12208a438fc1",
            "value": "Downloading: 100%"
          }
        },
        "148c4eb8eefe4d50814ff2904810b7ea": {
          "model_module": "@jupyter-widgets/controls",
          "model_name": "FloatProgressModel",
          "model_module_version": "1.5.0",
          "state": {
            "_dom_classes": [],
            "_model_module": "@jupyter-widgets/controls",
            "_model_module_version": "1.5.0",
            "_model_name": "FloatProgressModel",
            "_view_count": null,
            "_view_module": "@jupyter-widgets/controls",
            "_view_module_version": "1.5.0",
            "_view_name": "ProgressView",
            "bar_style": "success",
            "description": "",
            "description_tooltip": null,
            "layout": "IPY_MODEL_305a3f6c3a5f40b8b46903c575467baa",
            "max": 231508,
            "min": 0,
            "orientation": "horizontal",
            "style": "IPY_MODEL_4d05fd60e6c8405ab2416a7d4be0d3b9",
            "value": 231508
          }
        },
        "109244255fb84a669f5311452a28566c": {
          "model_module": "@jupyter-widgets/controls",
          "model_name": "HTMLModel",
          "model_module_version": "1.5.0",
          "state": {
            "_dom_classes": [],
            "_model_module": "@jupyter-widgets/controls",
            "_model_module_version": "1.5.0",
            "_model_name": "HTMLModel",
            "_view_count": null,
            "_view_module": "@jupyter-widgets/controls",
            "_view_module_version": "1.5.0",
            "_view_name": "HTMLView",
            "description": "",
            "description_tooltip": null,
            "layout": "IPY_MODEL_2ac0c7d4385a44289dbf06a509a19617",
            "placeholder": "​",
            "style": "IPY_MODEL_14630566a7c14e8c92f6301ca012f6ca",
            "value": " 226k/226k [00:00&lt;00:00, 3.98MB/s]"
          }
        },
        "f055ae90d6da477ab2a053495cc97ed6": {
          "model_module": "@jupyter-widgets/base",
          "model_name": "LayoutModel",
          "model_module_version": "1.2.0",
          "state": {
            "_model_module": "@jupyter-widgets/base",
            "_model_module_version": "1.2.0",
            "_model_name": "LayoutModel",
            "_view_count": null,
            "_view_module": "@jupyter-widgets/base",
            "_view_module_version": "1.2.0",
            "_view_name": "LayoutView",
            "align_content": null,
            "align_items": null,
            "align_self": null,
            "border": null,
            "bottom": null,
            "display": null,
            "flex": null,
            "flex_flow": null,
            "grid_area": null,
            "grid_auto_columns": null,
            "grid_auto_flow": null,
            "grid_auto_rows": null,
            "grid_column": null,
            "grid_gap": null,
            "grid_row": null,
            "grid_template_areas": null,
            "grid_template_columns": null,
            "grid_template_rows": null,
            "height": null,
            "justify_content": null,
            "justify_items": null,
            "left": null,
            "margin": null,
            "max_height": null,
            "max_width": null,
            "min_height": null,
            "min_width": null,
            "object_fit": null,
            "object_position": null,
            "order": null,
            "overflow": null,
            "overflow_x": null,
            "overflow_y": null,
            "padding": null,
            "right": null,
            "top": null,
            "visibility": null,
            "width": null
          }
        },
        "34379b058dc243298210da9cd5678075": {
          "model_module": "@jupyter-widgets/base",
          "model_name": "LayoutModel",
          "model_module_version": "1.2.0",
          "state": {
            "_model_module": "@jupyter-widgets/base",
            "_model_module_version": "1.2.0",
            "_model_name": "LayoutModel",
            "_view_count": null,
            "_view_module": "@jupyter-widgets/base",
            "_view_module_version": "1.2.0",
            "_view_name": "LayoutView",
            "align_content": null,
            "align_items": null,
            "align_self": null,
            "border": null,
            "bottom": null,
            "display": null,
            "flex": null,
            "flex_flow": null,
            "grid_area": null,
            "grid_auto_columns": null,
            "grid_auto_flow": null,
            "grid_auto_rows": null,
            "grid_column": null,
            "grid_gap": null,
            "grid_row": null,
            "grid_template_areas": null,
            "grid_template_columns": null,
            "grid_template_rows": null,
            "height": null,
            "justify_content": null,
            "justify_items": null,
            "left": null,
            "margin": null,
            "max_height": null,
            "max_width": null,
            "min_height": null,
            "min_width": null,
            "object_fit": null,
            "object_position": null,
            "order": null,
            "overflow": null,
            "overflow_x": null,
            "overflow_y": null,
            "padding": null,
            "right": null,
            "top": null,
            "visibility": null,
            "width": null
          }
        },
        "6ad21a8a81264afda15b12208a438fc1": {
          "model_module": "@jupyter-widgets/controls",
          "model_name": "DescriptionStyleModel",
          "model_module_version": "1.5.0",
          "state": {
            "_model_module": "@jupyter-widgets/controls",
            "_model_module_version": "1.5.0",
            "_model_name": "DescriptionStyleModel",
            "_view_count": null,
            "_view_module": "@jupyter-widgets/base",
            "_view_module_version": "1.2.0",
            "_view_name": "StyleView",
            "description_width": ""
          }
        },
        "305a3f6c3a5f40b8b46903c575467baa": {
          "model_module": "@jupyter-widgets/base",
          "model_name": "LayoutModel",
          "model_module_version": "1.2.0",
          "state": {
            "_model_module": "@jupyter-widgets/base",
            "_model_module_version": "1.2.0",
            "_model_name": "LayoutModel",
            "_view_count": null,
            "_view_module": "@jupyter-widgets/base",
            "_view_module_version": "1.2.0",
            "_view_name": "LayoutView",
            "align_content": null,
            "align_items": null,
            "align_self": null,
            "border": null,
            "bottom": null,
            "display": null,
            "flex": null,
            "flex_flow": null,
            "grid_area": null,
            "grid_auto_columns": null,
            "grid_auto_flow": null,
            "grid_auto_rows": null,
            "grid_column": null,
            "grid_gap": null,
            "grid_row": null,
            "grid_template_areas": null,
            "grid_template_columns": null,
            "grid_template_rows": null,
            "height": null,
            "justify_content": null,
            "justify_items": null,
            "left": null,
            "margin": null,
            "max_height": null,
            "max_width": null,
            "min_height": null,
            "min_width": null,
            "object_fit": null,
            "object_position": null,
            "order": null,
            "overflow": null,
            "overflow_x": null,
            "overflow_y": null,
            "padding": null,
            "right": null,
            "top": null,
            "visibility": null,
            "width": null
          }
        },
        "4d05fd60e6c8405ab2416a7d4be0d3b9": {
          "model_module": "@jupyter-widgets/controls",
          "model_name": "ProgressStyleModel",
          "model_module_version": "1.5.0",
          "state": {
            "_model_module": "@jupyter-widgets/controls",
            "_model_module_version": "1.5.0",
            "_model_name": "ProgressStyleModel",
            "_view_count": null,
            "_view_module": "@jupyter-widgets/base",
            "_view_module_version": "1.2.0",
            "_view_name": "StyleView",
            "bar_color": null,
            "description_width": ""
          }
        },
        "2ac0c7d4385a44289dbf06a509a19617": {
          "model_module": "@jupyter-widgets/base",
          "model_name": "LayoutModel",
          "model_module_version": "1.2.0",
          "state": {
            "_model_module": "@jupyter-widgets/base",
            "_model_module_version": "1.2.0",
            "_model_name": "LayoutModel",
            "_view_count": null,
            "_view_module": "@jupyter-widgets/base",
            "_view_module_version": "1.2.0",
            "_view_name": "LayoutView",
            "align_content": null,
            "align_items": null,
            "align_self": null,
            "border": null,
            "bottom": null,
            "display": null,
            "flex": null,
            "flex_flow": null,
            "grid_area": null,
            "grid_auto_columns": null,
            "grid_auto_flow": null,
            "grid_auto_rows": null,
            "grid_column": null,
            "grid_gap": null,
            "grid_row": null,
            "grid_template_areas": null,
            "grid_template_columns": null,
            "grid_template_rows": null,
            "height": null,
            "justify_content": null,
            "justify_items": null,
            "left": null,
            "margin": null,
            "max_height": null,
            "max_width": null,
            "min_height": null,
            "min_width": null,
            "object_fit": null,
            "object_position": null,
            "order": null,
            "overflow": null,
            "overflow_x": null,
            "overflow_y": null,
            "padding": null,
            "right": null,
            "top": null,
            "visibility": null,
            "width": null
          }
        },
        "14630566a7c14e8c92f6301ca012f6ca": {
          "model_module": "@jupyter-widgets/controls",
          "model_name": "DescriptionStyleModel",
          "model_module_version": "1.5.0",
          "state": {
            "_model_module": "@jupyter-widgets/controls",
            "_model_module_version": "1.5.0",
            "_model_name": "DescriptionStyleModel",
            "_view_count": null,
            "_view_module": "@jupyter-widgets/base",
            "_view_module_version": "1.2.0",
            "_view_name": "StyleView",
            "description_width": ""
          }
        },
        "a0829051de45474691f70cb7640b8c32": {
          "model_module": "@jupyter-widgets/controls",
          "model_name": "HBoxModel",
          "model_module_version": "1.5.0",
          "state": {
            "_dom_classes": [],
            "_model_module": "@jupyter-widgets/controls",
            "_model_module_version": "1.5.0",
            "_model_name": "HBoxModel",
            "_view_count": null,
            "_view_module": "@jupyter-widgets/controls",
            "_view_module_version": "1.5.0",
            "_view_name": "HBoxView",
            "box_style": "",
            "children": [
              "IPY_MODEL_c8a1b7640043426e8f43b850e1e048ac",
              "IPY_MODEL_cc298adcf2b44f9aa39427c81404ebc1",
              "IPY_MODEL_88c14c5c693442689ef29d6e62c04484"
            ],
            "layout": "IPY_MODEL_b019027eb1fd4e63971181ac27c8ea57"
          }
        },
        "c8a1b7640043426e8f43b850e1e048ac": {
          "model_module": "@jupyter-widgets/controls",
          "model_name": "HTMLModel",
          "model_module_version": "1.5.0",
          "state": {
            "_dom_classes": [],
            "_model_module": "@jupyter-widgets/controls",
            "_model_module_version": "1.5.0",
            "_model_name": "HTMLModel",
            "_view_count": null,
            "_view_module": "@jupyter-widgets/controls",
            "_view_module_version": "1.5.0",
            "_view_name": "HTMLView",
            "description": "",
            "description_tooltip": null,
            "layout": "IPY_MODEL_824487e5943b44538a08ee393665614d",
            "placeholder": "​",
            "style": "IPY_MODEL_8b134bee808e420d9948b60027320c35",
            "value": "Downloading: 100%"
          }
        },
        "cc298adcf2b44f9aa39427c81404ebc1": {
          "model_module": "@jupyter-widgets/controls",
          "model_name": "FloatProgressModel",
          "model_module_version": "1.5.0",
          "state": {
            "_dom_classes": [],
            "_model_module": "@jupyter-widgets/controls",
            "_model_module_version": "1.5.0",
            "_model_name": "FloatProgressModel",
            "_view_count": null,
            "_view_module": "@jupyter-widgets/controls",
            "_view_module_version": "1.5.0",
            "_view_name": "ProgressView",
            "bar_style": "success",
            "description": "",
            "description_tooltip": null,
            "layout": "IPY_MODEL_523d17601eb24f5083da775f1c69a2f3",
            "max": 28,
            "min": 0,
            "orientation": "horizontal",
            "style": "IPY_MODEL_5d713f86896f4730b228f0b9a0e53a04",
            "value": 28
          }
        },
        "88c14c5c693442689ef29d6e62c04484": {
          "model_module": "@jupyter-widgets/controls",
          "model_name": "HTMLModel",
          "model_module_version": "1.5.0",
          "state": {
            "_dom_classes": [],
            "_model_module": "@jupyter-widgets/controls",
            "_model_module_version": "1.5.0",
            "_model_name": "HTMLModel",
            "_view_count": null,
            "_view_module": "@jupyter-widgets/controls",
            "_view_module_version": "1.5.0",
            "_view_name": "HTMLView",
            "description": "",
            "description_tooltip": null,
            "layout": "IPY_MODEL_3f15a3321c5c4a1f9863783b0388a17f",
            "placeholder": "​",
            "style": "IPY_MODEL_718f1656b5f0496da1cb06436a4766bf",
            "value": " 28.0/28.0 [00:00&lt;00:00, 497B/s]"
          }
        },
        "b019027eb1fd4e63971181ac27c8ea57": {
          "model_module": "@jupyter-widgets/base",
          "model_name": "LayoutModel",
          "model_module_version": "1.2.0",
          "state": {
            "_model_module": "@jupyter-widgets/base",
            "_model_module_version": "1.2.0",
            "_model_name": "LayoutModel",
            "_view_count": null,
            "_view_module": "@jupyter-widgets/base",
            "_view_module_version": "1.2.0",
            "_view_name": "LayoutView",
            "align_content": null,
            "align_items": null,
            "align_self": null,
            "border": null,
            "bottom": null,
            "display": null,
            "flex": null,
            "flex_flow": null,
            "grid_area": null,
            "grid_auto_columns": null,
            "grid_auto_flow": null,
            "grid_auto_rows": null,
            "grid_column": null,
            "grid_gap": null,
            "grid_row": null,
            "grid_template_areas": null,
            "grid_template_columns": null,
            "grid_template_rows": null,
            "height": null,
            "justify_content": null,
            "justify_items": null,
            "left": null,
            "margin": null,
            "max_height": null,
            "max_width": null,
            "min_height": null,
            "min_width": null,
            "object_fit": null,
            "object_position": null,
            "order": null,
            "overflow": null,
            "overflow_x": null,
            "overflow_y": null,
            "padding": null,
            "right": null,
            "top": null,
            "visibility": null,
            "width": null
          }
        },
        "824487e5943b44538a08ee393665614d": {
          "model_module": "@jupyter-widgets/base",
          "model_name": "LayoutModel",
          "model_module_version": "1.2.0",
          "state": {
            "_model_module": "@jupyter-widgets/base",
            "_model_module_version": "1.2.0",
            "_model_name": "LayoutModel",
            "_view_count": null,
            "_view_module": "@jupyter-widgets/base",
            "_view_module_version": "1.2.0",
            "_view_name": "LayoutView",
            "align_content": null,
            "align_items": null,
            "align_self": null,
            "border": null,
            "bottom": null,
            "display": null,
            "flex": null,
            "flex_flow": null,
            "grid_area": null,
            "grid_auto_columns": null,
            "grid_auto_flow": null,
            "grid_auto_rows": null,
            "grid_column": null,
            "grid_gap": null,
            "grid_row": null,
            "grid_template_areas": null,
            "grid_template_columns": null,
            "grid_template_rows": null,
            "height": null,
            "justify_content": null,
            "justify_items": null,
            "left": null,
            "margin": null,
            "max_height": null,
            "max_width": null,
            "min_height": null,
            "min_width": null,
            "object_fit": null,
            "object_position": null,
            "order": null,
            "overflow": null,
            "overflow_x": null,
            "overflow_y": null,
            "padding": null,
            "right": null,
            "top": null,
            "visibility": null,
            "width": null
          }
        },
        "8b134bee808e420d9948b60027320c35": {
          "model_module": "@jupyter-widgets/controls",
          "model_name": "DescriptionStyleModel",
          "model_module_version": "1.5.0",
          "state": {
            "_model_module": "@jupyter-widgets/controls",
            "_model_module_version": "1.5.0",
            "_model_name": "DescriptionStyleModel",
            "_view_count": null,
            "_view_module": "@jupyter-widgets/base",
            "_view_module_version": "1.2.0",
            "_view_name": "StyleView",
            "description_width": ""
          }
        },
        "523d17601eb24f5083da775f1c69a2f3": {
          "model_module": "@jupyter-widgets/base",
          "model_name": "LayoutModel",
          "model_module_version": "1.2.0",
          "state": {
            "_model_module": "@jupyter-widgets/base",
            "_model_module_version": "1.2.0",
            "_model_name": "LayoutModel",
            "_view_count": null,
            "_view_module": "@jupyter-widgets/base",
            "_view_module_version": "1.2.0",
            "_view_name": "LayoutView",
            "align_content": null,
            "align_items": null,
            "align_self": null,
            "border": null,
            "bottom": null,
            "display": null,
            "flex": null,
            "flex_flow": null,
            "grid_area": null,
            "grid_auto_columns": null,
            "grid_auto_flow": null,
            "grid_auto_rows": null,
            "grid_column": null,
            "grid_gap": null,
            "grid_row": null,
            "grid_template_areas": null,
            "grid_template_columns": null,
            "grid_template_rows": null,
            "height": null,
            "justify_content": null,
            "justify_items": null,
            "left": null,
            "margin": null,
            "max_height": null,
            "max_width": null,
            "min_height": null,
            "min_width": null,
            "object_fit": null,
            "object_position": null,
            "order": null,
            "overflow": null,
            "overflow_x": null,
            "overflow_y": null,
            "padding": null,
            "right": null,
            "top": null,
            "visibility": null,
            "width": null
          }
        },
        "5d713f86896f4730b228f0b9a0e53a04": {
          "model_module": "@jupyter-widgets/controls",
          "model_name": "ProgressStyleModel",
          "model_module_version": "1.5.0",
          "state": {
            "_model_module": "@jupyter-widgets/controls",
            "_model_module_version": "1.5.0",
            "_model_name": "ProgressStyleModel",
            "_view_count": null,
            "_view_module": "@jupyter-widgets/base",
            "_view_module_version": "1.2.0",
            "_view_name": "StyleView",
            "bar_color": null,
            "description_width": ""
          }
        },
        "3f15a3321c5c4a1f9863783b0388a17f": {
          "model_module": "@jupyter-widgets/base",
          "model_name": "LayoutModel",
          "model_module_version": "1.2.0",
          "state": {
            "_model_module": "@jupyter-widgets/base",
            "_model_module_version": "1.2.0",
            "_model_name": "LayoutModel",
            "_view_count": null,
            "_view_module": "@jupyter-widgets/base",
            "_view_module_version": "1.2.0",
            "_view_name": "LayoutView",
            "align_content": null,
            "align_items": null,
            "align_self": null,
            "border": null,
            "bottom": null,
            "display": null,
            "flex": null,
            "flex_flow": null,
            "grid_area": null,
            "grid_auto_columns": null,
            "grid_auto_flow": null,
            "grid_auto_rows": null,
            "grid_column": null,
            "grid_gap": null,
            "grid_row": null,
            "grid_template_areas": null,
            "grid_template_columns": null,
            "grid_template_rows": null,
            "height": null,
            "justify_content": null,
            "justify_items": null,
            "left": null,
            "margin": null,
            "max_height": null,
            "max_width": null,
            "min_height": null,
            "min_width": null,
            "object_fit": null,
            "object_position": null,
            "order": null,
            "overflow": null,
            "overflow_x": null,
            "overflow_y": null,
            "padding": null,
            "right": null,
            "top": null,
            "visibility": null,
            "width": null
          }
        },
        "718f1656b5f0496da1cb06436a4766bf": {
          "model_module": "@jupyter-widgets/controls",
          "model_name": "DescriptionStyleModel",
          "model_module_version": "1.5.0",
          "state": {
            "_model_module": "@jupyter-widgets/controls",
            "_model_module_version": "1.5.0",
            "_model_name": "DescriptionStyleModel",
            "_view_count": null,
            "_view_module": "@jupyter-widgets/base",
            "_view_module_version": "1.2.0",
            "_view_name": "StyleView",
            "description_width": ""
          }
        },
        "cc08cd6b06b845ff85750c6fa6b5a31e": {
          "model_module": "@jupyter-widgets/controls",
          "model_name": "HBoxModel",
          "model_module_version": "1.5.0",
          "state": {
            "_dom_classes": [],
            "_model_module": "@jupyter-widgets/controls",
            "_model_module_version": "1.5.0",
            "_model_name": "HBoxModel",
            "_view_count": null,
            "_view_module": "@jupyter-widgets/controls",
            "_view_module_version": "1.5.0",
            "_view_name": "HBoxView",
            "box_style": "",
            "children": [
              "IPY_MODEL_df9499b4ed5e450e8b1c77bfa5a9e138",
              "IPY_MODEL_d4a6f2da498c40069767e2ca5cebf1ce",
              "IPY_MODEL_c49f8dfb8ba8462984100c6e54fb0e80"
            ],
            "layout": "IPY_MODEL_12e7c1c925f14133beccfcdebe0ebea3"
          }
        },
        "df9499b4ed5e450e8b1c77bfa5a9e138": {
          "model_module": "@jupyter-widgets/controls",
          "model_name": "HTMLModel",
          "model_module_version": "1.5.0",
          "state": {
            "_dom_classes": [],
            "_model_module": "@jupyter-widgets/controls",
            "_model_module_version": "1.5.0",
            "_model_name": "HTMLModel",
            "_view_count": null,
            "_view_module": "@jupyter-widgets/controls",
            "_view_module_version": "1.5.0",
            "_view_name": "HTMLView",
            "description": "",
            "description_tooltip": null,
            "layout": "IPY_MODEL_c921018e35504337bea3163112b28580",
            "placeholder": "​",
            "style": "IPY_MODEL_54b5c430502d4ad2ab2fd3346f40ef62",
            "value": "Downloading: 100%"
          }
        },
        "d4a6f2da498c40069767e2ca5cebf1ce": {
          "model_module": "@jupyter-widgets/controls",
          "model_name": "FloatProgressModel",
          "model_module_version": "1.5.0",
          "state": {
            "_dom_classes": [],
            "_model_module": "@jupyter-widgets/controls",
            "_model_module_version": "1.5.0",
            "_model_name": "FloatProgressModel",
            "_view_count": null,
            "_view_module": "@jupyter-widgets/controls",
            "_view_module_version": "1.5.0",
            "_view_name": "ProgressView",
            "bar_style": "success",
            "description": "",
            "description_tooltip": null,
            "layout": "IPY_MODEL_24ed99e0c42d4632b3ade7b31c981607",
            "max": 570,
            "min": 0,
            "orientation": "horizontal",
            "style": "IPY_MODEL_d7c155bcc85949e9a6e3d2a987ea2fd1",
            "value": 570
          }
        },
        "c49f8dfb8ba8462984100c6e54fb0e80": {
          "model_module": "@jupyter-widgets/controls",
          "model_name": "HTMLModel",
          "model_module_version": "1.5.0",
          "state": {
            "_dom_classes": [],
            "_model_module": "@jupyter-widgets/controls",
            "_model_module_version": "1.5.0",
            "_model_name": "HTMLModel",
            "_view_count": null,
            "_view_module": "@jupyter-widgets/controls",
            "_view_module_version": "1.5.0",
            "_view_name": "HTMLView",
            "description": "",
            "description_tooltip": null,
            "layout": "IPY_MODEL_f90f5872eec0417aab0a467c87320b72",
            "placeholder": "​",
            "style": "IPY_MODEL_080fa00cc2ec454193723a50c7352361",
            "value": " 570/570 [00:00&lt;00:00, 15.2kB/s]"
          }
        },
        "12e7c1c925f14133beccfcdebe0ebea3": {
          "model_module": "@jupyter-widgets/base",
          "model_name": "LayoutModel",
          "model_module_version": "1.2.0",
          "state": {
            "_model_module": "@jupyter-widgets/base",
            "_model_module_version": "1.2.0",
            "_model_name": "LayoutModel",
            "_view_count": null,
            "_view_module": "@jupyter-widgets/base",
            "_view_module_version": "1.2.0",
            "_view_name": "LayoutView",
            "align_content": null,
            "align_items": null,
            "align_self": null,
            "border": null,
            "bottom": null,
            "display": null,
            "flex": null,
            "flex_flow": null,
            "grid_area": null,
            "grid_auto_columns": null,
            "grid_auto_flow": null,
            "grid_auto_rows": null,
            "grid_column": null,
            "grid_gap": null,
            "grid_row": null,
            "grid_template_areas": null,
            "grid_template_columns": null,
            "grid_template_rows": null,
            "height": null,
            "justify_content": null,
            "justify_items": null,
            "left": null,
            "margin": null,
            "max_height": null,
            "max_width": null,
            "min_height": null,
            "min_width": null,
            "object_fit": null,
            "object_position": null,
            "order": null,
            "overflow": null,
            "overflow_x": null,
            "overflow_y": null,
            "padding": null,
            "right": null,
            "top": null,
            "visibility": null,
            "width": null
          }
        },
        "c921018e35504337bea3163112b28580": {
          "model_module": "@jupyter-widgets/base",
          "model_name": "LayoutModel",
          "model_module_version": "1.2.0",
          "state": {
            "_model_module": "@jupyter-widgets/base",
            "_model_module_version": "1.2.0",
            "_model_name": "LayoutModel",
            "_view_count": null,
            "_view_module": "@jupyter-widgets/base",
            "_view_module_version": "1.2.0",
            "_view_name": "LayoutView",
            "align_content": null,
            "align_items": null,
            "align_self": null,
            "border": null,
            "bottom": null,
            "display": null,
            "flex": null,
            "flex_flow": null,
            "grid_area": null,
            "grid_auto_columns": null,
            "grid_auto_flow": null,
            "grid_auto_rows": null,
            "grid_column": null,
            "grid_gap": null,
            "grid_row": null,
            "grid_template_areas": null,
            "grid_template_columns": null,
            "grid_template_rows": null,
            "height": null,
            "justify_content": null,
            "justify_items": null,
            "left": null,
            "margin": null,
            "max_height": null,
            "max_width": null,
            "min_height": null,
            "min_width": null,
            "object_fit": null,
            "object_position": null,
            "order": null,
            "overflow": null,
            "overflow_x": null,
            "overflow_y": null,
            "padding": null,
            "right": null,
            "top": null,
            "visibility": null,
            "width": null
          }
        },
        "54b5c430502d4ad2ab2fd3346f40ef62": {
          "model_module": "@jupyter-widgets/controls",
          "model_name": "DescriptionStyleModel",
          "model_module_version": "1.5.0",
          "state": {
            "_model_module": "@jupyter-widgets/controls",
            "_model_module_version": "1.5.0",
            "_model_name": "DescriptionStyleModel",
            "_view_count": null,
            "_view_module": "@jupyter-widgets/base",
            "_view_module_version": "1.2.0",
            "_view_name": "StyleView",
            "description_width": ""
          }
        },
        "24ed99e0c42d4632b3ade7b31c981607": {
          "model_module": "@jupyter-widgets/base",
          "model_name": "LayoutModel",
          "model_module_version": "1.2.0",
          "state": {
            "_model_module": "@jupyter-widgets/base",
            "_model_module_version": "1.2.0",
            "_model_name": "LayoutModel",
            "_view_count": null,
            "_view_module": "@jupyter-widgets/base",
            "_view_module_version": "1.2.0",
            "_view_name": "LayoutView",
            "align_content": null,
            "align_items": null,
            "align_self": null,
            "border": null,
            "bottom": null,
            "display": null,
            "flex": null,
            "flex_flow": null,
            "grid_area": null,
            "grid_auto_columns": null,
            "grid_auto_flow": null,
            "grid_auto_rows": null,
            "grid_column": null,
            "grid_gap": null,
            "grid_row": null,
            "grid_template_areas": null,
            "grid_template_columns": null,
            "grid_template_rows": null,
            "height": null,
            "justify_content": null,
            "justify_items": null,
            "left": null,
            "margin": null,
            "max_height": null,
            "max_width": null,
            "min_height": null,
            "min_width": null,
            "object_fit": null,
            "object_position": null,
            "order": null,
            "overflow": null,
            "overflow_x": null,
            "overflow_y": null,
            "padding": null,
            "right": null,
            "top": null,
            "visibility": null,
            "width": null
          }
        },
        "d7c155bcc85949e9a6e3d2a987ea2fd1": {
          "model_module": "@jupyter-widgets/controls",
          "model_name": "ProgressStyleModel",
          "model_module_version": "1.5.0",
          "state": {
            "_model_module": "@jupyter-widgets/controls",
            "_model_module_version": "1.5.0",
            "_model_name": "ProgressStyleModel",
            "_view_count": null,
            "_view_module": "@jupyter-widgets/base",
            "_view_module_version": "1.2.0",
            "_view_name": "StyleView",
            "bar_color": null,
            "description_width": ""
          }
        },
        "f90f5872eec0417aab0a467c87320b72": {
          "model_module": "@jupyter-widgets/base",
          "model_name": "LayoutModel",
          "model_module_version": "1.2.0",
          "state": {
            "_model_module": "@jupyter-widgets/base",
            "_model_module_version": "1.2.0",
            "_model_name": "LayoutModel",
            "_view_count": null,
            "_view_module": "@jupyter-widgets/base",
            "_view_module_version": "1.2.0",
            "_view_name": "LayoutView",
            "align_content": null,
            "align_items": null,
            "align_self": null,
            "border": null,
            "bottom": null,
            "display": null,
            "flex": null,
            "flex_flow": null,
            "grid_area": null,
            "grid_auto_columns": null,
            "grid_auto_flow": null,
            "grid_auto_rows": null,
            "grid_column": null,
            "grid_gap": null,
            "grid_row": null,
            "grid_template_areas": null,
            "grid_template_columns": null,
            "grid_template_rows": null,
            "height": null,
            "justify_content": null,
            "justify_items": null,
            "left": null,
            "margin": null,
            "max_height": null,
            "max_width": null,
            "min_height": null,
            "min_width": null,
            "object_fit": null,
            "object_position": null,
            "order": null,
            "overflow": null,
            "overflow_x": null,
            "overflow_y": null,
            "padding": null,
            "right": null,
            "top": null,
            "visibility": null,
            "width": null
          }
        },
        "080fa00cc2ec454193723a50c7352361": {
          "model_module": "@jupyter-widgets/controls",
          "model_name": "DescriptionStyleModel",
          "model_module_version": "1.5.0",
          "state": {
            "_model_module": "@jupyter-widgets/controls",
            "_model_module_version": "1.5.0",
            "_model_name": "DescriptionStyleModel",
            "_view_count": null,
            "_view_module": "@jupyter-widgets/base",
            "_view_module_version": "1.2.0",
            "_view_name": "StyleView",
            "description_width": ""
          }
        },
        "8282cb4180714759b5be85ad78069eec": {
          "model_module": "@jupyter-widgets/controls",
          "model_name": "HBoxModel",
          "model_module_version": "1.5.0",
          "state": {
            "_dom_classes": [],
            "_model_module": "@jupyter-widgets/controls",
            "_model_module_version": "1.5.0",
            "_model_name": "HBoxModel",
            "_view_count": null,
            "_view_module": "@jupyter-widgets/controls",
            "_view_module_version": "1.5.0",
            "_view_name": "HBoxView",
            "box_style": "",
            "children": [
              "IPY_MODEL_ce7b79d5aac54e438e389446b675ad37",
              "IPY_MODEL_c0aeaeb2705f407d8903a00769a5ced3",
              "IPY_MODEL_cb5dc8cbf4c347848b108740f3590bbe"
            ],
            "layout": "IPY_MODEL_61ab6b6757e542f898999e26faf261cd"
          }
        },
        "ce7b79d5aac54e438e389446b675ad37": {
          "model_module": "@jupyter-widgets/controls",
          "model_name": "HTMLModel",
          "model_module_version": "1.5.0",
          "state": {
            "_dom_classes": [],
            "_model_module": "@jupyter-widgets/controls",
            "_model_module_version": "1.5.0",
            "_model_name": "HTMLModel",
            "_view_count": null,
            "_view_module": "@jupyter-widgets/controls",
            "_view_module_version": "1.5.0",
            "_view_name": "HTMLView",
            "description": "",
            "description_tooltip": null,
            "layout": "IPY_MODEL_1390b74c7c86492181d36bc49b58d81f",
            "placeholder": "​",
            "style": "IPY_MODEL_626d8913d2d54f9ca952729bf5cf6331",
            "value": "Downloading: 100%"
          }
        },
        "c0aeaeb2705f407d8903a00769a5ced3": {
          "model_module": "@jupyter-widgets/controls",
          "model_name": "FloatProgressModel",
          "model_module_version": "1.5.0",
          "state": {
            "_dom_classes": [],
            "_model_module": "@jupyter-widgets/controls",
            "_model_module_version": "1.5.0",
            "_model_name": "FloatProgressModel",
            "_view_count": null,
            "_view_module": "@jupyter-widgets/controls",
            "_view_module_version": "1.5.0",
            "_view_name": "ProgressView",
            "bar_style": "success",
            "description": "",
            "description_tooltip": null,
            "layout": "IPY_MODEL_c7102b5cf129424d8ec334b790b3de3a",
            "max": 440473133,
            "min": 0,
            "orientation": "horizontal",
            "style": "IPY_MODEL_1aa5259c627c4496a9a1ee9076855337",
            "value": 440473133
          }
        },
        "cb5dc8cbf4c347848b108740f3590bbe": {
          "model_module": "@jupyter-widgets/controls",
          "model_name": "HTMLModel",
          "model_module_version": "1.5.0",
          "state": {
            "_dom_classes": [],
            "_model_module": "@jupyter-widgets/controls",
            "_model_module_version": "1.5.0",
            "_model_name": "HTMLModel",
            "_view_count": null,
            "_view_module": "@jupyter-widgets/controls",
            "_view_module_version": "1.5.0",
            "_view_name": "HTMLView",
            "description": "",
            "description_tooltip": null,
            "layout": "IPY_MODEL_87c515c976d04911af249e40f17165e0",
            "placeholder": "​",
            "style": "IPY_MODEL_aacd081f8a7e4ac29796cdb4377784d9",
            "value": " 420M/420M [00:11&lt;00:00, 35.6MB/s]"
          }
        },
        "61ab6b6757e542f898999e26faf261cd": {
          "model_module": "@jupyter-widgets/base",
          "model_name": "LayoutModel",
          "model_module_version": "1.2.0",
          "state": {
            "_model_module": "@jupyter-widgets/base",
            "_model_module_version": "1.2.0",
            "_model_name": "LayoutModel",
            "_view_count": null,
            "_view_module": "@jupyter-widgets/base",
            "_view_module_version": "1.2.0",
            "_view_name": "LayoutView",
            "align_content": null,
            "align_items": null,
            "align_self": null,
            "border": null,
            "bottom": null,
            "display": null,
            "flex": null,
            "flex_flow": null,
            "grid_area": null,
            "grid_auto_columns": null,
            "grid_auto_flow": null,
            "grid_auto_rows": null,
            "grid_column": null,
            "grid_gap": null,
            "grid_row": null,
            "grid_template_areas": null,
            "grid_template_columns": null,
            "grid_template_rows": null,
            "height": null,
            "justify_content": null,
            "justify_items": null,
            "left": null,
            "margin": null,
            "max_height": null,
            "max_width": null,
            "min_height": null,
            "min_width": null,
            "object_fit": null,
            "object_position": null,
            "order": null,
            "overflow": null,
            "overflow_x": null,
            "overflow_y": null,
            "padding": null,
            "right": null,
            "top": null,
            "visibility": null,
            "width": null
          }
        },
        "1390b74c7c86492181d36bc49b58d81f": {
          "model_module": "@jupyter-widgets/base",
          "model_name": "LayoutModel",
          "model_module_version": "1.2.0",
          "state": {
            "_model_module": "@jupyter-widgets/base",
            "_model_module_version": "1.2.0",
            "_model_name": "LayoutModel",
            "_view_count": null,
            "_view_module": "@jupyter-widgets/base",
            "_view_module_version": "1.2.0",
            "_view_name": "LayoutView",
            "align_content": null,
            "align_items": null,
            "align_self": null,
            "border": null,
            "bottom": null,
            "display": null,
            "flex": null,
            "flex_flow": null,
            "grid_area": null,
            "grid_auto_columns": null,
            "grid_auto_flow": null,
            "grid_auto_rows": null,
            "grid_column": null,
            "grid_gap": null,
            "grid_row": null,
            "grid_template_areas": null,
            "grid_template_columns": null,
            "grid_template_rows": null,
            "height": null,
            "justify_content": null,
            "justify_items": null,
            "left": null,
            "margin": null,
            "max_height": null,
            "max_width": null,
            "min_height": null,
            "min_width": null,
            "object_fit": null,
            "object_position": null,
            "order": null,
            "overflow": null,
            "overflow_x": null,
            "overflow_y": null,
            "padding": null,
            "right": null,
            "top": null,
            "visibility": null,
            "width": null
          }
        },
        "626d8913d2d54f9ca952729bf5cf6331": {
          "model_module": "@jupyter-widgets/controls",
          "model_name": "DescriptionStyleModel",
          "model_module_version": "1.5.0",
          "state": {
            "_model_module": "@jupyter-widgets/controls",
            "_model_module_version": "1.5.0",
            "_model_name": "DescriptionStyleModel",
            "_view_count": null,
            "_view_module": "@jupyter-widgets/base",
            "_view_module_version": "1.2.0",
            "_view_name": "StyleView",
            "description_width": ""
          }
        },
        "c7102b5cf129424d8ec334b790b3de3a": {
          "model_module": "@jupyter-widgets/base",
          "model_name": "LayoutModel",
          "model_module_version": "1.2.0",
          "state": {
            "_model_module": "@jupyter-widgets/base",
            "_model_module_version": "1.2.0",
            "_model_name": "LayoutModel",
            "_view_count": null,
            "_view_module": "@jupyter-widgets/base",
            "_view_module_version": "1.2.0",
            "_view_name": "LayoutView",
            "align_content": null,
            "align_items": null,
            "align_self": null,
            "border": null,
            "bottom": null,
            "display": null,
            "flex": null,
            "flex_flow": null,
            "grid_area": null,
            "grid_auto_columns": null,
            "grid_auto_flow": null,
            "grid_auto_rows": null,
            "grid_column": null,
            "grid_gap": null,
            "grid_row": null,
            "grid_template_areas": null,
            "grid_template_columns": null,
            "grid_template_rows": null,
            "height": null,
            "justify_content": null,
            "justify_items": null,
            "left": null,
            "margin": null,
            "max_height": null,
            "max_width": null,
            "min_height": null,
            "min_width": null,
            "object_fit": null,
            "object_position": null,
            "order": null,
            "overflow": null,
            "overflow_x": null,
            "overflow_y": null,
            "padding": null,
            "right": null,
            "top": null,
            "visibility": null,
            "width": null
          }
        },
        "1aa5259c627c4496a9a1ee9076855337": {
          "model_module": "@jupyter-widgets/controls",
          "model_name": "ProgressStyleModel",
          "model_module_version": "1.5.0",
          "state": {
            "_model_module": "@jupyter-widgets/controls",
            "_model_module_version": "1.5.0",
            "_model_name": "ProgressStyleModel",
            "_view_count": null,
            "_view_module": "@jupyter-widgets/base",
            "_view_module_version": "1.2.0",
            "_view_name": "StyleView",
            "bar_color": null,
            "description_width": ""
          }
        },
        "87c515c976d04911af249e40f17165e0": {
          "model_module": "@jupyter-widgets/base",
          "model_name": "LayoutModel",
          "model_module_version": "1.2.0",
          "state": {
            "_model_module": "@jupyter-widgets/base",
            "_model_module_version": "1.2.0",
            "_model_name": "LayoutModel",
            "_view_count": null,
            "_view_module": "@jupyter-widgets/base",
            "_view_module_version": "1.2.0",
            "_view_name": "LayoutView",
            "align_content": null,
            "align_items": null,
            "align_self": null,
            "border": null,
            "bottom": null,
            "display": null,
            "flex": null,
            "flex_flow": null,
            "grid_area": null,
            "grid_auto_columns": null,
            "grid_auto_flow": null,
            "grid_auto_rows": null,
            "grid_column": null,
            "grid_gap": null,
            "grid_row": null,
            "grid_template_areas": null,
            "grid_template_columns": null,
            "grid_template_rows": null,
            "height": null,
            "justify_content": null,
            "justify_items": null,
            "left": null,
            "margin": null,
            "max_height": null,
            "max_width": null,
            "min_height": null,
            "min_width": null,
            "object_fit": null,
            "object_position": null,
            "order": null,
            "overflow": null,
            "overflow_x": null,
            "overflow_y": null,
            "padding": null,
            "right": null,
            "top": null,
            "visibility": null,
            "width": null
          }
        },
        "aacd081f8a7e4ac29796cdb4377784d9": {
          "model_module": "@jupyter-widgets/controls",
          "model_name": "DescriptionStyleModel",
          "model_module_version": "1.5.0",
          "state": {
            "_model_module": "@jupyter-widgets/controls",
            "_model_module_version": "1.5.0",
            "_model_name": "DescriptionStyleModel",
            "_view_count": null,
            "_view_module": "@jupyter-widgets/base",
            "_view_module_version": "1.2.0",
            "_view_name": "StyleView",
            "description_width": ""
          }
        }
      }
    }
  },
  "cells": [
    {
      "cell_type": "code",
      "execution_count": 1,
      "metadata": {
        "colab": {
          "base_uri": "https://localhost:8080/"
        },
        "id": "yLdFcZKXukIG",
        "outputId": "14d84f56-268c-436c-b79b-38cba6250819"
      },
      "outputs": [
        {
          "output_type": "stream",
          "name": "stdout",
          "text": [
            "Requirement already satisfied: iso3166 in /usr/local/lib/python3.7/dist-packages (2.0.2)\n"
          ]
        }
      ],
      "source": [
        " pip install iso3166"
      ]
    },
    {
      "cell_type": "code",
      "source": [
        "pip install plotly.express"
      ],
      "metadata": {
        "colab": {
          "base_uri": "https://localhost:8080/"
        },
        "id": "AFzgR774u1BA",
        "outputId": "6e9337b1-f88f-4608-c0ec-71144019d772"
      },
      "execution_count": 2,
      "outputs": [
        {
          "output_type": "stream",
          "name": "stdout",
          "text": [
            "Requirement already satisfied: plotly.express in /usr/local/lib/python3.7/dist-packages (0.4.1)\n",
            "Requirement already satisfied: scipy>=0.18 in /usr/local/lib/python3.7/dist-packages (from plotly.express) (1.4.1)\n",
            "Requirement already satisfied: statsmodels>=0.9.0 in /usr/local/lib/python3.7/dist-packages (from plotly.express) (0.10.2)\n",
            "Requirement already satisfied: plotly>=4.1.0 in /usr/local/lib/python3.7/dist-packages (from plotly.express) (5.5.0)\n",
            "Requirement already satisfied: numpy>=1.11 in /usr/local/lib/python3.7/dist-packages (from plotly.express) (1.21.5)\n",
            "Requirement already satisfied: patsy>=0.5 in /usr/local/lib/python3.7/dist-packages (from plotly.express) (0.5.2)\n",
            "Requirement already satisfied: pandas>=0.20.0 in /usr/local/lib/python3.7/dist-packages (from plotly.express) (1.3.5)\n",
            "Requirement already satisfied: python-dateutil>=2.7.3 in /usr/local/lib/python3.7/dist-packages (from pandas>=0.20.0->plotly.express) (2.8.2)\n",
            "Requirement already satisfied: pytz>=2017.3 in /usr/local/lib/python3.7/dist-packages (from pandas>=0.20.0->plotly.express) (2018.9)\n",
            "Requirement already satisfied: six in /usr/local/lib/python3.7/dist-packages (from patsy>=0.5->plotly.express) (1.15.0)\n",
            "Requirement already satisfied: tenacity>=6.2.0 in /usr/local/lib/python3.7/dist-packages (from plotly>=4.1.0->plotly.express) (8.0.1)\n"
          ]
        }
      ]
    },
    {
      "cell_type": "code",
      "source": [
        "!pip install millify"
      ],
      "metadata": {
        "colab": {
          "base_uri": "https://localhost:8080/"
        },
        "id": "ZQ2FOIrfu1CY",
        "outputId": "6dd45bfd-0976-43fc-f7fe-619acf2744c3"
      },
      "execution_count": 3,
      "outputs": [
        {
          "output_type": "stream",
          "name": "stdout",
          "text": [
            "Requirement already satisfied: millify in /usr/local/lib/python3.7/dist-packages (0.1.1)\n"
          ]
        }
      ]
    },
    {
      "cell_type": "code",
      "source": [
        "pip install transformers"
      ],
      "metadata": {
        "colab": {
          "base_uri": "https://localhost:8080/"
        },
        "id": "9kepodQdSZGC",
        "outputId": "b4b4994e-3b45-46ed-fc06-1c9e1b26a666"
      },
      "execution_count": 4,
      "outputs": [
        {
          "output_type": "stream",
          "name": "stdout",
          "text": [
            "Requirement already satisfied: transformers in /usr/local/lib/python3.7/dist-packages (4.18.0)\n",
            "Requirement already satisfied: importlib-metadata in /usr/local/lib/python3.7/dist-packages (from transformers) (4.11.3)\n",
            "Requirement already satisfied: pyyaml>=5.1 in /usr/local/lib/python3.7/dist-packages (from transformers) (5.4.1)\n",
            "Requirement already satisfied: tokenizers!=0.11.3,<0.13,>=0.11.1 in /usr/local/lib/python3.7/dist-packages (from transformers) (0.12.1)\n",
            "Requirement already satisfied: requests in /usr/local/lib/python3.7/dist-packages (from transformers) (2.23.0)\n",
            "Requirement already satisfied: huggingface-hub<1.0,>=0.1.0 in /usr/local/lib/python3.7/dist-packages (from transformers) (0.5.1)\n",
            "Requirement already satisfied: tqdm>=4.27 in /usr/local/lib/python3.7/dist-packages (from transformers) (4.64.0)\n",
            "Requirement already satisfied: filelock in /usr/local/lib/python3.7/dist-packages (from transformers) (3.6.0)\n",
            "Requirement already satisfied: sacremoses in /usr/local/lib/python3.7/dist-packages (from transformers) (0.0.49)\n",
            "Requirement already satisfied: regex!=2019.12.17 in /usr/local/lib/python3.7/dist-packages (from transformers) (2019.12.20)\n",
            "Requirement already satisfied: numpy>=1.17 in /usr/local/lib/python3.7/dist-packages (from transformers) (1.21.5)\n",
            "Requirement already satisfied: packaging>=20.0 in /usr/local/lib/python3.7/dist-packages (from transformers) (21.3)\n",
            "Requirement already satisfied: typing-extensions>=3.7.4.3 in /usr/local/lib/python3.7/dist-packages (from huggingface-hub<1.0,>=0.1.0->transformers) (4.1.1)\n",
            "Requirement already satisfied: pyparsing!=3.0.5,>=2.0.2 in /usr/local/lib/python3.7/dist-packages (from packaging>=20.0->transformers) (3.0.8)\n",
            "Requirement already satisfied: zipp>=0.5 in /usr/local/lib/python3.7/dist-packages (from importlib-metadata->transformers) (3.8.0)\n",
            "Requirement already satisfied: idna<3,>=2.5 in /usr/local/lib/python3.7/dist-packages (from requests->transformers) (2.10)\n",
            "Requirement already satisfied: urllib3!=1.25.0,!=1.25.1,<1.26,>=1.21.1 in /usr/local/lib/python3.7/dist-packages (from requests->transformers) (1.24.3)\n",
            "Requirement already satisfied: chardet<4,>=3.0.2 in /usr/local/lib/python3.7/dist-packages (from requests->transformers) (3.0.4)\n",
            "Requirement already satisfied: certifi>=2017.4.17 in /usr/local/lib/python3.7/dist-packages (from requests->transformers) (2021.10.8)\n",
            "Requirement already satisfied: six in /usr/local/lib/python3.7/dist-packages (from sacremoses->transformers) (1.15.0)\n",
            "Requirement already satisfied: joblib in /usr/local/lib/python3.7/dist-packages (from sacremoses->transformers) (1.1.0)\n",
            "Requirement already satisfied: click in /usr/local/lib/python3.7/dist-packages (from sacremoses->transformers) (7.1.2)\n"
          ]
        }
      ]
    },
    {
      "cell_type": "code",
      "source": [
        "!pip install pyyaml==5.4.1"
      ],
      "metadata": {
        "colab": {
          "base_uri": "https://localhost:8080/"
        },
        "id": "VbE6ta_zVNeH",
        "outputId": "a873e5cc-0375-48bb-c200-e634ee32f128"
      },
      "execution_count": 5,
      "outputs": [
        {
          "output_type": "stream",
          "name": "stdout",
          "text": [
            "Requirement already satisfied: pyyaml==5.4.1 in /usr/local/lib/python3.7/dist-packages (5.4.1)\n"
          ]
        }
      ]
    },
    {
      "cell_type": "code",
      "source": [
        "import numpy             as np\n",
        "import pandas            as pd\n",
        "import matplotlib.pyplot as plt\n",
        "import seaborn           as sns\n",
        "import plotly\n",
        "import plotly.graph_objs as go\n",
        "import plotly.express as px \n",
        "from plotly.offline import init_notebook_mode, iplot\n",
        "\n",
        "from millify     import millify\n",
        "from scipy.stats import norm\n",
        "from wordcloud   import WordCloud, STOPWORDS\n",
        "from textblob import TextBlob\n",
        "import re\n",
        "from collections import Counter\n",
        "\n",
        "from sklearn.metrics import classification_report,accuracy_score,confusion_matrix\n",
        "from IPython.display import Markdown as md\n",
        "\n",
        "\n",
        "# import cufflinks as cf\n",
        "# from plotly.offline import download_plotlyjs , init_notebook_mode\n",
        "# init_notebook_mode(connected = True)\n",
        "# cf.go_offline()\n",
        "\n",
        "from iso3166 import countries\n",
        "\n",
        "\n",
        "\n",
        "import warnings\n",
        "warnings.filterwarnings('ignore')"
      ],
      "metadata": {
        "colab": {
          "base_uri": "https://localhost:8080/"
        },
        "id": "zce4v6nZu1H-",
        "outputId": "10aa8fda-ce30-49e5-8126-3c3a60243424"
      },
      "execution_count": 6,
      "outputs": [
        {
          "output_type": "stream",
          "name": "stderr",
          "text": [
            "/usr/local/lib/python3.7/dist-packages/distributed/config.py:20: YAMLLoadWarning: calling yaml.load() without Loader=... is deprecated, as the default Loader is unsafe. Please read https://msg.pyyaml.org/load for full details.\n",
            "  defaults = yaml.load(f)\n"
          ]
        }
      ]
    },
    {
      "cell_type": "code",
      "source": [
        "from google.colab import drive\n",
        "drive.mount('/content/drive')"
      ],
      "metadata": {
        "colab": {
          "base_uri": "https://localhost:8080/"
        },
        "id": "eq4WcQF0u1Jh",
        "outputId": "50249854-47cb-4e8c-8fe6-c0425d3fbc65"
      },
      "execution_count": 7,
      "outputs": [
        {
          "output_type": "stream",
          "name": "stdout",
          "text": [
            "Mounted at /content/drive\n"
          ]
        }
      ]
    },
    {
      "cell_type": "code",
      "source": [
        "df = pd.read_csv('/content/drive/MyDrive/sentiment analysis/covid19_tweets.csv')\n",
        "df.head()"
      ],
      "metadata": {
        "colab": {
          "base_uri": "https://localhost:8080/",
          "height": 496
        },
        "id": "Ei9Zmpwsu1PZ",
        "outputId": "4f4d5684-63a6-43f3-841b-a67f2c3e7a3a"
      },
      "execution_count": 8,
      "outputs": [
        {
          "output_type": "execute_result",
          "data": {
            "text/plain": [
              "         user_name         user_location  \\\n",
              "0           ᏉᎥ☻լꂅϮ            astroworld   \n",
              "1    Tom Basile 🇺🇸          New York, NY   \n",
              "2  Time4fisticuffs      Pewee Valley, KY   \n",
              "3      ethel mertz  Stuck in the Middle    \n",
              "4         DIPR-J&K     Jammu and Kashmir   \n",
              "\n",
              "                                    user_description         user_created  \\\n",
              "0  wednesday addams as a disney princess keepin i...  2017-05-26 05:46:42   \n",
              "1  Husband, Father, Columnist & Commentator. Auth...  2009-04-16 20:06:23   \n",
              "2  #Christian #Catholic #Conservative #Reagan #Re...  2009-02-28 18:57:41   \n",
              "3  #Browns #Indians #ClevelandProud #[]_[] #Cavs ...  2019-03-07 01:45:06   \n",
              "4  🖊️Official Twitter handle of Department of Inf...  2017-02-12 06:45:15   \n",
              "\n",
              "   user_followers  user_friends  user_favourites  user_verified  \\\n",
              "0             624           950            18775          False   \n",
              "1            2253          1677               24           True   \n",
              "2            9275          9525             7254          False   \n",
              "3             197           987             1488          False   \n",
              "4          101009           168              101          False   \n",
              "\n",
              "                  date                                               text  \\\n",
              "0  2020-07-25 12:27:21  If I smelled the scent of hand sanitizers toda...   \n",
              "1  2020-07-25 12:27:17  Hey @Yankees @YankeesPR and @MLB - wouldn't it...   \n",
              "2  2020-07-25 12:27:14  @diane3443 @wdunlap @realDonaldTrump Trump nev...   \n",
              "3  2020-07-25 12:27:10  @brookbanktv The one gift #COVID19 has give me...   \n",
              "4  2020-07-25 12:27:08  25 July : Media Bulletin on Novel #CoronaVirus...   \n",
              "\n",
              "                            hashtags               source  is_retweet  \n",
              "0                                NaN   Twitter for iPhone       False  \n",
              "1                                NaN  Twitter for Android       False  \n",
              "2                        ['COVID19']  Twitter for Android       False  \n",
              "3                        ['COVID19']   Twitter for iPhone       False  \n",
              "4  ['CoronaVirusUpdates', 'COVID19']  Twitter for Android       False  "
            ],
            "text/html": [
              "\n",
              "  <div id=\"df-c3576cf3-86a9-428c-9c8c-60d9db82dba0\">\n",
              "    <div class=\"colab-df-container\">\n",
              "      <div>\n",
              "<style scoped>\n",
              "    .dataframe tbody tr th:only-of-type {\n",
              "        vertical-align: middle;\n",
              "    }\n",
              "\n",
              "    .dataframe tbody tr th {\n",
              "        vertical-align: top;\n",
              "    }\n",
              "\n",
              "    .dataframe thead th {\n",
              "        text-align: right;\n",
              "    }\n",
              "</style>\n",
              "<table border=\"1\" class=\"dataframe\">\n",
              "  <thead>\n",
              "    <tr style=\"text-align: right;\">\n",
              "      <th></th>\n",
              "      <th>user_name</th>\n",
              "      <th>user_location</th>\n",
              "      <th>user_description</th>\n",
              "      <th>user_created</th>\n",
              "      <th>user_followers</th>\n",
              "      <th>user_friends</th>\n",
              "      <th>user_favourites</th>\n",
              "      <th>user_verified</th>\n",
              "      <th>date</th>\n",
              "      <th>text</th>\n",
              "      <th>hashtags</th>\n",
              "      <th>source</th>\n",
              "      <th>is_retweet</th>\n",
              "    </tr>\n",
              "  </thead>\n",
              "  <tbody>\n",
              "    <tr>\n",
              "      <th>0</th>\n",
              "      <td>ᏉᎥ☻լꂅϮ</td>\n",
              "      <td>astroworld</td>\n",
              "      <td>wednesday addams as a disney princess keepin i...</td>\n",
              "      <td>2017-05-26 05:46:42</td>\n",
              "      <td>624</td>\n",
              "      <td>950</td>\n",
              "      <td>18775</td>\n",
              "      <td>False</td>\n",
              "      <td>2020-07-25 12:27:21</td>\n",
              "      <td>If I smelled the scent of hand sanitizers toda...</td>\n",
              "      <td>NaN</td>\n",
              "      <td>Twitter for iPhone</td>\n",
              "      <td>False</td>\n",
              "    </tr>\n",
              "    <tr>\n",
              "      <th>1</th>\n",
              "      <td>Tom Basile 🇺🇸</td>\n",
              "      <td>New York, NY</td>\n",
              "      <td>Husband, Father, Columnist &amp; Commentator. Auth...</td>\n",
              "      <td>2009-04-16 20:06:23</td>\n",
              "      <td>2253</td>\n",
              "      <td>1677</td>\n",
              "      <td>24</td>\n",
              "      <td>True</td>\n",
              "      <td>2020-07-25 12:27:17</td>\n",
              "      <td>Hey @Yankees @YankeesPR and @MLB - wouldn't it...</td>\n",
              "      <td>NaN</td>\n",
              "      <td>Twitter for Android</td>\n",
              "      <td>False</td>\n",
              "    </tr>\n",
              "    <tr>\n",
              "      <th>2</th>\n",
              "      <td>Time4fisticuffs</td>\n",
              "      <td>Pewee Valley, KY</td>\n",
              "      <td>#Christian #Catholic #Conservative #Reagan #Re...</td>\n",
              "      <td>2009-02-28 18:57:41</td>\n",
              "      <td>9275</td>\n",
              "      <td>9525</td>\n",
              "      <td>7254</td>\n",
              "      <td>False</td>\n",
              "      <td>2020-07-25 12:27:14</td>\n",
              "      <td>@diane3443 @wdunlap @realDonaldTrump Trump nev...</td>\n",
              "      <td>['COVID19']</td>\n",
              "      <td>Twitter for Android</td>\n",
              "      <td>False</td>\n",
              "    </tr>\n",
              "    <tr>\n",
              "      <th>3</th>\n",
              "      <td>ethel mertz</td>\n",
              "      <td>Stuck in the Middle</td>\n",
              "      <td>#Browns #Indians #ClevelandProud #[]_[] #Cavs ...</td>\n",
              "      <td>2019-03-07 01:45:06</td>\n",
              "      <td>197</td>\n",
              "      <td>987</td>\n",
              "      <td>1488</td>\n",
              "      <td>False</td>\n",
              "      <td>2020-07-25 12:27:10</td>\n",
              "      <td>@brookbanktv The one gift #COVID19 has give me...</td>\n",
              "      <td>['COVID19']</td>\n",
              "      <td>Twitter for iPhone</td>\n",
              "      <td>False</td>\n",
              "    </tr>\n",
              "    <tr>\n",
              "      <th>4</th>\n",
              "      <td>DIPR-J&amp;K</td>\n",
              "      <td>Jammu and Kashmir</td>\n",
              "      <td>🖊️Official Twitter handle of Department of Inf...</td>\n",
              "      <td>2017-02-12 06:45:15</td>\n",
              "      <td>101009</td>\n",
              "      <td>168</td>\n",
              "      <td>101</td>\n",
              "      <td>False</td>\n",
              "      <td>2020-07-25 12:27:08</td>\n",
              "      <td>25 July : Media Bulletin on Novel #CoronaVirus...</td>\n",
              "      <td>['CoronaVirusUpdates', 'COVID19']</td>\n",
              "      <td>Twitter for Android</td>\n",
              "      <td>False</td>\n",
              "    </tr>\n",
              "  </tbody>\n",
              "</table>\n",
              "</div>\n",
              "      <button class=\"colab-df-convert\" onclick=\"convertToInteractive('df-c3576cf3-86a9-428c-9c8c-60d9db82dba0')\"\n",
              "              title=\"Convert this dataframe to an interactive table.\"\n",
              "              style=\"display:none;\">\n",
              "        \n",
              "  <svg xmlns=\"http://www.w3.org/2000/svg\" height=\"24px\"viewBox=\"0 0 24 24\"\n",
              "       width=\"24px\">\n",
              "    <path d=\"M0 0h24v24H0V0z\" fill=\"none\"/>\n",
              "    <path d=\"M18.56 5.44l.94 2.06.94-2.06 2.06-.94-2.06-.94-.94-2.06-.94 2.06-2.06.94zm-11 1L8.5 8.5l.94-2.06 2.06-.94-2.06-.94L8.5 2.5l-.94 2.06-2.06.94zm10 10l.94 2.06.94-2.06 2.06-.94-2.06-.94-.94-2.06-.94 2.06-2.06.94z\"/><path d=\"M17.41 7.96l-1.37-1.37c-.4-.4-.92-.59-1.43-.59-.52 0-1.04.2-1.43.59L10.3 9.45l-7.72 7.72c-.78.78-.78 2.05 0 2.83L4 21.41c.39.39.9.59 1.41.59.51 0 1.02-.2 1.41-.59l7.78-7.78 2.81-2.81c.8-.78.8-2.07 0-2.86zM5.41 20L4 18.59l7.72-7.72 1.47 1.35L5.41 20z\"/>\n",
              "  </svg>\n",
              "      </button>\n",
              "      \n",
              "  <style>\n",
              "    .colab-df-container {\n",
              "      display:flex;\n",
              "      flex-wrap:wrap;\n",
              "      gap: 12px;\n",
              "    }\n",
              "\n",
              "    .colab-df-convert {\n",
              "      background-color: #E8F0FE;\n",
              "      border: none;\n",
              "      border-radius: 50%;\n",
              "      cursor: pointer;\n",
              "      display: none;\n",
              "      fill: #1967D2;\n",
              "      height: 32px;\n",
              "      padding: 0 0 0 0;\n",
              "      width: 32px;\n",
              "    }\n",
              "\n",
              "    .colab-df-convert:hover {\n",
              "      background-color: #E2EBFA;\n",
              "      box-shadow: 0px 1px 2px rgba(60, 64, 67, 0.3), 0px 1px 3px 1px rgba(60, 64, 67, 0.15);\n",
              "      fill: #174EA6;\n",
              "    }\n",
              "\n",
              "    [theme=dark] .colab-df-convert {\n",
              "      background-color: #3B4455;\n",
              "      fill: #D2E3FC;\n",
              "    }\n",
              "\n",
              "    [theme=dark] .colab-df-convert:hover {\n",
              "      background-color: #434B5C;\n",
              "      box-shadow: 0px 1px 3px 1px rgba(0, 0, 0, 0.15);\n",
              "      filter: drop-shadow(0px 1px 2px rgba(0, 0, 0, 0.3));\n",
              "      fill: #FFFFFF;\n",
              "    }\n",
              "  </style>\n",
              "\n",
              "      <script>\n",
              "        const buttonEl =\n",
              "          document.querySelector('#df-c3576cf3-86a9-428c-9c8c-60d9db82dba0 button.colab-df-convert');\n",
              "        buttonEl.style.display =\n",
              "          google.colab.kernel.accessAllowed ? 'block' : 'none';\n",
              "\n",
              "        async function convertToInteractive(key) {\n",
              "          const element = document.querySelector('#df-c3576cf3-86a9-428c-9c8c-60d9db82dba0');\n",
              "          const dataTable =\n",
              "            await google.colab.kernel.invokeFunction('convertToInteractive',\n",
              "                                                     [key], {});\n",
              "          if (!dataTable) return;\n",
              "\n",
              "          const docLinkHtml = 'Like what you see? Visit the ' +\n",
              "            '<a target=\"_blank\" href=https://colab.research.google.com/notebooks/data_table.ipynb>data table notebook</a>'\n",
              "            + ' to learn more about interactive tables.';\n",
              "          element.innerHTML = '';\n",
              "          dataTable['output_type'] = 'display_data';\n",
              "          await google.colab.output.renderOutput(dataTable, element);\n",
              "          const docLink = document.createElement('div');\n",
              "          docLink.innerHTML = docLinkHtml;\n",
              "          element.appendChild(docLink);\n",
              "        }\n",
              "      </script>\n",
              "    </div>\n",
              "  </div>\n",
              "  "
            ]
          },
          "metadata": {},
          "execution_count": 8
        }
      ]
    },
    {
      "cell_type": "code",
      "source": [
        "df.info()"
      ],
      "metadata": {
        "colab": {
          "base_uri": "https://localhost:8080/"
        },
        "id": "0s8ofp-Uu1Qy",
        "outputId": "229ae643-6b24-400c-b138-012cb0b3c890"
      },
      "execution_count": 9,
      "outputs": [
        {
          "output_type": "stream",
          "name": "stdout",
          "text": [
            "<class 'pandas.core.frame.DataFrame'>\n",
            "RangeIndex: 179108 entries, 0 to 179107\n",
            "Data columns (total 13 columns):\n",
            " #   Column            Non-Null Count   Dtype \n",
            "---  ------            --------------   ----- \n",
            " 0   user_name         179108 non-null  object\n",
            " 1   user_location     142337 non-null  object\n",
            " 2   user_description  168822 non-null  object\n",
            " 3   user_created      179108 non-null  object\n",
            " 4   user_followers    179108 non-null  int64 \n",
            " 5   user_friends      179108 non-null  int64 \n",
            " 6   user_favourites   179108 non-null  int64 \n",
            " 7   user_verified     179108 non-null  bool  \n",
            " 8   date              179108 non-null  object\n",
            " 9   text              179108 non-null  object\n",
            " 10  hashtags          127774 non-null  object\n",
            " 11  source            179031 non-null  object\n",
            " 12  is_retweet        179108 non-null  bool  \n",
            "dtypes: bool(2), int64(3), object(8)\n",
            "memory usage: 15.4+ MB\n"
          ]
        }
      ]
    },
    {
      "cell_type": "code",
      "source": [
        "df.describe()"
      ],
      "metadata": {
        "colab": {
          "base_uri": "https://localhost:8080/",
          "height": 300
        },
        "id": "xijxsJSLu1XI",
        "outputId": "3bd88d72-939f-4e17-8b9c-3e22d5a4d042"
      },
      "execution_count": 10,
      "outputs": [
        {
          "output_type": "execute_result",
          "data": {
            "text/plain": [
              "       user_followers   user_friends  user_favourites\n",
              "count    1.791080e+05  179108.000000     1.791080e+05\n",
              "mean     1.090555e+05    2121.701566     1.444411e+04\n",
              "std      8.414670e+05    9162.553072     4.452270e+04\n",
              "min      0.000000e+00       0.000000     0.000000e+00\n",
              "25%      1.720000e+02     148.000000     2.060000e+02\n",
              "50%      9.920000e+02     542.000000     1.791000e+03\n",
              "75%      5.284000e+03    1725.250000     9.388000e+03\n",
              "max      4.944256e+07  497363.000000     2.047197e+06"
            ],
            "text/html": [
              "\n",
              "  <div id=\"df-6b02555a-ce43-4290-b3c3-a4a6e3730ed8\">\n",
              "    <div class=\"colab-df-container\">\n",
              "      <div>\n",
              "<style scoped>\n",
              "    .dataframe tbody tr th:only-of-type {\n",
              "        vertical-align: middle;\n",
              "    }\n",
              "\n",
              "    .dataframe tbody tr th {\n",
              "        vertical-align: top;\n",
              "    }\n",
              "\n",
              "    .dataframe thead th {\n",
              "        text-align: right;\n",
              "    }\n",
              "</style>\n",
              "<table border=\"1\" class=\"dataframe\">\n",
              "  <thead>\n",
              "    <tr style=\"text-align: right;\">\n",
              "      <th></th>\n",
              "      <th>user_followers</th>\n",
              "      <th>user_friends</th>\n",
              "      <th>user_favourites</th>\n",
              "    </tr>\n",
              "  </thead>\n",
              "  <tbody>\n",
              "    <tr>\n",
              "      <th>count</th>\n",
              "      <td>1.791080e+05</td>\n",
              "      <td>179108.000000</td>\n",
              "      <td>1.791080e+05</td>\n",
              "    </tr>\n",
              "    <tr>\n",
              "      <th>mean</th>\n",
              "      <td>1.090555e+05</td>\n",
              "      <td>2121.701566</td>\n",
              "      <td>1.444411e+04</td>\n",
              "    </tr>\n",
              "    <tr>\n",
              "      <th>std</th>\n",
              "      <td>8.414670e+05</td>\n",
              "      <td>9162.553072</td>\n",
              "      <td>4.452270e+04</td>\n",
              "    </tr>\n",
              "    <tr>\n",
              "      <th>min</th>\n",
              "      <td>0.000000e+00</td>\n",
              "      <td>0.000000</td>\n",
              "      <td>0.000000e+00</td>\n",
              "    </tr>\n",
              "    <tr>\n",
              "      <th>25%</th>\n",
              "      <td>1.720000e+02</td>\n",
              "      <td>148.000000</td>\n",
              "      <td>2.060000e+02</td>\n",
              "    </tr>\n",
              "    <tr>\n",
              "      <th>50%</th>\n",
              "      <td>9.920000e+02</td>\n",
              "      <td>542.000000</td>\n",
              "      <td>1.791000e+03</td>\n",
              "    </tr>\n",
              "    <tr>\n",
              "      <th>75%</th>\n",
              "      <td>5.284000e+03</td>\n",
              "      <td>1725.250000</td>\n",
              "      <td>9.388000e+03</td>\n",
              "    </tr>\n",
              "    <tr>\n",
              "      <th>max</th>\n",
              "      <td>4.944256e+07</td>\n",
              "      <td>497363.000000</td>\n",
              "      <td>2.047197e+06</td>\n",
              "    </tr>\n",
              "  </tbody>\n",
              "</table>\n",
              "</div>\n",
              "      <button class=\"colab-df-convert\" onclick=\"convertToInteractive('df-6b02555a-ce43-4290-b3c3-a4a6e3730ed8')\"\n",
              "              title=\"Convert this dataframe to an interactive table.\"\n",
              "              style=\"display:none;\">\n",
              "        \n",
              "  <svg xmlns=\"http://www.w3.org/2000/svg\" height=\"24px\"viewBox=\"0 0 24 24\"\n",
              "       width=\"24px\">\n",
              "    <path d=\"M0 0h24v24H0V0z\" fill=\"none\"/>\n",
              "    <path d=\"M18.56 5.44l.94 2.06.94-2.06 2.06-.94-2.06-.94-.94-2.06-.94 2.06-2.06.94zm-11 1L8.5 8.5l.94-2.06 2.06-.94-2.06-.94L8.5 2.5l-.94 2.06-2.06.94zm10 10l.94 2.06.94-2.06 2.06-.94-2.06-.94-.94-2.06-.94 2.06-2.06.94z\"/><path d=\"M17.41 7.96l-1.37-1.37c-.4-.4-.92-.59-1.43-.59-.52 0-1.04.2-1.43.59L10.3 9.45l-7.72 7.72c-.78.78-.78 2.05 0 2.83L4 21.41c.39.39.9.59 1.41.59.51 0 1.02-.2 1.41-.59l7.78-7.78 2.81-2.81c.8-.78.8-2.07 0-2.86zM5.41 20L4 18.59l7.72-7.72 1.47 1.35L5.41 20z\"/>\n",
              "  </svg>\n",
              "      </button>\n",
              "      \n",
              "  <style>\n",
              "    .colab-df-container {\n",
              "      display:flex;\n",
              "      flex-wrap:wrap;\n",
              "      gap: 12px;\n",
              "    }\n",
              "\n",
              "    .colab-df-convert {\n",
              "      background-color: #E8F0FE;\n",
              "      border: none;\n",
              "      border-radius: 50%;\n",
              "      cursor: pointer;\n",
              "      display: none;\n",
              "      fill: #1967D2;\n",
              "      height: 32px;\n",
              "      padding: 0 0 0 0;\n",
              "      width: 32px;\n",
              "    }\n",
              "\n",
              "    .colab-df-convert:hover {\n",
              "      background-color: #E2EBFA;\n",
              "      box-shadow: 0px 1px 2px rgba(60, 64, 67, 0.3), 0px 1px 3px 1px rgba(60, 64, 67, 0.15);\n",
              "      fill: #174EA6;\n",
              "    }\n",
              "\n",
              "    [theme=dark] .colab-df-convert {\n",
              "      background-color: #3B4455;\n",
              "      fill: #D2E3FC;\n",
              "    }\n",
              "\n",
              "    [theme=dark] .colab-df-convert:hover {\n",
              "      background-color: #434B5C;\n",
              "      box-shadow: 0px 1px 3px 1px rgba(0, 0, 0, 0.15);\n",
              "      filter: drop-shadow(0px 1px 2px rgba(0, 0, 0, 0.3));\n",
              "      fill: #FFFFFF;\n",
              "    }\n",
              "  </style>\n",
              "\n",
              "      <script>\n",
              "        const buttonEl =\n",
              "          document.querySelector('#df-6b02555a-ce43-4290-b3c3-a4a6e3730ed8 button.colab-df-convert');\n",
              "        buttonEl.style.display =\n",
              "          google.colab.kernel.accessAllowed ? 'block' : 'none';\n",
              "\n",
              "        async function convertToInteractive(key) {\n",
              "          const element = document.querySelector('#df-6b02555a-ce43-4290-b3c3-a4a6e3730ed8');\n",
              "          const dataTable =\n",
              "            await google.colab.kernel.invokeFunction('convertToInteractive',\n",
              "                                                     [key], {});\n",
              "          if (!dataTable) return;\n",
              "\n",
              "          const docLinkHtml = 'Like what you see? Visit the ' +\n",
              "            '<a target=\"_blank\" href=https://colab.research.google.com/notebooks/data_table.ipynb>data table notebook</a>'\n",
              "            + ' to learn more about interactive tables.';\n",
              "          element.innerHTML = '';\n",
              "          dataTable['output_type'] = 'display_data';\n",
              "          await google.colab.output.renderOutput(dataTable, element);\n",
              "          const docLink = document.createElement('div');\n",
              "          docLink.innerHTML = docLinkHtml;\n",
              "          element.appendChild(docLink);\n",
              "        }\n",
              "      </script>\n",
              "    </div>\n",
              "  </div>\n",
              "  "
            ]
          },
          "metadata": {},
          "execution_count": 10
        }
      ]
    },
    {
      "cell_type": "code",
      "source": [
        "df['date'] = pd.to_datetime(df['date'])\n",
        "df['year'] = df['date'].apply(lambda x : x.year)\n",
        "df['month'] = df['date'].apply(lambda x : x.month)\n",
        "df['weekday'] = df['date'].apply(lambda x : x.weekday())\n",
        "df.head()"
      ],
      "metadata": {
        "colab": {
          "base_uri": "https://localhost:8080/",
          "height": 496
        },
        "id": "QmEg05RGu1Yk",
        "outputId": "d74aff76-e0cd-40f4-9b93-d1365e5bfe0d"
      },
      "execution_count": 11,
      "outputs": [
        {
          "output_type": "execute_result",
          "data": {
            "text/plain": [
              "         user_name         user_location  \\\n",
              "0           ᏉᎥ☻լꂅϮ            astroworld   \n",
              "1    Tom Basile 🇺🇸          New York, NY   \n",
              "2  Time4fisticuffs      Pewee Valley, KY   \n",
              "3      ethel mertz  Stuck in the Middle    \n",
              "4         DIPR-J&K     Jammu and Kashmir   \n",
              "\n",
              "                                    user_description         user_created  \\\n",
              "0  wednesday addams as a disney princess keepin i...  2017-05-26 05:46:42   \n",
              "1  Husband, Father, Columnist & Commentator. Auth...  2009-04-16 20:06:23   \n",
              "2  #Christian #Catholic #Conservative #Reagan #Re...  2009-02-28 18:57:41   \n",
              "3  #Browns #Indians #ClevelandProud #[]_[] #Cavs ...  2019-03-07 01:45:06   \n",
              "4  🖊️Official Twitter handle of Department of Inf...  2017-02-12 06:45:15   \n",
              "\n",
              "   user_followers  user_friends  user_favourites  user_verified  \\\n",
              "0             624           950            18775          False   \n",
              "1            2253          1677               24           True   \n",
              "2            9275          9525             7254          False   \n",
              "3             197           987             1488          False   \n",
              "4          101009           168              101          False   \n",
              "\n",
              "                 date                                               text  \\\n",
              "0 2020-07-25 12:27:21  If I smelled the scent of hand sanitizers toda...   \n",
              "1 2020-07-25 12:27:17  Hey @Yankees @YankeesPR and @MLB - wouldn't it...   \n",
              "2 2020-07-25 12:27:14  @diane3443 @wdunlap @realDonaldTrump Trump nev...   \n",
              "3 2020-07-25 12:27:10  @brookbanktv The one gift #COVID19 has give me...   \n",
              "4 2020-07-25 12:27:08  25 July : Media Bulletin on Novel #CoronaVirus...   \n",
              "\n",
              "                            hashtags               source  is_retweet  year  \\\n",
              "0                                NaN   Twitter for iPhone       False  2020   \n",
              "1                                NaN  Twitter for Android       False  2020   \n",
              "2                        ['COVID19']  Twitter for Android       False  2020   \n",
              "3                        ['COVID19']   Twitter for iPhone       False  2020   \n",
              "4  ['CoronaVirusUpdates', 'COVID19']  Twitter for Android       False  2020   \n",
              "\n",
              "   month  weekday  \n",
              "0      7        5  \n",
              "1      7        5  \n",
              "2      7        5  \n",
              "3      7        5  \n",
              "4      7        5  "
            ],
            "text/html": [
              "\n",
              "  <div id=\"df-3b23b690-c5b6-4151-9d3b-0cb3c7af3a35\">\n",
              "    <div class=\"colab-df-container\">\n",
              "      <div>\n",
              "<style scoped>\n",
              "    .dataframe tbody tr th:only-of-type {\n",
              "        vertical-align: middle;\n",
              "    }\n",
              "\n",
              "    .dataframe tbody tr th {\n",
              "        vertical-align: top;\n",
              "    }\n",
              "\n",
              "    .dataframe thead th {\n",
              "        text-align: right;\n",
              "    }\n",
              "</style>\n",
              "<table border=\"1\" class=\"dataframe\">\n",
              "  <thead>\n",
              "    <tr style=\"text-align: right;\">\n",
              "      <th></th>\n",
              "      <th>user_name</th>\n",
              "      <th>user_location</th>\n",
              "      <th>user_description</th>\n",
              "      <th>user_created</th>\n",
              "      <th>user_followers</th>\n",
              "      <th>user_friends</th>\n",
              "      <th>user_favourites</th>\n",
              "      <th>user_verified</th>\n",
              "      <th>date</th>\n",
              "      <th>text</th>\n",
              "      <th>hashtags</th>\n",
              "      <th>source</th>\n",
              "      <th>is_retweet</th>\n",
              "      <th>year</th>\n",
              "      <th>month</th>\n",
              "      <th>weekday</th>\n",
              "    </tr>\n",
              "  </thead>\n",
              "  <tbody>\n",
              "    <tr>\n",
              "      <th>0</th>\n",
              "      <td>ᏉᎥ☻լꂅϮ</td>\n",
              "      <td>astroworld</td>\n",
              "      <td>wednesday addams as a disney princess keepin i...</td>\n",
              "      <td>2017-05-26 05:46:42</td>\n",
              "      <td>624</td>\n",
              "      <td>950</td>\n",
              "      <td>18775</td>\n",
              "      <td>False</td>\n",
              "      <td>2020-07-25 12:27:21</td>\n",
              "      <td>If I smelled the scent of hand sanitizers toda...</td>\n",
              "      <td>NaN</td>\n",
              "      <td>Twitter for iPhone</td>\n",
              "      <td>False</td>\n",
              "      <td>2020</td>\n",
              "      <td>7</td>\n",
              "      <td>5</td>\n",
              "    </tr>\n",
              "    <tr>\n",
              "      <th>1</th>\n",
              "      <td>Tom Basile 🇺🇸</td>\n",
              "      <td>New York, NY</td>\n",
              "      <td>Husband, Father, Columnist &amp; Commentator. Auth...</td>\n",
              "      <td>2009-04-16 20:06:23</td>\n",
              "      <td>2253</td>\n",
              "      <td>1677</td>\n",
              "      <td>24</td>\n",
              "      <td>True</td>\n",
              "      <td>2020-07-25 12:27:17</td>\n",
              "      <td>Hey @Yankees @YankeesPR and @MLB - wouldn't it...</td>\n",
              "      <td>NaN</td>\n",
              "      <td>Twitter for Android</td>\n",
              "      <td>False</td>\n",
              "      <td>2020</td>\n",
              "      <td>7</td>\n",
              "      <td>5</td>\n",
              "    </tr>\n",
              "    <tr>\n",
              "      <th>2</th>\n",
              "      <td>Time4fisticuffs</td>\n",
              "      <td>Pewee Valley, KY</td>\n",
              "      <td>#Christian #Catholic #Conservative #Reagan #Re...</td>\n",
              "      <td>2009-02-28 18:57:41</td>\n",
              "      <td>9275</td>\n",
              "      <td>9525</td>\n",
              "      <td>7254</td>\n",
              "      <td>False</td>\n",
              "      <td>2020-07-25 12:27:14</td>\n",
              "      <td>@diane3443 @wdunlap @realDonaldTrump Trump nev...</td>\n",
              "      <td>['COVID19']</td>\n",
              "      <td>Twitter for Android</td>\n",
              "      <td>False</td>\n",
              "      <td>2020</td>\n",
              "      <td>7</td>\n",
              "      <td>5</td>\n",
              "    </tr>\n",
              "    <tr>\n",
              "      <th>3</th>\n",
              "      <td>ethel mertz</td>\n",
              "      <td>Stuck in the Middle</td>\n",
              "      <td>#Browns #Indians #ClevelandProud #[]_[] #Cavs ...</td>\n",
              "      <td>2019-03-07 01:45:06</td>\n",
              "      <td>197</td>\n",
              "      <td>987</td>\n",
              "      <td>1488</td>\n",
              "      <td>False</td>\n",
              "      <td>2020-07-25 12:27:10</td>\n",
              "      <td>@brookbanktv The one gift #COVID19 has give me...</td>\n",
              "      <td>['COVID19']</td>\n",
              "      <td>Twitter for iPhone</td>\n",
              "      <td>False</td>\n",
              "      <td>2020</td>\n",
              "      <td>7</td>\n",
              "      <td>5</td>\n",
              "    </tr>\n",
              "    <tr>\n",
              "      <th>4</th>\n",
              "      <td>DIPR-J&amp;K</td>\n",
              "      <td>Jammu and Kashmir</td>\n",
              "      <td>🖊️Official Twitter handle of Department of Inf...</td>\n",
              "      <td>2017-02-12 06:45:15</td>\n",
              "      <td>101009</td>\n",
              "      <td>168</td>\n",
              "      <td>101</td>\n",
              "      <td>False</td>\n",
              "      <td>2020-07-25 12:27:08</td>\n",
              "      <td>25 July : Media Bulletin on Novel #CoronaVirus...</td>\n",
              "      <td>['CoronaVirusUpdates', 'COVID19']</td>\n",
              "      <td>Twitter for Android</td>\n",
              "      <td>False</td>\n",
              "      <td>2020</td>\n",
              "      <td>7</td>\n",
              "      <td>5</td>\n",
              "    </tr>\n",
              "  </tbody>\n",
              "</table>\n",
              "</div>\n",
              "      <button class=\"colab-df-convert\" onclick=\"convertToInteractive('df-3b23b690-c5b6-4151-9d3b-0cb3c7af3a35')\"\n",
              "              title=\"Convert this dataframe to an interactive table.\"\n",
              "              style=\"display:none;\">\n",
              "        \n",
              "  <svg xmlns=\"http://www.w3.org/2000/svg\" height=\"24px\"viewBox=\"0 0 24 24\"\n",
              "       width=\"24px\">\n",
              "    <path d=\"M0 0h24v24H0V0z\" fill=\"none\"/>\n",
              "    <path d=\"M18.56 5.44l.94 2.06.94-2.06 2.06-.94-2.06-.94-.94-2.06-.94 2.06-2.06.94zm-11 1L8.5 8.5l.94-2.06 2.06-.94-2.06-.94L8.5 2.5l-.94 2.06-2.06.94zm10 10l.94 2.06.94-2.06 2.06-.94-2.06-.94-.94-2.06-.94 2.06-2.06.94z\"/><path d=\"M17.41 7.96l-1.37-1.37c-.4-.4-.92-.59-1.43-.59-.52 0-1.04.2-1.43.59L10.3 9.45l-7.72 7.72c-.78.78-.78 2.05 0 2.83L4 21.41c.39.39.9.59 1.41.59.51 0 1.02-.2 1.41-.59l7.78-7.78 2.81-2.81c.8-.78.8-2.07 0-2.86zM5.41 20L4 18.59l7.72-7.72 1.47 1.35L5.41 20z\"/>\n",
              "  </svg>\n",
              "      </button>\n",
              "      \n",
              "  <style>\n",
              "    .colab-df-container {\n",
              "      display:flex;\n",
              "      flex-wrap:wrap;\n",
              "      gap: 12px;\n",
              "    }\n",
              "\n",
              "    .colab-df-convert {\n",
              "      background-color: #E8F0FE;\n",
              "      border: none;\n",
              "      border-radius: 50%;\n",
              "      cursor: pointer;\n",
              "      display: none;\n",
              "      fill: #1967D2;\n",
              "      height: 32px;\n",
              "      padding: 0 0 0 0;\n",
              "      width: 32px;\n",
              "    }\n",
              "\n",
              "    .colab-df-convert:hover {\n",
              "      background-color: #E2EBFA;\n",
              "      box-shadow: 0px 1px 2px rgba(60, 64, 67, 0.3), 0px 1px 3px 1px rgba(60, 64, 67, 0.15);\n",
              "      fill: #174EA6;\n",
              "    }\n",
              "\n",
              "    [theme=dark] .colab-df-convert {\n",
              "      background-color: #3B4455;\n",
              "      fill: #D2E3FC;\n",
              "    }\n",
              "\n",
              "    [theme=dark] .colab-df-convert:hover {\n",
              "      background-color: #434B5C;\n",
              "      box-shadow: 0px 1px 3px 1px rgba(0, 0, 0, 0.15);\n",
              "      filter: drop-shadow(0px 1px 2px rgba(0, 0, 0, 0.3));\n",
              "      fill: #FFFFFF;\n",
              "    }\n",
              "  </style>\n",
              "\n",
              "      <script>\n",
              "        const buttonEl =\n",
              "          document.querySelector('#df-3b23b690-c5b6-4151-9d3b-0cb3c7af3a35 button.colab-df-convert');\n",
              "        buttonEl.style.display =\n",
              "          google.colab.kernel.accessAllowed ? 'block' : 'none';\n",
              "\n",
              "        async function convertToInteractive(key) {\n",
              "          const element = document.querySelector('#df-3b23b690-c5b6-4151-9d3b-0cb3c7af3a35');\n",
              "          const dataTable =\n",
              "            await google.colab.kernel.invokeFunction('convertToInteractive',\n",
              "                                                     [key], {});\n",
              "          if (!dataTable) return;\n",
              "\n",
              "          const docLinkHtml = 'Like what you see? Visit the ' +\n",
              "            '<a target=\"_blank\" href=https://colab.research.google.com/notebooks/data_table.ipynb>data table notebook</a>'\n",
              "            + ' to learn more about interactive tables.';\n",
              "          element.innerHTML = '';\n",
              "          dataTable['output_type'] = 'display_data';\n",
              "          await google.colab.output.renderOutput(dataTable, element);\n",
              "          const docLink = document.createElement('div');\n",
              "          docLink.innerHTML = docLinkHtml;\n",
              "          element.appendChild(docLink);\n",
              "        }\n",
              "      </script>\n",
              "    </div>\n",
              "  </div>\n",
              "  "
            ]
          },
          "metadata": {},
          "execution_count": 11
        }
      ]
    },
    {
      "cell_type": "code",
      "source": [
        "#Let's find out about the missing values in the dataset by executing the code below:\n",
        "df.isna().sum()"
      ],
      "metadata": {
        "colab": {
          "base_uri": "https://localhost:8080/"
        },
        "id": "zphIQFIju1fM",
        "outputId": "4f94f2ac-3870-4653-9c11-00f66300890f"
      },
      "execution_count": 12,
      "outputs": [
        {
          "output_type": "execute_result",
          "data": {
            "text/plain": [
              "user_name               0\n",
              "user_location       36771\n",
              "user_description    10286\n",
              "user_created            0\n",
              "user_followers          0\n",
              "user_friends            0\n",
              "user_favourites         0\n",
              "user_verified           0\n",
              "date                    0\n",
              "text                    0\n",
              "hashtags            51334\n",
              "source                 77\n",
              "is_retweet              0\n",
              "year                    0\n",
              "month                   0\n",
              "weekday                 0\n",
              "dtype: int64"
            ]
          },
          "metadata": {},
          "execution_count": 12
        }
      ]
    },
    {
      "cell_type": "code",
      "source": [
        "missing_values = pd.DataFrame()\n",
        "missing_values['column'] = df.columns\n",
        "\n",
        "missing_values['percent'] = [round(100* df[col].isnull().sum() / len(df), 2) for col in df.columns]\n",
        "missing_values = missing_values.sort_values('percent')\n",
        "missing_values = missing_values[missing_values['percent']>0]"
      ],
      "metadata": {
        "id": "ccmot_7fu1gx"
      },
      "execution_count": 13,
      "outputs": []
    },
    {
      "cell_type": "code",
      "source": [
        "plt.figure(figsize=(15, 5))\n",
        "sns.set(style='whitegrid', color_codes=True)\n",
        "splot=sns.barplot(x='column', y='percent', data=missing_values)\n",
        "for p in splot.patches:\n",
        "    splot.annotate(format(p.get_height(), '.2f'), (p.get_x() + p.get_width() / 2., p.get_height()), ha = 'center',\n",
        "                   va = 'center', xytext = (0, 9), textcoords = 'offset points')\n",
        "plt.xlabel(\"Column_Name\", size=14, weight=\"bold\")\n",
        "plt.ylabel(\"Percentage\", size=14, weight=\"bold\")\n",
        "plt.title(\"Percentage of missing values in column\",fontweight=\"bold\",size=17)\n",
        "plt.show()"
      ],
      "metadata": {
        "colab": {
          "base_uri": "https://localhost:8080/",
          "height": 266
        },
        "id": "NIv0pEisu1nt",
        "outputId": "e359a0fc-1bf7-46bc-a0c9-58e1f11d89e8"
      },
      "execution_count": 14,
      "outputs": [
        {
          "output_type": "display_data",
          "data": {
            "text/plain": [
              "<Figure size 1080x360 with 1 Axes>"
            ],
            "image/png": "[encoded data removed]"
          },
          "metadata": {
            "needs_background": "light"
          }
        }
      ]
    },
    {
      "cell_type": "code",
      "source": [
        "\n",
        "ds = df['user_name'].value_counts().reset_index()\n",
        "ds.columns = ['user_name', 'tweets_count']\n",
        "ds = ds.sort_values(['tweets_count'])\n",
        "\n",
        "fig = px.bar(\n",
        "    ds.tail(40), \n",
        "    x=\"tweets_count\", \n",
        "    y=\"user_name\", \n",
        "    orientation='h', \n",
        "    title='Top 40 users by number of tweets', \n",
        "    width=800, \n",
        "    height=800\n",
        ")\n",
        "\n",
        "fig.show()\n"
      ],
      "metadata": {
        "colab": {
          "base_uri": "https://localhost:8080/",
          "height": 837
        },
        "id": "8N0iLDjXu1pD",
        "outputId": "9abe93a0-bb7b-40d9-fb44-f3e9be0d34ff"
      },
      "execution_count": 15,
      "outputs": [
        {
          "output_type": "display_data",
          "data": {
            "text/html": [
              "<html>\n",
              "<head><meta charset=\"utf-8\" /></head>\n",
              "<body>\n",
              "    <div>            <script src=\"https://cdnjs.cloudflare.com/ajax/libs/mathjax/2.7.5/MathJax.js?config=TeX-AMS-MML_SVG\"></script><script type=\"text/javascript\">if (window.MathJax) {MathJax.Hub.Config({SVG: {font: \"STIX-Web\"}});}</script>                <script type=\"text/javascript\">window.PlotlyConfig = {MathJaxConfig: 'local'};</script>\n",
              "        <script src=\"https://cdn.plot.ly/plotly-2.8.3.min.js\"></script>                <div id=\"53a2ab41-7bf5-45d0-8655-74f3d3640593\" class=\"plotly-graph-div\" style=\"height:800px; width:800px;\"></div>            <script type=\"text/javascript\">                                    window.PLOTLYENV=window.PLOTLYENV || {};                                    if (document.getElementById(\"53a2ab41-7bf5-45d0-8655-74f3d3640593\")) {                    Plotly.newPlot(                        \"53a2ab41-7bf5-45d0-8655-74f3d3640593\",                        [{\"alignmentgroup\":\"True\",\"hovertemplate\":\"tweets_count=%{x}<br>user_name=%{y}<extra></extra>\",\"legendgroup\":\"\",\"marker\":{\"color\":\"#636efa\",\"pattern\":{\"shape\":\"\"}},\"name\":\"\",\"offsetgroup\":\"\",\"orientation\":\"h\",\"showlegend\":false,\"textposition\":\"auto\",\"x\":[121,123,123,124,124,126,126,126,128,129,132,132,133,136,137,140,142,143,145,150,177,180,191,197,199,208,218,220,220,225,233,244,259,266,280,282,390,402,625,679],\"xaxis\":\"x\",\"y\":[\"moneycontrol\",\"8min 46sec\",\"Kathryn Guylay, MBA, PhD\",\"Global Times\",\"Covid-19 Bot\",\"Conservative in Utah\",\"Countries Without Coronavirus Bot\",\"Isolation Bot\",\"NewsMobile\",\"Business Standard\",\"LatestLY\",\"The Pioneer\",\"Integral Overview\",\"Deccan Herald\",\"Novel Coronavirus - Covid19\",\"ActivistBowen\",\"Hotpage News\",\"National Cyber Security\",\"ABS-CBN News Channel\",\"Coronavirus_Scotland\",\"Sambad English\",\"APO Group English\",\"COVID Scale\",\"The New Indian Express\",\"#IndiaFightsCorona\",\"Covid Data\",\"ABS-CBN News\",\"Dushyant Vachhani\",\"OTV\",\"Coronavirus Updates - Alexander Higgins\",\"ANI\",\"IANS Tweets\",\"Paperbirds_Coronavirus\",\"IAM Platform\",\"Hindustan Times\",\"Blood Donors India\",\"Open Letters\",\"covidnews.ch\",\"Coronavirus Updates\",\"GlobalPandemic.NET\"],\"yaxis\":\"y\",\"type\":\"bar\"}],                        {\"template\":{\"data\":{\"bar\":[{\"error_x\":{\"color\":\"#2a3f5f\"},\"error_y\":{\"color\":\"#2a3f5f\"},\"marker\":{\"line\":{\"color\":\"#E5ECF6\",\"width\":0.5},\"pattern\":{\"fillmode\":\"overlay\",\"size\":10,\"solidity\":0.2}},\"type\":\"bar\"}],\"barpolar\":[{\"marker\":{\"line\":{\"color\":\"#E5ECF6\",\"width\":0.5},\"pattern\":{\"fillmode\":\"overlay\",\"size\":10,\"solidity\":0.2}},\"type\":\"barpolar\"}],\"carpet\":[{\"aaxis\":{\"endlinecolor\":\"#2a3f5f\",\"gridcolor\":\"white\",\"linecolor\":\"white\",\"minorgridcolor\":\"white\",\"startlinecolor\":\"#2a3f5f\"},\"baxis\":{\"endlinecolor\":\"#2a3f5f\",\"gridcolor\":\"white\",\"linecolor\":\"white\",\"minorgridcolor\":\"white\",\"startlinecolor\":\"#2a3f5f\"},\"type\":\"carpet\"}],\"choropleth\":[{\"colorbar\":{\"outlinewidth\":0,\"ticks\":\"\"},\"type\":\"choropleth\"}],\"contour\":[{\"colorbar\":{\"outlinewidth\":0,\"ticks\":\"\"},\"colorscale\":[[0.0,\"#0d0887\"],[0.1111111111111111,\"#46039f\"],[0.2222222222222222,\"#7201a8\"],[0.3333333333333333,\"#9c179e\"],[0.4444444444444444,\"#bd3786\"],[0.5555555555555556,\"#d8576b\"],[0.6666666666666666,\"#ed7953\"],[0.7777777777777778,\"#fb9f3a\"],[0.8888888888888888,\"#fdca26\"],[1.0,\"#f0f921\"]],\"type\":\"contour\"}],\"contourcarpet\":[{\"colorbar\":{\"outlinewidth\":0,\"ticks\":\"\"},\"type\":\"contourcarpet\"}],\"heatmap\":[{\"colorbar\":{\"outlinewidth\":0,\"ticks\":\"\"},\"colorscale\":[[0.0,\"#0d0887\"],[0.1111111111111111,\"#46039f\"],[0.2222222222222222,\"#7201a8\"],[0.3333333333333333,\"#9c179e\"],[0.4444444444444444,\"#bd3786\"],[0.5555555555555556,\"#d8576b\"],[0.6666666666666666,\"#ed7953\"],[0.7777777777777778,\"#fb9f3a\"],[0.8888888888888888,\"#fdca26\"],[1.0,\"#f0f921\"]],\"type\":\"heatmap\"}],\"heatmapgl\":[{\"colorbar\":{\"outlinewidth\":0,\"ticks\":\"\"},\"colorscale\":[[0.0,\"#0d0887\"],[0.1111111111111111,\"#46039f\"],[0.2222222222222222,\"#7201a8\"],[0.3333333333333333,\"#9c179e\"],[0.4444444444444444,\"#bd3786\"],[0.5555555555555556,\"#d8576b\"],[0.6666666666666666,\"#ed7953\"],[0.7777777777777778,\"#fb9f3a\"],[0.8888888888888888,\"#fdca26\"],[1.0,\"#f0f921\"]],\"type\":\"heatmapgl\"}],\"histogram\":[{\"marker\":{\"pattern\":{\"fillmode\":\"overlay\",\"size\":10,\"solidity\":0.2}},\"type\":\"histogram\"}],\"histogram2d\":[{\"colorbar\":{\"outlinewidth\":0,\"ticks\":\"\"},\"colorscale\":[[0.0,\"#0d0887\"],[0.1111111111111111,\"#46039f\"],[0.2222222222222222,\"#7201a8\"],[0.3333333333333333,\"#9c179e\"],[0.4444444444444444,\"#bd3786\"],[0.5555555555555556,\"#d8576b\"],[0.6666666666666666,\"#ed7953\"],[0.7777777777777778,\"#fb9f3a\"],[0.8888888888888888,\"#fdca26\"],[1.0,\"#f0f921\"]],\"type\":\"histogram2d\"}],\"histogram2dcontour\":[{\"colorbar\":{\"outlinewidth\":0,\"ticks\":\"\"},\"colorscale\":[[0.0,\"#0d0887\"],[0.1111111111111111,\"#46039f\"],[0.2222222222222222,\"#7201a8\"],[0.3333333333333333,\"#9c179e\"],[0.4444444444444444,\"#bd3786\"],[0.5555555555555556,\"#d8576b\"],[0.6666666666666666,\"#ed7953\"],[0.7777777777777778,\"#fb9f3a\"],[0.8888888888888888,\"#fdca26\"],[1.0,\"#f0f921\"]],\"type\":\"histogram2dcontour\"}],\"mesh3d\":[{\"colorbar\":{\"outlinewidth\":0,\"ticks\":\"\"},\"type\":\"mesh3d\"}],\"parcoords\":[{\"line\":{\"colorbar\":{\"outlinewidth\":0,\"ticks\":\"\"}},\"type\":\"parcoords\"}],\"pie\":[{\"automargin\":true,\"type\":\"pie\"}],\"scatter\":[{\"marker\":{\"colorbar\":{\"outlinewidth\":0,\"ticks\":\"\"}},\"type\":\"scatter\"}],\"scatter3d\":[{\"line\":{\"colorbar\":{\"outlinewidth\":0,\"ticks\":\"\"}},\"marker\":{\"colorbar\":{\"outlinewidth\":0,\"ticks\":\"\"}},\"type\":\"scatter3d\"}],\"scattercarpet\":[{\"marker\":{\"colorbar\":{\"outlinewidth\":0,\"ticks\":\"\"}},\"type\":\"scattercarpet\"}],\"scattergeo\":[{\"marker\":{\"colorbar\":{\"outlinewidth\":0,\"ticks\":\"\"}},\"type\":\"scattergeo\"}],\"scattergl\":[{\"marker\":{\"colorbar\":{\"outlinewidth\":0,\"ticks\":\"\"}},\"type\":\"scattergl\"}],\"scattermapbox\":[{\"marker\":{\"colorbar\":{\"outlinewidth\":0,\"ticks\":\"\"}},\"type\":\"scattermapbox\"}],\"scatterpolar\":[{\"marker\":{\"colorbar\":{\"outlinewidth\":0,\"ticks\":\"\"}},\"type\":\"scatterpolar\"}],\"scatterpolargl\":[{\"marker\":{\"colorbar\":{\"outlinewidth\":0,\"ticks\":\"\"}},\"type\":\"scatterpolargl\"}],\"scatterternary\":[{\"marker\":{\"colorbar\":{\"outlinewidth\":0,\"ticks\":\"\"}},\"type\":\"scatterternary\"}],\"surface\":[{\"colorbar\":{\"outlinewidth\":0,\"ticks\":\"\"},\"colorscale\":[[0.0,\"#0d0887\"],[0.1111111111111111,\"#46039f\"],[0.2222222222222222,\"#7201a8\"],[0.3333333333333333,\"#9c179e\"],[0.4444444444444444,\"#bd3786\"],[0.5555555555555556,\"#d8576b\"],[0.6666666666666666,\"#ed7953\"],[0.7777777777777778,\"#fb9f3a\"],[0.8888888888888888,\"#fdca26\"],[1.0,\"#f0f921\"]],\"type\":\"surface\"}],\"table\":[{\"cells\":{\"fill\":{\"color\":\"#EBF0F8\"},\"line\":{\"color\":\"white\"}},\"header\":{\"fill\":{\"color\":\"#C8D4E3\"},\"line\":{\"color\":\"white\"}},\"type\":\"table\"}]},\"layout\":{\"annotationdefaults\":{\"arrowcolor\":\"#2a3f5f\",\"arrowhead\":0,\"arrowwidth\":1},\"autotypenumbers\":\"strict\",\"coloraxis\":{\"colorbar\":{\"outlinewidth\":0,\"ticks\":\"\"}},\"colorscale\":{\"diverging\":[[0,\"#8e0152\"],[0.1,\"#c51b7d\"],[0.2,\"#de77ae\"],[0.3,\"#f1b6da\"],[0.4,\"#fde0ef\"],[0.5,\"#f7f7f7\"],[0.6,\"#e6f5d0\"],[0.7,\"#b8e186\"],[0.8,\"#7fbc41\"],[0.9,\"#4d9221\"],[1,\"#276419\"]],\"sequential\":[[0.0,\"#0d0887\"],[0.1111111111111111,\"#46039f\"],[0.2222222222222222,\"#7201a8\"],[0.3333333333333333,\"#9c179e\"],[0.4444444444444444,\"#bd3786\"],[0.5555555555555556,\"#d8576b\"],[0.6666666666666666,\"#ed7953\"],[0.7777777777777778,\"#fb9f3a\"],[0.8888888888888888,\"#fdca26\"],[1.0,\"#f0f921\"]],\"sequentialminus\":[[0.0,\"#0d0887\"],[0.1111111111111111,\"#46039f\"],[0.2222222222222222,\"#7201a8\"],[0.3333333333333333,\"#9c179e\"],[0.4444444444444444,\"#bd3786\"],[0.5555555555555556,\"#d8576b\"],[0.6666666666666666,\"#ed7953\"],[0.7777777777777778,\"#fb9f3a\"],[0.8888888888888888,\"#fdca26\"],[1.0,\"#f0f921\"]]},\"colorway\":[\"#636efa\",\"#EF553B\",\"#00cc96\",\"#ab63fa\",\"#FFA15A\",\"#19d3f3\",\"#FF6692\",\"#B6E880\",\"#FF97FF\",\"#FECB52\"],\"font\":{\"color\":\"#2a3f5f\"},\"geo\":{\"bgcolor\":\"white\",\"lakecolor\":\"white\",\"landcolor\":\"#E5ECF6\",\"showlakes\":true,\"showland\":true,\"subunitcolor\":\"white\"},\"hoverlabel\":{\"align\":\"left\"},\"hovermode\":\"closest\",\"mapbox\":{\"style\":\"light\"},\"paper_bgcolor\":\"white\",\"plot_bgcolor\":\"#E5ECF6\",\"polar\":{\"angularaxis\":{\"gridcolor\":\"white\",\"linecolor\":\"white\",\"ticks\":\"\"},\"bgcolor\":\"#E5ECF6\",\"radialaxis\":{\"gridcolor\":\"white\",\"linecolor\":\"white\",\"ticks\":\"\"}},\"scene\":{\"xaxis\":{\"backgroundcolor\":\"#E5ECF6\",\"gridcolor\":\"white\",\"gridwidth\":2,\"linecolor\":\"white\",\"showbackground\":true,\"ticks\":\"\",\"zerolinecolor\":\"white\"},\"yaxis\":{\"backgroundcolor\":\"#E5ECF6\",\"gridcolor\":\"white\",\"gridwidth\":2,\"linecolor\":\"white\",\"showbackground\":true,\"ticks\":\"\",\"zerolinecolor\":\"white\"},\"zaxis\":{\"backgroundcolor\":\"#E5ECF6\",\"gridcolor\":\"white\",\"gridwidth\":2,\"linecolor\":\"white\",\"showbackground\":true,\"ticks\":\"\",\"zerolinecolor\":\"white\"}},\"shapedefaults\":{\"line\":{\"color\":\"#2a3f5f\"}},\"ternary\":{\"aaxis\":{\"gridcolor\":\"white\",\"linecolor\":\"white\",\"ticks\":\"\"},\"baxis\":{\"gridcolor\":\"white\",\"linecolor\":\"white\",\"ticks\":\"\"},\"bgcolor\":\"#E5ECF6\",\"caxis\":{\"gridcolor\":\"white\",\"linecolor\":\"white\",\"ticks\":\"\"}},\"title\":{\"x\":0.05},\"xaxis\":{\"automargin\":true,\"gridcolor\":\"white\",\"linecolor\":\"white\",\"ticks\":\"\",\"title\":{\"standoff\":15},\"zerolinecolor\":\"white\",\"zerolinewidth\":2},\"yaxis\":{\"automargin\":true,\"gridcolor\":\"white\",\"linecolor\":\"white\",\"ticks\":\"\",\"title\":{\"standoff\":15},\"zerolinecolor\":\"white\",\"zerolinewidth\":2}}},\"xaxis\":{\"anchor\":\"y\",\"domain\":[0.0,1.0],\"title\":{\"text\":\"tweets_count\"}},\"yaxis\":{\"anchor\":\"x\",\"domain\":[0.0,1.0],\"title\":{\"text\":\"user_name\"}},\"legend\":{\"tracegroupgap\":0},\"title\":{\"text\":\"Top 40 users by number of tweets\"},\"barmode\":\"relative\",\"height\":800,\"width\":800},                        {\"responsive\": true}                    ).then(function(){\n",
              "                            \n",
              "var gd = document.getElementById('53a2ab41-7bf5-45d0-8655-74f3d3640593');\n",
              "var x = new MutationObserver(function (mutations, observer) {{\n",
              "        var display = window.getComputedStyle(gd).display;\n",
              "        if (!display || display === 'none') {{\n",
              "            console.log([gd, 'removed!']);\n",
              "            Plotly.purge(gd);\n",
              "            observer.disconnect();\n",
              "        }}\n",
              "}});\n",
              "\n",
              "// Listen for the removal of the full notebook cells\n",
              "var notebookContainer = gd.closest('#notebook-container');\n",
              "if (notebookContainer) {{\n",
              "    x.observe(notebookContainer, {childList: true});\n",
              "}}\n",
              "\n",
              "// Listen for the clearing of the current output cell\n",
              "var outputEl = gd.closest('.output');\n",
              "if (outputEl) {{\n",
              "    x.observe(outputEl, {childList: true});\n",
              "}}\n",
              "\n",
              "                        })                };                            </script>        </div>\n",
              "</body>\n",
              "</html>"
            ]
          },
          "metadata": {}
        }
      ]
    },
    {
      "cell_type": "code",
      "source": [
        "def pie_count(data, field, percent_limit, title):\n",
        "    \n",
        "    data[field] = data[field].fillna('NA')\n",
        "    data = data[field].value_counts().to_frame()\n",
        "\n",
        "    total = data[field].sum()\n",
        "    data['percentage'] = 100 * data[field]/total    \n",
        "\n",
        "    percent_limit = percent_limit\n",
        "    otherdata = data[data['percentage'] < percent_limit] \n",
        "    others = otherdata['percentage'].sum()  \n",
        "    maindata = data[data['percentage'] >= percent_limit]\n",
        "\n",
        "    data = maindata\n",
        "    other_label = \"Others(<\" + str(percent_limit) + \"% each)\"\n",
        "    data.loc[other_label] = pd.Series({field:otherdata[field].sum()}) \n",
        "    \n",
        "    labels = data.index.tolist()   \n",
        "    datavals = data[field].tolist()\n",
        "    \n",
        "    trace=go.Pie(labels=labels,values=datavals)\n",
        "\n",
        "    layout = go.Layout(\n",
        "        title = title,\n",
        "        height=500,\n",
        "        width=600\n",
        "        )\n",
        "    \n",
        "    fig = go.Figure(data=[trace], layout=layout)\n",
        "    iplot(fig)\n",
        "    \n",
        "pie_count(df, 'user_location', 0.5, 'Number of tweets per location')"
      ],
      "metadata": {
        "colab": {
          "base_uri": "https://localhost:8080/",
          "height": 517
        },
        "id": "IMTyjPDIu1vo",
        "outputId": "83475568-f374-483e-fa87-028662d4b1ab"
      },
      "execution_count": 16,
      "outputs": [
        {
          "output_type": "display_data",
          "data": {
            "text/html": [
              "<html>\n",
              "<head><meta charset=\"utf-8\" /></head>\n",
              "<body>\n",
              "    <div>            <script src=\"https://cdnjs.cloudflare.com/ajax/libs/mathjax/2.7.5/MathJax.js?config=TeX-AMS-MML_SVG\"></script><script type=\"text/javascript\">if (window.MathJax) {MathJax.Hub.Config({SVG: {font: \"STIX-Web\"}});}</script>                <script type=\"text/javascript\">window.PlotlyConfig = {MathJaxConfig: 'local'};</script>\n",
              "        <script src=\"https://cdn.plot.ly/plotly-2.8.3.min.js\"></script>                <div id=\"c0a46f3b-66ce-4a77-afa7-abbe414c5d60\" class=\"plotly-graph-div\" style=\"height:500px; width:600px;\"></div>            <script type=\"text/javascript\">                                    window.PLOTLYENV=window.PLOTLYENV || {};                                    if (document.getElementById(\"c0a46f3b-66ce-4a77-afa7-abbe414c5d60\")) {                    Plotly.newPlot(                        \"c0a46f3b-66ce-4a77-afa7-abbe414c5d60\",                        [{\"labels\":[\"NA\",\"India\",\"United States\",\"New Delhi, India\",\"Mumbai, India\",\"Washington, DC\",\"London, England\",\"United Kingdom\",\"London\",\"New York, NY\",\"Australia\",\"Others(<0.5% each)\"],\"values\":[36771.0,3741.0,2455.0,1721.0,1401.0,1354.0,1269.0,1206.0,1103.0,1082.0,964.0,126041.0],\"type\":\"pie\"}],                        {\"height\":500,\"template\":{\"data\":{\"barpolar\":[{\"marker\":{\"line\":{\"color\":\"#E5ECF6\",\"width\":0.5},\"pattern\":{\"fillmode\":\"overlay\",\"size\":10,\"solidity\":0.2}},\"type\":\"barpolar\"}],\"bar\":[{\"error_x\":{\"color\":\"#2a3f5f\"},\"error_y\":{\"color\":\"#2a3f5f\"},\"marker\":{\"line\":{\"color\":\"#E5ECF6\",\"width\":0.5},\"pattern\":{\"fillmode\":\"overlay\",\"size\":10,\"solidity\":0.2}},\"type\":\"bar\"}],\"carpet\":[{\"aaxis\":{\"endlinecolor\":\"#2a3f5f\",\"gridcolor\":\"white\",\"linecolor\":\"white\",\"minorgridcolor\":\"white\",\"startlinecolor\":\"#2a3f5f\"},\"baxis\":{\"endlinecolor\":\"#2a3f5f\",\"gridcolor\":\"white\",\"linecolor\":\"white\",\"minorgridcolor\":\"white\",\"startlinecolor\":\"#2a3f5f\"},\"type\":\"carpet\"}],\"choropleth\":[{\"colorbar\":{\"outlinewidth\":0,\"ticks\":\"\"},\"type\":\"choropleth\"}],\"contourcarpet\":[{\"colorbar\":{\"outlinewidth\":0,\"ticks\":\"\"},\"type\":\"contourcarpet\"}],\"contour\":[{\"colorbar\":{\"outlinewidth\":0,\"ticks\":\"\"},\"colorscale\":[[0.0,\"#0d0887\"],[0.1111111111111111,\"#46039f\"],[0.2222222222222222,\"#7201a8\"],[0.3333333333333333,\"#9c179e\"],[0.4444444444444444,\"#bd3786\"],[0.5555555555555556,\"#d8576b\"],[0.6666666666666666,\"#ed7953\"],[0.7777777777777778,\"#fb9f3a\"],[0.8888888888888888,\"#fdca26\"],[1.0,\"#f0f921\"]],\"type\":\"contour\"}],\"heatmapgl\":[{\"colorbar\":{\"outlinewidth\":0,\"ticks\":\"\"},\"colorscale\":[[0.0,\"#0d0887\"],[0.1111111111111111,\"#46039f\"],[0.2222222222222222,\"#7201a8\"],[0.3333333333333333,\"#9c179e\"],[0.4444444444444444,\"#bd3786\"],[0.5555555555555556,\"#d8576b\"],[0.6666666666666666,\"#ed7953\"],[0.7777777777777778,\"#fb9f3a\"],[0.8888888888888888,\"#fdca26\"],[1.0,\"#f0f921\"]],\"type\":\"heatmapgl\"}],\"heatmap\":[{\"colorbar\":{\"outlinewidth\":0,\"ticks\":\"\"},\"colorscale\":[[0.0,\"#0d0887\"],[0.1111111111111111,\"#46039f\"],[0.2222222222222222,\"#7201a8\"],[0.3333333333333333,\"#9c179e\"],[0.4444444444444444,\"#bd3786\"],[0.5555555555555556,\"#d8576b\"],[0.6666666666666666,\"#ed7953\"],[0.7777777777777778,\"#fb9f3a\"],[0.8888888888888888,\"#fdca26\"],[1.0,\"#f0f921\"]],\"type\":\"heatmap\"}],\"histogram2dcontour\":[{\"colorbar\":{\"outlinewidth\":0,\"ticks\":\"\"},\"colorscale\":[[0.0,\"#0d0887\"],[0.1111111111111111,\"#46039f\"],[0.2222222222222222,\"#7201a8\"],[0.3333333333333333,\"#9c179e\"],[0.4444444444444444,\"#bd3786\"],[0.5555555555555556,\"#d8576b\"],[0.6666666666666666,\"#ed7953\"],[0.7777777777777778,\"#fb9f3a\"],[0.8888888888888888,\"#fdca26\"],[1.0,\"#f0f921\"]],\"type\":\"histogram2dcontour\"}],\"histogram2d\":[{\"colorbar\":{\"outlinewidth\":0,\"ticks\":\"\"},\"colorscale\":[[0.0,\"#0d0887\"],[0.1111111111111111,\"#46039f\"],[0.2222222222222222,\"#7201a8\"],[0.3333333333333333,\"#9c179e\"],[0.4444444444444444,\"#bd3786\"],[0.5555555555555556,\"#d8576b\"],[0.6666666666666666,\"#ed7953\"],[0.7777777777777778,\"#fb9f3a\"],[0.8888888888888888,\"#fdca26\"],[1.0,\"#f0f921\"]],\"type\":\"histogram2d\"}],\"histogram\":[{\"marker\":{\"pattern\":{\"fillmode\":\"overlay\",\"size\":10,\"solidity\":0.2}},\"type\":\"histogram\"}],\"mesh3d\":[{\"colorbar\":{\"outlinewidth\":0,\"ticks\":\"\"},\"type\":\"mesh3d\"}],\"parcoords\":[{\"line\":{\"colorbar\":{\"outlinewidth\":0,\"ticks\":\"\"}},\"type\":\"parcoords\"}],\"pie\":[{\"automargin\":true,\"type\":\"pie\"}],\"scatter3d\":[{\"line\":{\"colorbar\":{\"outlinewidth\":0,\"ticks\":\"\"}},\"marker\":{\"colorbar\":{\"outlinewidth\":0,\"ticks\":\"\"}},\"type\":\"scatter3d\"}],\"scattercarpet\":[{\"marker\":{\"colorbar\":{\"outlinewidth\":0,\"ticks\":\"\"}},\"type\":\"scattercarpet\"}],\"scattergeo\":[{\"marker\":{\"colorbar\":{\"outlinewidth\":0,\"ticks\":\"\"}},\"type\":\"scattergeo\"}],\"scattergl\":[{\"marker\":{\"colorbar\":{\"outlinewidth\":0,\"ticks\":\"\"}},\"type\":\"scattergl\"}],\"scattermapbox\":[{\"marker\":{\"colorbar\":{\"outlinewidth\":0,\"ticks\":\"\"}},\"type\":\"scattermapbox\"}],\"scatterpolargl\":[{\"marker\":{\"colorbar\":{\"outlinewidth\":0,\"ticks\":\"\"}},\"type\":\"scatterpolargl\"}],\"scatterpolar\":[{\"marker\":{\"colorbar\":{\"outlinewidth\":0,\"ticks\":\"\"}},\"type\":\"scatterpolar\"}],\"scatter\":[{\"marker\":{\"colorbar\":{\"outlinewidth\":0,\"ticks\":\"\"}},\"type\":\"scatter\"}],\"scatterternary\":[{\"marker\":{\"colorbar\":{\"outlinewidth\":0,\"ticks\":\"\"}},\"type\":\"scatterternary\"}],\"surface\":[{\"colorbar\":{\"outlinewidth\":0,\"ticks\":\"\"},\"colorscale\":[[0.0,\"#0d0887\"],[0.1111111111111111,\"#46039f\"],[0.2222222222222222,\"#7201a8\"],[0.3333333333333333,\"#9c179e\"],[0.4444444444444444,\"#bd3786\"],[0.5555555555555556,\"#d8576b\"],[0.6666666666666666,\"#ed7953\"],[0.7777777777777778,\"#fb9f3a\"],[0.8888888888888888,\"#fdca26\"],[1.0,\"#f0f921\"]],\"type\":\"surface\"}],\"table\":[{\"cells\":{\"fill\":{\"color\":\"#EBF0F8\"},\"line\":{\"color\":\"white\"}},\"header\":{\"fill\":{\"color\":\"#C8D4E3\"},\"line\":{\"color\":\"white\"}},\"type\":\"table\"}]},\"layout\":{\"annotationdefaults\":{\"arrowcolor\":\"#2a3f5f\",\"arrowhead\":0,\"arrowwidth\":1},\"autotypenumbers\":\"strict\",\"coloraxis\":{\"colorbar\":{\"outlinewidth\":0,\"ticks\":\"\"}},\"colorscale\":{\"diverging\":[[0,\"#8e0152\"],[0.1,\"#c51b7d\"],[0.2,\"#de77ae\"],[0.3,\"#f1b6da\"],[0.4,\"#fde0ef\"],[0.5,\"#f7f7f7\"],[0.6,\"#e6f5d0\"],[0.7,\"#b8e186\"],[0.8,\"#7fbc41\"],[0.9,\"#4d9221\"],[1,\"#276419\"]],\"sequential\":[[0.0,\"#0d0887\"],[0.1111111111111111,\"#46039f\"],[0.2222222222222222,\"#7201a8\"],[0.3333333333333333,\"#9c179e\"],[0.4444444444444444,\"#bd3786\"],[0.5555555555555556,\"#d8576b\"],[0.6666666666666666,\"#ed7953\"],[0.7777777777777778,\"#fb9f3a\"],[0.8888888888888888,\"#fdca26\"],[1.0,\"#f0f921\"]],\"sequentialminus\":[[0.0,\"#0d0887\"],[0.1111111111111111,\"#46039f\"],[0.2222222222222222,\"#7201a8\"],[0.3333333333333333,\"#9c179e\"],[0.4444444444444444,\"#bd3786\"],[0.5555555555555556,\"#d8576b\"],[0.6666666666666666,\"#ed7953\"],[0.7777777777777778,\"#fb9f3a\"],[0.8888888888888888,\"#fdca26\"],[1.0,\"#f0f921\"]]},\"colorway\":[\"#636efa\",\"#EF553B\",\"#00cc96\",\"#ab63fa\",\"#FFA15A\",\"#19d3f3\",\"#FF6692\",\"#B6E880\",\"#FF97FF\",\"#FECB52\"],\"font\":{\"color\":\"#2a3f5f\"},\"geo\":{\"bgcolor\":\"white\",\"lakecolor\":\"white\",\"landcolor\":\"#E5ECF6\",\"showlakes\":true,\"showland\":true,\"subunitcolor\":\"white\"},\"hoverlabel\":{\"align\":\"left\"},\"hovermode\":\"closest\",\"mapbox\":{\"style\":\"light\"},\"paper_bgcolor\":\"white\",\"plot_bgcolor\":\"#E5ECF6\",\"polar\":{\"angularaxis\":{\"gridcolor\":\"white\",\"linecolor\":\"white\",\"ticks\":\"\"},\"bgcolor\":\"#E5ECF6\",\"radialaxis\":{\"gridcolor\":\"white\",\"linecolor\":\"white\",\"ticks\":\"\"}},\"scene\":{\"xaxis\":{\"backgroundcolor\":\"#E5ECF6\",\"gridcolor\":\"white\",\"gridwidth\":2,\"linecolor\":\"white\",\"showbackground\":true,\"ticks\":\"\",\"zerolinecolor\":\"white\"},\"yaxis\":{\"backgroundcolor\":\"#E5ECF6\",\"gridcolor\":\"white\",\"gridwidth\":2,\"linecolor\":\"white\",\"showbackground\":true,\"ticks\":\"\",\"zerolinecolor\":\"white\"},\"zaxis\":{\"backgroundcolor\":\"#E5ECF6\",\"gridcolor\":\"white\",\"gridwidth\":2,\"linecolor\":\"white\",\"showbackground\":true,\"ticks\":\"\",\"zerolinecolor\":\"white\"}},\"shapedefaults\":{\"line\":{\"color\":\"#2a3f5f\"}},\"ternary\":{\"aaxis\":{\"gridcolor\":\"white\",\"linecolor\":\"white\",\"ticks\":\"\"},\"baxis\":{\"gridcolor\":\"white\",\"linecolor\":\"white\",\"ticks\":\"\"},\"bgcolor\":\"#E5ECF6\",\"caxis\":{\"gridcolor\":\"white\",\"linecolor\":\"white\",\"ticks\":\"\"}},\"title\":{\"x\":0.05},\"xaxis\":{\"automargin\":true,\"gridcolor\":\"white\",\"linecolor\":\"white\",\"ticks\":\"\",\"title\":{\"standoff\":15},\"zerolinecolor\":\"white\",\"zerolinewidth\":2},\"yaxis\":{\"automargin\":true,\"gridcolor\":\"white\",\"linecolor\":\"white\",\"ticks\":\"\",\"title\":{\"standoff\":15},\"zerolinecolor\":\"white\",\"zerolinewidth\":2}}},\"title\":{\"text\":\"Number of tweets per location\"},\"width\":600},                        {\"responsive\": true}                    ).then(function(){\n",
              "                            \n",
              "var gd = document.getElementById('c0a46f3b-66ce-4a77-afa7-abbe414c5d60');\n",
              "var x = new MutationObserver(function (mutations, observer) {{\n",
              "        var display = window.getComputedStyle(gd).display;\n",
              "        if (!display || display === 'none') {{\n",
              "            console.log([gd, 'removed!']);\n",
              "            Plotly.purge(gd);\n",
              "            observer.disconnect();\n",
              "        }}\n",
              "}});\n",
              "\n",
              "// Listen for the removal of the full notebook cells\n",
              "var notebookContainer = gd.closest('#notebook-container');\n",
              "if (notebookContainer) {{\n",
              "    x.observe(notebookContainer, {childList: true});\n",
              "}}\n",
              "\n",
              "// Listen for the clearing of the current output cell\n",
              "var outputEl = gd.closest('.output');\n",
              "if (outputEl) {{\n",
              "    x.observe(outputEl, {childList: true});\n",
              "}}\n",
              "\n",
              "                        })                };                            </script>        </div>\n",
              "</body>\n",
              "</html>"
            ]
          },
          "metadata": {}
        }
      ]
    },
    {
      "cell_type": "code",
      "source": [
        "df['date'] = pd.to_datetime(df['date']) \n",
        "df = df.sort_values(['date'])\n",
        "df['day'] = df['date'].astype(str).str.split(' ', expand=True)[0]\n",
        "df['time'] = df['date'].astype(str).str.split(' ', expand=True)[1]\n",
        "df.head()"
      ],
      "metadata": {
        "colab": {
          "base_uri": "https://localhost:8080/",
          "height": 513
        },
        "id": "9IJaszq3u1xM",
        "outputId": "393f4a69-374b-49ab-8c91-049fc46375d6"
      },
      "execution_count": 17,
      "outputs": [
        {
          "output_type": "execute_result",
          "data": {
            "text/plain": [
              "                        user_name               user_location  \\\n",
              "17175       Jessica Luther Rummel               Denton, Texas   \n",
              "17174  Dr. Lipi #TrustDrFauci Roy               New York, USA   \n",
              "17173                 Patty Hayes                 Seattle, WA   \n",
              "17172                Clive Gorman  Victoria, British Columbia   \n",
              "17171             Tristyn Russelo             Alberta, Canada   \n",
              "\n",
              "                                        user_description         user_created  \\\n",
              "17175  Mother. Partner. Scholar. Activist. Alchemist....  2020-07-05 03:28:16   \n",
              "17174  @NBCNews @MSNBC @Forbes Medical Contributor | ...  2009-10-11 18:46:51   \n",
              "17173  Director of Public Health - Seattle & King Cou...  2017-07-07 18:56:50   \n",
              "17172  Marketing Director @CNEGames for @idlechampion...  2011-12-23 02:02:35   \n",
              "17171                                                NaN  2017-06-14 22:01:54   \n",
              "\n",
              "       user_followers  user_friends  user_favourites  user_verified  \\\n",
              "17175             234            28              220          False   \n",
              "17174           12485          4603            38120           True   \n",
              "17173             718           162             2276          False   \n",
              "17172             597           224            23824          False   \n",
              "17171               5            68               57          False   \n",
              "\n",
              "                     date                                               text  \\\n",
              "17175 2020-07-24 23:47:08  PROTESTORS NEEDED 6PM-10PM DAILY (NOW). 1450 E...   \n",
              "17174 2020-07-24 23:47:12  Always honored to speak w @NicolleDWallace abo...   \n",
              "17173 2020-07-24 23:47:12  Excellent partnership to prevent #COVID19, tha...   \n",
              "17172 2020-07-24 23:47:12  Don't take your eye off the ball. There are st...   \n",
              "17171 2020-07-24 23:47:13  Apparently, at the Timberlea @saveonfoods stor...   \n",
              "\n",
              "          hashtags               source  is_retweet  year  month  weekday  \\\n",
              "17175          NaN      Twitter Web App       False  2020      7        4   \n",
              "17174  ['covid19']      Twitter Web App       False  2020      7        4   \n",
              "17173  ['COVID19']  Twitter for Android       False  2020      7        4   \n",
              "17172  ['COVID19']  Twitter for Android       False  2020      7        4   \n",
              "17171          NaN      Twitter Web App       False  2020      7        4   \n",
              "\n",
              "              day      time  \n",
              "17175  2020-07-24  23:47:08  \n",
              "17174  2020-07-24  23:47:12  \n",
              "17173  2020-07-24  23:47:12  \n",
              "17172  2020-07-24  23:47:12  \n",
              "17171  2020-07-24  23:47:13  "
            ],
            "text/html": [
              "\n",
              "  <div id=\"df-d33422c4-1baa-40eb-84bd-81ab759a0bf7\">\n",
              "    <div class=\"colab-df-container\">\n",
              "      <div>\n",
              "<style scoped>\n",
              "    .dataframe tbody tr th:only-of-type {\n",
              "        vertical-align: middle;\n",
              "    }\n",
              "\n",
              "    .dataframe tbody tr th {\n",
              "        vertical-align: top;\n",
              "    }\n",
              "\n",
              "    .dataframe thead th {\n",
              "        text-align: right;\n",
              "    }\n",
              "</style>\n",
              "<table border=\"1\" class=\"dataframe\">\n",
              "  <thead>\n",
              "    <tr style=\"text-align: right;\">\n",
              "      <th></th>\n",
              "      <th>user_name</th>\n",
              "      <th>user_location</th>\n",
              "      <th>user_description</th>\n",
              "      <th>user_created</th>\n",
              "      <th>user_followers</th>\n",
              "      <th>user_friends</th>\n",
              "      <th>user_favourites</th>\n",
              "      <th>user_verified</th>\n",
              "      <th>date</th>\n",
              "      <th>text</th>\n",
              "      <th>hashtags</th>\n",
              "      <th>source</th>\n",
              "      <th>is_retweet</th>\n",
              "      <th>year</th>\n",
              "      <th>month</th>\n",
              "      <th>weekday</th>\n",
              "      <th>day</th>\n",
              "      <th>time</th>\n",
              "    </tr>\n",
              "  </thead>\n",
              "  <tbody>\n",
              "    <tr>\n",
              "      <th>17175</th>\n",
              "      <td>Jessica Luther Rummel</td>\n",
              "      <td>Denton, Texas</td>\n",
              "      <td>Mother. Partner. Scholar. Activist. Alchemist....</td>\n",
              "      <td>2020-07-05 03:28:16</td>\n",
              "      <td>234</td>\n",
              "      <td>28</td>\n",
              "      <td>220</td>\n",
              "      <td>False</td>\n",
              "      <td>2020-07-24 23:47:08</td>\n",
              "      <td>PROTESTORS NEEDED 6PM-10PM DAILY (NOW). 1450 E...</td>\n",
              "      <td>NaN</td>\n",
              "      <td>Twitter Web App</td>\n",
              "      <td>False</td>\n",
              "      <td>2020</td>\n",
              "      <td>7</td>\n",
              "      <td>4</td>\n",
              "      <td>2020-07-24</td>\n",
              "      <td>23:47:08</td>\n",
              "    </tr>\n",
              "    <tr>\n",
              "      <th>17174</th>\n",
              "      <td>Dr. Lipi #TrustDrFauci Roy</td>\n",
              "      <td>New York, USA</td>\n",
              "      <td>@NBCNews @MSNBC @Forbes Medical Contributor | ...</td>\n",
              "      <td>2009-10-11 18:46:51</td>\n",
              "      <td>12485</td>\n",
              "      <td>4603</td>\n",
              "      <td>38120</td>\n",
              "      <td>True</td>\n",
              "      <td>2020-07-24 23:47:12</td>\n",
              "      <td>Always honored to speak w @NicolleDWallace abo...</td>\n",
              "      <td>['covid19']</td>\n",
              "      <td>Twitter Web App</td>\n",
              "      <td>False</td>\n",
              "      <td>2020</td>\n",
              "      <td>7</td>\n",
              "      <td>4</td>\n",
              "      <td>2020-07-24</td>\n",
              "      <td>23:47:12</td>\n",
              "    </tr>\n",
              "    <tr>\n",
              "      <th>17173</th>\n",
              "      <td>Patty Hayes</td>\n",
              "      <td>Seattle, WA</td>\n",
              "      <td>Director of Public Health - Seattle &amp; King Cou...</td>\n",
              "      <td>2017-07-07 18:56:50</td>\n",
              "      <td>718</td>\n",
              "      <td>162</td>\n",
              "      <td>2276</td>\n",
              "      <td>False</td>\n",
              "      <td>2020-07-24 23:47:12</td>\n",
              "      <td>Excellent partnership to prevent #COVID19, tha...</td>\n",
              "      <td>['COVID19']</td>\n",
              "      <td>Twitter for Android</td>\n",
              "      <td>False</td>\n",
              "      <td>2020</td>\n",
              "      <td>7</td>\n",
              "      <td>4</td>\n",
              "      <td>2020-07-24</td>\n",
              "      <td>23:47:12</td>\n",
              "    </tr>\n",
              "    <tr>\n",
              "      <th>17172</th>\n",
              "      <td>Clive Gorman</td>\n",
              "      <td>Victoria, British Columbia</td>\n",
              "      <td>Marketing Director @CNEGames for @idlechampion...</td>\n",
              "      <td>2011-12-23 02:02:35</td>\n",
              "      <td>597</td>\n",
              "      <td>224</td>\n",
              "      <td>23824</td>\n",
              "      <td>False</td>\n",
              "      <td>2020-07-24 23:47:12</td>\n",
              "      <td>Don't take your eye off the ball. There are st...</td>\n",
              "      <td>['COVID19']</td>\n",
              "      <td>Twitter for Android</td>\n",
              "      <td>False</td>\n",
              "      <td>2020</td>\n",
              "      <td>7</td>\n",
              "      <td>4</td>\n",
              "      <td>2020-07-24</td>\n",
              "      <td>23:47:12</td>\n",
              "    </tr>\n",
              "    <tr>\n",
              "      <th>17171</th>\n",
              "      <td>Tristyn Russelo</td>\n",
              "      <td>Alberta, Canada</td>\n",
              "      <td>NaN</td>\n",
              "      <td>2017-06-14 22:01:54</td>\n",
              "      <td>5</td>\n",
              "      <td>68</td>\n",
              "      <td>57</td>\n",
              "      <td>False</td>\n",
              "      <td>2020-07-24 23:47:13</td>\n",
              "      <td>Apparently, at the Timberlea @saveonfoods stor...</td>\n",
              "      <td>NaN</td>\n",
              "      <td>Twitter Web App</td>\n",
              "      <td>False</td>\n",
              "      <td>2020</td>\n",
              "      <td>7</td>\n",
              "      <td>4</td>\n",
              "      <td>2020-07-24</td>\n",
              "      <td>23:47:13</td>\n",
              "    </tr>\n",
              "  </tbody>\n",
              "</table>\n",
              "</div>\n",
              "      <button class=\"colab-df-convert\" onclick=\"convertToInteractive('df-d33422c4-1baa-40eb-84bd-81ab759a0bf7')\"\n",
              "              title=\"Convert this dataframe to an interactive table.\"\n",
              "              style=\"display:none;\">\n",
              "        \n",
              "  <svg xmlns=\"http://www.w3.org/2000/svg\" height=\"24px\"viewBox=\"0 0 24 24\"\n",
              "       width=\"24px\">\n",
              "    <path d=\"M0 0h24v24H0V0z\" fill=\"none\"/>\n",
              "    <path d=\"M18.56 5.44l.94 2.06.94-2.06 2.06-.94-2.06-.94-.94-2.06-.94 2.06-2.06.94zm-11 1L8.5 8.5l.94-2.06 2.06-.94-2.06-.94L8.5 2.5l-.94 2.06-2.06.94zm10 10l.94 2.06.94-2.06 2.06-.94-2.06-.94-.94-2.06-.94 2.06-2.06.94z\"/><path d=\"M17.41 7.96l-1.37-1.37c-.4-.4-.92-.59-1.43-.59-.52 0-1.04.2-1.43.59L10.3 9.45l-7.72 7.72c-.78.78-.78 2.05 0 2.83L4 21.41c.39.39.9.59 1.41.59.51 0 1.02-.2 1.41-.59l7.78-7.78 2.81-2.81c.8-.78.8-2.07 0-2.86zM5.41 20L4 18.59l7.72-7.72 1.47 1.35L5.41 20z\"/>\n",
              "  </svg>\n",
              "      </button>\n",
              "      \n",
              "  <style>\n",
              "    .colab-df-container {\n",
              "      display:flex;\n",
              "      flex-wrap:wrap;\n",
              "      gap: 12px;\n",
              "    }\n",
              "\n",
              "    .colab-df-convert {\n",
              "      background-color: #E8F0FE;\n",
              "      border: none;\n",
              "      border-radius: 50%;\n",
              "      cursor: pointer;\n",
              "      display: none;\n",
              "      fill: #1967D2;\n",
              "      height: 32px;\n",
              "      padding: 0 0 0 0;\n",
              "      width: 32px;\n",
              "    }\n",
              "\n",
              "    .colab-df-convert:hover {\n",
              "      background-color: #E2EBFA;\n",
              "      box-shadow: 0px 1px 2px rgba(60, 64, 67, 0.3), 0px 1px 3px 1px rgba(60, 64, 67, 0.15);\n",
              "      fill: #174EA6;\n",
              "    }\n",
              "\n",
              "    [theme=dark] .colab-df-convert {\n",
              "      background-color: #3B4455;\n",
              "      fill: #D2E3FC;\n",
              "    }\n",
              "\n",
              "    [theme=dark] .colab-df-convert:hover {\n",
              "      background-color: #434B5C;\n",
              "      box-shadow: 0px 1px 3px 1px rgba(0, 0, 0, 0.15);\n",
              "      filter: drop-shadow(0px 1px 2px rgba(0, 0, 0, 0.3));\n",
              "      fill: #FFFFFF;\n",
              "    }\n",
              "  </style>\n",
              "\n",
              "      <script>\n",
              "        const buttonEl =\n",
              "          document.querySelector('#df-d33422c4-1baa-40eb-84bd-81ab759a0bf7 button.colab-df-convert');\n",
              "        buttonEl.style.display =\n",
              "          google.colab.kernel.accessAllowed ? 'block' : 'none';\n",
              "\n",
              "        async function convertToInteractive(key) {\n",
              "          const element = document.querySelector('#df-d33422c4-1baa-40eb-84bd-81ab759a0bf7');\n",
              "          const dataTable =\n",
              "            await google.colab.kernel.invokeFunction('convertToInteractive',\n",
              "                                                     [key], {});\n",
              "          if (!dataTable) return;\n",
              "\n",
              "          const docLinkHtml = 'Like what you see? Visit the ' +\n",
              "            '<a target=\"_blank\" href=https://colab.research.google.com/notebooks/data_table.ipynb>data table notebook</a>'\n",
              "            + ' to learn more about interactive tables.';\n",
              "          element.innerHTML = '';\n",
              "          dataTable['output_type'] = 'display_data';\n",
              "          await google.colab.output.renderOutput(dataTable, element);\n",
              "          const docLink = document.createElement('div');\n",
              "          docLink.innerHTML = docLinkHtml;\n",
              "          element.appendChild(docLink);\n",
              "        }\n",
              "      </script>\n",
              "    </div>\n",
              "  </div>\n",
              "  "
            ]
          },
          "metadata": {},
          "execution_count": 17
        }
      ]
    },
    {
      "cell_type": "code",
      "source": [
        "df['location'] = df['user_location'].str.split(',', expand=True)[1].str.lstrip().str.rstrip()\n",
        "res = df.groupby(['day', 'location'])['text'].count().reset_index()"
      ],
      "metadata": {
        "id": "a2wafgNbu138"
      },
      "execution_count": 18,
      "outputs": []
    },
    {
      "cell_type": "code",
      "source": [
        "\n",
        "country_dict = {}\n",
        "for c in countries:\n",
        "    country_dict[c.name] = c.alpha3\n",
        "    \n",
        "res['alpha3'] = res['location']\n",
        "res = res.replace({\"alpha3\": country_dict})\n",
        "\n",
        "country_list = ['England', 'United States', 'United Kingdom', 'London', 'UK']\n",
        "\n",
        "res = res[\n",
        "    (res['alpha3'] == 'USA') | \n",
        "    (res['location'].isin(country_list)) | \n",
        "    (res['location'] != res['alpha3'])\n",
        "]\n",
        "\n",
        "gbr = ['England', 'UK', 'London', 'United Kingdom']\n",
        "us = ['United States', 'NY', 'CA', 'GA']\n",
        "\n",
        "res = res[res['location'].notnull()]\n",
        "res.loc[res['location'].isin(gbr), 'alpha3'] = 'GBR'\n",
        "res.loc[res['location'].isin(us), 'alpha3'] = 'USA'\n",
        "res.loc[res['alpha3'] == 'USA', 'location'] = 'USA'\n",
        "res.loc[res['alpha3'] == 'GBR', 'location'] = 'United Kingdom'\n",
        "plot = res.groupby(['day', 'location', 'alpha3'])['text'].sum().reset_index()\n",
        "plot"
      ],
      "metadata": {
        "colab": {
          "base_uri": "https://localhost:8080/",
          "height": 423
        },
        "id": "cwCCFYrhu15a",
        "outputId": "7775a1cc-0b40-466b-dc6a-84c424a6d892"
      },
      "execution_count": 19,
      "outputs": [
        {
          "output_type": "execute_result",
          "data": {
            "text/plain": [
              "             day              location alpha3  text\n",
              "0     2020-07-24             Australia    AUS     3\n",
              "1     2020-07-24                Canada    CAN     5\n",
              "2     2020-07-24              Colombia    COL     1\n",
              "3     2020-07-24                 India    IND     1\n",
              "4     2020-07-24               Ireland    IRL     1\n",
              "...          ...                   ...    ...   ...\n",
              "1439  2020-08-30                Uganda    UGA     9\n",
              "1440  2020-08-30  United Arab Emirates    ARE    15\n",
              "1441  2020-08-30        United Kingdom    GBR   205\n",
              "1442  2020-08-30                Zambia    ZMB     1\n",
              "1443  2020-08-30              Zimbabwe    ZWE     4\n",
              "\n",
              "[1444 rows x 4 columns]"
            ],
            "text/html": [
              "\n",
              "  <div id=\"df-1232b108-451b-4897-9e08-5d2d5f043ef2\">\n",
              "    <div class=\"colab-df-container\">\n",
              "      <div>\n",
              "<style scoped>\n",
              "    .dataframe tbody tr th:only-of-type {\n",
              "        vertical-align: middle;\n",
              "    }\n",
              "\n",
              "    .dataframe tbody tr th {\n",
              "        vertical-align: top;\n",
              "    }\n",
              "\n",
              "    .dataframe thead th {\n",
              "        text-align: right;\n",
              "    }\n",
              "</style>\n",
              "<table border=\"1\" class=\"dataframe\">\n",
              "  <thead>\n",
              "    <tr style=\"text-align: right;\">\n",
              "      <th></th>\n",
              "      <th>day</th>\n",
              "      <th>location</th>\n",
              "      <th>alpha3</th>\n",
              "      <th>text</th>\n",
              "    </tr>\n",
              "  </thead>\n",
              "  <tbody>\n",
              "    <tr>\n",
              "      <th>0</th>\n",
              "      <td>2020-07-24</td>\n",
              "      <td>Australia</td>\n",
              "      <td>AUS</td>\n",
              "      <td>3</td>\n",
              "    </tr>\n",
              "    <tr>\n",
              "      <th>1</th>\n",
              "      <td>2020-07-24</td>\n",
              "      <td>Canada</td>\n",
              "      <td>CAN</td>\n",
              "      <td>5</td>\n",
              "    </tr>\n",
              "    <tr>\n",
              "      <th>2</th>\n",
              "      <td>2020-07-24</td>\n",
              "      <td>Colombia</td>\n",
              "      <td>COL</td>\n",
              "      <td>1</td>\n",
              "    </tr>\n",
              "    <tr>\n",
              "      <th>3</th>\n",
              "      <td>2020-07-24</td>\n",
              "      <td>India</td>\n",
              "      <td>IND</td>\n",
              "      <td>1</td>\n",
              "    </tr>\n",
              "    <tr>\n",
              "      <th>4</th>\n",
              "      <td>2020-07-24</td>\n",
              "      <td>Ireland</td>\n",
              "      <td>IRL</td>\n",
              "      <td>1</td>\n",
              "    </tr>\n",
              "    <tr>\n",
              "      <th>...</th>\n",
              "      <td>...</td>\n",
              "      <td>...</td>\n",
              "      <td>...</td>\n",
              "      <td>...</td>\n",
              "    </tr>\n",
              "    <tr>\n",
              "      <th>1439</th>\n",
              "      <td>2020-08-30</td>\n",
              "      <td>Uganda</td>\n",
              "      <td>UGA</td>\n",
              "      <td>9</td>\n",
              "    </tr>\n",
              "    <tr>\n",
              "      <th>1440</th>\n",
              "      <td>2020-08-30</td>\n",
              "      <td>United Arab Emirates</td>\n",
              "      <td>ARE</td>\n",
              "      <td>15</td>\n",
              "    </tr>\n",
              "    <tr>\n",
              "      <th>1441</th>\n",
              "      <td>2020-08-30</td>\n",
              "      <td>United Kingdom</td>\n",
              "      <td>GBR</td>\n",
              "      <td>205</td>\n",
              "    </tr>\n",
              "    <tr>\n",
              "      <th>1442</th>\n",
              "      <td>2020-08-30</td>\n",
              "      <td>Zambia</td>\n",
              "      <td>ZMB</td>\n",
              "      <td>1</td>\n",
              "    </tr>\n",
              "    <tr>\n",
              "      <th>1443</th>\n",
              "      <td>2020-08-30</td>\n",
              "      <td>Zimbabwe</td>\n",
              "      <td>ZWE</td>\n",
              "      <td>4</td>\n",
              "    </tr>\n",
              "  </tbody>\n",
              "</table>\n",
              "<p>1444 rows × 4 columns</p>\n",
              "</div>\n",
              "      <button class=\"colab-df-convert\" onclick=\"convertToInteractive('df-1232b108-451b-4897-9e08-5d2d5f043ef2')\"\n",
              "              title=\"Convert this dataframe to an interactive table.\"\n",
              "              style=\"display:none;\">\n",
              "        \n",
              "  <svg xmlns=\"http://www.w3.org/2000/svg\" height=\"24px\"viewBox=\"0 0 24 24\"\n",
              "       width=\"24px\">\n",
              "    <path d=\"M0 0h24v24H0V0z\" fill=\"none\"/>\n",
              "    <path d=\"M18.56 5.44l.94 2.06.94-2.06 2.06-.94-2.06-.94-.94-2.06-.94 2.06-2.06.94zm-11 1L8.5 8.5l.94-2.06 2.06-.94-2.06-.94L8.5 2.5l-.94 2.06-2.06.94zm10 10l.94 2.06.94-2.06 2.06-.94-2.06-.94-.94-2.06-.94 2.06-2.06.94z\"/><path d=\"M17.41 7.96l-1.37-1.37c-.4-.4-.92-.59-1.43-.59-.52 0-1.04.2-1.43.59L10.3 9.45l-7.72 7.72c-.78.78-.78 2.05 0 2.83L4 21.41c.39.39.9.59 1.41.59.51 0 1.02-.2 1.41-.59l7.78-7.78 2.81-2.81c.8-.78.8-2.07 0-2.86zM5.41 20L4 18.59l7.72-7.72 1.47 1.35L5.41 20z\"/>\n",
              "  </svg>\n",
              "      </button>\n",
              "      \n",
              "  <style>\n",
              "    .colab-df-container {\n",
              "      display:flex;\n",
              "      flex-wrap:wrap;\n",
              "      gap: 12px;\n",
              "    }\n",
              "\n",
              "    .colab-df-convert {\n",
              "      background-color: #E8F0FE;\n",
              "      border: none;\n",
              "      border-radius: 50%;\n",
              "      cursor: pointer;\n",
              "      display: none;\n",
              "      fill: #1967D2;\n",
              "      height: 32px;\n",
              "      padding: 0 0 0 0;\n",
              "      width: 32px;\n",
              "    }\n",
              "\n",
              "    .colab-df-convert:hover {\n",
              "      background-color: #E2EBFA;\n",
              "      box-shadow: 0px 1px 2px rgba(60, 64, 67, 0.3), 0px 1px 3px 1px rgba(60, 64, 67, 0.15);\n",
              "      fill: #174EA6;\n",
              "    }\n",
              "\n",
              "    [theme=dark] .colab-df-convert {\n",
              "      background-color: #3B4455;\n",
              "      fill: #D2E3FC;\n",
              "    }\n",
              "\n",
              "    [theme=dark] .colab-df-convert:hover {\n",
              "      background-color: #434B5C;\n",
              "      box-shadow: 0px 1px 3px 1px rgba(0, 0, 0, 0.15);\n",
              "      filter: drop-shadow(0px 1px 2px rgba(0, 0, 0, 0.3));\n",
              "      fill: #FFFFFF;\n",
              "    }\n",
              "  </style>\n",
              "\n",
              "      <script>\n",
              "        const buttonEl =\n",
              "          document.querySelector('#df-1232b108-451b-4897-9e08-5d2d5f043ef2 button.colab-df-convert');\n",
              "        buttonEl.style.display =\n",
              "          google.colab.kernel.accessAllowed ? 'block' : 'none';\n",
              "\n",
              "        async function convertToInteractive(key) {\n",
              "          const element = document.querySelector('#df-1232b108-451b-4897-9e08-5d2d5f043ef2');\n",
              "          const dataTable =\n",
              "            await google.colab.kernel.invokeFunction('convertToInteractive',\n",
              "                                                     [key], {});\n",
              "          if (!dataTable) return;\n",
              "\n",
              "          const docLinkHtml = 'Like what you see? Visit the ' +\n",
              "            '<a target=\"_blank\" href=https://colab.research.google.com/notebooks/data_table.ipynb>data table notebook</a>'\n",
              "            + ' to learn more about interactive tables.';\n",
              "          element.innerHTML = '';\n",
              "          dataTable['output_type'] = 'display_data';\n",
              "          await google.colab.output.renderOutput(dataTable, element);\n",
              "          const docLink = document.createElement('div');\n",
              "          docLink.innerHTML = docLinkHtml;\n",
              "          element.appendChild(docLink);\n",
              "        }\n",
              "      </script>\n",
              "    </div>\n",
              "  </div>\n",
              "  "
            ]
          },
          "metadata": {},
          "execution_count": 19
        }
      ]
    },
    {
      "cell_type": "code",
      "source": [
        "fig = px.choropleth(\n",
        "    plot, \n",
        "    locations=\"alpha3\",\n",
        "    hover_name='location',\n",
        "    color=\"text\",\n",
        "    animation_frame='day',\n",
        "    projection=\"natural earth\",\n",
        "    color_continuous_scale=px.colors.sequential.Plasma,\n",
        "    title='Tweets from different countries for every day',\n",
        "    width=800, \n",
        "    height=600\n",
        ")\n",
        "fig.show()"
      ],
      "metadata": {
        "colab": {
          "base_uri": "https://localhost:8080/",
          "height": 637
        },
        "id": "5vmsoyuIu2AA",
        "outputId": "2e2bcb20-e982-4a61-94f5-157f8d5dc9b9"
      },
      "execution_count": 20,
      "outputs": [
        {
          "output_type": "display_data",
          "data": {
            "text/html": [
              "<html>\n",
              "<head><meta charset=\"utf-8\" /></head>\n",
              "<body>\n",
              "    <div>            <script src=\"https://cdnjs.cloudflare.com/ajax/libs/mathjax/2.7.5/MathJax.js?config=TeX-AMS-MML_SVG\"></script><script type=\"text/javascript\">if (window.MathJax) {MathJax.Hub.Config({SVG: {font: \"STIX-Web\"}});}</script>                <script type=\"text/javascript\">window.PlotlyConfig = {MathJaxConfig: 'local'};</script>\n",
              "        <script src=\"https://cdn.plot.ly/plotly-2.8.3.min.js\"></script>                <div id=\"0353072d-34d3-4104-b34e-d2b014e38839\" class=\"plotly-graph-div\" style=\"height:600px; width:800px;\"></div>            <script type=\"text/javascript\">                                    window.PLOTLYENV=window.PLOTLYENV || {};                                    if (document.getElementById(\"0353072d-34d3-4104-b34e-d2b014e38839\")) {                    Plotly.newPlot(                        \"0353072d-34d3-4104-b34e-d2b014e38839\",                        [{\"coloraxis\":\"coloraxis\",\"geo\":\"geo\",\"hovertemplate\":\"<b>%{hovertext}</b><br><br>day=2020-07-24<br>alpha3=%{location}<br>text=%{z}<extra></extra>\",\"hovertext\":[\"Australia\",\"Canada\",\"Colombia\",\"India\",\"Ireland\",\"Morocco\",\"Nigeria\",\"Puerto Rico\",\"Switzerland\",\"USA\",\"United Kingdom\"],\"locations\":[\"AUS\",\"CAN\",\"COL\",\"IND\",\"IRL\",\"MAR\",\"NGA\",\"PRI\",\"CHE\",\"USA\",\"GBR\"],\"name\":\"\",\"z\":[3,5,1,1,1,1,4,1,1,20,5],\"type\":\"choropleth\"}],                        {\"template\":{\"data\":{\"bar\":[{\"error_x\":{\"color\":\"#2a3f5f\"},\"error_y\":{\"color\":\"#2a3f5f\"},\"marker\":{\"line\":{\"color\":\"#E5ECF6\",\"width\":0.5},\"pattern\":{\"fillmode\":\"overlay\",\"size\":10,\"solidity\":0.2}},\"type\":\"bar\"}],\"barpolar\":[{\"marker\":{\"line\":{\"color\":\"#E5ECF6\",\"width\":0.5},\"pattern\":{\"fillmode\":\"overlay\",\"size\":10,\"solidity\":0.2}},\"type\":\"barpolar\"}],\"carpet\":[{\"aaxis\":{\"endlinecolor\":\"#2a3f5f\",\"gridcolor\":\"white\",\"linecolor\":\"white\",\"minorgridcolor\":\"white\",\"startlinecolor\":\"#2a3f5f\"},\"baxis\":{\"endlinecolor\":\"#2a3f5f\",\"gridcolor\":\"white\",\"linecolor\":\"white\",\"minorgridcolor\":\"white\",\"startlinecolor\":\"#2a3f5f\"},\"type\":\"carpet\"}],\"choropleth\":[{\"colorbar\":{\"outlinewidth\":0,\"ticks\":\"\"},\"type\":\"choropleth\"}],\"contour\":[{\"colorbar\":{\"outlinewidth\":0,\"ticks\":\"\"},\"colorscale\":[[0.0,\"#0d0887\"],[0.1111111111111111,\"#46039f\"],[0.2222222222222222,\"#7201a8\"],[0.3333333333333333,\"#9c179e\"],[0.4444444444444444,\"#bd3786\"],[0.5555555555555556,\"#d8576b\"],[0.6666666666666666,\"#ed7953\"],[0.7777777777777778,\"#fb9f3a\"],[0.8888888888888888,\"#fdca26\"],[1.0,\"#f0f921\"]],\"type\":\"contour\"}],\"contourcarpet\":[{\"colorbar\":{\"outlinewidth\":0,\"ticks\":\"\"},\"type\":\"contourcarpet\"}],\"heatmap\":[{\"colorbar\":{\"outlinewidth\":0,\"ticks\":\"\"},\"colorscale\":[[0.0,\"#0d0887\"],[0.1111111111111111,\"#46039f\"],[0.2222222222222222,\"#7201a8\"],[0.3333333333333333,\"#9c179e\"],[0.4444444444444444,\"#bd3786\"],[0.5555555555555556,\"#d8576b\"],[0.6666666666666666,\"#ed7953\"],[0.7777777777777778,\"#fb9f3a\"],[0.8888888888888888,\"#fdca26\"],[1.0,\"#f0f921\"]],\"type\":\"heatmap\"}],\"heatmapgl\":[{\"colorbar\":{\"outlinewidth\":0,\"ticks\":\"\"},\"colorscale\":[[0.0,\"#0d0887\"],[0.1111111111111111,\"#46039f\"],[0.2222222222222222,\"#7201a8\"],[0.3333333333333333,\"#9c179e\"],[0.4444444444444444,\"#bd3786\"],[0.5555555555555556,\"#d8576b\"],[0.6666666666666666,\"#ed7953\"],[0.7777777777777778,\"#fb9f3a\"],[0.8888888888888888,\"#fdca26\"],[1.0,\"#f0f921\"]],\"type\":\"heatmapgl\"}],\"histogram\":[{\"marker\":{\"pattern\":{\"fillmode\":\"overlay\",\"size\":10,\"solidity\":0.2}},\"type\":\"histogram\"}],\"histogram2d\":[{\"colorbar\":{\"outlinewidth\":0,\"ticks\":\"\"},\"colorscale\":[[0.0,\"#0d0887\"],[0.1111111111111111,\"#46039f\"],[0.2222222222222222,\"#7201a8\"],[0.3333333333333333,\"#9c179e\"],[0.4444444444444444,\"#bd3786\"],[0.5555555555555556,\"#d8576b\"],[0.6666666666666666,\"#ed7953\"],[0.7777777777777778,\"#fb9f3a\"],[0.8888888888888888,\"#fdca26\"],[1.0,\"#f0f921\"]],\"type\":\"histogram2d\"}],\"histogram2dcontour\":[{\"colorbar\":{\"outlinewidth\":0,\"ticks\":\"\"},\"colorscale\":[[0.0,\"#0d0887\"],[0.1111111111111111,\"#46039f\"],[0.2222222222222222,\"#7201a8\"],[0.3333333333333333,\"#9c179e\"],[0.4444444444444444,\"#bd3786\"],[0.5555555555555556,\"#d8576b\"],[0.6666666666666666,\"#ed7953\"],[0.7777777777777778,\"#fb9f3a\"],[0.8888888888888888,\"#fdca26\"],[1.0,\"#f0f921\"]],\"type\":\"histogram2dcontour\"}],\"mesh3d\":[{\"colorbar\":{\"outlinewidth\":0,\"ticks\":\"\"},\"type\":\"mesh3d\"}],\"parcoords\":[{\"line\":{\"colorbar\":{\"outlinewidth\":0,\"ticks\":\"\"}},\"type\":\"parcoords\"}],\"pie\":[{\"automargin\":true,\"type\":\"pie\"}],\"scatter\":[{\"marker\":{\"colorbar\":{\"outlinewidth\":0,\"ticks\":\"\"}},\"type\":\"scatter\"}],\"scatter3d\":[{\"line\":{\"colorbar\":{\"outlinewidth\":0,\"ticks\":\"\"}},\"marker\":{\"colorbar\":{\"outlinewidth\":0,\"ticks\":\"\"}},\"type\":\"scatter3d\"}],\"scattercarpet\":[{\"marker\":{\"colorbar\":{\"outlinewidth\":0,\"ticks\":\"\"}},\"type\":\"scattercarpet\"}],\"scattergeo\":[{\"marker\":{\"colorbar\":{\"outlinewidth\":0,\"ticks\":\"\"}},\"type\":\"scattergeo\"}],\"scattergl\":[{\"marker\":{\"colorbar\":{\"outlinewidth\":0,\"ticks\":\"\"}},\"type\":\"scattergl\"}],\"scattermapbox\":[{\"marker\":{\"colorbar\":{\"outlinewidth\":0,\"ticks\":\"\"}},\"type\":\"scattermapbox\"}],\"scatterpolar\":[{\"marker\":{\"colorbar\":{\"outlinewidth\":0,\"ticks\":\"\"}},\"type\":\"scatterpolar\"}],\"scatterpolargl\":[{\"marker\":{\"colorbar\":{\"outlinewidth\":0,\"ticks\":\"\"}},\"type\":\"scatterpolargl\"}],\"scatterternary\":[{\"marker\":{\"colorbar\":{\"outlinewidth\":0,\"ticks\":\"\"}},\"type\":\"scatterternary\"}],\"surface\":[{\"colorbar\":{\"outlinewidth\":0,\"ticks\":\"\"},\"colorscale\":[[0.0,\"#0d0887\"],[0.1111111111111111,\"#46039f\"],[0.2222222222222222,\"#7201a8\"],[0.3333333333333333,\"#9c179e\"],[0.4444444444444444,\"#bd3786\"],[0.5555555555555556,\"#d8576b\"],[0.6666666666666666,\"#ed7953\"],[0.7777777777777778,\"#fb9f3a\"],[0.8888888888888888,\"#fdca26\"],[1.0,\"#f0f921\"]],\"type\":\"surface\"}],\"table\":[{\"cells\":{\"fill\":{\"color\":\"#EBF0F8\"},\"line\":{\"color\":\"white\"}},\"header\":{\"fill\":{\"color\":\"#C8D4E3\"},\"line\":{\"color\":\"white\"}},\"type\":\"table\"}]},\"layout\":{\"annotationdefaults\":{\"arrowcolor\":\"#2a3f5f\",\"arrowhead\":0,\"arrowwidth\":1},\"autotypenumbers\":\"strict\",\"coloraxis\":{\"colorbar\":{\"outlinewidth\":0,\"ticks\":\"\"}},\"colorscale\":{\"diverging\":[[0,\"#8e0152\"],[0.1,\"#c51b7d\"],[0.2,\"#de77ae\"],[0.3,\"#f1b6da\"],[0.4,\"#fde0ef\"],[0.5,\"#f7f7f7\"],[0.6,\"#e6f5d0\"],[0.7,\"#b8e186\"],[0.8,\"#7fbc41\"],[0.9,\"#4d9221\"],[1,\"#276419\"]],\"sequential\":[[0.0,\"#0d0887\"],[0.1111111111111111,\"#46039f\"],[0.2222222222222222,\"#7201a8\"],[0.3333333333333333,\"#9c179e\"],[0.4444444444444444,\"#bd3786\"],[0.5555555555555556,\"#d8576b\"],[0.6666666666666666,\"#ed7953\"],[0.7777777777777778,\"#fb9f3a\"],[0.8888888888888888,\"#fdca26\"],[1.0,\"#f0f921\"]],\"sequentialminus\":[[0.0,\"#0d0887\"],[0.1111111111111111,\"#46039f\"],[0.2222222222222222,\"#7201a8\"],[0.3333333333333333,\"#9c179e\"],[0.4444444444444444,\"#bd3786\"],[0.5555555555555556,\"#d8576b\"],[0.6666666666666666,\"#ed7953\"],[0.7777777777777778,\"#fb9f3a\"],[0.8888888888888888,\"#fdca26\"],[1.0,\"#f0f921\"]]},\"colorway\":[\"#636efa\",\"#EF553B\",\"#00cc96\",\"#ab63fa\",\"#FFA15A\",\"#19d3f3\",\"#FF6692\",\"#B6E880\",\"#FF97FF\",\"#FECB52\"],\"font\":{\"color\":\"#2a3f5f\"},\"geo\":{\"bgcolor\":\"white\",\"lakecolor\":\"white\",\"landcolor\":\"#E5ECF6\",\"showlakes\":true,\"showland\":true,\"subunitcolor\":\"white\"},\"hoverlabel\":{\"align\":\"left\"},\"hovermode\":\"closest\",\"mapbox\":{\"style\":\"light\"},\"paper_bgcolor\":\"white\",\"plot_bgcolor\":\"#E5ECF6\",\"polar\":{\"angularaxis\":{\"gridcolor\":\"white\",\"linecolor\":\"white\",\"ticks\":\"\"},\"bgcolor\":\"#E5ECF6\",\"radialaxis\":{\"gridcolor\":\"white\",\"linecolor\":\"white\",\"ticks\":\"\"}},\"scene\":{\"xaxis\":{\"backgroundcolor\":\"#E5ECF6\",\"gridcolor\":\"white\",\"gridwidth\":2,\"linecolor\":\"white\",\"showbackground\":true,\"ticks\":\"\",\"zerolinecolor\":\"white\"},\"yaxis\":{\"backgroundcolor\":\"#E5ECF6\",\"gridcolor\":\"white\",\"gridwidth\":2,\"linecolor\":\"white\",\"showbackground\":true,\"ticks\":\"\",\"zerolinecolor\":\"white\"},\"zaxis\":{\"backgroundcolor\":\"#E5ECF6\",\"gridcolor\":\"white\",\"gridwidth\":2,\"linecolor\":\"white\",\"showbackground\":true,\"ticks\":\"\",\"zerolinecolor\":\"white\"}},\"shapedefaults\":{\"line\":{\"color\":\"#2a3f5f\"}},\"ternary\":{\"aaxis\":{\"gridcolor\":\"white\",\"linecolor\":\"white\",\"ticks\":\"\"},\"baxis\":{\"gridcolor\":\"white\",\"linecolor\":\"white\",\"ticks\":\"\"},\"bgcolor\":\"#E5ECF6\",\"caxis\":{\"gridcolor\":\"white\",\"linecolor\":\"white\",\"ticks\":\"\"}},\"title\":{\"x\":0.05},\"xaxis\":{\"automargin\":true,\"gridcolor\":\"white\",\"linecolor\":\"white\",\"ticks\":\"\",\"title\":{\"standoff\":15},\"zerolinecolor\":\"white\",\"zerolinewidth\":2},\"yaxis\":{\"automargin\":true,\"gridcolor\":\"white\",\"linecolor\":\"white\",\"ticks\":\"\",\"title\":{\"standoff\":15},\"zerolinecolor\":\"white\",\"zerolinewidth\":2}}},\"geo\":{\"domain\":{\"x\":[0.0,1.0],\"y\":[0.0,1.0]},\"projection\":{\"type\":\"natural earth\"},\"center\":{}},\"coloraxis\":{\"colorbar\":{\"title\":{\"text\":\"text\"}},\"colorscale\":[[0.0,\"#0d0887\"],[0.1111111111111111,\"#46039f\"],[0.2222222222222222,\"#7201a8\"],[0.3333333333333333,\"#9c179e\"],[0.4444444444444444,\"#bd3786\"],[0.5555555555555556,\"#d8576b\"],[0.6666666666666666,\"#ed7953\"],[0.7777777777777778,\"#fb9f3a\"],[0.8888888888888888,\"#fdca26\"],[1.0,\"#f0f921\"]]},\"legend\":{\"tracegroupgap\":0},\"title\":{\"text\":\"Tweets from different countries for every day\"},\"height\":600,\"width\":800,\"updatemenus\":[{\"buttons\":[{\"args\":[null,{\"frame\":{\"duration\":500,\"redraw\":true},\"mode\":\"immediate\",\"fromcurrent\":true,\"transition\":{\"duration\":500,\"easing\":\"linear\"}}],\"label\":\"&#9654;\",\"method\":\"animate\"},{\"args\":[[null],{\"frame\":{\"duration\":0,\"redraw\":true},\"mode\":\"immediate\",\"fromcurrent\":true,\"transition\":{\"duration\":0,\"easing\":\"linear\"}}],\"label\":\"&#9724;\",\"method\":\"animate\"}],\"direction\":\"left\",\"pad\":{\"r\":10,\"t\":70},\"showactive\":false,\"type\":\"buttons\",\"x\":0.1,\"xanchor\":\"right\",\"y\":0,\"yanchor\":\"top\"}],\"sliders\":[{\"active\":0,\"currentvalue\":{\"prefix\":\"day=\"},\"len\":0.9,\"pad\":{\"b\":10,\"t\":60},\"steps\":[{\"args\":[[\"2020-07-24\"],{\"frame\":{\"duration\":0,\"redraw\":true},\"mode\":\"immediate\",\"fromcurrent\":true,\"transition\":{\"duration\":0,\"easing\":\"linear\"}}],\"label\":\"2020-07-24\",\"method\":\"animate\"},{\"args\":[[\"2020-07-25\"],{\"frame\":{\"duration\":0,\"redraw\":true},\"mode\":\"immediate\",\"fromcurrent\":true,\"transition\":{\"duration\":0,\"easing\":\"linear\"}}],\"label\":\"2020-07-25\",\"method\":\"animate\"},{\"args\":[[\"2020-07-26\"],{\"frame\":{\"duration\":0,\"redraw\":true},\"mode\":\"immediate\",\"fromcurrent\":true,\"transition\":{\"duration\":0,\"easing\":\"linear\"}}],\"label\":\"2020-07-26\",\"method\":\"animate\"},{\"args\":[[\"2020-07-27\"],{\"frame\":{\"duration\":0,\"redraw\":true},\"mode\":\"immediate\",\"fromcurrent\":true,\"transition\":{\"duration\":0,\"easing\":\"linear\"}}],\"label\":\"2020-07-27\",\"method\":\"animate\"},{\"args\":[[\"2020-07-28\"],{\"frame\":{\"duration\":0,\"redraw\":true},\"mode\":\"immediate\",\"fromcurrent\":true,\"transition\":{\"duration\":0,\"easing\":\"linear\"}}],\"label\":\"2020-07-28\",\"method\":\"animate\"},{\"args\":[[\"2020-07-29\"],{\"frame\":{\"duration\":0,\"redraw\":true},\"mode\":\"immediate\",\"fromcurrent\":true,\"transition\":{\"duration\":0,\"easing\":\"linear\"}}],\"label\":\"2020-07-29\",\"method\":\"animate\"},{\"args\":[[\"2020-07-30\"],{\"frame\":{\"duration\":0,\"redraw\":true},\"mode\":\"immediate\",\"fromcurrent\":true,\"transition\":{\"duration\":0,\"easing\":\"linear\"}}],\"label\":\"2020-07-30\",\"method\":\"animate\"},{\"args\":[[\"2020-07-31\"],{\"frame\":{\"duration\":0,\"redraw\":true},\"mode\":\"immediate\",\"fromcurrent\":true,\"transition\":{\"duration\":0,\"easing\":\"linear\"}}],\"label\":\"2020-07-31\",\"method\":\"animate\"},{\"args\":[[\"2020-08-01\"],{\"frame\":{\"duration\":0,\"redraw\":true},\"mode\":\"immediate\",\"fromcurrent\":true,\"transition\":{\"duration\":0,\"easing\":\"linear\"}}],\"label\":\"2020-08-01\",\"method\":\"animate\"},{\"args\":[[\"2020-08-02\"],{\"frame\":{\"duration\":0,\"redraw\":true},\"mode\":\"immediate\",\"fromcurrent\":true,\"transition\":{\"duration\":0,\"easing\":\"linear\"}}],\"label\":\"2020-08-02\",\"method\":\"animate\"},{\"args\":[[\"2020-08-04\"],{\"frame\":{\"duration\":0,\"redraw\":true},\"mode\":\"immediate\",\"fromcurrent\":true,\"transition\":{\"duration\":0,\"easing\":\"linear\"}}],\"label\":\"2020-08-04\",\"method\":\"animate\"},{\"args\":[[\"2020-08-06\"],{\"frame\":{\"duration\":0,\"redraw\":true},\"mode\":\"immediate\",\"fromcurrent\":true,\"transition\":{\"duration\":0,\"easing\":\"linear\"}}],\"label\":\"2020-08-06\",\"method\":\"animate\"},{\"args\":[[\"2020-08-07\"],{\"frame\":{\"duration\":0,\"redraw\":true},\"mode\":\"immediate\",\"fromcurrent\":true,\"transition\":{\"duration\":0,\"easing\":\"linear\"}}],\"label\":\"2020-08-07\",\"method\":\"animate\"},{\"args\":[[\"2020-08-08\"],{\"frame\":{\"duration\":0,\"redraw\":true},\"mode\":\"immediate\",\"fromcurrent\":true,\"transition\":{\"duration\":0,\"easing\":\"linear\"}}],\"label\":\"2020-08-08\",\"method\":\"animate\"},{\"args\":[[\"2020-08-09\"],{\"frame\":{\"duration\":0,\"redraw\":true},\"mode\":\"immediate\",\"fromcurrent\":true,\"transition\":{\"duration\":0,\"easing\":\"linear\"}}],\"label\":\"2020-08-09\",\"method\":\"animate\"},{\"args\":[[\"2020-08-10\"],{\"frame\":{\"duration\":0,\"redraw\":true},\"mode\":\"immediate\",\"fromcurrent\":true,\"transition\":{\"duration\":0,\"easing\":\"linear\"}}],\"label\":\"2020-08-10\",\"method\":\"animate\"},{\"args\":[[\"2020-08-11\"],{\"frame\":{\"duration\":0,\"redraw\":true},\"mode\":\"immediate\",\"fromcurrent\":true,\"transition\":{\"duration\":0,\"easing\":\"linear\"}}],\"label\":\"2020-08-11\",\"method\":\"animate\"},{\"args\":[[\"2020-08-12\"],{\"frame\":{\"duration\":0,\"redraw\":true},\"mode\":\"immediate\",\"fromcurrent\":true,\"transition\":{\"duration\":0,\"easing\":\"linear\"}}],\"label\":\"2020-08-12\",\"method\":\"animate\"},{\"args\":[[\"2020-08-13\"],{\"frame\":{\"duration\":0,\"redraw\":true},\"mode\":\"immediate\",\"fromcurrent\":true,\"transition\":{\"duration\":0,\"easing\":\"linear\"}}],\"label\":\"2020-08-13\",\"method\":\"animate\"},{\"args\":[[\"2020-08-14\"],{\"frame\":{\"duration\":0,\"redraw\":true},\"mode\":\"immediate\",\"fromcurrent\":true,\"transition\":{\"duration\":0,\"easing\":\"linear\"}}],\"label\":\"2020-08-14\",\"method\":\"animate\"},{\"args\":[[\"2020-08-16\"],{\"frame\":{\"duration\":0,\"redraw\":true},\"mode\":\"immediate\",\"fromcurrent\":true,\"transition\":{\"duration\":0,\"easing\":\"linear\"}}],\"label\":\"2020-08-16\",\"method\":\"animate\"},{\"args\":[[\"2020-08-17\"],{\"frame\":{\"duration\":0,\"redraw\":true},\"mode\":\"immediate\",\"fromcurrent\":true,\"transition\":{\"duration\":0,\"easing\":\"linear\"}}],\"label\":\"2020-08-17\",\"method\":\"animate\"},{\"args\":[[\"2020-08-18\"],{\"frame\":{\"duration\":0,\"redraw\":true},\"mode\":\"immediate\",\"fromcurrent\":true,\"transition\":{\"duration\":0,\"easing\":\"linear\"}}],\"label\":\"2020-08-18\",\"method\":\"animate\"},{\"args\":[[\"2020-08-22\"],{\"frame\":{\"duration\":0,\"redraw\":true},\"mode\":\"immediate\",\"fromcurrent\":true,\"transition\":{\"duration\":0,\"easing\":\"linear\"}}],\"label\":\"2020-08-22\",\"method\":\"animate\"},{\"args\":[[\"2020-08-29\"],{\"frame\":{\"duration\":0,\"redraw\":true},\"mode\":\"immediate\",\"fromcurrent\":true,\"transition\":{\"duration\":0,\"easing\":\"linear\"}}],\"label\":\"2020-08-29\",\"method\":\"animate\"},{\"args\":[[\"2020-08-30\"],{\"frame\":{\"duration\":0,\"redraw\":true},\"mode\":\"immediate\",\"fromcurrent\":true,\"transition\":{\"duration\":0,\"easing\":\"linear\"}}],\"label\":\"2020-08-30\",\"method\":\"animate\"}],\"x\":0.1,\"xanchor\":\"left\",\"y\":0,\"yanchor\":\"top\"}]},                        {\"responsive\": true}                    ).then(function(){\n",
              "                            Plotly.addFrames('0353072d-34d3-4104-b34e-d2b014e38839', [{\"data\":[{\"coloraxis\":\"coloraxis\",\"geo\":\"geo\",\"hovertemplate\":\"<b>%{hovertext}</b><br><br>day=2020-07-24<br>alpha3=%{location}<br>text=%{z}<extra></extra>\",\"hovertext\":[\"Australia\",\"Canada\",\"Colombia\",\"India\",\"Ireland\",\"Morocco\",\"Nigeria\",\"Puerto Rico\",\"Switzerland\",\"USA\",\"United Kingdom\"],\"locations\":[\"AUS\",\"CAN\",\"COL\",\"IND\",\"IRL\",\"MAR\",\"NGA\",\"PRI\",\"CHE\",\"USA\",\"GBR\"],\"name\":\"\",\"z\":[3,5,1,1,1,1,4,1,1,20,5],\"type\":\"choropleth\"}],\"name\":\"2020-07-24\"},{\"data\":[{\"coloraxis\":\"coloraxis\",\"geo\":\"geo\",\"hovertemplate\":\"<b>%{hovertext}</b><br><br>day=2020-07-25<br>alpha3=%{location}<br>text=%{z}<extra></extra>\",\"hovertext\":[\"Afghanistan\",\"Argentina\",\"Australia\",\"Austria\",\"Bangladesh\",\"Belgium\",\"Brazil\",\"Cambodia\",\"Cameroon\",\"Canada\",\"China\",\"Congo\",\"Costa Rica\",\"Cyprus\",\"Denmark\",\"Ecuador\",\"Egypt\",\"Estonia\",\"Ethiopia\",\"Fiji\",\"Finland\",\"France\",\"Georgia\",\"Germany\",\"Ghana\",\"Greece\",\"Hong Kong\",\"India\",\"Indonesia\",\"Ireland\",\"Israel\",\"Italy\",\"Jamaica\",\"Japan\",\"Kazakhstan\",\"Kenya\",\"Lebanon\",\"Liechtenstein\",\"Malaysia\",\"Maldives\",\"Mexico\",\"Morocco\",\"Namibia\",\"Nepal\",\"Netherlands\",\"New Zealand\",\"Nigeria\",\"Oman\",\"Pakistan\",\"Papua New Guinea\",\"Peru\",\"Philippines\",\"Portugal\",\"Qatar\",\"Rwanda\",\"Saudi Arabia\",\"Senegal\",\"Singapore\",\"South Africa\",\"South Sudan\",\"Spain\",\"Sri Lanka\",\"Sweden\",\"Switzerland\",\"Thailand\",\"Turkey\",\"USA\",\"Uganda\",\"United Arab Emirates\",\"United Kingdom\",\"Uruguay\",\"Viet Nam\",\"Zambia\",\"Zimbabwe\"],\"locations\":[\"AFG\",\"ARG\",\"AUS\",\"AUT\",\"BGD\",\"BEL\",\"BRA\",\"KHM\",\"CMR\",\"CAN\",\"CHN\",\"COG\",\"CRI\",\"CYP\",\"DNK\",\"ECU\",\"EGY\",\"EST\",\"ETH\",\"FJI\",\"FIN\",\"FRA\",\"GEO\",\"DEU\",\"GHA\",\"GRC\",\"HKG\",\"IND\",\"IDN\",\"IRL\",\"ISR\",\"ITA\",\"JAM\",\"JPN\",\"KAZ\",\"KEN\",\"LBN\",\"LIE\",\"MYS\",\"MDV\",\"MEX\",\"MAR\",\"NAM\",\"NPL\",\"NLD\",\"NZL\",\"NGA\",\"OMN\",\"PAK\",\"PNG\",\"PER\",\"PHL\",\"PRT\",\"QAT\",\"RWA\",\"SAU\",\"SEN\",\"SGP\",\"ZAF\",\"SSD\",\"ESP\",\"LKA\",\"SWE\",\"CHE\",\"THA\",\"TUR\",\"USA\",\"UGA\",\"ARE\",\"GBR\",\"URY\",\"VNM\",\"ZMB\",\"ZWE\"],\"name\":\"\",\"z\":[3,1,97,8,20,15,1,1,3,64,33,4,1,1,5,3,3,2,2,3,3,22,5,31,10,2,1,975,4,51,1,6,4,13,2,64,5,1,22,1,3,1,1,5,1,7,158,4,43,1,3,71,1,36,2,2,2,3,141,6,10,16,4,33,21,3,543,17,21,650,1,4,5,2],\"type\":\"choropleth\"}],\"name\":\"2020-07-25\"},{\"data\":[{\"coloraxis\":\"coloraxis\",\"geo\":\"geo\",\"hovertemplate\":\"<b>%{hovertext}</b><br><br>day=2020-07-26<br>alpha3=%{location}<br>text=%{z}<extra></extra>\",\"hovertext\":[\"Afghanistan\",\"Argentina\",\"Australia\",\"Austria\",\"Bangladesh\",\"Belgium\",\"Cameroon\",\"Canada\",\"China\",\"Colombia\",\"Congo\",\"Costa Rica\",\"Cuba\",\"Cyprus\",\"Denmark\",\"Ecuador\",\"Ethiopia\",\"Fiji\",\"Finland\",\"France\",\"Georgia\",\"Germany\",\"Ghana\",\"Greece\",\"Hungary\",\"India\",\"Indonesia\",\"Ireland\",\"Israel\",\"Italy\",\"Japan\",\"Jordan\",\"Kenya\",\"Kuwait\",\"Lebanon\",\"Liberia\",\"Luxembourg\",\"Malaysia\",\"Maldives\",\"Mexico\",\"Namibia\",\"Nepal\",\"New Zealand\",\"Nigeria\",\"Norway\",\"Oman\",\"Pakistan\",\"Philippines\",\"Qatar\",\"Romania\",\"Saudi Arabia\",\"Senegal\",\"Singapore\",\"South Africa\",\"South Sudan\",\"Spain\",\"Sri Lanka\",\"Sweden\",\"Switzerland\",\"Thailand\",\"Tunisia\",\"USA\",\"Uganda\",\"United Arab Emirates\",\"United Kingdom\",\"Viet Nam\",\"Zambia\",\"Zimbabwe\"],\"locations\":[\"AFG\",\"ARG\",\"AUS\",\"AUT\",\"BGD\",\"BEL\",\"CMR\",\"CAN\",\"CHN\",\"COL\",\"COG\",\"CRI\",\"CUB\",\"CYP\",\"DNK\",\"ECU\",\"ETH\",\"FJI\",\"FIN\",\"FRA\",\"GEO\",\"DEU\",\"GHA\",\"GRC\",\"HUN\",\"IND\",\"IDN\",\"IRL\",\"ISR\",\"ITA\",\"JPN\",\"JOR\",\"KEN\",\"KWT\",\"LBN\",\"LBR\",\"LUX\",\"MYS\",\"MDV\",\"MEX\",\"NAM\",\"NPL\",\"NZL\",\"NGA\",\"NOR\",\"OMN\",\"PAK\",\"PHL\",\"QAT\",\"ROU\",\"SAU\",\"SEN\",\"SGP\",\"ZAF\",\"SSD\",\"ESP\",\"LKA\",\"SWE\",\"CHE\",\"THA\",\"TUN\",\"USA\",\"UGA\",\"ARE\",\"GBR\",\"VNM\",\"ZMB\",\"ZWE\"],\"name\":\"\",\"z\":[7,1,63,4,5,7,1,35,27,4,1,1,2,1,3,3,3,1,2,18,4,8,7,2,1,515,1,23,7,4,8,2,33,1,5,1,1,2,1,2,1,5,7,72,1,6,11,36,6,1,1,1,2,51,2,4,8,1,15,13,1,207,5,17,227,3,1,4],\"type\":\"choropleth\"}],\"name\":\"2020-07-26\"},{\"data\":[{\"coloraxis\":\"coloraxis\",\"geo\":\"geo\",\"hovertemplate\":\"<b>%{hovertext}</b><br><br>day=2020-07-27<br>alpha3=%{location}<br>text=%{z}<extra></extra>\",\"hovertext\":[\"Australia\",\"Austria\",\"Azerbaijan\",\"Bangladesh\",\"Belgium\",\"Cambodia\",\"Cameroon\",\"Canada\",\"Chile\",\"China\",\"Cuba\",\"Cyprus\",\"Denmark\",\"Ecuador\",\"Egypt\",\"Ethiopia\",\"Fiji\",\"France\",\"Georgia\",\"Germany\",\"Ghana\",\"Greece\",\"Hong Kong\",\"India\",\"Indonesia\",\"Iraq\",\"Ireland\",\"Israel\",\"Italy\",\"Jamaica\",\"Japan\",\"Kazakhstan\",\"Kenya\",\"Lebanon\",\"Malaysia\",\"Maldives\",\"Mexico\",\"Namibia\",\"Nepal\",\"Netherlands\",\"New Zealand\",\"Nigeria\",\"Norway\",\"Oman\",\"Pakistan\",\"Peru\",\"Philippines\",\"Qatar\",\"Singapore\",\"South Africa\",\"South Sudan\",\"Spain\",\"Sri Lanka\",\"Sweden\",\"Switzerland\",\"Thailand\",\"Turkey\",\"USA\",\"Uganda\",\"United Arab Emirates\",\"United Kingdom\",\"Uruguay\",\"Viet Nam\",\"Zambia\",\"Zimbabwe\"],\"locations\":[\"AUS\",\"AUT\",\"AZE\",\"BGD\",\"BEL\",\"KHM\",\"CMR\",\"CAN\",\"CHL\",\"CHN\",\"CUB\",\"CYP\",\"DNK\",\"ECU\",\"EGY\",\"ETH\",\"FJI\",\"FRA\",\"GEO\",\"DEU\",\"GHA\",\"GRC\",\"HKG\",\"IND\",\"IDN\",\"IRQ\",\"IRL\",\"ISR\",\"ITA\",\"JAM\",\"JPN\",\"KAZ\",\"KEN\",\"LBN\",\"MYS\",\"MDV\",\"MEX\",\"NAM\",\"NPL\",\"NLD\",\"NZL\",\"NGA\",\"NOR\",\"OMN\",\"PAK\",\"PER\",\"PHL\",\"QAT\",\"SGP\",\"ZAF\",\"SSD\",\"ESP\",\"LKA\",\"SWE\",\"CHE\",\"THA\",\"TUR\",\"USA\",\"UGA\",\"ARE\",\"GBR\",\"URY\",\"VNM\",\"ZMB\",\"ZWE\"],\"name\":\"\",\"z\":[102,3,1,15,4,1,1,41,1,29,1,1,2,1,1,1,1,8,5,9,11,6,3,469,8,2,6,9,2,1,6,2,49,1,11,1,1,2,2,1,8,74,1,3,20,1,47,4,4,79,3,7,9,3,10,19,2,218,10,12,106,1,2,2,12],\"type\":\"choropleth\"}],\"name\":\"2020-07-27\"},{\"data\":[{\"coloraxis\":\"coloraxis\",\"geo\":\"geo\",\"hovertemplate\":\"<b>%{hovertext}</b><br><br>day=2020-07-28<br>alpha3=%{location}<br>text=%{z}<extra></extra>\",\"hovertext\":[\"Afghanistan\",\"Australia\",\"Austria\",\"Bangladesh\",\"Belgium\",\"Bhutan\",\"Brazil\",\"Cambodia\",\"Cameroon\",\"Canada\",\"China\",\"Ecuador\",\"Egypt\",\"El Salvador\",\"Estonia\",\"Ethiopia\",\"Fiji\",\"Finland\",\"France\",\"Germany\",\"Ghana\",\"Greece\",\"India\",\"Indonesia\",\"Ireland\",\"Israel\",\"Italy\",\"Jamaica\",\"Japan\",\"Kazakhstan\",\"Kenya\",\"Lebanon\",\"Luxembourg\",\"Malaysia\",\"Morocco\",\"Nepal\",\"New Zealand\",\"Nigeria\",\"Oman\",\"Pakistan\",\"Philippines\",\"Qatar\",\"Romania\",\"Rwanda\",\"Singapore\",\"South Africa\",\"Spain\",\"Sri Lanka\",\"Sudan\",\"Sweden\",\"Switzerland\",\"Thailand\",\"Turkey\",\"USA\",\"Uganda\",\"United Arab Emirates\",\"United Kingdom\",\"Uruguay\",\"Zimbabwe\"],\"locations\":[\"AFG\",\"AUS\",\"AUT\",\"BGD\",\"BEL\",\"BTN\",\"BRA\",\"KHM\",\"CMR\",\"CAN\",\"CHN\",\"ECU\",\"EGY\",\"SLV\",\"EST\",\"ETH\",\"FJI\",\"FIN\",\"FRA\",\"DEU\",\"GHA\",\"GRC\",\"IND\",\"IDN\",\"IRL\",\"ISR\",\"ITA\",\"JAM\",\"JPN\",\"KAZ\",\"KEN\",\"LBN\",\"LUX\",\"MYS\",\"MAR\",\"NPL\",\"NZL\",\"NGA\",\"OMN\",\"PAK\",\"PHL\",\"QAT\",\"ROU\",\"RWA\",\"SGP\",\"ZAF\",\"ESP\",\"LKA\",\"SDN\",\"SWE\",\"CHE\",\"THA\",\"TUR\",\"USA\",\"UGA\",\"ARE\",\"GBR\",\"URY\",\"ZWE\"],\"name\":\"\",\"z\":[1,71,1,7,3,1,1,2,1,25,36,1,2,1,1,1,3,2,6,11,1,3,516,5,11,2,2,1,10,3,58,1,1,12,1,2,10,47,2,29,30,1,1,1,1,76,5,2,1,1,12,15,1,261,8,9,96,1,6],\"type\":\"choropleth\"}],\"name\":\"2020-07-28\"},{\"data\":[{\"coloraxis\":\"coloraxis\",\"geo\":\"geo\",\"hovertemplate\":\"<b>%{hovertext}</b><br><br>day=2020-07-29<br>alpha3=%{location}<br>text=%{z}<extra></extra>\",\"hovertext\":[\"Australia\",\"Bangladesh\",\"Belgium\",\"Brazil\",\"Canada\",\"Denmark\",\"Fiji\",\"France\",\"Georgia\",\"Germany\",\"Ghana\",\"India\",\"Indonesia\",\"Ireland\",\"Japan\",\"Kenya\",\"Liechtenstein\",\"Malawi\",\"Malaysia\",\"Namibia\",\"Nigeria\",\"Oman\",\"Pakistan\",\"Philippines\",\"Qatar\",\"Saudi Arabia\",\"South Africa\",\"Sri Lanka\",\"Sweden\",\"Switzerland\",\"Thailand\",\"Turkey\",\"USA\",\"Uganda\",\"United Kingdom\",\"Viet Nam\"],\"locations\":[\"AUS\",\"BGD\",\"BEL\",\"BRA\",\"CAN\",\"DNK\",\"FJI\",\"FRA\",\"GEO\",\"DEU\",\"GHA\",\"IND\",\"IDN\",\"IRL\",\"JPN\",\"KEN\",\"LIE\",\"MWI\",\"MYS\",\"NAM\",\"NGA\",\"OMN\",\"PAK\",\"PHL\",\"QAT\",\"SAU\",\"ZAF\",\"LKA\",\"SWE\",\"CHE\",\"THA\",\"TUR\",\"USA\",\"UGA\",\"GBR\",\"VNM\"],\"name\":\"\",\"z\":[4,1,3,1,24,4,1,5,3,1,2,65,1,9,1,3,1,2,1,1,10,1,5,1,1,2,8,1,1,3,2,1,113,2,69,1],\"type\":\"choropleth\"}],\"name\":\"2020-07-29\"},{\"data\":[{\"coloraxis\":\"coloraxis\",\"geo\":\"geo\",\"hovertemplate\":\"<b>%{hovertext}</b><br><br>day=2020-07-30<br>alpha3=%{location}<br>text=%{z}<extra></extra>\",\"hovertext\":[\"Belgium\",\"Canada\",\"China\",\"France\",\"Georgia\",\"Germany\",\"India\",\"Ireland\",\"Israel\",\"Italy\",\"Kenya\",\"New Zealand\",\"Nigeria\",\"Pakistan\",\"Peru\",\"Philippines\",\"Poland\",\"South Africa\",\"Spain\",\"Switzerland\",\"USA\",\"United Kingdom\",\"Zimbabwe\"],\"locations\":[\"BEL\",\"CAN\",\"CHN\",\"FRA\",\"GEO\",\"DEU\",\"IND\",\"IRL\",\"ISR\",\"ITA\",\"KEN\",\"NZL\",\"NGA\",\"PAK\",\"PER\",\"PHL\",\"POL\",\"ZAF\",\"ESP\",\"CHE\",\"USA\",\"GBR\",\"ZWE\"],\"name\":\"\",\"z\":[1,10,1,1,3,1,8,4,1,1,1,1,7,1,1,1,1,12,2,4,80,50,1],\"type\":\"choropleth\"}],\"name\":\"2020-07-30\"},{\"data\":[{\"coloraxis\":\"coloraxis\",\"geo\":\"geo\",\"hovertemplate\":\"<b>%{hovertext}</b><br><br>day=2020-07-31<br>alpha3=%{location}<br>text=%{z}<extra></extra>\",\"hovertext\":[\"Australia\",\"Austria\",\"Bangladesh\",\"Barbados\",\"Belgium\",\"Botswana\",\"Cameroon\",\"Canada\",\"China\",\"Colombia\",\"Cuba\",\"Cyprus\",\"Denmark\",\"Egypt\",\"Finland\",\"France\",\"Georgia\",\"Germany\",\"Ghana\",\"Greece\",\"India\",\"Ireland\",\"Israel\",\"Italy\",\"Jamaica\",\"Japan\",\"Jersey\",\"Kenya\",\"Kuwait\",\"Malawi\",\"Maldives\",\"Morocco\",\"Mozambique\",\"New Zealand\",\"Nigeria\",\"Norway\",\"Pakistan\",\"Peru\",\"Philippines\",\"Portugal\",\"Qatar\",\"Rwanda\",\"South Africa\",\"Spain\",\"Sri Lanka\",\"Sweden\",\"Switzerland\",\"Thailand\",\"USA\",\"Uganda\",\"United Arab Emirates\",\"United Kingdom\",\"Zambia\",\"Zimbabwe\"],\"locations\":[\"AUS\",\"AUT\",\"BGD\",\"BRB\",\"BEL\",\"BWA\",\"CMR\",\"CAN\",\"CHN\",\"COL\",\"CUB\",\"CYP\",\"DNK\",\"EGY\",\"FIN\",\"FRA\",\"GEO\",\"DEU\",\"GHA\",\"GRC\",\"IND\",\"IRL\",\"ISR\",\"ITA\",\"JAM\",\"JPN\",\"JEY\",\"KEN\",\"KWT\",\"MWI\",\"MDV\",\"MAR\",\"MOZ\",\"NZL\",\"NGA\",\"NOR\",\"PAK\",\"PER\",\"PHL\",\"PRT\",\"QAT\",\"RWA\",\"ZAF\",\"ESP\",\"LKA\",\"SWE\",\"CHE\",\"THA\",\"USA\",\"UGA\",\"ARE\",\"GBR\",\"ZMB\",\"ZWE\"],\"name\":\"\",\"z\":[5,6,6,1,4,1,1,74,3,1,1,1,2,1,1,7,7,7,6,1,159,24,1,2,1,1,1,23,2,2,1,1,5,1,27,1,9,1,4,2,8,2,13,2,1,2,5,3,331,5,1,158,1,2],\"type\":\"choropleth\"}],\"name\":\"2020-07-31\"},{\"data\":[{\"coloraxis\":\"coloraxis\",\"geo\":\"geo\",\"hovertemplate\":\"<b>%{hovertext}</b><br><br>day=2020-08-01<br>alpha3=%{location}<br>text=%{z}<extra></extra>\",\"hovertext\":[\"Australia\",\"Austria\",\"Bangladesh\",\"Belgium\",\"Brazil\",\"Canada\",\"Cayman Islands\",\"China\",\"Denmark\",\"Ecuador\",\"France\",\"Georgia\",\"Germany\",\"Ghana\",\"Greece\",\"Guernsey\",\"India\",\"Indonesia\",\"Ireland\",\"Israel\",\"Italy\",\"Japan\",\"Kenya\",\"Malawi\",\"Malaysia\",\"Morocco\",\"Netherlands\",\"Nigeria\",\"Norway\",\"Oman\",\"Pakistan\",\"Philippines\",\"Portugal\",\"Qatar\",\"Saudi Arabia\",\"South Africa\",\"Spain\",\"Sweden\",\"Switzerland\",\"Thailand\",\"Tunisia\",\"Turkey\",\"USA\",\"Uganda\",\"United Arab Emirates\",\"United Kingdom\",\"Zimbabwe\"],\"locations\":[\"AUS\",\"AUT\",\"BGD\",\"BEL\",\"BRA\",\"CAN\",\"CYM\",\"CHN\",\"DNK\",\"ECU\",\"FRA\",\"GEO\",\"DEU\",\"GHA\",\"GRC\",\"GGY\",\"IND\",\"IDN\",\"IRL\",\"ISR\",\"ITA\",\"JPN\",\"KEN\",\"MWI\",\"MYS\",\"MAR\",\"NLD\",\"NGA\",\"NOR\",\"OMN\",\"PAK\",\"PHL\",\"PRT\",\"QAT\",\"SAU\",\"ZAF\",\"ESP\",\"SWE\",\"CHE\",\"THA\",\"TUN\",\"TUR\",\"USA\",\"UGA\",\"ARE\",\"GBR\",\"ZWE\"],\"name\":\"\",\"z\":[5,7,1,4,1,48,2,4,4,3,10,3,13,3,4,1,235,1,21,1,4,3,16,7,3,1,3,28,2,1,9,4,1,4,1,23,1,3,19,4,1,4,340,5,3,179,1],\"type\":\"choropleth\"}],\"name\":\"2020-08-01\"},{\"data\":[{\"coloraxis\":\"coloraxis\",\"geo\":\"geo\",\"hovertemplate\":\"<b>%{hovertext}</b><br><br>day=2020-08-02<br>alpha3=%{location}<br>text=%{z}<extra></extra>\",\"hovertext\":[\"Argentina\",\"Australia\",\"Austria\",\"Bangladesh\",\"Belgium\",\"Brazil\",\"Cameroon\",\"Canada\",\"Chile\",\"China\",\"Colombia\",\"Congo\",\"Costa Rica\",\"Ecuador\",\"Egypt\",\"El Salvador\",\"Ethiopia\",\"France\",\"Georgia\",\"Germany\",\"Ghana\",\"Greece\",\"Hungary\",\"India\",\"Ireland\",\"Israel\",\"Italy\",\"Japan\",\"Kenya\",\"Kosovo\",\"Lebanon\",\"Liberia\",\"Malaysia\",\"Mexico\",\"Montenegro\",\"Morocco\",\"Netherlands\",\"New Zealand\",\"Nigeria\",\"Norway\",\"Oman\",\"Pakistan\",\"Panama\",\"Philippines\",\"Portugal\",\"Puerto Rico\",\"Qatar\",\"Rwanda\",\"Singapore\",\"Somalia\",\"South Africa\",\"Spain\",\"Sri Lanka\",\"Sweden\",\"Switzerland\",\"Turkey\",\"USA\",\"Uganda\",\"Ukraine\",\"United Kingdom\",\"Uruguay\",\"Zambia\",\"Zimbabwe\"],\"locations\":[\"ARG\",\"AUS\",\"AUT\",\"BGD\",\"BEL\",\"BRA\",\"CMR\",\"CAN\",\"CHL\",\"CHN\",\"COL\",\"COG\",\"CRI\",\"ECU\",\"EGY\",\"SLV\",\"ETH\",\"FRA\",\"GEO\",\"DEU\",\"GHA\",\"GRC\",\"HUN\",\"IND\",\"IRL\",\"ISR\",\"ITA\",\"JPN\",\"KEN\",\"XKX\",\"LBN\",\"LBR\",\"MYS\",\"MEX\",\"MNE\",\"MAR\",\"NLD\",\"NZL\",\"NGA\",\"NOR\",\"OMN\",\"PAK\",\"PAN\",\"PHL\",\"PRT\",\"PRI\",\"QAT\",\"RWA\",\"SGP\",\"SOM\",\"ZAF\",\"ESP\",\"LKA\",\"SWE\",\"CHE\",\"TUR\",\"USA\",\"UGA\",\"UKR\",\"GBR\",\"URY\",\"ZMB\",\"ZWE\"],\"name\":\"\",\"z\":[2,10,8,5,5,1,1,54,1,5,2,1,3,1,3,1,1,8,4,5,12,1,1,215,20,1,3,2,13,1,3,1,2,1,1,1,2,8,27,3,1,5,1,4,1,2,7,2,1,1,41,3,1,4,10,2,293,7,7,186,1,1,1],\"type\":\"choropleth\"}],\"name\":\"2020-08-02\"},{\"data\":[{\"coloraxis\":\"coloraxis\",\"geo\":\"geo\",\"hovertemplate\":\"<b>%{hovertext}</b><br><br>day=2020-08-04<br>alpha3=%{location}<br>text=%{z}<extra></extra>\",\"hovertext\":[\"Afghanistan\",\"Argentina\",\"Australia\",\"Austria\",\"Azerbaijan\",\"Bangladesh\",\"Belgium\",\"Botswana\",\"Cambodia\",\"Canada\",\"China\",\"Cyprus\",\"Denmark\",\"Fiji\",\"Finland\",\"France\",\"Georgia\",\"Germany\",\"Ghana\",\"Hungary\",\"India\",\"Indonesia\",\"Ireland\",\"Israel\",\"Italy\",\"Jamaica\",\"Japan\",\"Jordan\",\"Kenya\",\"Lebanon\",\"Malawi\",\"Malaysia\",\"Maldives\",\"Namibia\",\"Nepal\",\"Netherlands\",\"New Zealand\",\"Nigeria\",\"Norway\",\"Pakistan\",\"Papua New Guinea\",\"Philippines\",\"Poland\",\"Qatar\",\"Rwanda\",\"Saudi Arabia\",\"South Africa\",\"South Sudan\",\"Spain\",\"Sri Lanka\",\"Sweden\",\"Switzerland\",\"Thailand\",\"USA\",\"Uganda\",\"United Arab Emirates\",\"United Kingdom\",\"Uzbekistan\",\"Viet Nam\",\"Zambia\",\"Zimbabwe\"],\"locations\":[\"AFG\",\"ARG\",\"AUS\",\"AUT\",\"AZE\",\"BGD\",\"BEL\",\"BWA\",\"KHM\",\"CAN\",\"CHN\",\"CYP\",\"DNK\",\"FJI\",\"FIN\",\"FRA\",\"GEO\",\"DEU\",\"GHA\",\"HUN\",\"IND\",\"IDN\",\"IRL\",\"ISR\",\"ITA\",\"JAM\",\"JPN\",\"JOR\",\"KEN\",\"LBN\",\"MWI\",\"MYS\",\"MDV\",\"NAM\",\"NPL\",\"NLD\",\"NZL\",\"NGA\",\"NOR\",\"PAK\",\"PNG\",\"PHL\",\"POL\",\"QAT\",\"RWA\",\"SAU\",\"ZAF\",\"SSD\",\"ESP\",\"LKA\",\"SWE\",\"CHE\",\"THA\",\"USA\",\"UGA\",\"ARE\",\"GBR\",\"UZB\",\"VNM\",\"ZMB\",\"ZWE\"],\"name\":\"\",\"z\":[2,1,102,8,2,8,9,1,1,17,34,1,3,1,6,12,1,10,1,1,536,1,11,1,2,2,10,1,57,5,1,16,2,1,2,1,7,79,3,14,1,28,1,2,2,2,55,1,5,1,2,20,19,186,13,26,189,1,1,1,11],\"type\":\"choropleth\"}],\"name\":\"2020-08-04\"},{\"data\":[{\"coloraxis\":\"coloraxis\",\"geo\":\"geo\",\"hovertemplate\":\"<b>%{hovertext}</b><br><br>day=2020-08-06<br>alpha3=%{location}<br>text=%{z}<extra></extra>\",\"hovertext\":[\"Afghanistan\",\"Argentina\",\"Australia\",\"Austria\",\"Bangladesh\",\"Belgium\",\"Brazil\",\"Cameroon\",\"Canada\",\"Chile\",\"China\",\"Congo\",\"Costa Rica\",\"Cuba\",\"Denmark\",\"Ecuador\",\"Finland\",\"France\",\"Georgia\",\"Germany\",\"Ghana\",\"Greece\",\"India\",\"Ireland\",\"Italy\",\"Jamaica\",\"Japan\",\"Jordan\",\"Kenya\",\"Kosovo\",\"Lebanon\",\"Malaysia\",\"Mexico\",\"Mozambique\",\"Netherlands\",\"Nigeria\",\"Oman\",\"Pakistan\",\"Peru\",\"Philippines\",\"Poland\",\"Portugal\",\"Qatar\",\"Senegal\",\"South Africa\",\"Sweden\",\"Switzerland\",\"Turkey\",\"USA\",\"Uganda\",\"United Arab Emirates\",\"United Kingdom\"],\"locations\":[\"AFG\",\"ARG\",\"AUS\",\"AUT\",\"BGD\",\"BEL\",\"BRA\",\"CMR\",\"CAN\",\"CHL\",\"CHN\",\"COG\",\"CRI\",\"CUB\",\"DNK\",\"ECU\",\"FIN\",\"FRA\",\"GEO\",\"DEU\",\"GHA\",\"GRC\",\"IND\",\"IRL\",\"ITA\",\"JAM\",\"JPN\",\"JOR\",\"KEN\",\"XKX\",\"LBN\",\"MYS\",\"MEX\",\"MOZ\",\"NLD\",\"NGA\",\"OMN\",\"PAK\",\"PER\",\"PHL\",\"POL\",\"PRT\",\"QAT\",\"SEN\",\"ZAF\",\"SWE\",\"CHE\",\"TUR\",\"USA\",\"UGA\",\"ARE\",\"GBR\"],\"name\":\"\",\"z\":[1,1,1,2,4,3,2,3,53,1,2,1,1,1,5,1,2,12,8,5,7,1,197,24,5,2,2,1,15,1,3,3,1,2,1,28,7,12,2,1,2,1,1,1,24,2,41,2,269,5,9,186],\"type\":\"choropleth\"}],\"name\":\"2020-08-06\"},{\"data\":[{\"coloraxis\":\"coloraxis\",\"geo\":\"geo\",\"hovertemplate\":\"<b>%{hovertext}</b><br><br>day=2020-08-07<br>alpha3=%{location}<br>text=%{z}<extra></extra>\",\"hovertext\":[\"Belarus\",\"Canada\",\"Colombia\",\"Croatia\",\"France\",\"Georgia\",\"Germany\",\"India\",\"Ireland\",\"Israel\",\"Jamaica\",\"Japan\",\"Kenya\",\"New Zealand\",\"Nigeria\",\"Pakistan\",\"Philippines\",\"South Africa\",\"Sri Lanka\",\"Sweden\",\"Switzerland\",\"USA\",\"Uganda\",\"United Arab Emirates\",\"United Kingdom\"],\"locations\":[\"BLR\",\"CAN\",\"COL\",\"HRV\",\"FRA\",\"GEO\",\"DEU\",\"IND\",\"IRL\",\"ISR\",\"JAM\",\"JPN\",\"KEN\",\"NZL\",\"NGA\",\"PAK\",\"PHL\",\"ZAF\",\"LKA\",\"SWE\",\"CHE\",\"USA\",\"UGA\",\"ARE\",\"GBR\"],\"name\":\"\",\"z\":[1,5,1,1,5,1,4,39,6,1,1,2,5,1,9,2,2,11,1,1,5,31,1,1,33],\"type\":\"choropleth\"}],\"name\":\"2020-08-07\"},{\"data\":[{\"coloraxis\":\"coloraxis\",\"geo\":\"geo\",\"hovertemplate\":\"<b>%{hovertext}</b><br><br>day=2020-08-08<br>alpha3=%{location}<br>text=%{z}<extra></extra>\",\"hovertext\":[\"Afghanistan\",\"Argentina\",\"Armenia\",\"Australia\",\"Austria\",\"Bangladesh\",\"Belgium\",\"Botswana\",\"Brazil\",\"Cambodia\",\"Cameroon\",\"Canada\",\"China\",\"Colombia\",\"Congo\",\"Cuba\",\"C\\u00f4te d'Ivoire\",\"Denmark\",\"Egypt\",\"Ethiopia\",\"Finland\",\"France\",\"Georgia\",\"Germany\",\"Ghana\",\"Greece\",\"India\",\"Indonesia\",\"Iraq\",\"Ireland\",\"Israel\",\"Italy\",\"Jamaica\",\"Japan\",\"Jersey\",\"Kenya\",\"Kuwait\",\"Lebanon\",\"Libya\",\"Malaysia\",\"Nepal\",\"New Zealand\",\"Nigeria\",\"Norway\",\"Oman\",\"Pakistan\",\"Philippines\",\"Poland\",\"Portugal\",\"Qatar\",\"Rwanda\",\"Saudi Arabia\",\"Senegal\",\"South Africa\",\"Spain\",\"Sri Lanka\",\"Sweden\",\"Switzerland\",\"Thailand\",\"Turkey\",\"USA\",\"Uganda\",\"United Arab Emirates\",\"United Kingdom\",\"Viet Nam\",\"Zambia\",\"Zimbabwe\"],\"locations\":[\"AFG\",\"ARG\",\"ARM\",\"AUS\",\"AUT\",\"BGD\",\"BEL\",\"BWA\",\"BRA\",\"KHM\",\"CMR\",\"CAN\",\"CHN\",\"COL\",\"COG\",\"CUB\",\"CIV\",\"DNK\",\"EGY\",\"ETH\",\"FIN\",\"FRA\",\"GEO\",\"DEU\",\"GHA\",\"GRC\",\"IND\",\"IDN\",\"IRQ\",\"IRL\",\"ISR\",\"ITA\",\"JAM\",\"JPN\",\"JEY\",\"KEN\",\"KWT\",\"LBN\",\"LBY\",\"MYS\",\"NPL\",\"NZL\",\"NGA\",\"NOR\",\"OMN\",\"PAK\",\"PHL\",\"POL\",\"PRT\",\"QAT\",\"RWA\",\"SAU\",\"SEN\",\"ZAF\",\"ESP\",\"LKA\",\"SWE\",\"CHE\",\"THA\",\"TUR\",\"USA\",\"UGA\",\"ARE\",\"GBR\",\"VNM\",\"ZMB\",\"ZWE\"],\"name\":\"\",\"z\":[1,1,1,20,1,4,6,1,2,1,1,40,4,2,1,1,1,3,1,2,3,15,1,15,9,4,373,7,2,59,1,8,2,3,1,26,2,1,1,4,5,1,70,1,2,16,17,2,2,8,2,3,1,35,7,3,3,11,3,8,235,12,5,289,1,2,5],\"type\":\"choropleth\"}],\"name\":\"2020-08-08\"},{\"data\":[{\"coloraxis\":\"coloraxis\",\"geo\":\"geo\",\"hovertemplate\":\"<b>%{hovertext}</b><br><br>day=2020-08-09<br>alpha3=%{location}<br>text=%{z}<extra></extra>\",\"hovertext\":[\"Afghanistan\",\"Australia\",\"Austria\",\"Azerbaijan\",\"Bangladesh\",\"Belgium\",\"Botswana\",\"Brazil\",\"Bulgaria\",\"Cameroon\",\"Canada\",\"China\",\"Colombia\",\"Denmark\",\"Ecuador\",\"Egypt\",\"El Salvador\",\"Ethiopia\",\"Finland\",\"France\",\"Georgia\",\"Germany\",\"Ghana\",\"Greece\",\"Hong Kong\",\"Hungary\",\"India\",\"Indonesia\",\"Ireland\",\"Israel\",\"Italy\",\"Jamaica\",\"Japan\",\"Kenya\",\"Lebanon\",\"Malawi\",\"Malaysia\",\"Maldives\",\"Nepal\",\"New Zealand\",\"Nigeria\",\"Oman\",\"Pakistan\",\"Panama\",\"Philippines\",\"Poland\",\"Qatar\",\"Rwanda\",\"Saudi Arabia\",\"Senegal\",\"South Africa\",\"Spain\",\"Sri Lanka\",\"Sweden\",\"Switzerland\",\"Thailand\",\"Turkey\",\"USA\",\"Uganda\",\"United Arab Emirates\",\"United Kingdom\",\"Zambia\",\"Zimbabwe\"],\"locations\":[\"AFG\",\"AUS\",\"AUT\",\"AZE\",\"BGD\",\"BEL\",\"BWA\",\"BRA\",\"BGR\",\"CMR\",\"CAN\",\"CHN\",\"COL\",\"DNK\",\"ECU\",\"EGY\",\"SLV\",\"ETH\",\"FIN\",\"FRA\",\"GEO\",\"DEU\",\"GHA\",\"GRC\",\"HKG\",\"HUN\",\"IND\",\"IDN\",\"IRL\",\"ISR\",\"ITA\",\"JAM\",\"JPN\",\"KEN\",\"LBN\",\"MWI\",\"MYS\",\"MDV\",\"NPL\",\"NZL\",\"NGA\",\"OMN\",\"PAK\",\"PAN\",\"PHL\",\"POL\",\"QAT\",\"RWA\",\"SAU\",\"SEN\",\"ZAF\",\"ESP\",\"LKA\",\"SWE\",\"CHE\",\"THA\",\"TUR\",\"USA\",\"UGA\",\"ARE\",\"GBR\",\"ZMB\",\"ZWE\"],\"name\":\"\",\"z\":[1,53,4,1,15,13,1,1,1,1,19,21,1,2,2,1,2,5,5,11,3,12,3,1,3,1,616,7,17,1,5,1,8,26,5,3,7,2,5,8,101,5,16,2,28,2,6,1,1,1,40,5,8,2,21,15,4,167,7,17,239,2,4],\"type\":\"choropleth\"}],\"name\":\"2020-08-09\"},{\"data\":[{\"coloraxis\":\"coloraxis\",\"geo\":\"geo\",\"hovertemplate\":\"<b>%{hovertext}</b><br><br>day=2020-08-10<br>alpha3=%{location}<br>text=%{z}<extra></extra>\",\"hovertext\":[\"Australia\",\"Bangladesh\",\"Barbados\",\"Belgium\",\"Brazil\",\"Canada\",\"China\",\"Cuba\",\"Cyprus\",\"Denmark\",\"Ethiopia\",\"France\",\"Gabon\",\"Georgia\",\"Germany\",\"Ghana\",\"Greece\",\"India\",\"Ireland\",\"Italy\",\"Jamaica\",\"Japan\",\"Kenya\",\"Mozambique\",\"Netherlands\",\"New Zealand\",\"Nigeria\",\"Pakistan\",\"Philippines\",\"Portugal\",\"Puerto Rico\",\"Qatar\",\"Romania\",\"Rwanda\",\"Saudi Arabia\",\"Senegal\",\"South Africa\",\"Spain\",\"Sri Lanka\",\"Sweden\",\"Switzerland\",\"Turkey\",\"USA\",\"Uganda\",\"United Arab Emirates\",\"United Kingdom\",\"Zambia\",\"Zimbabwe\"],\"locations\":[\"AUS\",\"BGD\",\"BRB\",\"BEL\",\"BRA\",\"CAN\",\"CHN\",\"CUB\",\"CYP\",\"DNK\",\"ETH\",\"FRA\",\"GAB\",\"GEO\",\"DEU\",\"GHA\",\"GRC\",\"IND\",\"IRL\",\"ITA\",\"JAM\",\"JPN\",\"KEN\",\"MOZ\",\"NLD\",\"NZL\",\"NGA\",\"PAK\",\"PHL\",\"PRT\",\"PRI\",\"QAT\",\"ROU\",\"RWA\",\"SAU\",\"SEN\",\"ZAF\",\"ESP\",\"LKA\",\"SWE\",\"CHE\",\"TUR\",\"USA\",\"UGA\",\"ARE\",\"GBR\",\"ZMB\",\"ZWE\"],\"name\":\"\",\"z\":[3,5,1,2,3,26,2,2,1,5,1,10,1,6,4,5,1,139,20,2,2,1,10,2,1,1,30,10,5,1,1,1,1,1,1,2,17,4,3,6,9,1,186,2,1,176,2,2],\"type\":\"choropleth\"}],\"name\":\"2020-08-10\"},{\"data\":[{\"coloraxis\":\"coloraxis\",\"geo\":\"geo\",\"hovertemplate\":\"<b>%{hovertext}</b><br><br>day=2020-08-11<br>alpha3=%{location}<br>text=%{z}<extra></extra>\",\"hovertext\":[\"Afghanistan\",\"Armenia\",\"Australia\",\"Austria\",\"Bangladesh\",\"Belgium\",\"Cameroon\",\"Canada\",\"China\",\"Denmark\",\"Egypt\",\"Ethiopia\",\"Finland\",\"France\",\"Georgia\",\"Germany\",\"Ghana\",\"Greece\",\"Hungary\",\"India\",\"Indonesia\",\"Ireland\",\"Isle of Man\",\"Israel\",\"Italy\",\"Japan\",\"Jordan\",\"Kenya\",\"Lebanon\",\"Lesotho\",\"Luxembourg\",\"Malaysia\",\"Malta\",\"Mozambique\",\"Namibia\",\"Nepal\",\"Netherlands\",\"New Zealand\",\"Nigeria\",\"Norway\",\"Oman\",\"Pakistan\",\"Philippines\",\"Poland\",\"Portugal\",\"Qatar\",\"Romania\",\"Russian Federation\",\"Rwanda\",\"Senegal\",\"Sierra Leone\",\"Slovakia\",\"Solomon Islands\",\"South Africa\",\"South Sudan\",\"Spain\",\"Sri Lanka\",\"Sweden\",\"Switzerland\",\"Thailand\",\"Turkey\",\"USA\",\"Uganda\",\"Ukraine\",\"United Arab Emirates\",\"United Kingdom\",\"Zambia\",\"Zimbabwe\"],\"locations\":[\"AFG\",\"ARM\",\"AUS\",\"AUT\",\"BGD\",\"BEL\",\"CMR\",\"CAN\",\"CHN\",\"DNK\",\"EGY\",\"ETH\",\"FIN\",\"FRA\",\"GEO\",\"DEU\",\"GHA\",\"GRC\",\"HUN\",\"IND\",\"IDN\",\"IRL\",\"IMN\",\"ISR\",\"ITA\",\"JPN\",\"JOR\",\"KEN\",\"LBN\",\"LSO\",\"LUX\",\"MYS\",\"MLT\",\"MOZ\",\"NAM\",\"NPL\",\"NLD\",\"NZL\",\"NGA\",\"NOR\",\"OMN\",\"PAK\",\"PHL\",\"POL\",\"PRT\",\"QAT\",\"ROU\",\"RUS\",\"RWA\",\"SEN\",\"SLE\",\"SVK\",\"SLB\",\"ZAF\",\"SSD\",\"ESP\",\"LKA\",\"SWE\",\"CHE\",\"THA\",\"TUR\",\"USA\",\"UGA\",\"UKR\",\"ARE\",\"GBR\",\"ZMB\",\"ZWE\"],\"name\":\"\",\"z\":[1,1,60,4,3,17,1,8,22,5,2,2,12,28,1,36,8,4,1,432,4,46,1,1,9,4,1,60,5,1,2,9,1,1,3,8,2,59,148,4,3,27,19,4,3,7,1,1,1,2,1,1,1,92,1,11,15,4,26,12,8,73,17,1,25,488,2,2],\"type\":\"choropleth\"}],\"name\":\"2020-08-11\"},{\"data\":[{\"coloraxis\":\"coloraxis\",\"geo\":\"geo\",\"hovertemplate\":\"<b>%{hovertext}</b><br><br>day=2020-08-12<br>alpha3=%{location}<br>text=%{z}<extra></extra>\",\"hovertext\":[\"Afghanistan\",\"Armenia\",\"Australia\",\"Austria\",\"Azerbaijan\",\"Bangladesh\",\"Belgium\",\"Bhutan\",\"Botswana\",\"Cameroon\",\"Canada\",\"Chile\",\"China\",\"Denmark\",\"Ecuador\",\"Egypt\",\"Ethiopia\",\"Finland\",\"France\",\"Georgia\",\"Germany\",\"Ghana\",\"Greece\",\"Hong Kong\",\"Hungary\",\"India\",\"Indonesia\",\"Ireland\",\"Isle of Man\",\"Israel\",\"Italy\",\"Japan\",\"Kazakhstan\",\"Kenya\",\"Lebanon\",\"Liberia\",\"Malawi\",\"Malaysia\",\"Mexico\",\"Morocco\",\"Mozambique\",\"Namibia\",\"Nepal\",\"Netherlands\",\"New Zealand\",\"Nigeria\",\"Norway\",\"Oman\",\"Pakistan\",\"Philippines\",\"Poland\",\"Qatar\",\"Russian Federation\",\"Rwanda\",\"Saudi Arabia\",\"Senegal\",\"Sierra Leone\",\"Singapore\",\"South Africa\",\"Spain\",\"Sri Lanka\",\"Sweden\",\"Switzerland\",\"Thailand\",\"Turkey\",\"USA\",\"Uganda\",\"Ukraine\",\"United Arab Emirates\",\"United Kingdom\",\"Zambia\",\"Zimbabwe\"],\"locations\":[\"AFG\",\"ARM\",\"AUS\",\"AUT\",\"AZE\",\"BGD\",\"BEL\",\"BTN\",\"BWA\",\"CMR\",\"CAN\",\"CHL\",\"CHN\",\"DNK\",\"ECU\",\"EGY\",\"ETH\",\"FIN\",\"FRA\",\"GEO\",\"DEU\",\"GHA\",\"GRC\",\"HKG\",\"HUN\",\"IND\",\"IDN\",\"IRL\",\"IMN\",\"ISR\",\"ITA\",\"JPN\",\"KAZ\",\"KEN\",\"LBN\",\"LBR\",\"MWI\",\"MYS\",\"MEX\",\"MAR\",\"MOZ\",\"NAM\",\"NPL\",\"NLD\",\"NZL\",\"NGA\",\"NOR\",\"OMN\",\"PAK\",\"PHL\",\"POL\",\"QAT\",\"RUS\",\"RWA\",\"SAU\",\"SEN\",\"SLE\",\"SGP\",\"ZAF\",\"ESP\",\"LKA\",\"SWE\",\"CHE\",\"THA\",\"TUR\",\"USA\",\"UGA\",\"UKR\",\"ARE\",\"GBR\",\"ZMB\",\"ZWE\"],\"name\":\"\",\"z\":[2,4,60,8,1,13,30,1,2,2,13,1,25,13,1,3,3,6,25,1,35,11,1,1,2,374,2,46,2,1,6,4,1,58,1,1,2,9,1,1,1,4,6,1,14,89,5,7,29,44,5,6,1,1,1,1,2,1,101,7,5,2,32,13,7,66,13,1,18,516,3,5],\"type\":\"choropleth\"}],\"name\":\"2020-08-12\"},{\"data\":[{\"coloraxis\":\"coloraxis\",\"geo\":\"geo\",\"hovertemplate\":\"<b>%{hovertext}</b><br><br>day=2020-08-13<br>alpha3=%{location}<br>text=%{z}<extra></extra>\",\"hovertext\":[\"Afghanistan\",\"Argentina\",\"Armenia\",\"Australia\",\"Austria\",\"Bahrain\",\"Bangladesh\",\"Belgium\",\"Bhutan\",\"Botswana\",\"Bulgaria\",\"Cameroon\",\"Canada\",\"China\",\"Congo\",\"Denmark\",\"Egypt\",\"El Salvador\",\"Estonia\",\"Eswatini\",\"Ethiopia\",\"Finland\",\"France\",\"Georgia\",\"Germany\",\"Ghana\",\"Greece\",\"Guernsey\",\"Hungary\",\"India\",\"Indonesia\",\"Iraq\",\"Ireland\",\"Isle of Man\",\"Israel\",\"Italy\",\"Jamaica\",\"Japan\",\"Jordan\",\"Kazakhstan\",\"Kenya\",\"Lebanon\",\"Lithuania\",\"Luxembourg\",\"Malawi\",\"Malaysia\",\"Mexico\",\"Morocco\",\"Namibia\",\"Nepal\",\"Netherlands\",\"New Zealand\",\"Nigeria\",\"Norway\",\"Oman\",\"Pakistan\",\"Peru\",\"Philippines\",\"Poland\",\"Portugal\",\"Qatar\",\"Romania\",\"Rwanda\",\"Saudi Arabia\",\"Singapore\",\"South Africa\",\"Spain\",\"Sri Lanka\",\"Sweden\",\"Switzerland\",\"Thailand\",\"Turkey\",\"USA\",\"Uganda\",\"United Arab Emirates\",\"United Kingdom\",\"Zambia\",\"Zimbabwe\"],\"locations\":[\"AFG\",\"ARG\",\"ARM\",\"AUS\",\"AUT\",\"BHR\",\"BGD\",\"BEL\",\"BTN\",\"BWA\",\"BGR\",\"CMR\",\"CAN\",\"CHN\",\"COG\",\"DNK\",\"EGY\",\"SLV\",\"EST\",\"SWZ\",\"ETH\",\"FIN\",\"FRA\",\"GEO\",\"DEU\",\"GHA\",\"GRC\",\"GGY\",\"HUN\",\"IND\",\"IDN\",\"IRQ\",\"IRL\",\"IMN\",\"ISR\",\"ITA\",\"JAM\",\"JPN\",\"JOR\",\"KAZ\",\"KEN\",\"LBN\",\"LTU\",\"LUX\",\"MWI\",\"MYS\",\"MEX\",\"MAR\",\"NAM\",\"NPL\",\"NLD\",\"NZL\",\"NGA\",\"NOR\",\"OMN\",\"PAK\",\"PER\",\"PHL\",\"POL\",\"PRT\",\"QAT\",\"ROU\",\"RWA\",\"SAU\",\"SGP\",\"ZAF\",\"ESP\",\"LKA\",\"SWE\",\"CHE\",\"THA\",\"TUR\",\"USA\",\"UGA\",\"ARE\",\"GBR\",\"ZMB\",\"ZWE\"],\"name\":\"\",\"z\":[1,2,1,40,7,1,3,26,1,2,1,1,13,21,1,11,2,1,1,1,4,10,21,1,24,9,3,1,1,414,6,2,48,1,2,7,2,7,1,1,63,2,1,1,2,6,1,2,3,8,3,10,96,3,2,16,1,22,2,3,10,2,3,2,1,119,6,6,5,41,4,6,114,19,13,586,2,10],\"type\":\"choropleth\"}],\"name\":\"2020-08-13\"},{\"data\":[{\"coloraxis\":\"coloraxis\",\"geo\":\"geo\",\"hovertemplate\":\"<b>%{hovertext}</b><br><br>day=2020-08-14<br>alpha3=%{location}<br>text=%{z}<extra></extra>\",\"hovertext\":[\"Argentina\",\"Armenia\",\"Australia\",\"Austria\",\"Bangladesh\",\"Belgium\",\"Brazil\",\"Cambodia\",\"Canada\",\"Cayman Islands\",\"China\",\"Colombia\",\"Denmark\",\"Egypt\",\"Ethiopia\",\"Fiji\",\"Finland\",\"France\",\"Georgia\",\"Germany\",\"Ghana\",\"Greece\",\"Hungary\",\"India\",\"Indonesia\",\"Ireland\",\"Italy\",\"Jamaica\",\"Japan\",\"Kenya\",\"Luxembourg\",\"Malaysia\",\"Mongolia\",\"Nepal\",\"Netherlands\",\"New Zealand\",\"Nigeria\",\"Norway\",\"Oman\",\"Pakistan\",\"Papua New Guinea\",\"Philippines\",\"Qatar\",\"Rwanda\",\"Singapore\",\"Somalia\",\"South Africa\",\"Spain\",\"Sri Lanka\",\"Sweden\",\"Switzerland\",\"Thailand\",\"Turkey\",\"USA\",\"Uganda\",\"United Arab Emirates\",\"United Kingdom\",\"Uzbekistan\",\"Viet Nam\",\"Zambia\",\"Zimbabwe\"],\"locations\":[\"ARG\",\"ARM\",\"AUS\",\"AUT\",\"BGD\",\"BEL\",\"BRA\",\"KHM\",\"CAN\",\"CYM\",\"CHN\",\"COL\",\"DNK\",\"EGY\",\"ETH\",\"FJI\",\"FIN\",\"FRA\",\"GEO\",\"DEU\",\"GHA\",\"GRC\",\"HUN\",\"IND\",\"IDN\",\"IRL\",\"ITA\",\"JAM\",\"JPN\",\"KEN\",\"LUX\",\"MYS\",\"MNG\",\"NPL\",\"NLD\",\"NZL\",\"NGA\",\"NOR\",\"OMN\",\"PAK\",\"PNG\",\"PHL\",\"QAT\",\"RWA\",\"SGP\",\"SOM\",\"ZAF\",\"ESP\",\"LKA\",\"SWE\",\"CHE\",\"THA\",\"TUR\",\"USA\",\"UGA\",\"ARE\",\"GBR\",\"UZB\",\"VNM\",\"ZMB\",\"ZWE\"],\"name\":\"\",\"z\":[1,1,84,3,4,3,3,1,41,1,26,1,3,2,1,4,2,14,3,16,1,6,2,430,7,9,4,2,4,29,1,6,2,4,2,24,50,1,1,10,2,35,2,1,1,1,34,1,4,4,15,23,3,201,6,8,126,1,2,1,3],\"type\":\"choropleth\"}],\"name\":\"2020-08-14\"},{\"data\":[{\"coloraxis\":\"coloraxis\",\"geo\":\"geo\",\"hovertemplate\":\"<b>%{hovertext}</b><br><br>day=2020-08-16<br>alpha3=%{location}<br>text=%{z}<extra></extra>\",\"hovertext\":[\"Afghanistan\",\"Albania\",\"Australia\",\"Austria\",\"Bangladesh\",\"Belgium\",\"Brazil\",\"Cameroon\",\"Canada\",\"China\",\"Colombia\",\"Croatia\",\"Cyprus\",\"Denmark\",\"Ecuador\",\"Finland\",\"France\",\"Georgia\",\"Germany\",\"Ghana\",\"Greece\",\"India\",\"Indonesia\",\"Ireland\",\"Italy\",\"Jamaica\",\"Japan\",\"Jordan\",\"Kenya\",\"Lebanon\",\"Malawi\",\"Malaysia\",\"Maldives\",\"Namibia\",\"Nepal\",\"New Zealand\",\"Nigeria\",\"Norway\",\"Oman\",\"Pakistan\",\"Peru\",\"Philippines\",\"Portugal\",\"Qatar\",\"Rwanda\",\"Saudi Arabia\",\"Senegal\",\"South Africa\",\"Spain\",\"Sri Lanka\",\"Switzerland\",\"Thailand\",\"Turkey\",\"USA\",\"Uganda\",\"United Arab Emirates\",\"United Kingdom\",\"Viet Nam\",\"Zambia\",\"Zimbabwe\"],\"locations\":[\"AFG\",\"ALB\",\"AUS\",\"AUT\",\"BGD\",\"BEL\",\"BRA\",\"CMR\",\"CAN\",\"CHN\",\"COL\",\"HRV\",\"CYP\",\"DNK\",\"ECU\",\"FIN\",\"FRA\",\"GEO\",\"DEU\",\"GHA\",\"GRC\",\"IND\",\"IDN\",\"IRL\",\"ITA\",\"JAM\",\"JPN\",\"JOR\",\"KEN\",\"LBN\",\"MWI\",\"MYS\",\"MDV\",\"NAM\",\"NPL\",\"NZL\",\"NGA\",\"NOR\",\"OMN\",\"PAK\",\"PER\",\"PHL\",\"PRT\",\"QAT\",\"RWA\",\"SAU\",\"SEN\",\"ZAF\",\"ESP\",\"LKA\",\"CHE\",\"THA\",\"TUR\",\"USA\",\"UGA\",\"ARE\",\"GBR\",\"VNM\",\"ZMB\",\"ZWE\"],\"name\":\"\",\"z\":[1,1,45,4,13,6,1,1,35,22,1,1,1,1,1,1,14,2,8,3,3,397,5,40,2,1,4,2,29,2,1,13,1,2,4,21,50,1,6,30,1,30,4,3,1,4,1,62,6,6,13,8,2,240,2,9,245,1,1,2],\"type\":\"choropleth\"}],\"name\":\"2020-08-16\"},{\"data\":[{\"coloraxis\":\"coloraxis\",\"geo\":\"geo\",\"hovertemplate\":\"<b>%{hovertext}</b><br><br>day=2020-08-17<br>alpha3=%{location}<br>text=%{z}<extra></extra>\",\"hovertext\":[\"Afghanistan\",\"Armenia\",\"Australia\",\"Austria\",\"Bangladesh\",\"Belgium\",\"Botswana\",\"Cameroon\",\"Canada\",\"China\",\"Colombia\",\"Ethiopia\",\"Fiji\",\"Finland\",\"France\",\"Georgia\",\"Germany\",\"Ghana\",\"Greece\",\"Hungary\",\"India\",\"Indonesia\",\"Ireland\",\"Israel\",\"Italy\",\"Japan\",\"Kenya\",\"Kuwait\",\"Lebanon\",\"Libya\",\"Luxembourg\",\"Malaysia\",\"Maldives\",\"Mexico\",\"Morocco\",\"Mozambique\",\"Nepal\",\"Netherlands\",\"New Zealand\",\"Nigeria\",\"Norway\",\"Oman\",\"Pakistan\",\"Philippines\",\"Poland\",\"Rwanda\",\"Saudi Arabia\",\"Senegal\",\"Somalia\",\"South Africa\",\"South Sudan\",\"Spain\",\"Sri Lanka\",\"Sweden\",\"Switzerland\",\"Thailand\",\"Turkey\",\"USA\",\"Uganda\",\"United Arab Emirates\",\"United Kingdom\",\"Zambia\",\"Zimbabwe\"],\"locations\":[\"AFG\",\"ARM\",\"AUS\",\"AUT\",\"BGD\",\"BEL\",\"BWA\",\"CMR\",\"CAN\",\"CHN\",\"COL\",\"ETH\",\"FJI\",\"FIN\",\"FRA\",\"GEO\",\"DEU\",\"GHA\",\"GRC\",\"HUN\",\"IND\",\"IDN\",\"IRL\",\"ISR\",\"ITA\",\"JPN\",\"KEN\",\"KWT\",\"LBN\",\"LBY\",\"LUX\",\"MYS\",\"MDV\",\"MEX\",\"MAR\",\"MOZ\",\"NPL\",\"NLD\",\"NZL\",\"NGA\",\"NOR\",\"OMN\",\"PAK\",\"PHL\",\"POL\",\"RWA\",\"SAU\",\"SEN\",\"SOM\",\"ZAF\",\"SSD\",\"ESP\",\"LKA\",\"SWE\",\"CHE\",\"THA\",\"TUR\",\"USA\",\"UGA\",\"ARE\",\"GBR\",\"ZMB\",\"ZWE\"],\"name\":\"\",\"z\":[1,2,61,6,9,12,1,1,29,20,1,2,1,5,9,1,21,9,4,1,548,5,16,1,6,5,62,2,6,1,1,20,2,1,1,1,9,1,9,66,1,4,23,30,3,2,1,1,1,76,2,6,12,3,20,14,8,139,14,12,262,1,3],\"type\":\"choropleth\"}],\"name\":\"2020-08-17\"},{\"data\":[{\"coloraxis\":\"coloraxis\",\"geo\":\"geo\",\"hovertemplate\":\"<b>%{hovertext}</b><br><br>day=2020-08-18<br>alpha3=%{location}<br>text=%{z}<extra></extra>\",\"hovertext\":[\"Albania\",\"Australia\",\"Austria\",\"Bangladesh\",\"Belgium\",\"Botswana\",\"Canada\",\"Chile\",\"China\",\"Colombia\",\"Cyprus\",\"Denmark\",\"Egypt\",\"France\",\"Georgia\",\"Germany\",\"Ghana\",\"Greece\",\"Hungary\",\"India\",\"Indonesia\",\"Ireland\",\"Israel\",\"Italy\",\"Jamaica\",\"Japan\",\"Kenya\",\"Kuwait\",\"Morocco\",\"Namibia\",\"Nepal\",\"Nigeria\",\"Norway\",\"Pakistan\",\"Panama\",\"Philippines\",\"Puerto Rico\",\"Qatar\",\"Rwanda\",\"Saudi Arabia\",\"Senegal\",\"Singapore\",\"South Africa\",\"Sri Lanka\",\"Sweden\",\"Switzerland\",\"Thailand\",\"Turkey\",\"USA\",\"Uganda\",\"United Arab Emirates\",\"United Kingdom\",\"Uruguay\"],\"locations\":[\"ALB\",\"AUS\",\"AUT\",\"BGD\",\"BEL\",\"BWA\",\"CAN\",\"CHL\",\"CHN\",\"COL\",\"CYP\",\"DNK\",\"EGY\",\"FRA\",\"GEO\",\"DEU\",\"GHA\",\"GRC\",\"HUN\",\"IND\",\"IDN\",\"IRL\",\"ISR\",\"ITA\",\"JAM\",\"JPN\",\"KEN\",\"KWT\",\"MAR\",\"NAM\",\"NPL\",\"NGA\",\"NOR\",\"PAK\",\"PAN\",\"PHL\",\"PRI\",\"QAT\",\"RWA\",\"SAU\",\"SEN\",\"SGP\",\"ZAF\",\"LKA\",\"SWE\",\"CHE\",\"THA\",\"TUR\",\"USA\",\"UGA\",\"ARE\",\"GBR\",\"URY\"],\"name\":\"\",\"z\":[1,8,6,1,4,1,46,1,1,1,1,3,2,7,5,12,10,5,1,207,4,150,1,4,6,1,22,2,1,1,1,29,2,9,1,4,1,4,3,1,1,1,30,1,1,9,1,3,257,5,5,245,1],\"type\":\"choropleth\"}],\"name\":\"2020-08-18\"},{\"data\":[{\"coloraxis\":\"coloraxis\",\"geo\":\"geo\",\"hovertemplate\":\"<b>%{hovertext}</b><br><br>day=2020-08-22<br>alpha3=%{location}<br>text=%{z}<extra></extra>\",\"hovertext\":[\"Afghanistan\",\"Argentina\",\"Australia\",\"Austria\",\"Azerbaijan\",\"Bangladesh\",\"Belgium\",\"Bhutan\",\"Brazil\",\"Cameroon\",\"Canada\",\"Chile\",\"China\",\"Colombia\",\"Cuba\",\"Cyprus\",\"C\\u00f4te d'Ivoire\",\"Denmark\",\"Ecuador\",\"Egypt\",\"Ethiopia\",\"Finland\",\"France\",\"Georgia\",\"Germany\",\"Ghana\",\"Greece\",\"Hong Kong\",\"Hungary\",\"India\",\"Indonesia\",\"Ireland\",\"Italy\",\"Jamaica\",\"Japan\",\"Kenya\",\"Lebanon\",\"Liechtenstein\",\"Malaysia\",\"Maldives\",\"Morocco\",\"Nepal\",\"New Zealand\",\"Nigeria\",\"Norway\",\"Oman\",\"Pakistan\",\"Philippines\",\"Portugal\",\"Puerto Rico\",\"Qatar\",\"Rwanda\",\"Saudi Arabia\",\"Senegal\",\"Singapore\",\"Somalia\",\"South Africa\",\"Spain\",\"Sri Lanka\",\"Sweden\",\"Switzerland\",\"Thailand\",\"Turkey\",\"USA\",\"Uganda\",\"United Arab Emirates\",\"United Kingdom\",\"Zambia\",\"Zimbabwe\"],\"locations\":[\"AFG\",\"ARG\",\"AUS\",\"AUT\",\"AZE\",\"BGD\",\"BEL\",\"BTN\",\"BRA\",\"CMR\",\"CAN\",\"CHL\",\"CHN\",\"COL\",\"CUB\",\"CYP\",\"CIV\",\"DNK\",\"ECU\",\"EGY\",\"ETH\",\"FIN\",\"FRA\",\"GEO\",\"DEU\",\"GHA\",\"GRC\",\"HKG\",\"HUN\",\"IND\",\"IDN\",\"IRL\",\"ITA\",\"JAM\",\"JPN\",\"KEN\",\"LBN\",\"LIE\",\"MYS\",\"MDV\",\"MAR\",\"NPL\",\"NZL\",\"NGA\",\"NOR\",\"OMN\",\"PAK\",\"PHL\",\"PRT\",\"PRI\",\"QAT\",\"RWA\",\"SAU\",\"SEN\",\"SGP\",\"SOM\",\"ZAF\",\"ESP\",\"LKA\",\"SWE\",\"CHE\",\"THA\",\"TUR\",\"USA\",\"UGA\",\"ARE\",\"GBR\",\"ZMB\",\"ZWE\"],\"name\":\"\",\"z\":[1,1,75,5,1,6,11,1,1,1,48,1,25,3,1,1,1,8,1,2,1,3,17,2,13,6,5,1,2,731,12,41,5,6,10,43,8,1,5,2,1,8,18,102,1,3,28,33,4,1,10,1,1,1,3,1,64,7,9,5,21,18,3,297,19,15,443,3,6],\"type\":\"choropleth\"}],\"name\":\"2020-08-22\"},{\"data\":[{\"coloraxis\":\"coloraxis\",\"geo\":\"geo\",\"hovertemplate\":\"<b>%{hovertext}</b><br><br>day=2020-08-29<br>alpha3=%{location}<br>text=%{z}<extra></extra>\",\"hovertext\":[\"Australia\",\"Belgium\",\"Bermuda\",\"Brazil\",\"Canada\",\"Chile\",\"China\",\"Colombia\",\"Costa Rica\",\"Ecuador\",\"Egypt\",\"Finland\",\"France\",\"Georgia\",\"Germany\",\"Ghana\",\"India\",\"Indonesia\",\"Ireland\",\"Jamaica\",\"Japan\",\"Jordan\",\"Kenya\",\"Lebanon\",\"Namibia\",\"New Zealand\",\"Nigeria\",\"Norway\",\"Pakistan\",\"Peru\",\"Philippines\",\"Poland\",\"Puerto Rico\",\"Qatar\",\"Rwanda\",\"South Africa\",\"Spain\",\"Sweden\",\"Switzerland\",\"USA\",\"Uganda\",\"United Arab Emirates\",\"United Kingdom\"],\"locations\":[\"AUS\",\"BEL\",\"BMU\",\"BRA\",\"CAN\",\"CHL\",\"CHN\",\"COL\",\"CRI\",\"ECU\",\"EGY\",\"FIN\",\"FRA\",\"GEO\",\"DEU\",\"GHA\",\"IND\",\"IDN\",\"IRL\",\"JAM\",\"JPN\",\"JOR\",\"KEN\",\"LBN\",\"NAM\",\"NZL\",\"NGA\",\"NOR\",\"PAK\",\"PER\",\"PHL\",\"POL\",\"PRI\",\"QAT\",\"RWA\",\"ZAF\",\"ESP\",\"SWE\",\"CHE\",\"USA\",\"UGA\",\"ARE\",\"GBR\"],\"name\":\"\",\"z\":[26,1,1,5,36,1,4,2,1,1,1,1,3,1,5,1,31,2,9,5,3,1,2,3,1,4,32,1,3,1,4,1,1,4,3,11,4,1,7,165,2,3,80],\"type\":\"choropleth\"}],\"name\":\"2020-08-29\"},{\"data\":[{\"coloraxis\":\"coloraxis\",\"geo\":\"geo\",\"hovertemplate\":\"<b>%{hovertext}</b><br><br>day=2020-08-30<br>alpha3=%{location}<br>text=%{z}<extra></extra>\",\"hovertext\":[\"Afghanistan\",\"Argentina\",\"Australia\",\"Austria\",\"Bangladesh\",\"Belgium\",\"Brazil\",\"Bulgaria\",\"Canada\",\"China\",\"Colombia\",\"Cuba\",\"Denmark\",\"Egypt\",\"Estonia\",\"Ethiopia\",\"Finland\",\"France\",\"Georgia\",\"Germany\",\"Ghana\",\"Greece\",\"Hungary\",\"India\",\"Indonesia\",\"Iraq\",\"Ireland\",\"Italy\",\"Jamaica\",\"Japan\",\"Jordan\",\"Kenya\",\"Malaysia\",\"Nepal\",\"New Zealand\",\"Nigeria\",\"Norway\",\"Oman\",\"Pakistan\",\"Peru\",\"Philippines\",\"Qatar\",\"Russian Federation\",\"Rwanda\",\"Saudi Arabia\",\"Senegal\",\"Serbia\",\"Singapore\",\"Slovakia\",\"South Africa\",\"Spain\",\"Sri Lanka\",\"Sweden\",\"Switzerland\",\"Thailand\",\"USA\",\"Uganda\",\"United Arab Emirates\",\"United Kingdom\",\"Zambia\",\"Zimbabwe\"],\"locations\":[\"AFG\",\"ARG\",\"AUS\",\"AUT\",\"BGD\",\"BEL\",\"BRA\",\"BGR\",\"CAN\",\"CHN\",\"COL\",\"CUB\",\"DNK\",\"EGY\",\"EST\",\"ETH\",\"FIN\",\"FRA\",\"GEO\",\"DEU\",\"GHA\",\"GRC\",\"HUN\",\"IND\",\"IDN\",\"IRQ\",\"IRL\",\"ITA\",\"JAM\",\"JPN\",\"JOR\",\"KEN\",\"MYS\",\"NPL\",\"NZL\",\"NGA\",\"NOR\",\"OMN\",\"PAK\",\"PER\",\"PHL\",\"QAT\",\"RUS\",\"RWA\",\"SAU\",\"SEN\",\"SRB\",\"SGP\",\"SVK\",\"ZAF\",\"ESP\",\"LKA\",\"SWE\",\"CHE\",\"THA\",\"USA\",\"UGA\",\"ARE\",\"GBR\",\"ZMB\",\"ZWE\"],\"name\":\"\",\"z\":[1,1,63,2,3,6,2,1,34,27,1,1,7,1,1,4,2,9,3,13,15,1,1,544,4,1,12,6,5,6,1,18,5,5,13,51,4,3,12,1,33,2,1,4,2,1,1,1,1,30,7,6,1,11,7,251,9,15,205,1,4],\"type\":\"choropleth\"}],\"name\":\"2020-08-30\"}]);\n",
              "                        }).then(function(){\n",
              "                            \n",
              "var gd = document.getElementById('0353072d-34d3-4104-b34e-d2b014e38839');\n",
              "var x = new MutationObserver(function (mutations, observer) {{\n",
              "        var display = window.getComputedStyle(gd).display;\n",
              "        if (!display || display === 'none') {{\n",
              "            console.log([gd, 'removed!']);\n",
              "            Plotly.purge(gd);\n",
              "            observer.disconnect();\n",
              "        }}\n",
              "}});\n",
              "\n",
              "// Listen for the removal of the full notebook cells\n",
              "var notebookContainer = gd.closest('#notebook-container');\n",
              "if (notebookContainer) {{\n",
              "    x.observe(notebookContainer, {childList: true});\n",
              "}}\n",
              "\n",
              "// Listen for the clearing of the current output cell\n",
              "var outputEl = gd.closest('.output');\n",
              "if (outputEl) {{\n",
              "    x.observe(outputEl, {childList: true});\n",
              "}}\n",
              "\n",
              "                        })                };                            </script>        </div>\n",
              "</body>\n",
              "</html>"
            ]
          },
          "metadata": {}
        }
      ]
    },
    {
      "cell_type": "code",
      "source": [
        "res = df.groupby(['day', 'location', 'user_name'])['text'].count().reset_index()\n",
        "res = res[['day', 'location', 'user_name']]\n",
        "res['alpha3'] = res['location']\n",
        "res = res.replace({\"alpha3\": country_dict})\n",
        "\n",
        "country_list = ['England', 'United States', 'United Kingdom', 'London', 'UK']\n",
        "\n",
        "res = res[\n",
        "    (res['alpha3'] == 'USA') | \n",
        "    (res['location'].isin(country_list)) | \n",
        "    (res['location'] != res['alpha3'])\n",
        "]\n",
        "\n",
        "gbr = ['England', 'UK', 'London', 'United Kingdom']\n",
        "us = ['United States', 'NY', 'CA', 'GA']\n",
        "\n",
        "res = res[res['location'].notnull()]\n",
        "res.loc[res['location'].isin(gbr), 'alpha3'] = 'GBR'\n",
        "res.loc[res['location'].isin(us), 'alpha3'] = 'USA'\n",
        "res.loc[res['alpha3'] == 'USA', 'location'] = 'USA'\n",
        "res.loc[res['alpha3'] == 'GBR', 'location'] = 'United Kingdom'\n",
        "plot = res.groupby(['day', 'location', 'alpha3'])['user_name'].count().reset_index()"
      ],
      "metadata": {
        "id": "jymd919qu2BV"
      },
      "execution_count": 21,
      "outputs": []
    },
    {
      "cell_type": "code",
      "source": [
        "fig = px.choropleth(\n",
        "    plot, \n",
        "    locations=\"alpha3\",\n",
        "    hover_name='location',\n",
        "    color=\"user_name\",\n",
        "    animation_frame='day',\n",
        "    projection=\"natural earth\",\n",
        "    color_continuous_scale=px.colors.sequential.Plasma,\n",
        "    title='Numbers of active users for every day',\n",
        "    width=800, \n",
        "    height=600\n",
        ")\n",
        "fig.show()"
      ],
      "metadata": {
        "colab": {
          "base_uri": "https://localhost:8080/",
          "height": 637
        },
        "id": "FIQlkGuvu2Hr",
        "outputId": "b2920b88-306c-4cf2-a3d8-5502335741ab"
      },
      "execution_count": 22,
      "outputs": [
        {
          "output_type": "display_data",
          "data": {
            "text/html": [
              "<html>\n",
              "<head><meta charset=\"utf-8\" /></head>\n",
              "<body>\n",
              "    <div>            <script src=\"https://cdnjs.cloudflare.com/ajax/libs/mathjax/2.7.5/MathJax.js?config=TeX-AMS-MML_SVG\"></script><script type=\"text/javascript\">if (window.MathJax) {MathJax.Hub.Config({SVG: {font: \"STIX-Web\"}});}</script>                <script type=\"text/javascript\">window.PlotlyConfig = {MathJaxConfig: 'local'};</script>\n",
              "        <script src=\"https://cdn.plot.ly/plotly-2.8.3.min.js\"></script>                <div id=\"90f77ff3-b3f0-410d-8aa0-7d55acd56efc\" class=\"plotly-graph-div\" style=\"height:600px; width:800px;\"></div>            <script type=\"text/javascript\">                                    window.PLOTLYENV=window.PLOTLYENV || {};                                    if (document.getElementById(\"90f77ff3-b3f0-410d-8aa0-7d55acd56efc\")) {                    Plotly.newPlot(                        \"90f77ff3-b3f0-410d-8aa0-7d55acd56efc\",                        [{\"coloraxis\":\"coloraxis\",\"geo\":\"geo\",\"hovertemplate\":\"<b>%{hovertext}</b><br><br>day=2020-07-24<br>alpha3=%{location}<br>user_name=%{z}<extra></extra>\",\"hovertext\":[\"Australia\",\"Canada\",\"Colombia\",\"India\",\"Ireland\",\"Morocco\",\"Nigeria\",\"Puerto Rico\",\"Switzerland\",\"USA\",\"United Kingdom\"],\"locations\":[\"AUS\",\"CAN\",\"COL\",\"IND\",\"IRL\",\"MAR\",\"NGA\",\"PRI\",\"CHE\",\"USA\",\"GBR\"],\"name\":\"\",\"z\":[3,5,1,1,1,1,3,1,1,19,5],\"type\":\"choropleth\"}],                        {\"template\":{\"data\":{\"bar\":[{\"error_x\":{\"color\":\"#2a3f5f\"},\"error_y\":{\"color\":\"#2a3f5f\"},\"marker\":{\"line\":{\"color\":\"#E5ECF6\",\"width\":0.5},\"pattern\":{\"fillmode\":\"overlay\",\"size\":10,\"solidity\":0.2}},\"type\":\"bar\"}],\"barpolar\":[{\"marker\":{\"line\":{\"color\":\"#E5ECF6\",\"width\":0.5},\"pattern\":{\"fillmode\":\"overlay\",\"size\":10,\"solidity\":0.2}},\"type\":\"barpolar\"}],\"carpet\":[{\"aaxis\":{\"endlinecolor\":\"#2a3f5f\",\"gridcolor\":\"white\",\"linecolor\":\"white\",\"minorgridcolor\":\"white\",\"startlinecolor\":\"#2a3f5f\"},\"baxis\":{\"endlinecolor\":\"#2a3f5f\",\"gridcolor\":\"white\",\"linecolor\":\"white\",\"minorgridcolor\":\"white\",\"startlinecolor\":\"#2a3f5f\"},\"type\":\"carpet\"}],\"choropleth\":[{\"colorbar\":{\"outlinewidth\":0,\"ticks\":\"\"},\"type\":\"choropleth\"}],\"contour\":[{\"colorbar\":{\"outlinewidth\":0,\"ticks\":\"\"},\"colorscale\":[[0.0,\"#0d0887\"],[0.1111111111111111,\"#46039f\"],[0.2222222222222222,\"#7201a8\"],[0.3333333333333333,\"#9c179e\"],[0.4444444444444444,\"#bd3786\"],[0.5555555555555556,\"#d8576b\"],[0.6666666666666666,\"#ed7953\"],[0.7777777777777778,\"#fb9f3a\"],[0.8888888888888888,\"#fdca26\"],[1.0,\"#f0f921\"]],\"type\":\"contour\"}],\"contourcarpet\":[{\"colorbar\":{\"outlinewidth\":0,\"ticks\":\"\"},\"type\":\"contourcarpet\"}],\"heatmap\":[{\"colorbar\":{\"outlinewidth\":0,\"ticks\":\"\"},\"colorscale\":[[0.0,\"#0d0887\"],[0.1111111111111111,\"#46039f\"],[0.2222222222222222,\"#7201a8\"],[0.3333333333333333,\"#9c179e\"],[0.4444444444444444,\"#bd3786\"],[0.5555555555555556,\"#d8576b\"],[0.6666666666666666,\"#ed7953\"],[0.7777777777777778,\"#fb9f3a\"],[0.8888888888888888,\"#fdca26\"],[1.0,\"#f0f921\"]],\"type\":\"heatmap\"}],\"heatmapgl\":[{\"colorbar\":{\"outlinewidth\":0,\"ticks\":\"\"},\"colorscale\":[[0.0,\"#0d0887\"],[0.1111111111111111,\"#46039f\"],[0.2222222222222222,\"#7201a8\"],[0.3333333333333333,\"#9c179e\"],[0.4444444444444444,\"#bd3786\"],[0.5555555555555556,\"#d8576b\"],[0.6666666666666666,\"#ed7953\"],[0.7777777777777778,\"#fb9f3a\"],[0.8888888888888888,\"#fdca26\"],[1.0,\"#f0f921\"]],\"type\":\"heatmapgl\"}],\"histogram\":[{\"marker\":{\"pattern\":{\"fillmode\":\"overlay\",\"size\":10,\"solidity\":0.2}},\"type\":\"histogram\"}],\"histogram2d\":[{\"colorbar\":{\"outlinewidth\":0,\"ticks\":\"\"},\"colorscale\":[[0.0,\"#0d0887\"],[0.1111111111111111,\"#46039f\"],[0.2222222222222222,\"#7201a8\"],[0.3333333333333333,\"#9c179e\"],[0.4444444444444444,\"#bd3786\"],[0.5555555555555556,\"#d8576b\"],[0.6666666666666666,\"#ed7953\"],[0.7777777777777778,\"#fb9f3a\"],[0.8888888888888888,\"#fdca26\"],[1.0,\"#f0f921\"]],\"type\":\"histogram2d\"}],\"histogram2dcontour\":[{\"colorbar\":{\"outlinewidth\":0,\"ticks\":\"\"},\"colorscale\":[[0.0,\"#0d0887\"],[0.1111111111111111,\"#46039f\"],[0.2222222222222222,\"#7201a8\"],[0.3333333333333333,\"#9c179e\"],[0.4444444444444444,\"#bd3786\"],[0.5555555555555556,\"#d8576b\"],[0.6666666666666666,\"#ed7953\"],[0.7777777777777778,\"#fb9f3a\"],[0.8888888888888888,\"#fdca26\"],[1.0,\"#f0f921\"]],\"type\":\"histogram2dcontour\"}],\"mesh3d\":[{\"colorbar\":{\"outlinewidth\":0,\"ticks\":\"\"},\"type\":\"mesh3d\"}],\"parcoords\":[{\"line\":{\"colorbar\":{\"outlinewidth\":0,\"ticks\":\"\"}},\"type\":\"parcoords\"}],\"pie\":[{\"automargin\":true,\"type\":\"pie\"}],\"scatter\":[{\"marker\":{\"colorbar\":{\"outlinewidth\":0,\"ticks\":\"\"}},\"type\":\"scatter\"}],\"scatter3d\":[{\"line\":{\"colorbar\":{\"outlinewidth\":0,\"ticks\":\"\"}},\"marker\":{\"colorbar\":{\"outlinewidth\":0,\"ticks\":\"\"}},\"type\":\"scatter3d\"}],\"scattercarpet\":[{\"marker\":{\"colorbar\":{\"outlinewidth\":0,\"ticks\":\"\"}},\"type\":\"scattercarpet\"}],\"scattergeo\":[{\"marker\":{\"colorbar\":{\"outlinewidth\":0,\"ticks\":\"\"}},\"type\":\"scattergeo\"}],\"scattergl\":[{\"marker\":{\"colorbar\":{\"outlinewidth\":0,\"ticks\":\"\"}},\"type\":\"scattergl\"}],\"scattermapbox\":[{\"marker\":{\"colorbar\":{\"outlinewidth\":0,\"ticks\":\"\"}},\"type\":\"scattermapbox\"}],\"scatterpolar\":[{\"marker\":{\"colorbar\":{\"outlinewidth\":0,\"ticks\":\"\"}},\"type\":\"scatterpolar\"}],\"scatterpolargl\":[{\"marker\":{\"colorbar\":{\"outlinewidth\":0,\"ticks\":\"\"}},\"type\":\"scatterpolargl\"}],\"scatterternary\":[{\"marker\":{\"colorbar\":{\"outlinewidth\":0,\"ticks\":\"\"}},\"type\":\"scatterternary\"}],\"surface\":[{\"colorbar\":{\"outlinewidth\":0,\"ticks\":\"\"},\"colorscale\":[[0.0,\"#0d0887\"],[0.1111111111111111,\"#46039f\"],[0.2222222222222222,\"#7201a8\"],[0.3333333333333333,\"#9c179e\"],[0.4444444444444444,\"#bd3786\"],[0.5555555555555556,\"#d8576b\"],[0.6666666666666666,\"#ed7953\"],[0.7777777777777778,\"#fb9f3a\"],[0.8888888888888888,\"#fdca26\"],[1.0,\"#f0f921\"]],\"type\":\"surface\"}],\"table\":[{\"cells\":{\"fill\":{\"color\":\"#EBF0F8\"},\"line\":{\"color\":\"white\"}},\"header\":{\"fill\":{\"color\":\"#C8D4E3\"},\"line\":{\"color\":\"white\"}},\"type\":\"table\"}]},\"layout\":{\"annotationdefaults\":{\"arrowcolor\":\"#2a3f5f\",\"arrowhead\":0,\"arrowwidth\":1},\"autotypenumbers\":\"strict\",\"coloraxis\":{\"colorbar\":{\"outlinewidth\":0,\"ticks\":\"\"}},\"colorscale\":{\"diverging\":[[0,\"#8e0152\"],[0.1,\"#c51b7d\"],[0.2,\"#de77ae\"],[0.3,\"#f1b6da\"],[0.4,\"#fde0ef\"],[0.5,\"#f7f7f7\"],[0.6,\"#e6f5d0\"],[0.7,\"#b8e186\"],[0.8,\"#7fbc41\"],[0.9,\"#4d9221\"],[1,\"#276419\"]],\"sequential\":[[0.0,\"#0d0887\"],[0.1111111111111111,\"#46039f\"],[0.2222222222222222,\"#7201a8\"],[0.3333333333333333,\"#9c179e\"],[0.4444444444444444,\"#bd3786\"],[0.5555555555555556,\"#d8576b\"],[0.6666666666666666,\"#ed7953\"],[0.7777777777777778,\"#fb9f3a\"],[0.8888888888888888,\"#fdca26\"],[1.0,\"#f0f921\"]],\"sequentialminus\":[[0.0,\"#0d0887\"],[0.1111111111111111,\"#46039f\"],[0.2222222222222222,\"#7201a8\"],[0.3333333333333333,\"#9c179e\"],[0.4444444444444444,\"#bd3786\"],[0.5555555555555556,\"#d8576b\"],[0.6666666666666666,\"#ed7953\"],[0.7777777777777778,\"#fb9f3a\"],[0.8888888888888888,\"#fdca26\"],[1.0,\"#f0f921\"]]},\"colorway\":[\"#636efa\",\"#EF553B\",\"#00cc96\",\"#ab63fa\",\"#FFA15A\",\"#19d3f3\",\"#FF6692\",\"#B6E880\",\"#FF97FF\",\"#FECB52\"],\"font\":{\"color\":\"#2a3f5f\"},\"geo\":{\"bgcolor\":\"white\",\"lakecolor\":\"white\",\"landcolor\":\"#E5ECF6\",\"showlakes\":true,\"showland\":true,\"subunitcolor\":\"white\"},\"hoverlabel\":{\"align\":\"left\"},\"hovermode\":\"closest\",\"mapbox\":{\"style\":\"light\"},\"paper_bgcolor\":\"white\",\"plot_bgcolor\":\"#E5ECF6\",\"polar\":{\"angularaxis\":{\"gridcolor\":\"white\",\"linecolor\":\"white\",\"ticks\":\"\"},\"bgcolor\":\"#E5ECF6\",\"radialaxis\":{\"gridcolor\":\"white\",\"linecolor\":\"white\",\"ticks\":\"\"}},\"scene\":{\"xaxis\":{\"backgroundcolor\":\"#E5ECF6\",\"gridcolor\":\"white\",\"gridwidth\":2,\"linecolor\":\"white\",\"showbackground\":true,\"ticks\":\"\",\"zerolinecolor\":\"white\"},\"yaxis\":{\"backgroundcolor\":\"#E5ECF6\",\"gridcolor\":\"white\",\"gridwidth\":2,\"linecolor\":\"white\",\"showbackground\":true,\"ticks\":\"\",\"zerolinecolor\":\"white\"},\"zaxis\":{\"backgroundcolor\":\"#E5ECF6\",\"gridcolor\":\"white\",\"gridwidth\":2,\"linecolor\":\"white\",\"showbackground\":true,\"ticks\":\"\",\"zerolinecolor\":\"white\"}},\"shapedefaults\":{\"line\":{\"color\":\"#2a3f5f\"}},\"ternary\":{\"aaxis\":{\"gridcolor\":\"white\",\"linecolor\":\"white\",\"ticks\":\"\"},\"baxis\":{\"gridcolor\":\"white\",\"linecolor\":\"white\",\"ticks\":\"\"},\"bgcolor\":\"#E5ECF6\",\"caxis\":{\"gridcolor\":\"white\",\"linecolor\":\"white\",\"ticks\":\"\"}},\"title\":{\"x\":0.05},\"xaxis\":{\"automargin\":true,\"gridcolor\":\"white\",\"linecolor\":\"white\",\"ticks\":\"\",\"title\":{\"standoff\":15},\"zerolinecolor\":\"white\",\"zerolinewidth\":2},\"yaxis\":{\"automargin\":true,\"gridcolor\":\"white\",\"linecolor\":\"white\",\"ticks\":\"\",\"title\":{\"standoff\":15},\"zerolinecolor\":\"white\",\"zerolinewidth\":2}}},\"geo\":{\"domain\":{\"x\":[0.0,1.0],\"y\":[0.0,1.0]},\"projection\":{\"type\":\"natural earth\"},\"center\":{}},\"coloraxis\":{\"colorbar\":{\"title\":{\"text\":\"user_name\"}},\"colorscale\":[[0.0,\"#0d0887\"],[0.1111111111111111,\"#46039f\"],[0.2222222222222222,\"#7201a8\"],[0.3333333333333333,\"#9c179e\"],[0.4444444444444444,\"#bd3786\"],[0.5555555555555556,\"#d8576b\"],[0.6666666666666666,\"#ed7953\"],[0.7777777777777778,\"#fb9f3a\"],[0.8888888888888888,\"#fdca26\"],[1.0,\"#f0f921\"]]},\"legend\":{\"tracegroupgap\":0},\"title\":{\"text\":\"Numbers of active users for every day\"},\"height\":600,\"width\":800,\"updatemenus\":[{\"buttons\":[{\"args\":[null,{\"frame\":{\"duration\":500,\"redraw\":true},\"mode\":\"immediate\",\"fromcurrent\":true,\"transition\":{\"duration\":500,\"easing\":\"linear\"}}],\"label\":\"&#9654;\",\"method\":\"animate\"},{\"args\":[[null],{\"frame\":{\"duration\":0,\"redraw\":true},\"mode\":\"immediate\",\"fromcurrent\":true,\"transition\":{\"duration\":0,\"easing\":\"linear\"}}],\"label\":\"&#9724;\",\"method\":\"animate\"}],\"direction\":\"left\",\"pad\":{\"r\":10,\"t\":70},\"showactive\":false,\"type\":\"buttons\",\"x\":0.1,\"xanchor\":\"right\",\"y\":0,\"yanchor\":\"top\"}],\"sliders\":[{\"active\":0,\"currentvalue\":{\"prefix\":\"day=\"},\"len\":0.9,\"pad\":{\"b\":10,\"t\":60},\"steps\":[{\"args\":[[\"2020-07-24\"],{\"frame\":{\"duration\":0,\"redraw\":true},\"mode\":\"immediate\",\"fromcurrent\":true,\"transition\":{\"duration\":0,\"easing\":\"linear\"}}],\"label\":\"2020-07-24\",\"method\":\"animate\"},{\"args\":[[\"2020-07-25\"],{\"frame\":{\"duration\":0,\"redraw\":true},\"mode\":\"immediate\",\"fromcurrent\":true,\"transition\":{\"duration\":0,\"easing\":\"linear\"}}],\"label\":\"2020-07-25\",\"method\":\"animate\"},{\"args\":[[\"2020-07-26\"],{\"frame\":{\"duration\":0,\"redraw\":true},\"mode\":\"immediate\",\"fromcurrent\":true,\"transition\":{\"duration\":0,\"easing\":\"linear\"}}],\"label\":\"2020-07-26\",\"method\":\"animate\"},{\"args\":[[\"2020-07-27\"],{\"frame\":{\"duration\":0,\"redraw\":true},\"mode\":\"immediate\",\"fromcurrent\":true,\"transition\":{\"duration\":0,\"easing\":\"linear\"}}],\"label\":\"2020-07-27\",\"method\":\"animate\"},{\"args\":[[\"2020-07-28\"],{\"frame\":{\"duration\":0,\"redraw\":true},\"mode\":\"immediate\",\"fromcurrent\":true,\"transition\":{\"duration\":0,\"easing\":\"linear\"}}],\"label\":\"2020-07-28\",\"method\":\"animate\"},{\"args\":[[\"2020-07-29\"],{\"frame\":{\"duration\":0,\"redraw\":true},\"mode\":\"immediate\",\"fromcurrent\":true,\"transition\":{\"duration\":0,\"easing\":\"linear\"}}],\"label\":\"2020-07-29\",\"method\":\"animate\"},{\"args\":[[\"2020-07-30\"],{\"frame\":{\"duration\":0,\"redraw\":true},\"mode\":\"immediate\",\"fromcurrent\":true,\"transition\":{\"duration\":0,\"easing\":\"linear\"}}],\"label\":\"2020-07-30\",\"method\":\"animate\"},{\"args\":[[\"2020-07-31\"],{\"frame\":{\"duration\":0,\"redraw\":true},\"mode\":\"immediate\",\"fromcurrent\":true,\"transition\":{\"duration\":0,\"easing\":\"linear\"}}],\"label\":\"2020-07-31\",\"method\":\"animate\"},{\"args\":[[\"2020-08-01\"],{\"frame\":{\"duration\":0,\"redraw\":true},\"mode\":\"immediate\",\"fromcurrent\":true,\"transition\":{\"duration\":0,\"easing\":\"linear\"}}],\"label\":\"2020-08-01\",\"method\":\"animate\"},{\"args\":[[\"2020-08-02\"],{\"frame\":{\"duration\":0,\"redraw\":true},\"mode\":\"immediate\",\"fromcurrent\":true,\"transition\":{\"duration\":0,\"easing\":\"linear\"}}],\"label\":\"2020-08-02\",\"method\":\"animate\"},{\"args\":[[\"2020-08-04\"],{\"frame\":{\"duration\":0,\"redraw\":true},\"mode\":\"immediate\",\"fromcurrent\":true,\"transition\":{\"duration\":0,\"easing\":\"linear\"}}],\"label\":\"2020-08-04\",\"method\":\"animate\"},{\"args\":[[\"2020-08-06\"],{\"frame\":{\"duration\":0,\"redraw\":true},\"mode\":\"immediate\",\"fromcurrent\":true,\"transition\":{\"duration\":0,\"easing\":\"linear\"}}],\"label\":\"2020-08-06\",\"method\":\"animate\"},{\"args\":[[\"2020-08-07\"],{\"frame\":{\"duration\":0,\"redraw\":true},\"mode\":\"immediate\",\"fromcurrent\":true,\"transition\":{\"duration\":0,\"easing\":\"linear\"}}],\"label\":\"2020-08-07\",\"method\":\"animate\"},{\"args\":[[\"2020-08-08\"],{\"frame\":{\"duration\":0,\"redraw\":true},\"mode\":\"immediate\",\"fromcurrent\":true,\"transition\":{\"duration\":0,\"easing\":\"linear\"}}],\"label\":\"2020-08-08\",\"method\":\"animate\"},{\"args\":[[\"2020-08-09\"],{\"frame\":{\"duration\":0,\"redraw\":true},\"mode\":\"immediate\",\"fromcurrent\":true,\"transition\":{\"duration\":0,\"easing\":\"linear\"}}],\"label\":\"2020-08-09\",\"method\":\"animate\"},{\"args\":[[\"2020-08-10\"],{\"frame\":{\"duration\":0,\"redraw\":true},\"mode\":\"immediate\",\"fromcurrent\":true,\"transition\":{\"duration\":0,\"easing\":\"linear\"}}],\"label\":\"2020-08-10\",\"method\":\"animate\"},{\"args\":[[\"2020-08-11\"],{\"frame\":{\"duration\":0,\"redraw\":true},\"mode\":\"immediate\",\"fromcurrent\":true,\"transition\":{\"duration\":0,\"easing\":\"linear\"}}],\"label\":\"2020-08-11\",\"method\":\"animate\"},{\"args\":[[\"2020-08-12\"],{\"frame\":{\"duration\":0,\"redraw\":true},\"mode\":\"immediate\",\"fromcurrent\":true,\"transition\":{\"duration\":0,\"easing\":\"linear\"}}],\"label\":\"2020-08-12\",\"method\":\"animate\"},{\"args\":[[\"2020-08-13\"],{\"frame\":{\"duration\":0,\"redraw\":true},\"mode\":\"immediate\",\"fromcurrent\":true,\"transition\":{\"duration\":0,\"easing\":\"linear\"}}],\"label\":\"2020-08-13\",\"method\":\"animate\"},{\"args\":[[\"2020-08-14\"],{\"frame\":{\"duration\":0,\"redraw\":true},\"mode\":\"immediate\",\"fromcurrent\":true,\"transition\":{\"duration\":0,\"easing\":\"linear\"}}],\"label\":\"2020-08-14\",\"method\":\"animate\"},{\"args\":[[\"2020-08-16\"],{\"frame\":{\"duration\":0,\"redraw\":true},\"mode\":\"immediate\",\"fromcurrent\":true,\"transition\":{\"duration\":0,\"easing\":\"linear\"}}],\"label\":\"2020-08-16\",\"method\":\"animate\"},{\"args\":[[\"2020-08-17\"],{\"frame\":{\"duration\":0,\"redraw\":true},\"mode\":\"immediate\",\"fromcurrent\":true,\"transition\":{\"duration\":0,\"easing\":\"linear\"}}],\"label\":\"2020-08-17\",\"method\":\"animate\"},{\"args\":[[\"2020-08-18\"],{\"frame\":{\"duration\":0,\"redraw\":true},\"mode\":\"immediate\",\"fromcurrent\":true,\"transition\":{\"duration\":0,\"easing\":\"linear\"}}],\"label\":\"2020-08-18\",\"method\":\"animate\"},{\"args\":[[\"2020-08-22\"],{\"frame\":{\"duration\":0,\"redraw\":true},\"mode\":\"immediate\",\"fromcurrent\":true,\"transition\":{\"duration\":0,\"easing\":\"linear\"}}],\"label\":\"2020-08-22\",\"method\":\"animate\"},{\"args\":[[\"2020-08-29\"],{\"frame\":{\"duration\":0,\"redraw\":true},\"mode\":\"immediate\",\"fromcurrent\":true,\"transition\":{\"duration\":0,\"easing\":\"linear\"}}],\"label\":\"2020-08-29\",\"method\":\"animate\"},{\"args\":[[\"2020-08-30\"],{\"frame\":{\"duration\":0,\"redraw\":true},\"mode\":\"immediate\",\"fromcurrent\":true,\"transition\":{\"duration\":0,\"easing\":\"linear\"}}],\"label\":\"2020-08-30\",\"method\":\"animate\"}],\"x\":0.1,\"xanchor\":\"left\",\"y\":0,\"yanchor\":\"top\"}]},                        {\"responsive\": true}                    ).then(function(){\n",
              "                            Plotly.addFrames('90f77ff3-b3f0-410d-8aa0-7d55acd56efc', [{\"data\":[{\"coloraxis\":\"coloraxis\",\"geo\":\"geo\",\"hovertemplate\":\"<b>%{hovertext}</b><br><br>day=2020-07-24<br>alpha3=%{location}<br>user_name=%{z}<extra></extra>\",\"hovertext\":[\"Australia\",\"Canada\",\"Colombia\",\"India\",\"Ireland\",\"Morocco\",\"Nigeria\",\"Puerto Rico\",\"Switzerland\",\"USA\",\"United Kingdom\"],\"locations\":[\"AUS\",\"CAN\",\"COL\",\"IND\",\"IRL\",\"MAR\",\"NGA\",\"PRI\",\"CHE\",\"USA\",\"GBR\"],\"name\":\"\",\"z\":[3,5,1,1,1,1,3,1,1,19,5],\"type\":\"choropleth\"}],\"name\":\"2020-07-24\"},{\"data\":[{\"coloraxis\":\"coloraxis\",\"geo\":\"geo\",\"hovertemplate\":\"<b>%{hovertext}</b><br><br>day=2020-07-25<br>alpha3=%{location}<br>user_name=%{z}<extra></extra>\",\"hovertext\":[\"Afghanistan\",\"Argentina\",\"Australia\",\"Austria\",\"Bangladesh\",\"Belgium\",\"Brazil\",\"Cambodia\",\"Cameroon\",\"Canada\",\"China\",\"Congo\",\"Costa Rica\",\"Cyprus\",\"Denmark\",\"Ecuador\",\"Egypt\",\"Estonia\",\"Ethiopia\",\"Fiji\",\"Finland\",\"France\",\"Georgia\",\"Germany\",\"Ghana\",\"Greece\",\"Hong Kong\",\"India\",\"Indonesia\",\"Ireland\",\"Israel\",\"Italy\",\"Jamaica\",\"Japan\",\"Kazakhstan\",\"Kenya\",\"Lebanon\",\"Liechtenstein\",\"Malaysia\",\"Maldives\",\"Mexico\",\"Morocco\",\"Namibia\",\"Nepal\",\"Netherlands\",\"New Zealand\",\"Nigeria\",\"Oman\",\"Pakistan\",\"Papua New Guinea\",\"Peru\",\"Philippines\",\"Portugal\",\"Qatar\",\"Rwanda\",\"Saudi Arabia\",\"Senegal\",\"Singapore\",\"South Africa\",\"South Sudan\",\"Spain\",\"Sri Lanka\",\"Sweden\",\"Switzerland\",\"Thailand\",\"Turkey\",\"USA\",\"Uganda\",\"United Arab Emirates\",\"United Kingdom\",\"Uruguay\",\"Viet Nam\",\"Zambia\",\"Zimbabwe\"],\"locations\":[\"AFG\",\"ARG\",\"AUS\",\"AUT\",\"BGD\",\"BEL\",\"BRA\",\"KHM\",\"CMR\",\"CAN\",\"CHN\",\"COG\",\"CRI\",\"CYP\",\"DNK\",\"ECU\",\"EGY\",\"EST\",\"ETH\",\"FJI\",\"FIN\",\"FRA\",\"GEO\",\"DEU\",\"GHA\",\"GRC\",\"HKG\",\"IND\",\"IDN\",\"IRL\",\"ISR\",\"ITA\",\"JAM\",\"JPN\",\"KAZ\",\"KEN\",\"LBN\",\"LIE\",\"MYS\",\"MDV\",\"MEX\",\"MAR\",\"NAM\",\"NPL\",\"NLD\",\"NZL\",\"NGA\",\"OMN\",\"PAK\",\"PNG\",\"PER\",\"PHL\",\"PRT\",\"QAT\",\"RWA\",\"SAU\",\"SEN\",\"SGP\",\"ZAF\",\"SSD\",\"ESP\",\"LKA\",\"SWE\",\"CHE\",\"THA\",\"TUR\",\"USA\",\"UGA\",\"ARE\",\"GBR\",\"URY\",\"VNM\",\"ZMB\",\"ZWE\"],\"name\":\"\",\"z\":[3,1,63,7,8,14,1,1,2,52,15,1,1,1,3,2,3,2,1,1,3,16,5,26,6,2,1,536,2,41,1,6,3,8,2,58,4,1,12,1,2,1,1,4,1,6,135,4,38,1,2,27,1,16,2,1,2,3,108,4,10,6,4,21,17,2,383,14,14,549,1,1,5,2],\"type\":\"choropleth\"}],\"name\":\"2020-07-25\"},{\"data\":[{\"coloraxis\":\"coloraxis\",\"geo\":\"geo\",\"hovertemplate\":\"<b>%{hovertext}</b><br><br>day=2020-07-26<br>alpha3=%{location}<br>user_name=%{z}<extra></extra>\",\"hovertext\":[\"Afghanistan\",\"Argentina\",\"Australia\",\"Austria\",\"Bangladesh\",\"Belgium\",\"Cameroon\",\"Canada\",\"China\",\"Colombia\",\"Congo\",\"Costa Rica\",\"Cuba\",\"Cyprus\",\"Denmark\",\"Ecuador\",\"Ethiopia\",\"Fiji\",\"Finland\",\"France\",\"Georgia\",\"Germany\",\"Ghana\",\"Greece\",\"Hungary\",\"India\",\"Indonesia\",\"Ireland\",\"Israel\",\"Italy\",\"Japan\",\"Jordan\",\"Kenya\",\"Kuwait\",\"Lebanon\",\"Liberia\",\"Luxembourg\",\"Malaysia\",\"Maldives\",\"Mexico\",\"Namibia\",\"Nepal\",\"New Zealand\",\"Nigeria\",\"Norway\",\"Oman\",\"Pakistan\",\"Philippines\",\"Qatar\",\"Romania\",\"Saudi Arabia\",\"Senegal\",\"Singapore\",\"South Africa\",\"South Sudan\",\"Spain\",\"Sri Lanka\",\"Sweden\",\"Switzerland\",\"Thailand\",\"Tunisia\",\"USA\",\"Uganda\",\"United Arab Emirates\",\"United Kingdom\",\"Viet Nam\",\"Zambia\",\"Zimbabwe\"],\"locations\":[\"AFG\",\"ARG\",\"AUS\",\"AUT\",\"BGD\",\"BEL\",\"CMR\",\"CAN\",\"CHN\",\"COL\",\"COG\",\"CRI\",\"CUB\",\"CYP\",\"DNK\",\"ECU\",\"ETH\",\"FJI\",\"FIN\",\"FRA\",\"GEO\",\"DEU\",\"GHA\",\"GRC\",\"HUN\",\"IND\",\"IDN\",\"IRL\",\"ISR\",\"ITA\",\"JPN\",\"JOR\",\"KEN\",\"KWT\",\"LBN\",\"LBR\",\"LUX\",\"MYS\",\"MDV\",\"MEX\",\"NAM\",\"NPL\",\"NZL\",\"NGA\",\"NOR\",\"OMN\",\"PAK\",\"PHL\",\"QAT\",\"ROU\",\"SAU\",\"SEN\",\"SGP\",\"ZAF\",\"SSD\",\"ESP\",\"LKA\",\"SWE\",\"CHE\",\"THA\",\"TUN\",\"USA\",\"UGA\",\"ARE\",\"GBR\",\"VNM\",\"ZMB\",\"ZWE\"],\"name\":\"\",\"z\":[5,1,44,4,3,7,1,26,7,2,1,1,1,1,2,1,3,1,2,16,4,8,4,2,1,298,1,18,5,4,5,2,29,1,5,1,1,2,1,1,1,2,4,48,1,5,9,15,5,1,1,1,2,44,2,4,3,1,13,11,1,165,5,15,196,1,1,3],\"type\":\"choropleth\"}],\"name\":\"2020-07-26\"},{\"data\":[{\"coloraxis\":\"coloraxis\",\"geo\":\"geo\",\"hovertemplate\":\"<b>%{hovertext}</b><br><br>day=2020-07-27<br>alpha3=%{location}<br>user_name=%{z}<extra></extra>\",\"hovertext\":[\"Australia\",\"Austria\",\"Azerbaijan\",\"Bangladesh\",\"Belgium\",\"Cambodia\",\"Cameroon\",\"Canada\",\"Chile\",\"China\",\"Cuba\",\"Cyprus\",\"Denmark\",\"Ecuador\",\"Egypt\",\"Ethiopia\",\"Fiji\",\"France\",\"Georgia\",\"Germany\",\"Ghana\",\"Greece\",\"Hong Kong\",\"India\",\"Indonesia\",\"Iraq\",\"Ireland\",\"Israel\",\"Italy\",\"Jamaica\",\"Japan\",\"Kazakhstan\",\"Kenya\",\"Lebanon\",\"Malaysia\",\"Maldives\",\"Mexico\",\"Namibia\",\"Nepal\",\"Netherlands\",\"New Zealand\",\"Nigeria\",\"Norway\",\"Oman\",\"Pakistan\",\"Peru\",\"Philippines\",\"Qatar\",\"Singapore\",\"South Africa\",\"South Sudan\",\"Spain\",\"Sri Lanka\",\"Sweden\",\"Switzerland\",\"Thailand\",\"Turkey\",\"USA\",\"Uganda\",\"United Arab Emirates\",\"United Kingdom\",\"Uruguay\",\"Viet Nam\",\"Zambia\",\"Zimbabwe\"],\"locations\":[\"AUS\",\"AUT\",\"AZE\",\"BGD\",\"BEL\",\"KHM\",\"CMR\",\"CAN\",\"CHL\",\"CHN\",\"CUB\",\"CYP\",\"DNK\",\"ECU\",\"EGY\",\"ETH\",\"FJI\",\"FRA\",\"GEO\",\"DEU\",\"GHA\",\"GRC\",\"HKG\",\"IND\",\"IDN\",\"IRQ\",\"IRL\",\"ISR\",\"ITA\",\"JAM\",\"JPN\",\"KAZ\",\"KEN\",\"LBN\",\"MYS\",\"MDV\",\"MEX\",\"NAM\",\"NPL\",\"NLD\",\"NZL\",\"NGA\",\"NOR\",\"OMN\",\"PAK\",\"PER\",\"PHL\",\"QAT\",\"SGP\",\"ZAF\",\"SSD\",\"ESP\",\"LKA\",\"SWE\",\"CHE\",\"THA\",\"TUR\",\"USA\",\"UGA\",\"ARE\",\"GBR\",\"URY\",\"VNM\",\"ZMB\",\"ZWE\"],\"name\":\"\",\"z\":[69,1,1,8,4,1,1,31,1,13,1,1,2,1,1,1,1,7,4,8,9,5,2,321,7,2,6,5,2,1,6,2,46,1,8,1,1,1,2,1,8,61,1,2,17,1,15,3,3,62,3,4,6,3,10,13,2,192,9,8,99,1,1,2,6],\"type\":\"choropleth\"}],\"name\":\"2020-07-27\"},{\"data\":[{\"coloraxis\":\"coloraxis\",\"geo\":\"geo\",\"hovertemplate\":\"<b>%{hovertext}</b><br><br>day=2020-07-28<br>alpha3=%{location}<br>user_name=%{z}<extra></extra>\",\"hovertext\":[\"Afghanistan\",\"Australia\",\"Austria\",\"Bangladesh\",\"Belgium\",\"Bhutan\",\"Brazil\",\"Cambodia\",\"Cameroon\",\"Canada\",\"China\",\"Ecuador\",\"Egypt\",\"El Salvador\",\"Estonia\",\"Ethiopia\",\"Fiji\",\"Finland\",\"France\",\"Germany\",\"Ghana\",\"Greece\",\"India\",\"Indonesia\",\"Ireland\",\"Israel\",\"Italy\",\"Jamaica\",\"Japan\",\"Kazakhstan\",\"Kenya\",\"Lebanon\",\"Luxembourg\",\"Malaysia\",\"Morocco\",\"Nepal\",\"New Zealand\",\"Nigeria\",\"Oman\",\"Pakistan\",\"Philippines\",\"Qatar\",\"Romania\",\"Rwanda\",\"Singapore\",\"South Africa\",\"Spain\",\"Sri Lanka\",\"Sudan\",\"Sweden\",\"Switzerland\",\"Thailand\",\"Turkey\",\"USA\",\"Uganda\",\"United Arab Emirates\",\"United Kingdom\",\"Uruguay\",\"Zimbabwe\"],\"locations\":[\"AFG\",\"AUS\",\"AUT\",\"BGD\",\"BEL\",\"BTN\",\"BRA\",\"KHM\",\"CMR\",\"CAN\",\"CHN\",\"ECU\",\"EGY\",\"SLV\",\"EST\",\"ETH\",\"FJI\",\"FIN\",\"FRA\",\"DEU\",\"GHA\",\"GRC\",\"IND\",\"IDN\",\"IRL\",\"ISR\",\"ITA\",\"JAM\",\"JPN\",\"KAZ\",\"KEN\",\"LBN\",\"LUX\",\"MYS\",\"MAR\",\"NPL\",\"NZL\",\"NGA\",\"OMN\",\"PAK\",\"PHL\",\"QAT\",\"ROU\",\"RWA\",\"SGP\",\"ZAF\",\"ESP\",\"LKA\",\"SDN\",\"SWE\",\"CHE\",\"THA\",\"TUR\",\"USA\",\"UGA\",\"ARE\",\"GBR\",\"URY\",\"ZWE\"],\"name\":\"\",\"z\":[1,55,1,5,3,1,1,2,1,19,15,1,2,1,1,1,3,2,5,11,1,3,358,5,7,2,2,1,9,3,50,1,1,9,1,2,8,40,2,26,11,1,1,1,1,63,5,2,1,1,10,13,1,210,8,9,87,1,6],\"type\":\"choropleth\"}],\"name\":\"2020-07-28\"},{\"data\":[{\"coloraxis\":\"coloraxis\",\"geo\":\"geo\",\"hovertemplate\":\"<b>%{hovertext}</b><br><br>day=2020-07-29<br>alpha3=%{location}<br>user_name=%{z}<extra></extra>\",\"hovertext\":[\"Australia\",\"Bangladesh\",\"Belgium\",\"Brazil\",\"Canada\",\"Denmark\",\"Fiji\",\"France\",\"Georgia\",\"Germany\",\"Ghana\",\"India\",\"Indonesia\",\"Ireland\",\"Japan\",\"Kenya\",\"Liechtenstein\",\"Malawi\",\"Malaysia\",\"Namibia\",\"Nigeria\",\"Oman\",\"Pakistan\",\"Philippines\",\"Qatar\",\"Saudi Arabia\",\"South Africa\",\"Sri Lanka\",\"Sweden\",\"Switzerland\",\"Thailand\",\"Turkey\",\"USA\",\"Uganda\",\"United Kingdom\",\"Viet Nam\"],\"locations\":[\"AUS\",\"BGD\",\"BEL\",\"BRA\",\"CAN\",\"DNK\",\"FJI\",\"FRA\",\"GEO\",\"DEU\",\"GHA\",\"IND\",\"IDN\",\"IRL\",\"JPN\",\"KEN\",\"LIE\",\"MWI\",\"MYS\",\"NAM\",\"NGA\",\"OMN\",\"PAK\",\"PHL\",\"QAT\",\"SAU\",\"ZAF\",\"LKA\",\"SWE\",\"CHE\",\"THA\",\"TUR\",\"USA\",\"UGA\",\"GBR\",\"VNM\"],\"name\":\"\",\"z\":[4,1,3,1,20,1,1,5,3,1,2,61,1,9,1,3,1,1,1,1,10,1,5,1,1,2,5,1,1,3,2,1,100,2,63,1],\"type\":\"choropleth\"}],\"name\":\"2020-07-29\"},{\"data\":[{\"coloraxis\":\"coloraxis\",\"geo\":\"geo\",\"hovertemplate\":\"<b>%{hovertext}</b><br><br>day=2020-07-30<br>alpha3=%{location}<br>user_name=%{z}<extra></extra>\",\"hovertext\":[\"Belgium\",\"Canada\",\"China\",\"France\",\"Georgia\",\"Germany\",\"India\",\"Ireland\",\"Israel\",\"Italy\",\"Kenya\",\"New Zealand\",\"Nigeria\",\"Pakistan\",\"Peru\",\"Philippines\",\"Poland\",\"South Africa\",\"Spain\",\"Switzerland\",\"USA\",\"United Kingdom\",\"Zimbabwe\"],\"locations\":[\"BEL\",\"CAN\",\"CHN\",\"FRA\",\"GEO\",\"DEU\",\"IND\",\"IRL\",\"ISR\",\"ITA\",\"KEN\",\"NZL\",\"NGA\",\"PAK\",\"PER\",\"PHL\",\"POL\",\"ZAF\",\"ESP\",\"CHE\",\"USA\",\"GBR\",\"ZWE\"],\"name\":\"\",\"z\":[1,9,1,1,3,1,8,3,1,1,1,1,7,1,1,1,1,10,2,4,76,48,1],\"type\":\"choropleth\"}],\"name\":\"2020-07-30\"},{\"data\":[{\"coloraxis\":\"coloraxis\",\"geo\":\"geo\",\"hovertemplate\":\"<b>%{hovertext}</b><br><br>day=2020-07-31<br>alpha3=%{location}<br>user_name=%{z}<extra></extra>\",\"hovertext\":[\"Australia\",\"Austria\",\"Bangladesh\",\"Barbados\",\"Belgium\",\"Botswana\",\"Cameroon\",\"Canada\",\"China\",\"Colombia\",\"Cuba\",\"Cyprus\",\"Denmark\",\"Egypt\",\"Finland\",\"France\",\"Georgia\",\"Germany\",\"Ghana\",\"Greece\",\"India\",\"Ireland\",\"Israel\",\"Italy\",\"Jamaica\",\"Japan\",\"Jersey\",\"Kenya\",\"Kuwait\",\"Malawi\",\"Maldives\",\"Morocco\",\"Mozambique\",\"New Zealand\",\"Nigeria\",\"Norway\",\"Pakistan\",\"Peru\",\"Philippines\",\"Portugal\",\"Qatar\",\"Rwanda\",\"South Africa\",\"Spain\",\"Sri Lanka\",\"Sweden\",\"Switzerland\",\"Thailand\",\"USA\",\"Uganda\",\"United Arab Emirates\",\"United Kingdom\",\"Zambia\",\"Zimbabwe\"],\"locations\":[\"AUS\",\"AUT\",\"BGD\",\"BRB\",\"BEL\",\"BWA\",\"CMR\",\"CAN\",\"CHN\",\"COL\",\"CUB\",\"CYP\",\"DNK\",\"EGY\",\"FIN\",\"FRA\",\"GEO\",\"DEU\",\"GHA\",\"GRC\",\"IND\",\"IRL\",\"ISR\",\"ITA\",\"JAM\",\"JPN\",\"JEY\",\"KEN\",\"KWT\",\"MWI\",\"MDV\",\"MAR\",\"MOZ\",\"NZL\",\"NGA\",\"NOR\",\"PAK\",\"PER\",\"PHL\",\"PRT\",\"QAT\",\"RWA\",\"ZAF\",\"ESP\",\"LKA\",\"SWE\",\"CHE\",\"THA\",\"USA\",\"UGA\",\"ARE\",\"GBR\",\"ZMB\",\"ZWE\"],\"name\":\"\",\"z\":[5,3,6,1,4,1,1,64,2,1,1,1,2,1,1,6,5,7,5,1,118,20,1,2,1,1,1,21,2,2,1,1,1,1,26,1,8,1,2,2,4,2,13,2,1,2,3,3,290,3,1,138,1,2],\"type\":\"choropleth\"}],\"name\":\"2020-07-31\"},{\"data\":[{\"coloraxis\":\"coloraxis\",\"geo\":\"geo\",\"hovertemplate\":\"<b>%{hovertext}</b><br><br>day=2020-08-01<br>alpha3=%{location}<br>user_name=%{z}<extra></extra>\",\"hovertext\":[\"Australia\",\"Austria\",\"Bangladesh\",\"Belgium\",\"Brazil\",\"Canada\",\"Cayman Islands\",\"China\",\"Denmark\",\"Ecuador\",\"France\",\"Georgia\",\"Germany\",\"Ghana\",\"Greece\",\"Guernsey\",\"India\",\"Indonesia\",\"Ireland\",\"Israel\",\"Italy\",\"Japan\",\"Kenya\",\"Malawi\",\"Malaysia\",\"Morocco\",\"Netherlands\",\"Nigeria\",\"Norway\",\"Oman\",\"Pakistan\",\"Philippines\",\"Portugal\",\"Qatar\",\"Saudi Arabia\",\"South Africa\",\"Spain\",\"Sweden\",\"Switzerland\",\"Thailand\",\"Tunisia\",\"Turkey\",\"USA\",\"Uganda\",\"United Arab Emirates\",\"United Kingdom\",\"Zimbabwe\"],\"locations\":[\"AUS\",\"AUT\",\"BGD\",\"BEL\",\"BRA\",\"CAN\",\"CYM\",\"CHN\",\"DNK\",\"ECU\",\"FRA\",\"GEO\",\"DEU\",\"GHA\",\"GRC\",\"GGY\",\"IND\",\"IDN\",\"IRL\",\"ISR\",\"ITA\",\"JPN\",\"KEN\",\"MWI\",\"MYS\",\"MAR\",\"NLD\",\"NGA\",\"NOR\",\"OMN\",\"PAK\",\"PHL\",\"PRT\",\"QAT\",\"SAU\",\"ZAF\",\"ESP\",\"SWE\",\"CHE\",\"THA\",\"TUN\",\"TUR\",\"USA\",\"UGA\",\"ARE\",\"GBR\",\"ZWE\"],\"name\":\"\",\"z\":[4,4,1,4,1,42,2,4,3,3,6,3,12,3,3,1,165,1,19,1,3,2,15,2,2,1,3,25,2,1,9,3,1,3,1,20,1,3,9,2,1,4,294,4,3,159,1],\"type\":\"choropleth\"}],\"name\":\"2020-08-01\"},{\"data\":[{\"coloraxis\":\"coloraxis\",\"geo\":\"geo\",\"hovertemplate\":\"<b>%{hovertext}</b><br><br>day=2020-08-02<br>alpha3=%{location}<br>user_name=%{z}<extra></extra>\",\"hovertext\":[\"Argentina\",\"Australia\",\"Austria\",\"Bangladesh\",\"Belgium\",\"Brazil\",\"Cameroon\",\"Canada\",\"Chile\",\"China\",\"Colombia\",\"Congo\",\"Costa Rica\",\"Ecuador\",\"Egypt\",\"El Salvador\",\"Ethiopia\",\"France\",\"Georgia\",\"Germany\",\"Ghana\",\"Greece\",\"Hungary\",\"India\",\"Ireland\",\"Israel\",\"Italy\",\"Japan\",\"Kenya\",\"Kosovo\",\"Lebanon\",\"Liberia\",\"Malaysia\",\"Mexico\",\"Montenegro\",\"Morocco\",\"Netherlands\",\"New Zealand\",\"Nigeria\",\"Norway\",\"Oman\",\"Pakistan\",\"Panama\",\"Philippines\",\"Portugal\",\"Puerto Rico\",\"Qatar\",\"Rwanda\",\"Singapore\",\"Somalia\",\"South Africa\",\"Spain\",\"Sri Lanka\",\"Sweden\",\"Switzerland\",\"Turkey\",\"USA\",\"Uganda\",\"Ukraine\",\"United Kingdom\",\"Uruguay\",\"Zambia\",\"Zimbabwe\"],\"locations\":[\"ARG\",\"AUS\",\"AUT\",\"BGD\",\"BEL\",\"BRA\",\"CMR\",\"CAN\",\"CHL\",\"CHN\",\"COL\",\"COG\",\"CRI\",\"ECU\",\"EGY\",\"SLV\",\"ETH\",\"FRA\",\"GEO\",\"DEU\",\"GHA\",\"GRC\",\"HUN\",\"IND\",\"IRL\",\"ISR\",\"ITA\",\"JPN\",\"KEN\",\"XKX\",\"LBN\",\"LBR\",\"MYS\",\"MEX\",\"MNE\",\"MAR\",\"NLD\",\"NZL\",\"NGA\",\"NOR\",\"OMN\",\"PAK\",\"PAN\",\"PHL\",\"PRT\",\"PRI\",\"QAT\",\"RWA\",\"SGP\",\"SOM\",\"ZAF\",\"ESP\",\"LKA\",\"SWE\",\"CHE\",\"TUR\",\"USA\",\"UGA\",\"UKR\",\"GBR\",\"URY\",\"ZMB\",\"ZWE\"],\"name\":\"\",\"z\":[2,7,2,4,5,1,1,46,1,2,2,1,2,1,3,1,1,8,4,5,3,1,1,162,19,1,3,2,13,1,2,1,1,1,1,1,2,3,24,3,1,5,1,4,1,2,2,2,1,1,31,2,1,4,10,2,238,6,3,150,1,1,1],\"type\":\"choropleth\"}],\"name\":\"2020-08-02\"},{\"data\":[{\"coloraxis\":\"coloraxis\",\"geo\":\"geo\",\"hovertemplate\":\"<b>%{hovertext}</b><br><br>day=2020-08-04<br>alpha3=%{location}<br>user_name=%{z}<extra></extra>\",\"hovertext\":[\"Afghanistan\",\"Argentina\",\"Australia\",\"Austria\",\"Azerbaijan\",\"Bangladesh\",\"Belgium\",\"Botswana\",\"Cambodia\",\"Canada\",\"China\",\"Cyprus\",\"Denmark\",\"Fiji\",\"Finland\",\"France\",\"Georgia\",\"Germany\",\"Ghana\",\"Hungary\",\"India\",\"Indonesia\",\"Ireland\",\"Israel\",\"Italy\",\"Jamaica\",\"Japan\",\"Jordan\",\"Kenya\",\"Lebanon\",\"Malawi\",\"Malaysia\",\"Maldives\",\"Namibia\",\"Nepal\",\"Netherlands\",\"New Zealand\",\"Nigeria\",\"Norway\",\"Pakistan\",\"Papua New Guinea\",\"Philippines\",\"Poland\",\"Qatar\",\"Rwanda\",\"Saudi Arabia\",\"South Africa\",\"South Sudan\",\"Spain\",\"Sri Lanka\",\"Sweden\",\"Switzerland\",\"Thailand\",\"USA\",\"Uganda\",\"United Arab Emirates\",\"United Kingdom\",\"Uzbekistan\",\"Viet Nam\",\"Zambia\",\"Zimbabwe\"],\"locations\":[\"AFG\",\"ARG\",\"AUS\",\"AUT\",\"AZE\",\"BGD\",\"BEL\",\"BWA\",\"KHM\",\"CAN\",\"CHN\",\"CYP\",\"DNK\",\"FJI\",\"FIN\",\"FRA\",\"GEO\",\"DEU\",\"GHA\",\"HUN\",\"IND\",\"IDN\",\"IRL\",\"ISR\",\"ITA\",\"JAM\",\"JPN\",\"JOR\",\"KEN\",\"LBN\",\"MWI\",\"MYS\",\"MDV\",\"NAM\",\"NPL\",\"NLD\",\"NZL\",\"NGA\",\"NOR\",\"PAK\",\"PNG\",\"PHL\",\"POL\",\"QAT\",\"RWA\",\"SAU\",\"ZAF\",\"SSD\",\"ESP\",\"LKA\",\"SWE\",\"CHE\",\"THA\",\"USA\",\"UGA\",\"ARE\",\"GBR\",\"UZB\",\"VNM\",\"ZMB\",\"ZWE\"],\"name\":\"\",\"z\":[2,1,86,6,1,4,9,1,1,13,19,1,1,1,6,11,1,10,1,1,362,1,11,1,2,1,6,1,51,4,1,11,1,1,2,1,4,68,3,12,1,9,1,2,2,2,46,1,3,1,2,15,16,161,13,18,168,1,1,1,9],\"type\":\"choropleth\"}],\"name\":\"2020-08-04\"},{\"data\":[{\"coloraxis\":\"coloraxis\",\"geo\":\"geo\",\"hovertemplate\":\"<b>%{hovertext}</b><br><br>day=2020-08-06<br>alpha3=%{location}<br>user_name=%{z}<extra></extra>\",\"hovertext\":[\"Afghanistan\",\"Argentina\",\"Australia\",\"Austria\",\"Bangladesh\",\"Belgium\",\"Brazil\",\"Cameroon\",\"Canada\",\"Chile\",\"China\",\"Congo\",\"Costa Rica\",\"Cuba\",\"Denmark\",\"Ecuador\",\"Finland\",\"France\",\"Georgia\",\"Germany\",\"Ghana\",\"Greece\",\"India\",\"Ireland\",\"Italy\",\"Jamaica\",\"Japan\",\"Jordan\",\"Kenya\",\"Kosovo\",\"Lebanon\",\"Malaysia\",\"Mexico\",\"Mozambique\",\"Netherlands\",\"Nigeria\",\"Oman\",\"Pakistan\",\"Peru\",\"Philippines\",\"Poland\",\"Portugal\",\"Qatar\",\"Senegal\",\"South Africa\",\"Sweden\",\"Switzerland\",\"Turkey\",\"USA\",\"Uganda\",\"United Arab Emirates\",\"United Kingdom\"],\"locations\":[\"AFG\",\"ARG\",\"AUS\",\"AUT\",\"BGD\",\"BEL\",\"BRA\",\"CMR\",\"CAN\",\"CHL\",\"CHN\",\"COG\",\"CRI\",\"CUB\",\"DNK\",\"ECU\",\"FIN\",\"FRA\",\"GEO\",\"DEU\",\"GHA\",\"GRC\",\"IND\",\"IRL\",\"ITA\",\"JAM\",\"JPN\",\"JOR\",\"KEN\",\"XKX\",\"LBN\",\"MYS\",\"MEX\",\"MOZ\",\"NLD\",\"NGA\",\"OMN\",\"PAK\",\"PER\",\"PHL\",\"POL\",\"PRT\",\"QAT\",\"SEN\",\"ZAF\",\"SWE\",\"CHE\",\"TUR\",\"USA\",\"UGA\",\"ARE\",\"GBR\"],\"name\":\"\",\"z\":[1,1,1,2,4,3,2,3,39,1,2,1,1,1,3,1,2,9,8,5,6,1,148,21,5,2,2,1,13,1,3,2,1,1,1,26,1,12,1,1,1,1,1,1,21,2,17,2,239,5,9,169],\"type\":\"choropleth\"}],\"name\":\"2020-08-06\"},{\"data\":[{\"coloraxis\":\"coloraxis\",\"geo\":\"geo\",\"hovertemplate\":\"<b>%{hovertext}</b><br><br>day=2020-08-07<br>alpha3=%{location}<br>user_name=%{z}<extra></extra>\",\"hovertext\":[\"Belarus\",\"Canada\",\"Colombia\",\"Croatia\",\"France\",\"Georgia\",\"Germany\",\"India\",\"Ireland\",\"Israel\",\"Jamaica\",\"Japan\",\"Kenya\",\"New Zealand\",\"Nigeria\",\"Pakistan\",\"Philippines\",\"South Africa\",\"Sri Lanka\",\"Sweden\",\"Switzerland\",\"USA\",\"Uganda\",\"United Arab Emirates\",\"United Kingdom\"],\"locations\":[\"BLR\",\"CAN\",\"COL\",\"HRV\",\"FRA\",\"GEO\",\"DEU\",\"IND\",\"IRL\",\"ISR\",\"JAM\",\"JPN\",\"KEN\",\"NZL\",\"NGA\",\"PAK\",\"PHL\",\"ZAF\",\"LKA\",\"SWE\",\"CHE\",\"USA\",\"UGA\",\"ARE\",\"GBR\"],\"name\":\"\",\"z\":[1,5,1,1,5,1,4,27,6,1,1,1,4,1,9,2,2,9,1,1,4,28,1,1,33],\"type\":\"choropleth\"}],\"name\":\"2020-08-07\"},{\"data\":[{\"coloraxis\":\"coloraxis\",\"geo\":\"geo\",\"hovertemplate\":\"<b>%{hovertext}</b><br><br>day=2020-08-08<br>alpha3=%{location}<br>user_name=%{z}<extra></extra>\",\"hovertext\":[\"Afghanistan\",\"Argentina\",\"Armenia\",\"Australia\",\"Austria\",\"Bangladesh\",\"Belgium\",\"Botswana\",\"Brazil\",\"Cambodia\",\"Cameroon\",\"Canada\",\"China\",\"Colombia\",\"Congo\",\"Cuba\",\"C\\u00f4te d'Ivoire\",\"Denmark\",\"Egypt\",\"Ethiopia\",\"Finland\",\"France\",\"Georgia\",\"Germany\",\"Ghana\",\"Greece\",\"India\",\"Indonesia\",\"Iraq\",\"Ireland\",\"Israel\",\"Italy\",\"Jamaica\",\"Japan\",\"Jersey\",\"Kenya\",\"Kuwait\",\"Lebanon\",\"Libya\",\"Malaysia\",\"Nepal\",\"New Zealand\",\"Nigeria\",\"Norway\",\"Oman\",\"Pakistan\",\"Philippines\",\"Poland\",\"Portugal\",\"Qatar\",\"Rwanda\",\"Saudi Arabia\",\"Senegal\",\"South Africa\",\"Spain\",\"Sri Lanka\",\"Sweden\",\"Switzerland\",\"Thailand\",\"Turkey\",\"USA\",\"Uganda\",\"United Arab Emirates\",\"United Kingdom\",\"Viet Nam\",\"Zambia\",\"Zimbabwe\"],\"locations\":[\"AFG\",\"ARG\",\"ARM\",\"AUS\",\"AUT\",\"BGD\",\"BEL\",\"BWA\",\"BRA\",\"KHM\",\"CMR\",\"CAN\",\"CHN\",\"COL\",\"COG\",\"CUB\",\"CIV\",\"DNK\",\"EGY\",\"ETH\",\"FIN\",\"FRA\",\"GEO\",\"DEU\",\"GHA\",\"GRC\",\"IND\",\"IDN\",\"IRQ\",\"IRL\",\"ISR\",\"ITA\",\"JAM\",\"JPN\",\"JEY\",\"KEN\",\"KWT\",\"LBN\",\"LBY\",\"MYS\",\"NPL\",\"NZL\",\"NGA\",\"NOR\",\"OMN\",\"PAK\",\"PHL\",\"POL\",\"PRT\",\"QAT\",\"RWA\",\"SAU\",\"SEN\",\"ZAF\",\"ESP\",\"LKA\",\"SWE\",\"CHE\",\"THA\",\"TUR\",\"USA\",\"UGA\",\"ARE\",\"GBR\",\"VNM\",\"ZMB\",\"ZWE\"],\"name\":\"\",\"z\":[1,1,1,14,1,3,5,1,2,1,1,30,4,2,1,1,1,2,1,2,3,13,1,14,8,4,250,4,2,46,1,6,2,3,1,21,2,1,1,4,5,1,60,1,2,14,14,2,1,5,2,3,1,25,5,3,3,9,3,2,200,9,5,224,1,2,5],\"type\":\"choropleth\"}],\"name\":\"2020-08-08\"},{\"data\":[{\"coloraxis\":\"coloraxis\",\"geo\":\"geo\",\"hovertemplate\":\"<b>%{hovertext}</b><br><br>day=2020-08-09<br>alpha3=%{location}<br>user_name=%{z}<extra></extra>\",\"hovertext\":[\"Afghanistan\",\"Australia\",\"Austria\",\"Azerbaijan\",\"Bangladesh\",\"Belgium\",\"Botswana\",\"Brazil\",\"Bulgaria\",\"Cameroon\",\"Canada\",\"China\",\"Colombia\",\"Denmark\",\"Ecuador\",\"Egypt\",\"El Salvador\",\"Ethiopia\",\"Finland\",\"France\",\"Georgia\",\"Germany\",\"Ghana\",\"Greece\",\"Hong Kong\",\"Hungary\",\"India\",\"Indonesia\",\"Ireland\",\"Israel\",\"Italy\",\"Jamaica\",\"Japan\",\"Kenya\",\"Lebanon\",\"Malawi\",\"Malaysia\",\"Maldives\",\"Nepal\",\"New Zealand\",\"Nigeria\",\"Oman\",\"Pakistan\",\"Panama\",\"Philippines\",\"Poland\",\"Qatar\",\"Rwanda\",\"Saudi Arabia\",\"Senegal\",\"South Africa\",\"Spain\",\"Sri Lanka\",\"Sweden\",\"Switzerland\",\"Thailand\",\"Turkey\",\"USA\",\"Uganda\",\"United Arab Emirates\",\"United Kingdom\",\"Zambia\",\"Zimbabwe\"],\"locations\":[\"AFG\",\"AUS\",\"AUT\",\"AZE\",\"BGD\",\"BEL\",\"BWA\",\"BRA\",\"BGR\",\"CMR\",\"CAN\",\"CHN\",\"COL\",\"DNK\",\"ECU\",\"EGY\",\"SLV\",\"ETH\",\"FIN\",\"FRA\",\"GEO\",\"DEU\",\"GHA\",\"GRC\",\"HKG\",\"HUN\",\"IND\",\"IDN\",\"IRL\",\"ISR\",\"ITA\",\"JAM\",\"JPN\",\"KEN\",\"LBN\",\"MWI\",\"MYS\",\"MDV\",\"NPL\",\"NZL\",\"NGA\",\"OMN\",\"PAK\",\"PAN\",\"PHL\",\"POL\",\"QAT\",\"RWA\",\"SAU\",\"SEN\",\"ZAF\",\"ESP\",\"LKA\",\"SWE\",\"CHE\",\"THA\",\"TUR\",\"USA\",\"UGA\",\"ARE\",\"GBR\",\"ZMB\",\"ZWE\"],\"name\":\"\",\"z\":[1,45,4,1,9,13,1,1,1,1,15,8,1,2,2,1,1,4,5,8,3,11,3,1,1,1,421,5,16,1,5,1,5,25,5,1,6,1,4,6,57,4,15,1,15,2,4,1,1,1,38,3,5,2,18,13,3,131,7,15,209,2,3],\"type\":\"choropleth\"}],\"name\":\"2020-08-09\"},{\"data\":[{\"coloraxis\":\"coloraxis\",\"geo\":\"geo\",\"hovertemplate\":\"<b>%{hovertext}</b><br><br>day=2020-08-10<br>alpha3=%{location}<br>user_name=%{z}<extra></extra>\",\"hovertext\":[\"Australia\",\"Bangladesh\",\"Barbados\",\"Belgium\",\"Brazil\",\"Canada\",\"China\",\"Cuba\",\"Cyprus\",\"Denmark\",\"Ethiopia\",\"France\",\"Gabon\",\"Georgia\",\"Germany\",\"Ghana\",\"Greece\",\"India\",\"Ireland\",\"Italy\",\"Jamaica\",\"Japan\",\"Kenya\",\"Mozambique\",\"Netherlands\",\"New Zealand\",\"Nigeria\",\"Pakistan\",\"Philippines\",\"Portugal\",\"Puerto Rico\",\"Qatar\",\"Romania\",\"Rwanda\",\"Saudi Arabia\",\"Senegal\",\"South Africa\",\"Spain\",\"Sri Lanka\",\"Sweden\",\"Switzerland\",\"Turkey\",\"USA\",\"Uganda\",\"United Arab Emirates\",\"United Kingdom\",\"Zambia\",\"Zimbabwe\"],\"locations\":[\"AUS\",\"BGD\",\"BRB\",\"BEL\",\"BRA\",\"CAN\",\"CHN\",\"CUB\",\"CYP\",\"DNK\",\"ETH\",\"FRA\",\"GAB\",\"GEO\",\"DEU\",\"GHA\",\"GRC\",\"IND\",\"IRL\",\"ITA\",\"JAM\",\"JPN\",\"KEN\",\"MOZ\",\"NLD\",\"NZL\",\"NGA\",\"PAK\",\"PHL\",\"PRT\",\"PRI\",\"QAT\",\"ROU\",\"RWA\",\"SAU\",\"SEN\",\"ZAF\",\"ESP\",\"LKA\",\"SWE\",\"CHE\",\"TUR\",\"USA\",\"UGA\",\"ARE\",\"GBR\",\"ZMB\",\"ZWE\"],\"name\":\"\",\"z\":[3,3,1,2,1,25,2,1,1,2,1,8,1,6,3,5,1,109,15,2,2,1,10,1,1,1,26,10,3,1,1,1,1,1,1,2,15,3,3,4,9,1,167,2,1,162,2,1],\"type\":\"choropleth\"}],\"name\":\"2020-08-10\"},{\"data\":[{\"coloraxis\":\"coloraxis\",\"geo\":\"geo\",\"hovertemplate\":\"<b>%{hovertext}</b><br><br>day=2020-08-11<br>alpha3=%{location}<br>user_name=%{z}<extra></extra>\",\"hovertext\":[\"Afghanistan\",\"Armenia\",\"Australia\",\"Austria\",\"Bangladesh\",\"Belgium\",\"Cameroon\",\"Canada\",\"China\",\"Denmark\",\"Egypt\",\"Ethiopia\",\"Finland\",\"France\",\"Georgia\",\"Germany\",\"Ghana\",\"Greece\",\"Hungary\",\"India\",\"Indonesia\",\"Ireland\",\"Isle of Man\",\"Israel\",\"Italy\",\"Japan\",\"Jordan\",\"Kenya\",\"Lebanon\",\"Lesotho\",\"Luxembourg\",\"Malaysia\",\"Malta\",\"Mozambique\",\"Namibia\",\"Nepal\",\"Netherlands\",\"New Zealand\",\"Nigeria\",\"Norway\",\"Oman\",\"Pakistan\",\"Philippines\",\"Poland\",\"Portugal\",\"Qatar\",\"Romania\",\"Russian Federation\",\"Rwanda\",\"Senegal\",\"Sierra Leone\",\"Slovakia\",\"Solomon Islands\",\"South Africa\",\"South Sudan\",\"Spain\",\"Sri Lanka\",\"Sweden\",\"Switzerland\",\"Thailand\",\"Turkey\",\"USA\",\"Uganda\",\"Ukraine\",\"United Arab Emirates\",\"United Kingdom\",\"Zambia\",\"Zimbabwe\"],\"locations\":[\"AFG\",\"ARM\",\"AUS\",\"AUT\",\"BGD\",\"BEL\",\"CMR\",\"CAN\",\"CHN\",\"DNK\",\"EGY\",\"ETH\",\"FIN\",\"FRA\",\"GEO\",\"DEU\",\"GHA\",\"GRC\",\"HUN\",\"IND\",\"IDN\",\"IRL\",\"IMN\",\"ISR\",\"ITA\",\"JPN\",\"JOR\",\"KEN\",\"LBN\",\"LSO\",\"LUX\",\"MYS\",\"MLT\",\"MOZ\",\"NAM\",\"NPL\",\"NLD\",\"NZL\",\"NGA\",\"NOR\",\"OMN\",\"PAK\",\"PHL\",\"POL\",\"PRT\",\"QAT\",\"ROU\",\"RUS\",\"RWA\",\"SEN\",\"SLE\",\"SVK\",\"SLB\",\"ZAF\",\"SSD\",\"ESP\",\"LKA\",\"SWE\",\"CHE\",\"THA\",\"TUR\",\"USA\",\"UGA\",\"UKR\",\"ARE\",\"GBR\",\"ZMB\",\"ZWE\"],\"name\":\"\",\"z\":[1,1,47,4,3,17,1,8,12,1,2,2,10,19,1,34,8,3,1,319,4,42,1,1,8,4,1,52,5,1,2,5,1,1,3,5,2,41,124,3,2,22,10,2,2,5,1,1,1,2,1,1,1,74,1,10,9,4,23,10,3,55,15,1,18,435,2,2],\"type\":\"choropleth\"}],\"name\":\"2020-08-11\"},{\"data\":[{\"coloraxis\":\"coloraxis\",\"geo\":\"geo\",\"hovertemplate\":\"<b>%{hovertext}</b><br><br>day=2020-08-12<br>alpha3=%{location}<br>user_name=%{z}<extra></extra>\",\"hovertext\":[\"Afghanistan\",\"Armenia\",\"Australia\",\"Austria\",\"Azerbaijan\",\"Bangladesh\",\"Belgium\",\"Bhutan\",\"Botswana\",\"Cameroon\",\"Canada\",\"Chile\",\"China\",\"Denmark\",\"Ecuador\",\"Egypt\",\"Ethiopia\",\"Finland\",\"France\",\"Georgia\",\"Germany\",\"Ghana\",\"Greece\",\"Hong Kong\",\"Hungary\",\"India\",\"Indonesia\",\"Ireland\",\"Isle of Man\",\"Israel\",\"Italy\",\"Japan\",\"Kazakhstan\",\"Kenya\",\"Lebanon\",\"Liberia\",\"Malawi\",\"Malaysia\",\"Mexico\",\"Morocco\",\"Mozambique\",\"Namibia\",\"Nepal\",\"Netherlands\",\"New Zealand\",\"Nigeria\",\"Norway\",\"Oman\",\"Pakistan\",\"Philippines\",\"Poland\",\"Qatar\",\"Russian Federation\",\"Rwanda\",\"Saudi Arabia\",\"Senegal\",\"Sierra Leone\",\"Singapore\",\"South Africa\",\"Spain\",\"Sri Lanka\",\"Sweden\",\"Switzerland\",\"Thailand\",\"Turkey\",\"USA\",\"Uganda\",\"Ukraine\",\"United Arab Emirates\",\"United Kingdom\",\"Zambia\",\"Zimbabwe\"],\"locations\":[\"AFG\",\"ARM\",\"AUS\",\"AUT\",\"AZE\",\"BGD\",\"BEL\",\"BTN\",\"BWA\",\"CMR\",\"CAN\",\"CHL\",\"CHN\",\"DNK\",\"ECU\",\"EGY\",\"ETH\",\"FIN\",\"FRA\",\"GEO\",\"DEU\",\"GHA\",\"GRC\",\"HKG\",\"HUN\",\"IND\",\"IDN\",\"IRL\",\"IMN\",\"ISR\",\"ITA\",\"JPN\",\"KAZ\",\"KEN\",\"LBN\",\"LBR\",\"MWI\",\"MYS\",\"MEX\",\"MAR\",\"MOZ\",\"NAM\",\"NPL\",\"NLD\",\"NZL\",\"NGA\",\"NOR\",\"OMN\",\"PAK\",\"PHL\",\"POL\",\"QAT\",\"RUS\",\"RWA\",\"SAU\",\"SEN\",\"SLE\",\"SGP\",\"ZAF\",\"ESP\",\"LKA\",\"SWE\",\"CHE\",\"THA\",\"TUR\",\"USA\",\"UGA\",\"UKR\",\"ARE\",\"GBR\",\"ZMB\",\"ZWE\"],\"name\":\"\",\"z\":[2,1,50,8,1,11,28,1,2,2,8,1,13,5,1,3,3,6,19,1,33,10,1,1,2,271,2,36,2,1,4,4,1,54,1,1,2,4,1,1,1,3,6,1,11,74,5,4,26,16,5,6,1,1,1,1,2,1,88,7,4,2,28,11,3,53,12,1,16,464,3,5],\"type\":\"choropleth\"}],\"name\":\"2020-08-12\"},{\"data\":[{\"coloraxis\":\"coloraxis\",\"geo\":\"geo\",\"hovertemplate\":\"<b>%{hovertext}</b><br><br>day=2020-08-13<br>alpha3=%{location}<br>user_name=%{z}<extra></extra>\",\"hovertext\":[\"Afghanistan\",\"Argentina\",\"Armenia\",\"Australia\",\"Austria\",\"Bahrain\",\"Bangladesh\",\"Belgium\",\"Bhutan\",\"Botswana\",\"Bulgaria\",\"Cameroon\",\"Canada\",\"China\",\"Congo\",\"Denmark\",\"Egypt\",\"El Salvador\",\"Estonia\",\"Eswatini\",\"Ethiopia\",\"Finland\",\"France\",\"Georgia\",\"Germany\",\"Ghana\",\"Greece\",\"Guernsey\",\"Hungary\",\"India\",\"Indonesia\",\"Iraq\",\"Ireland\",\"Isle of Man\",\"Israel\",\"Italy\",\"Jamaica\",\"Japan\",\"Jordan\",\"Kazakhstan\",\"Kenya\",\"Lebanon\",\"Lithuania\",\"Luxembourg\",\"Malawi\",\"Malaysia\",\"Mexico\",\"Morocco\",\"Namibia\",\"Nepal\",\"Netherlands\",\"New Zealand\",\"Nigeria\",\"Norway\",\"Oman\",\"Pakistan\",\"Peru\",\"Philippines\",\"Poland\",\"Portugal\",\"Qatar\",\"Romania\",\"Rwanda\",\"Saudi Arabia\",\"Singapore\",\"South Africa\",\"Spain\",\"Sri Lanka\",\"Sweden\",\"Switzerland\",\"Thailand\",\"Turkey\",\"USA\",\"Uganda\",\"United Arab Emirates\",\"United Kingdom\",\"Zambia\",\"Zimbabwe\"],\"locations\":[\"AFG\",\"ARG\",\"ARM\",\"AUS\",\"AUT\",\"BHR\",\"BGD\",\"BEL\",\"BTN\",\"BWA\",\"BGR\",\"CMR\",\"CAN\",\"CHN\",\"COG\",\"DNK\",\"EGY\",\"SLV\",\"EST\",\"SWZ\",\"ETH\",\"FIN\",\"FRA\",\"GEO\",\"DEU\",\"GHA\",\"GRC\",\"GGY\",\"HUN\",\"IND\",\"IDN\",\"IRQ\",\"IRL\",\"IMN\",\"ISR\",\"ITA\",\"JAM\",\"JPN\",\"JOR\",\"KAZ\",\"KEN\",\"LBN\",\"LTU\",\"LUX\",\"MWI\",\"MYS\",\"MEX\",\"MAR\",\"NAM\",\"NPL\",\"NLD\",\"NZL\",\"NGA\",\"NOR\",\"OMN\",\"PAK\",\"PER\",\"PHL\",\"POL\",\"PRT\",\"QAT\",\"ROU\",\"RWA\",\"SAU\",\"SGP\",\"ZAF\",\"ESP\",\"LKA\",\"SWE\",\"CHE\",\"THA\",\"TUR\",\"USA\",\"UGA\",\"ARE\",\"GBR\",\"ZMB\",\"ZWE\"],\"name\":\"\",\"z\":[1,2,1,32,6,1,1,22,1,2,1,1,10,8,1,5,2,1,1,1,4,10,18,1,22,9,3,1,1,290,3,2,45,1,2,7,2,6,1,1,55,2,1,1,2,5,1,1,3,4,2,8,79,3,2,16,1,11,1,3,9,1,3,2,1,90,6,5,4,34,4,3,74,18,9,496,2,9],\"type\":\"choropleth\"}],\"name\":\"2020-08-13\"},{\"data\":[{\"coloraxis\":\"coloraxis\",\"geo\":\"geo\",\"hovertemplate\":\"<b>%{hovertext}</b><br><br>day=2020-08-14<br>alpha3=%{location}<br>user_name=%{z}<extra></extra>\",\"hovertext\":[\"Argentina\",\"Armenia\",\"Australia\",\"Austria\",\"Bangladesh\",\"Belgium\",\"Brazil\",\"Cambodia\",\"Canada\",\"Cayman Islands\",\"China\",\"Colombia\",\"Denmark\",\"Egypt\",\"Ethiopia\",\"Fiji\",\"Finland\",\"France\",\"Georgia\",\"Germany\",\"Ghana\",\"Greece\",\"Hungary\",\"India\",\"Indonesia\",\"Ireland\",\"Italy\",\"Jamaica\",\"Japan\",\"Kenya\",\"Luxembourg\",\"Malaysia\",\"Mongolia\",\"Nepal\",\"Netherlands\",\"New Zealand\",\"Nigeria\",\"Norway\",\"Oman\",\"Pakistan\",\"Papua New Guinea\",\"Philippines\",\"Qatar\",\"Rwanda\",\"Singapore\",\"Somalia\",\"South Africa\",\"Spain\",\"Sri Lanka\",\"Sweden\",\"Switzerland\",\"Thailand\",\"Turkey\",\"USA\",\"Uganda\",\"United Arab Emirates\",\"United Kingdom\",\"Uzbekistan\",\"Viet Nam\",\"Zambia\",\"Zimbabwe\"],\"locations\":[\"ARG\",\"ARM\",\"AUS\",\"AUT\",\"BGD\",\"BEL\",\"BRA\",\"KHM\",\"CAN\",\"CYM\",\"CHN\",\"COL\",\"DNK\",\"EGY\",\"ETH\",\"FJI\",\"FIN\",\"FRA\",\"GEO\",\"DEU\",\"GHA\",\"GRC\",\"HUN\",\"IND\",\"IDN\",\"IRL\",\"ITA\",\"JAM\",\"JPN\",\"KEN\",\"LUX\",\"MYS\",\"MNG\",\"NPL\",\"NLD\",\"NZL\",\"NGA\",\"NOR\",\"OMN\",\"PAK\",\"PNG\",\"PHL\",\"QAT\",\"RWA\",\"SGP\",\"SOM\",\"ZAF\",\"ESP\",\"LKA\",\"SWE\",\"CHE\",\"THA\",\"TUR\",\"USA\",\"UGA\",\"ARE\",\"GBR\",\"UZB\",\"VNM\",\"ZMB\",\"ZWE\"],\"name\":\"\",\"z\":[1,1,60,2,3,3,2,1,31,1,8,1,3,1,1,2,2,13,3,14,1,4,2,288,6,8,2,2,4,28,1,5,2,4,2,20,33,1,1,10,1,15,1,1,1,1,31,1,4,3,12,17,1,176,5,7,108,1,1,1,3],\"type\":\"choropleth\"}],\"name\":\"2020-08-14\"},{\"data\":[{\"coloraxis\":\"coloraxis\",\"geo\":\"geo\",\"hovertemplate\":\"<b>%{hovertext}</b><br><br>day=2020-08-16<br>alpha3=%{location}<br>user_name=%{z}<extra></extra>\",\"hovertext\":[\"Afghanistan\",\"Albania\",\"Australia\",\"Austria\",\"Bangladesh\",\"Belgium\",\"Brazil\",\"Cameroon\",\"Canada\",\"China\",\"Colombia\",\"Croatia\",\"Cyprus\",\"Denmark\",\"Ecuador\",\"Finland\",\"France\",\"Georgia\",\"Germany\",\"Ghana\",\"Greece\",\"India\",\"Indonesia\",\"Ireland\",\"Italy\",\"Jamaica\",\"Japan\",\"Jordan\",\"Kenya\",\"Lebanon\",\"Malawi\",\"Malaysia\",\"Maldives\",\"Namibia\",\"Nepal\",\"New Zealand\",\"Nigeria\",\"Norway\",\"Oman\",\"Pakistan\",\"Peru\",\"Philippines\",\"Portugal\",\"Qatar\",\"Rwanda\",\"Saudi Arabia\",\"Senegal\",\"South Africa\",\"Spain\",\"Sri Lanka\",\"Switzerland\",\"Thailand\",\"Turkey\",\"USA\",\"Uganda\",\"United Arab Emirates\",\"United Kingdom\",\"Viet Nam\",\"Zambia\",\"Zimbabwe\"],\"locations\":[\"AFG\",\"ALB\",\"AUS\",\"AUT\",\"BGD\",\"BEL\",\"BRA\",\"CMR\",\"CAN\",\"CHN\",\"COL\",\"HRV\",\"CYP\",\"DNK\",\"ECU\",\"FIN\",\"FRA\",\"GEO\",\"DEU\",\"GHA\",\"GRC\",\"IND\",\"IDN\",\"IRL\",\"ITA\",\"JAM\",\"JPN\",\"JOR\",\"KEN\",\"LBN\",\"MWI\",\"MYS\",\"MDV\",\"NAM\",\"NPL\",\"NZL\",\"NGA\",\"NOR\",\"OMN\",\"PAK\",\"PER\",\"PHL\",\"PRT\",\"QAT\",\"RWA\",\"SAU\",\"SEN\",\"ZAF\",\"ESP\",\"LKA\",\"CHE\",\"THA\",\"TUR\",\"USA\",\"UGA\",\"ARE\",\"GBR\",\"VNM\",\"ZMB\",\"ZWE\"],\"name\":\"\",\"z\":[1,1,32,4,10,5,1,1,22,9,1,1,1,1,1,1,11,2,7,3,2,236,4,27,2,1,3,2,24,2,1,5,1,2,2,17,43,1,3,23,1,16,1,3,1,4,1,58,4,2,8,7,1,176,2,8,207,1,1,2],\"type\":\"choropleth\"}],\"name\":\"2020-08-16\"},{\"data\":[{\"coloraxis\":\"coloraxis\",\"geo\":\"geo\",\"hovertemplate\":\"<b>%{hovertext}</b><br><br>day=2020-08-17<br>alpha3=%{location}<br>user_name=%{z}<extra></extra>\",\"hovertext\":[\"Afghanistan\",\"Armenia\",\"Australia\",\"Austria\",\"Bangladesh\",\"Belgium\",\"Botswana\",\"Cameroon\",\"Canada\",\"China\",\"Colombia\",\"Ethiopia\",\"Fiji\",\"Finland\",\"France\",\"Georgia\",\"Germany\",\"Ghana\",\"Greece\",\"Hungary\",\"India\",\"Indonesia\",\"Ireland\",\"Israel\",\"Italy\",\"Japan\",\"Kenya\",\"Kuwait\",\"Lebanon\",\"Libya\",\"Luxembourg\",\"Malaysia\",\"Maldives\",\"Mexico\",\"Morocco\",\"Mozambique\",\"Nepal\",\"Netherlands\",\"New Zealand\",\"Nigeria\",\"Norway\",\"Oman\",\"Pakistan\",\"Philippines\",\"Poland\",\"Rwanda\",\"Saudi Arabia\",\"Senegal\",\"Somalia\",\"South Africa\",\"South Sudan\",\"Spain\",\"Sri Lanka\",\"Sweden\",\"Switzerland\",\"Thailand\",\"Turkey\",\"USA\",\"Uganda\",\"United Arab Emirates\",\"United Kingdom\",\"Zambia\",\"Zimbabwe\"],\"locations\":[\"AFG\",\"ARM\",\"AUS\",\"AUT\",\"BGD\",\"BEL\",\"BWA\",\"CMR\",\"CAN\",\"CHN\",\"COL\",\"ETH\",\"FJI\",\"FIN\",\"FRA\",\"GEO\",\"DEU\",\"GHA\",\"GRC\",\"HUN\",\"IND\",\"IDN\",\"IRL\",\"ISR\",\"ITA\",\"JPN\",\"KEN\",\"KWT\",\"LBN\",\"LBY\",\"LUX\",\"MYS\",\"MDV\",\"MEX\",\"MAR\",\"MOZ\",\"NPL\",\"NLD\",\"NZL\",\"NGA\",\"NOR\",\"OMN\",\"PAK\",\"PHL\",\"POL\",\"RWA\",\"SAU\",\"SEN\",\"SOM\",\"ZAF\",\"SSD\",\"ESP\",\"LKA\",\"SWE\",\"CHE\",\"THA\",\"TUR\",\"USA\",\"UGA\",\"ARE\",\"GBR\",\"ZMB\",\"ZWE\"],\"name\":\"\",\"z\":[1,2,49,2,7,12,1,1,20,12,1,2,1,5,9,1,14,8,4,1,356,4,16,1,6,4,50,2,6,1,1,13,2,1,1,1,5,1,7,54,1,4,21,13,3,2,1,1,1,63,2,6,7,3,15,12,5,119,14,11,230,1,3],\"type\":\"choropleth\"}],\"name\":\"2020-08-17\"},{\"data\":[{\"coloraxis\":\"coloraxis\",\"geo\":\"geo\",\"hovertemplate\":\"<b>%{hovertext}</b><br><br>day=2020-08-18<br>alpha3=%{location}<br>user_name=%{z}<extra></extra>\",\"hovertext\":[\"Albania\",\"Australia\",\"Austria\",\"Bangladesh\",\"Belgium\",\"Botswana\",\"Canada\",\"Chile\",\"China\",\"Colombia\",\"Cyprus\",\"Denmark\",\"Egypt\",\"France\",\"Georgia\",\"Germany\",\"Ghana\",\"Greece\",\"Hungary\",\"India\",\"Indonesia\",\"Ireland\",\"Israel\",\"Italy\",\"Jamaica\",\"Japan\",\"Kenya\",\"Kuwait\",\"Morocco\",\"Namibia\",\"Nepal\",\"Nigeria\",\"Norway\",\"Pakistan\",\"Panama\",\"Philippines\",\"Puerto Rico\",\"Qatar\",\"Rwanda\",\"Saudi Arabia\",\"Senegal\",\"Singapore\",\"South Africa\",\"Sri Lanka\",\"Sweden\",\"Switzerland\",\"Thailand\",\"Turkey\",\"USA\",\"Uganda\",\"United Arab Emirates\",\"United Kingdom\",\"Uruguay\"],\"locations\":[\"ALB\",\"AUS\",\"AUT\",\"BGD\",\"BEL\",\"BWA\",\"CAN\",\"CHL\",\"CHN\",\"COL\",\"CYP\",\"DNK\",\"EGY\",\"FRA\",\"GEO\",\"DEU\",\"GHA\",\"GRC\",\"HUN\",\"IND\",\"IDN\",\"IRL\",\"ISR\",\"ITA\",\"JAM\",\"JPN\",\"KEN\",\"KWT\",\"MAR\",\"NAM\",\"NPL\",\"NGA\",\"NOR\",\"PAK\",\"PAN\",\"PHL\",\"PRI\",\"QAT\",\"RWA\",\"SAU\",\"SEN\",\"SGP\",\"ZAF\",\"LKA\",\"SWE\",\"CHE\",\"THA\",\"TUR\",\"USA\",\"UGA\",\"ARE\",\"GBR\",\"URY\"],\"name\":\"\",\"z\":[1,6,4,1,4,1,42,1,1,1,1,2,2,7,5,10,9,3,1,145,1,103,1,4,5,1,21,2,1,1,1,27,2,9,1,2,1,3,3,1,1,1,30,1,1,9,1,2,209,5,5,214,1],\"type\":\"choropleth\"}],\"name\":\"2020-08-18\"},{\"data\":[{\"coloraxis\":\"coloraxis\",\"geo\":\"geo\",\"hovertemplate\":\"<b>%{hovertext}</b><br><br>day=2020-08-22<br>alpha3=%{location}<br>user_name=%{z}<extra></extra>\",\"hovertext\":[\"Afghanistan\",\"Argentina\",\"Australia\",\"Austria\",\"Azerbaijan\",\"Bangladesh\",\"Belgium\",\"Bhutan\",\"Brazil\",\"Cameroon\",\"Canada\",\"Chile\",\"China\",\"Colombia\",\"Cuba\",\"Cyprus\",\"C\\u00f4te d'Ivoire\",\"Denmark\",\"Ecuador\",\"Egypt\",\"Ethiopia\",\"Finland\",\"France\",\"Georgia\",\"Germany\",\"Ghana\",\"Greece\",\"Hong Kong\",\"Hungary\",\"India\",\"Indonesia\",\"Ireland\",\"Italy\",\"Jamaica\",\"Japan\",\"Kenya\",\"Lebanon\",\"Liechtenstein\",\"Malaysia\",\"Maldives\",\"Morocco\",\"Nepal\",\"New Zealand\",\"Nigeria\",\"Norway\",\"Oman\",\"Pakistan\",\"Philippines\",\"Portugal\",\"Puerto Rico\",\"Qatar\",\"Rwanda\",\"Saudi Arabia\",\"Senegal\",\"Singapore\",\"Somalia\",\"South Africa\",\"Spain\",\"Sri Lanka\",\"Sweden\",\"Switzerland\",\"Thailand\",\"Turkey\",\"USA\",\"Uganda\",\"United Arab Emirates\",\"United Kingdom\",\"Zambia\",\"Zimbabwe\"],\"locations\":[\"AFG\",\"ARG\",\"AUS\",\"AUT\",\"AZE\",\"BGD\",\"BEL\",\"BTN\",\"BRA\",\"CMR\",\"CAN\",\"CHL\",\"CHN\",\"COL\",\"CUB\",\"CYP\",\"CIV\",\"DNK\",\"ECU\",\"EGY\",\"ETH\",\"FIN\",\"FRA\",\"GEO\",\"DEU\",\"GHA\",\"GRC\",\"HKG\",\"HUN\",\"IND\",\"IDN\",\"IRL\",\"ITA\",\"JAM\",\"JPN\",\"KEN\",\"LBN\",\"LIE\",\"MYS\",\"MDV\",\"MAR\",\"NPL\",\"NZL\",\"NGA\",\"NOR\",\"OMN\",\"PAK\",\"PHL\",\"PRT\",\"PRI\",\"QAT\",\"RWA\",\"SAU\",\"SEN\",\"SGP\",\"SOM\",\"ZAF\",\"ESP\",\"LKA\",\"SWE\",\"CHE\",\"THA\",\"TUR\",\"USA\",\"UGA\",\"ARE\",\"GBR\",\"ZMB\",\"ZWE\"],\"name\":\"\",\"z\":[1,1,61,5,1,5,11,1,1,1,37,1,9,3,1,1,1,2,1,2,1,3,16,2,13,5,5,1,2,428,6,38,4,5,7,37,6,1,3,2,1,5,16,87,1,3,20,13,3,1,9,1,1,1,2,1,57,6,4,5,21,15,2,245,13,12,383,3,6],\"type\":\"choropleth\"}],\"name\":\"2020-08-22\"},{\"data\":[{\"coloraxis\":\"coloraxis\",\"geo\":\"geo\",\"hovertemplate\":\"<b>%{hovertext}</b><br><br>day=2020-08-29<br>alpha3=%{location}<br>user_name=%{z}<extra></extra>\",\"hovertext\":[\"Australia\",\"Belgium\",\"Bermuda\",\"Brazil\",\"Canada\",\"Chile\",\"China\",\"Colombia\",\"Costa Rica\",\"Ecuador\",\"Egypt\",\"Finland\",\"France\",\"Georgia\",\"Germany\",\"Ghana\",\"India\",\"Indonesia\",\"Ireland\",\"Jamaica\",\"Japan\",\"Jordan\",\"Kenya\",\"Lebanon\",\"Namibia\",\"New Zealand\",\"Nigeria\",\"Norway\",\"Pakistan\",\"Peru\",\"Philippines\",\"Poland\",\"Puerto Rico\",\"Qatar\",\"Rwanda\",\"South Africa\",\"Spain\",\"Sweden\",\"Switzerland\",\"USA\",\"Uganda\",\"United Arab Emirates\",\"United Kingdom\"],\"locations\":[\"AUS\",\"BEL\",\"BMU\",\"BRA\",\"CAN\",\"CHL\",\"CHN\",\"COL\",\"CRI\",\"ECU\",\"EGY\",\"FIN\",\"FRA\",\"GEO\",\"DEU\",\"GHA\",\"IND\",\"IDN\",\"IRL\",\"JAM\",\"JPN\",\"JOR\",\"KEN\",\"LBN\",\"NAM\",\"NZL\",\"NGA\",\"NOR\",\"PAK\",\"PER\",\"PHL\",\"POL\",\"PRI\",\"QAT\",\"RWA\",\"ZAF\",\"ESP\",\"SWE\",\"CHE\",\"USA\",\"UGA\",\"ARE\",\"GBR\"],\"name\":\"\",\"z\":[20,1,1,2,28,1,3,2,1,1,1,1,3,1,4,1,27,2,9,4,2,1,2,1,1,4,27,1,3,1,2,1,1,1,2,10,4,1,6,146,2,3,69],\"type\":\"choropleth\"}],\"name\":\"2020-08-29\"},{\"data\":[{\"coloraxis\":\"coloraxis\",\"geo\":\"geo\",\"hovertemplate\":\"<b>%{hovertext}</b><br><br>day=2020-08-30<br>alpha3=%{location}<br>user_name=%{z}<extra></extra>\",\"hovertext\":[\"Afghanistan\",\"Argentina\",\"Australia\",\"Austria\",\"Bangladesh\",\"Belgium\",\"Brazil\",\"Bulgaria\",\"Canada\",\"China\",\"Colombia\",\"Cuba\",\"Denmark\",\"Egypt\",\"Estonia\",\"Ethiopia\",\"Finland\",\"France\",\"Georgia\",\"Germany\",\"Ghana\",\"Greece\",\"Hungary\",\"India\",\"Indonesia\",\"Iraq\",\"Ireland\",\"Italy\",\"Jamaica\",\"Japan\",\"Jordan\",\"Kenya\",\"Malaysia\",\"Nepal\",\"New Zealand\",\"Nigeria\",\"Norway\",\"Oman\",\"Pakistan\",\"Peru\",\"Philippines\",\"Qatar\",\"Russian Federation\",\"Rwanda\",\"Saudi Arabia\",\"Senegal\",\"Serbia\",\"Singapore\",\"Slovakia\",\"South Africa\",\"Spain\",\"Sri Lanka\",\"Sweden\",\"Switzerland\",\"Thailand\",\"USA\",\"Uganda\",\"United Arab Emirates\",\"United Kingdom\",\"Zambia\",\"Zimbabwe\"],\"locations\":[\"AFG\",\"ARG\",\"AUS\",\"AUT\",\"BGD\",\"BEL\",\"BRA\",\"BGR\",\"CAN\",\"CHN\",\"COL\",\"CUB\",\"DNK\",\"EGY\",\"EST\",\"ETH\",\"FIN\",\"FRA\",\"GEO\",\"DEU\",\"GHA\",\"GRC\",\"HUN\",\"IND\",\"IDN\",\"IRQ\",\"IRL\",\"ITA\",\"JAM\",\"JPN\",\"JOR\",\"KEN\",\"MYS\",\"NPL\",\"NZL\",\"NGA\",\"NOR\",\"OMN\",\"PAK\",\"PER\",\"PHL\",\"QAT\",\"RUS\",\"RWA\",\"SAU\",\"SEN\",\"SRB\",\"SGP\",\"SVK\",\"ZAF\",\"ESP\",\"LKA\",\"SWE\",\"CHE\",\"THA\",\"USA\",\"UGA\",\"ARE\",\"GBR\",\"ZMB\",\"ZWE\"],\"name\":\"\",\"z\":[1,1,48,2,3,6,2,1,30,7,1,1,3,1,1,1,2,8,3,11,15,1,1,368,1,1,12,6,4,5,1,17,5,2,12,37,3,3,9,1,12,1,1,4,2,1,1,1,1,26,7,5,1,8,7,192,8,13,181,1,4],\"type\":\"choropleth\"}],\"name\":\"2020-08-30\"}]);\n",
              "                        }).then(function(){\n",
              "                            \n",
              "var gd = document.getElementById('90f77ff3-b3f0-410d-8aa0-7d55acd56efc');\n",
              "var x = new MutationObserver(function (mutations, observer) {{\n",
              "        var display = window.getComputedStyle(gd).display;\n",
              "        if (!display || display === 'none') {{\n",
              "            console.log([gd, 'removed!']);\n",
              "            Plotly.purge(gd);\n",
              "            observer.disconnect();\n",
              "        }}\n",
              "}});\n",
              "\n",
              "// Listen for the removal of the full notebook cells\n",
              "var notebookContainer = gd.closest('#notebook-container');\n",
              "if (notebookContainer) {{\n",
              "    x.observe(notebookContainer, {childList: true});\n",
              "}}\n",
              "\n",
              "// Listen for the clearing of the current output cell\n",
              "var outputEl = gd.closest('.output');\n",
              "if (outputEl) {{\n",
              "    x.observe(outputEl, {childList: true});\n",
              "}}\n",
              "\n",
              "                        })                };                            </script>        </div>\n",
              "</body>\n",
              "</html>"
            ]
          },
          "metadata": {}
        }
      ]
    },
    {
      "cell_type": "code",
      "source": [
        "data = pd.read_csv(\"/content/drive/MyDrive/sentiment analysis/finalSentimentdata2.csv\")"
      ],
      "metadata": {
        "id": "8WLLmkyYu2JU"
      },
      "execution_count": 23,
      "outputs": []
    },
    {
      "cell_type": "code",
      "source": [
        "data.head()"
      ],
      "metadata": {
        "colab": {
          "base_uri": "https://localhost:8080/",
          "height": 206
        },
        "id": "NOU6pZNMu2Pu",
        "outputId": "24475595-818f-4cc7-fc5f-295d79fdd75c"
      },
      "execution_count": 24,
      "outputs": [
        {
          "output_type": "execute_result",
          "data": {
            "text/plain": [
              "   Unnamed: 0 sentiment                                               text\n",
              "0        3204       sad  agree the poor in india are treated badly thei...\n",
              "1        1431       joy  if only i could have spent the with this cutie...\n",
              "2         654       joy  will nature conservation remain a priority in ...\n",
              "3        2530       sad  coronavirus disappearing in italy show this to...\n",
              "4        2296       sad  uk records lowest daily virus death toll since..."
            ],
            "text/html": [
              "\n",
              "  <div id=\"df-658b1689-3d0b-420e-8f1e-2fbc2007d516\">\n",
              "    <div class=\"colab-df-container\">\n",
              "      <div>\n",
              "<style scoped>\n",
              "    .dataframe tbody tr th:only-of-type {\n",
              "        vertical-align: middle;\n",
              "    }\n",
              "\n",
              "    .dataframe tbody tr th {\n",
              "        vertical-align: top;\n",
              "    }\n",
              "\n",
              "    .dataframe thead th {\n",
              "        text-align: right;\n",
              "    }\n",
              "</style>\n",
              "<table border=\"1\" class=\"dataframe\">\n",
              "  <thead>\n",
              "    <tr style=\"text-align: right;\">\n",
              "      <th></th>\n",
              "      <th>Unnamed: 0</th>\n",
              "      <th>sentiment</th>\n",
              "      <th>text</th>\n",
              "    </tr>\n",
              "  </thead>\n",
              "  <tbody>\n",
              "    <tr>\n",
              "      <th>0</th>\n",
              "      <td>3204</td>\n",
              "      <td>sad</td>\n",
              "      <td>agree the poor in india are treated badly thei...</td>\n",
              "    </tr>\n",
              "    <tr>\n",
              "      <th>1</th>\n",
              "      <td>1431</td>\n",
              "      <td>joy</td>\n",
              "      <td>if only i could have spent the with this cutie...</td>\n",
              "    </tr>\n",
              "    <tr>\n",
              "      <th>2</th>\n",
              "      <td>654</td>\n",
              "      <td>joy</td>\n",
              "      <td>will nature conservation remain a priority in ...</td>\n",
              "    </tr>\n",
              "    <tr>\n",
              "      <th>3</th>\n",
              "      <td>2530</td>\n",
              "      <td>sad</td>\n",
              "      <td>coronavirus disappearing in italy show this to...</td>\n",
              "    </tr>\n",
              "    <tr>\n",
              "      <th>4</th>\n",
              "      <td>2296</td>\n",
              "      <td>sad</td>\n",
              "      <td>uk records lowest daily virus death toll since...</td>\n",
              "    </tr>\n",
              "  </tbody>\n",
              "</table>\n",
              "</div>\n",
              "      <button class=\"colab-df-convert\" onclick=\"convertToInteractive('df-658b1689-3d0b-420e-8f1e-2fbc2007d516')\"\n",
              "              title=\"Convert this dataframe to an interactive table.\"\n",
              "              style=\"display:none;\">\n",
              "        \n",
              "  <svg xmlns=\"http://www.w3.org/2000/svg\" height=\"24px\"viewBox=\"0 0 24 24\"\n",
              "       width=\"24px\">\n",
              "    <path d=\"M0 0h24v24H0V0z\" fill=\"none\"/>\n",
              "    <path d=\"M18.56 5.44l.94 2.06.94-2.06 2.06-.94-2.06-.94-.94-2.06-.94 2.06-2.06.94zm-11 1L8.5 8.5l.94-2.06 2.06-.94-2.06-.94L8.5 2.5l-.94 2.06-2.06.94zm10 10l.94 2.06.94-2.06 2.06-.94-2.06-.94-.94-2.06-.94 2.06-2.06.94z\"/><path d=\"M17.41 7.96l-1.37-1.37c-.4-.4-.92-.59-1.43-.59-.52 0-1.04.2-1.43.59L10.3 9.45l-7.72 7.72c-.78.78-.78 2.05 0 2.83L4 21.41c.39.39.9.59 1.41.59.51 0 1.02-.2 1.41-.59l7.78-7.78 2.81-2.81c.8-.78.8-2.07 0-2.86zM5.41 20L4 18.59l7.72-7.72 1.47 1.35L5.41 20z\"/>\n",
              "  </svg>\n",
              "      </button>\n",
              "      \n",
              "  <style>\n",
              "    .colab-df-container {\n",
              "      display:flex;\n",
              "      flex-wrap:wrap;\n",
              "      gap: 12px;\n",
              "    }\n",
              "\n",
              "    .colab-df-convert {\n",
              "      background-color: #E8F0FE;\n",
              "      border: none;\n",
              "      border-radius: 50%;\n",
              "      cursor: pointer;\n",
              "      display: none;\n",
              "      fill: #1967D2;\n",
              "      height: 32px;\n",
              "      padding: 0 0 0 0;\n",
              "      width: 32px;\n",
              "    }\n",
              "\n",
              "    .colab-df-convert:hover {\n",
              "      background-color: #E2EBFA;\n",
              "      box-shadow: 0px 1px 2px rgba(60, 64, 67, 0.3), 0px 1px 3px 1px rgba(60, 64, 67, 0.15);\n",
              "      fill: #174EA6;\n",
              "    }\n",
              "\n",
              "    [theme=dark] .colab-df-convert {\n",
              "      background-color: #3B4455;\n",
              "      fill: #D2E3FC;\n",
              "    }\n",
              "\n",
              "    [theme=dark] .colab-df-convert:hover {\n",
              "      background-color: #434B5C;\n",
              "      box-shadow: 0px 1px 3px 1px rgba(0, 0, 0, 0.15);\n",
              "      filter: drop-shadow(0px 1px 2px rgba(0, 0, 0, 0.3));\n",
              "      fill: #FFFFFF;\n",
              "    }\n",
              "  </style>\n",
              "\n",
              "      <script>\n",
              "        const buttonEl =\n",
              "          document.querySelector('#df-658b1689-3d0b-420e-8f1e-2fbc2007d516 button.colab-df-convert');\n",
              "        buttonEl.style.display =\n",
              "          google.colab.kernel.accessAllowed ? 'block' : 'none';\n",
              "\n",
              "        async function convertToInteractive(key) {\n",
              "          const element = document.querySelector('#df-658b1689-3d0b-420e-8f1e-2fbc2007d516');\n",
              "          const dataTable =\n",
              "            await google.colab.kernel.invokeFunction('convertToInteractive',\n",
              "                                                     [key], {});\n",
              "          if (!dataTable) return;\n",
              "\n",
              "          const docLinkHtml = 'Like what you see? Visit the ' +\n",
              "            '<a target=\"_blank\" href=https://colab.research.google.com/notebooks/data_table.ipynb>data table notebook</a>'\n",
              "            + ' to learn more about interactive tables.';\n",
              "          element.innerHTML = '';\n",
              "          dataTable['output_type'] = 'display_data';\n",
              "          await google.colab.output.renderOutput(dataTable, element);\n",
              "          const docLink = document.createElement('div');\n",
              "          docLink.innerHTML = docLinkHtml;\n",
              "          element.appendChild(docLink);\n",
              "        }\n",
              "      </script>\n",
              "    </div>\n",
              "  </div>\n",
              "  "
            ]
          },
          "metadata": {},
          "execution_count": 24
        }
      ]
    },
    {
      "cell_type": "code",
      "source": [
        "sns.countplot(data['sentiment'])"
      ],
      "metadata": {
        "colab": {
          "base_uri": "https://localhost:8080/",
          "height": 302
        },
        "id": "zn3zrYd1u2RJ",
        "outputId": "da6ac4b8-cd6a-4bd9-c0e2-76f577dc94d9"
      },
      "execution_count": 25,
      "outputs": [
        {
          "output_type": "execute_result",
          "data": {
            "text/plain": [
              "<matplotlib.axes._subplots.AxesSubplot at 0x7f8467c18810>"
            ]
          },
          "metadata": {},
          "execution_count": 25
        },
        {
          "output_type": "display_data",
          "data": {
            "text/plain": [
              "<Figure size 432x288 with 1 Axes>"
            ],
            "image/png": "[encoded data removed]"
          },
          "metadata": {}
        }
      ]
    },
    {
      "cell_type": "code",
      "source": [
        "import nltk\n",
        "import re\n",
        "import string"
      ],
      "metadata": {
        "id": "HRjSBgEmu2XZ"
      },
      "execution_count": 26,
      "outputs": []
    },
    {
      "cell_type": "code",
      "source": [
        "def clean_text(text):\n",
        "    '''Make text lowercase, remove text in square brackets,remove links,remove punctuation\n",
        "    and remove words containing numbers.'''\n",
        "    text = text.lower()\n",
        "    text = re.sub('\\[.*?\\]', '', text)\n",
        "    text = re.sub('https?://\\S+|www\\.\\S+', '', text)\n",
        "    text = re.sub('<.*?>+', '', text)\n",
        "    text = re.sub('[%s]' % re.escape(string.punctuation), '', text)\n",
        "    text = re.sub('\\n', '', text)\n",
        "    text = re.sub('\\w*\\d\\w*', '', text)\n",
        "    return text"
      ],
      "metadata": {
        "id": "yZAnACvLu2Y6"
      },
      "execution_count": 27,
      "outputs": []
    },
    {
      "cell_type": "code",
      "source": [
        "data['text'] = data['text'].apply(lambda x: clean_text(x))"
      ],
      "metadata": {
        "id": "2z0HXXugSnfp"
      },
      "execution_count": 28,
      "outputs": []
    },
    {
      "cell_type": "code",
      "source": [
        "def remove_emoji(text):\n",
        "    emoji_pattern = re.compile(\"[\"\n",
        "                           u\"\\U0001F600-\\U0001F64F\"  # emoticons\n",
        "                           u\"\\U0001F300-\\U0001F5FF\"  # symbols & pictographs\n",
        "                           u\"\\U0001F680-\\U0001F6FF\"  # transport & map symbols\n",
        "                           u\"\\U0001F1E0-\\U0001F1FF\"  # flags (iOS)\n",
        "                           u\"\\U00002702-\\U000027B0\"\n",
        "                           u\"\\U000024C2-\\U0001F251\"\n",
        "                           \"]+\", flags=re.UNICODE)\n",
        "    return emoji_pattern.sub(r'', text)"
      ],
      "metadata": {
        "id": "dYnqUmbnSndT"
      },
      "execution_count": 29,
      "outputs": []
    },
    {
      "cell_type": "code",
      "source": [
        "data['text']=data['text'].apply(lambda x: remove_emoji(x))"
      ],
      "metadata": {
        "id": "m_T4rQKuSna4"
      },
      "execution_count": 30,
      "outputs": []
    },
    {
      "cell_type": "code",
      "source": [
        "data['text'].apply(lambda x:len(str(x).split())).max()"
      ],
      "metadata": {
        "colab": {
          "base_uri": "https://localhost:8080/"
        },
        "id": "0Mpo0zINSnYq",
        "outputId": "f5898895-0808-4fc7-b80e-905c9cad360c"
      },
      "execution_count": 31,
      "outputs": [
        {
          "output_type": "execute_result",
          "data": {
            "text/plain": [
              "61"
            ]
          },
          "metadata": {},
          "execution_count": 31
        }
      ]
    },
    {
      "cell_type": "code",
      "source": [
        "from wordcloud import WordCloud, STOPWORDS"
      ],
      "metadata": {
        "id": "B008YzBKSnWZ"
      },
      "execution_count": 32,
      "outputs": []
    },
    {
      "cell_type": "code",
      "source": [
        " word_cloud = WordCloud(\n",
        "                    background_color='white',\n",
        "                    stopwords=set(STOPWORDS),\n",
        "                    max_words=50,\n",
        "                    max_font_size=40,\n",
        "                    scale=5,\n",
        "                    random_state=1).generate(str(data['text']))\n",
        "fig = plt.figure(1, figsize=(10,10))\n",
        "plt.axis('off')\n",
        "fig.suptitle('Word Cloud for top 50 prevelant words in India', fontsize=20)\n",
        "fig.subplots_adjust(top=2.3)\n",
        "plt.imshow(word_cloud)\n",
        "plt.show()"
      ],
      "metadata": {
        "colab": {
          "base_uri": "https://localhost:8080/",
          "height": 357
        },
        "id": "gcImVSt4SnT0",
        "outputId": "78050bde-7527-452a-b223-8b70e8963327"
      },
      "execution_count": 33,
      "outputs": [
        {
          "output_type": "display_data",
          "data": {
            "text/plain": [
              "<Figure size 720x720 with 1 Axes>"
            ],
            "image/png": "[encoded data removed]"
          },
          "metadata": {}
        }
      ]
    },
    {
      "cell_type": "code",
      "source": [
        "from sklearn.preprocessing import LabelEncoder\n",
        "lb= LabelEncoder()"
      ],
      "metadata": {
        "id": "vKMtft_hSnRZ"
      },
      "execution_count": 34,
      "outputs": []
    },
    {
      "cell_type": "code",
      "source": [
        "lb.fit(data['sentiment'])"
      ],
      "metadata": {
        "colab": {
          "base_uri": "https://localhost:8080/"
        },
        "id": "79U655pESnPA",
        "outputId": "71c7fc8d-b07c-49bc-dc0e-ae4e147e31c9"
      },
      "execution_count": 35,
      "outputs": [
        {
          "output_type": "execute_result",
          "data": {
            "text/plain": [
              "LabelEncoder()"
            ]
          },
          "metadata": {},
          "execution_count": 35
        }
      ]
    },
    {
      "cell_type": "code",
      "source": [
        "classes= list(lb.classes_)"
      ],
      "metadata": {
        "id": "p5iuC7T7Sx70"
      },
      "execution_count": 36,
      "outputs": []
    },
    {
      "cell_type": "code",
      "source": [
        "classes"
      ],
      "metadata": {
        "colab": {
          "base_uri": "https://localhost:8080/"
        },
        "id": "7ePo4tF0Sx5Q",
        "outputId": "b8eecc10-1cb2-4774-d2f9-ae681165133d"
      },
      "execution_count": 37,
      "outputs": [
        {
          "output_type": "execute_result",
          "data": {
            "text/plain": [
              "['anger', 'fear', 'joy', 'sad']"
            ]
          },
          "metadata": {},
          "execution_count": 37
        }
      ]
    },
    {
      "cell_type": "code",
      "source": [
        "data['sentiment']= lb.fit_transform(data['sentiment'])"
      ],
      "metadata": {
        "id": "w5AfGsW_Sx3C"
      },
      "execution_count": 38,
      "outputs": []
    },
    {
      "cell_type": "code",
      "source": [
        "data.head()"
      ],
      "metadata": {
        "colab": {
          "base_uri": "https://localhost:8080/",
          "height": 206
        },
        "id": "s501zlm-Sx0m",
        "outputId": "cfd74628-6c47-433a-8726-313a87eca285"
      },
      "execution_count": 39,
      "outputs": [
        {
          "output_type": "execute_result",
          "data": {
            "text/plain": [
              "   Unnamed: 0  sentiment                                               text\n",
              "0        3204          3  agree the poor in india are treated badly thei...\n",
              "1        1431          2  if only i could have spent the with this cutie...\n",
              "2         654          2  will nature conservation remain a priority in ...\n",
              "3        2530          3  coronavirus disappearing in italy show this to...\n",
              "4        2296          3  uk records lowest daily virus death toll since..."
            ],
            "text/html": [
              "\n",
              "  <div id=\"df-c31d1c30-eea3-44db-8f51-7a207d4c34a2\">\n",
              "    <div class=\"colab-df-container\">\n",
              "      <div>\n",
              "<style scoped>\n",
              "    .dataframe tbody tr th:only-of-type {\n",
              "        vertical-align: middle;\n",
              "    }\n",
              "\n",
              "    .dataframe tbody tr th {\n",
              "        vertical-align: top;\n",
              "    }\n",
              "\n",
              "    .dataframe thead th {\n",
              "        text-align: right;\n",
              "    }\n",
              "</style>\n",
              "<table border=\"1\" class=\"dataframe\">\n",
              "  <thead>\n",
              "    <tr style=\"text-align: right;\">\n",
              "      <th></th>\n",
              "      <th>Unnamed: 0</th>\n",
              "      <th>sentiment</th>\n",
              "      <th>text</th>\n",
              "    </tr>\n",
              "  </thead>\n",
              "  <tbody>\n",
              "    <tr>\n",
              "      <th>0</th>\n",
              "      <td>3204</td>\n",
              "      <td>3</td>\n",
              "      <td>agree the poor in india are treated badly thei...</td>\n",
              "    </tr>\n",
              "    <tr>\n",
              "      <th>1</th>\n",
              "      <td>1431</td>\n",
              "      <td>2</td>\n",
              "      <td>if only i could have spent the with this cutie...</td>\n",
              "    </tr>\n",
              "    <tr>\n",
              "      <th>2</th>\n",
              "      <td>654</td>\n",
              "      <td>2</td>\n",
              "      <td>will nature conservation remain a priority in ...</td>\n",
              "    </tr>\n",
              "    <tr>\n",
              "      <th>3</th>\n",
              "      <td>2530</td>\n",
              "      <td>3</td>\n",
              "      <td>coronavirus disappearing in italy show this to...</td>\n",
              "    </tr>\n",
              "    <tr>\n",
              "      <th>4</th>\n",
              "      <td>2296</td>\n",
              "      <td>3</td>\n",
              "      <td>uk records lowest daily virus death toll since...</td>\n",
              "    </tr>\n",
              "  </tbody>\n",
              "</table>\n",
              "</div>\n",
              "      <button class=\"colab-df-convert\" onclick=\"convertToInteractive('df-c31d1c30-eea3-44db-8f51-7a207d4c34a2')\"\n",
              "              title=\"Convert this dataframe to an interactive table.\"\n",
              "              style=\"display:none;\">\n",
              "        \n",
              "  <svg xmlns=\"http://www.w3.org/2000/svg\" height=\"24px\"viewBox=\"0 0 24 24\"\n",
              "       width=\"24px\">\n",
              "    <path d=\"M0 0h24v24H0V0z\" fill=\"none\"/>\n",
              "    <path d=\"M18.56 5.44l.94 2.06.94-2.06 2.06-.94-2.06-.94-.94-2.06-.94 2.06-2.06.94zm-11 1L8.5 8.5l.94-2.06 2.06-.94-2.06-.94L8.5 2.5l-.94 2.06-2.06.94zm10 10l.94 2.06.94-2.06 2.06-.94-2.06-.94-.94-2.06-.94 2.06-2.06.94z\"/><path d=\"M17.41 7.96l-1.37-1.37c-.4-.4-.92-.59-1.43-.59-.52 0-1.04.2-1.43.59L10.3 9.45l-7.72 7.72c-.78.78-.78 2.05 0 2.83L4 21.41c.39.39.9.59 1.41.59.51 0 1.02-.2 1.41-.59l7.78-7.78 2.81-2.81c.8-.78.8-2.07 0-2.86zM5.41 20L4 18.59l7.72-7.72 1.47 1.35L5.41 20z\"/>\n",
              "  </svg>\n",
              "      </button>\n",
              "      \n",
              "  <style>\n",
              "    .colab-df-container {\n",
              "      display:flex;\n",
              "      flex-wrap:wrap;\n",
              "      gap: 12px;\n",
              "    }\n",
              "\n",
              "    .colab-df-convert {\n",
              "      background-color: #E8F0FE;\n",
              "      border: none;\n",
              "      border-radius: 50%;\n",
              "      cursor: pointer;\n",
              "      display: none;\n",
              "      fill: #1967D2;\n",
              "      height: 32px;\n",
              "      padding: 0 0 0 0;\n",
              "      width: 32px;\n",
              "    }\n",
              "\n",
              "    .colab-df-convert:hover {\n",
              "      background-color: #E2EBFA;\n",
              "      box-shadow: 0px 1px 2px rgba(60, 64, 67, 0.3), 0px 1px 3px 1px rgba(60, 64, 67, 0.15);\n",
              "      fill: #174EA6;\n",
              "    }\n",
              "\n",
              "    [theme=dark] .colab-df-convert {\n",
              "      background-color: #3B4455;\n",
              "      fill: #D2E3FC;\n",
              "    }\n",
              "\n",
              "    [theme=dark] .colab-df-convert:hover {\n",
              "      background-color: #434B5C;\n",
              "      box-shadow: 0px 1px 3px 1px rgba(0, 0, 0, 0.15);\n",
              "      filter: drop-shadow(0px 1px 2px rgba(0, 0, 0, 0.3));\n",
              "      fill: #FFFFFF;\n",
              "    }\n",
              "  </style>\n",
              "\n",
              "      <script>\n",
              "        const buttonEl =\n",
              "          document.querySelector('#df-c31d1c30-eea3-44db-8f51-7a207d4c34a2 button.colab-df-convert');\n",
              "        buttonEl.style.display =\n",
              "          google.colab.kernel.accessAllowed ? 'block' : 'none';\n",
              "\n",
              "        async function convertToInteractive(key) {\n",
              "          const element = document.querySelector('#df-c31d1c30-eea3-44db-8f51-7a207d4c34a2');\n",
              "          const dataTable =\n",
              "            await google.colab.kernel.invokeFunction('convertToInteractive',\n",
              "                                                     [key], {});\n",
              "          if (!dataTable) return;\n",
              "\n",
              "          const docLinkHtml = 'Like what you see? Visit the ' +\n",
              "            '<a target=\"_blank\" href=https://colab.research.google.com/notebooks/data_table.ipynb>data table notebook</a>'\n",
              "            + ' to learn more about interactive tables.';\n",
              "          element.innerHTML = '';\n",
              "          dataTable['output_type'] = 'display_data';\n",
              "          await google.colab.output.renderOutput(dataTable, element);\n",
              "          const docLink = document.createElement('div');\n",
              "          docLink.innerHTML = docLinkHtml;\n",
              "          element.appendChild(docLink);\n",
              "        }\n",
              "      </script>\n",
              "    </div>\n",
              "  </div>\n",
              "  "
            ]
          },
          "metadata": {},
          "execution_count": 39
        }
      ]
    },
    {
      "cell_type": "code",
      "source": [
        "import torch\n",
        "import torch.nn as nn"
      ],
      "metadata": {
        "id": "lIAAoMNQSxyI"
      },
      "execution_count": 40,
      "outputs": []
    },
    {
      "cell_type": "code",
      "source": [
        "import transformers\n",
        "from transformers import BertModel, BertTokenizer, AdamW, get_linear_schedule_with_warmup\n",
        "from torch.utils.data import Dataset, DataLoader"
      ],
      "metadata": {
        "id": "9Vteu9uPS4zA"
      },
      "execution_count": 41,
      "outputs": []
    },
    {
      "cell_type": "code",
      "source": [
        "RANDOM_SEED = 42\n",
        "np.random.seed(RANDOM_SEED)\n",
        "torch.manual_seed(RANDOM_SEED)"
      ],
      "metadata": {
        "colab": {
          "base_uri": "https://localhost:8080/"
        },
        "id": "OWuVXYzdSxvl",
        "outputId": "b885f03e-2972-45dd-fa17-1cce5825e0a1"
      },
      "execution_count": 42,
      "outputs": [
        {
          "output_type": "execute_result",
          "data": {
            "text/plain": [
              "<torch._C.Generator at 0x7f846a31ab30>"
            ]
          },
          "metadata": {},
          "execution_count": 42
        }
      ]
    },
    {
      "cell_type": "code",
      "source": [
        "#setting device to GPU\n",
        "device = torch.device(\"cuda:0\" if torch.cuda.is_available() else \"cpu\")"
      ],
      "metadata": {
        "id": "eo7WJNQ-SxtO"
      },
      "execution_count": 43,
      "outputs": []
    },
    {
      "cell_type": "code",
      "source": [
        "device"
      ],
      "metadata": {
        "colab": {
          "base_uri": "https://localhost:8080/"
        },
        "id": "87CLtWoTSxqt",
        "outputId": "42203c3c-27ad-49c4-c3fd-9159e1346c9e"
      },
      "execution_count": 44,
      "outputs": [
        {
          "output_type": "execute_result",
          "data": {
            "text/plain": [
              "device(type='cpu')"
            ]
          },
          "metadata": {},
          "execution_count": 44
        }
      ]
    },
    {
      "cell_type": "code",
      "source": [
        "PRE_TRAINED_MODEL_NAME = 'bert-base-uncased'"
      ],
      "metadata": {
        "id": "xrQQHA32SxoJ"
      },
      "execution_count": 45,
      "outputs": []
    },
    {
      "cell_type": "code",
      "source": [
        "tokenizer = BertTokenizer.from_pretrained(PRE_TRAINED_MODEL_NAME)"
      ],
      "metadata": {
        "colab": {
          "base_uri": "https://localhost:8080/",
          "height": 113,
          "referenced_widgets": [
            "f52bf11dd4384b72a1c3f84efbe939d0",
            "3a7d5c0f50f440eca75154f77a506c6e",
            "148c4eb8eefe4d50814ff2904810b7ea",
            "109244255fb84a669f5311452a28566c",
            "f055ae90d6da477ab2a053495cc97ed6",
            "34379b058dc243298210da9cd5678075",
            "6ad21a8a81264afda15b12208a438fc1",
            "305a3f6c3a5f40b8b46903c575467baa",
            "4d05fd60e6c8405ab2416a7d4be0d3b9",
            "2ac0c7d4385a44289dbf06a509a19617",
            "14630566a7c14e8c92f6301ca012f6ca",
            "a0829051de45474691f70cb7640b8c32",
            "c8a1b7640043426e8f43b850e1e048ac",
            "cc298adcf2b44f9aa39427c81404ebc1",
            "88c14c5c693442689ef29d6e62c04484",
            "b019027eb1fd4e63971181ac27c8ea57",
            "824487e5943b44538a08ee393665614d",
            "8b134bee808e420d9948b60027320c35",
            "523d17601eb24f5083da775f1c69a2f3",
            "5d713f86896f4730b228f0b9a0e53a04",
            "3f15a3321c5c4a1f9863783b0388a17f",
            "718f1656b5f0496da1cb06436a4766bf",
            "cc08cd6b06b845ff85750c6fa6b5a31e",
            "df9499b4ed5e450e8b1c77bfa5a9e138",
            "d4a6f2da498c40069767e2ca5cebf1ce",
            "c49f8dfb8ba8462984100c6e54fb0e80",
            "12e7c1c925f14133beccfcdebe0ebea3",
            "c921018e35504337bea3163112b28580",
            "54b5c430502d4ad2ab2fd3346f40ef62",
            "24ed99e0c42d4632b3ade7b31c981607",
            "d7c155bcc85949e9a6e3d2a987ea2fd1",
            "f90f5872eec0417aab0a467c87320b72",
            "080fa00cc2ec454193723a50c7352361"
          ]
        },
        "id": "HAwP_9UTSxlv",
        "outputId": "ceb25737-ff5f-4965-fff1-8e0a273ade4a"
      },
      "execution_count": 46,
      "outputs": [
        {
          "output_type": "display_data",
          "data": {
            "text/plain": [
              "Downloading:   0%|          | 0.00/226k [00:00<?, ?B/s]"
            ],
            "application/vnd.jupyter.widget-view+json": {
              "version_major": 2,
              "version_minor": 0,
              "model_id": "f52bf11dd4384b72a1c3f84efbe939d0"
            }
          },
          "metadata": {}
        },
        {
          "output_type": "display_data",
          "data": {
            "text/plain": [
              "Downloading:   0%|          | 0.00/28.0 [00:00<?, ?B/s]"
            ],
            "application/vnd.jupyter.widget-view+json": {
              "version_major": 2,
              "version_minor": 0,
              "model_id": "a0829051de45474691f70cb7640b8c32"
            }
          },
          "metadata": {}
        },
        {
          "output_type": "display_data",
          "data": {
            "text/plain": [
              "Downloading:   0%|          | 0.00/570 [00:00<?, ?B/s]"
            ],
            "application/vnd.jupyter.widget-view+json": {
              "version_major": 2,
              "version_minor": 0,
              "model_id": "cc08cd6b06b845ff85750c6fa6b5a31e"
            }
          },
          "metadata": {}
        }
      ]
    },
    {
      "cell_type": "code",
      "source": [
        "sample_txt = 'These are tough times we must stand together'"
      ],
      "metadata": {
        "id": "DIGzzl9yTE7g"
      },
      "execution_count": 47,
      "outputs": []
    },
    {
      "cell_type": "code",
      "source": [
        "tokens = tokenizer.tokenize(sample_txt)\n",
        "token_ids = tokenizer.convert_tokens_to_ids(tokens)\n",
        "print(f' Sentence: {sample_txt}')\n",
        "print(f'   Tokens: {tokens}')\n",
        "print(f'Token IDs: {token_ids}')"
      ],
      "metadata": {
        "colab": {
          "base_uri": "https://localhost:8080/"
        },
        "id": "LsFax0beTE4o",
        "outputId": "3ddeb80a-39b9-4506-d3fa-9dad35a82ebf"
      },
      "execution_count": 48,
      "outputs": [
        {
          "output_type": "stream",
          "name": "stdout",
          "text": [
            " Sentence: These are tough times we must stand together\n",
            "   Tokens: ['these', 'are', 'tough', 'times', 'we', 'must', 'stand', 'together']\n",
            "Token IDs: [2122, 2024, 7823, 2335, 2057, 2442, 3233, 2362]\n"
          ]
        }
      ]
    },
    {
      "cell_type": "code",
      "source": [
        "encoding = tokenizer.encode_plus(\n",
        "  sample_txt,\n",
        "  max_length=32,\n",
        "  add_special_tokens=True, # Add '[CLS]' and '[SEP]'\n",
        "  return_token_type_ids=False,\n",
        "  pad_to_max_length=True,\n",
        "  return_attention_mask=True,\n",
        "  return_tensors='pt',  # Return PyTorch tensors\n",
        ")\n",
        "encoding.keys()"
      ],
      "metadata": {
        "colab": {
          "base_uri": "https://localhost:8080/"
        },
        "id": "eKaqndjMTE2M",
        "outputId": "d315a811-4085-4894-d3eb-bfd09f45c061"
      },
      "execution_count": 49,
      "outputs": [
        {
          "output_type": "stream",
          "name": "stderr",
          "text": [
            "Truncation was not explicitly activated but `max_length` is provided a specific value, please use `truncation=True` to explicitly truncate examples to max length. Defaulting to 'longest_first' truncation strategy. If you encode pairs of sequences (GLUE-style) with the tokenizer you can select this strategy more precisely by providing a specific strategy to `truncation`.\n"
          ]
        },
        {
          "output_type": "execute_result",
          "data": {
            "text/plain": [
              "dict_keys(['input_ids', 'attention_mask'])"
            ]
          },
          "metadata": {},
          "execution_count": 49
        }
      ]
    },
    {
      "cell_type": "code",
      "source": [
        "token_lens = []\n",
        "for txt in data.text:\n",
        "    \n",
        "    tokens = tokenizer.encode(txt, max_length=512)\n",
        "    token_lens.append(len(tokens))"
      ],
      "metadata": {
        "id": "MngLdmbhTEzZ"
      },
      "execution_count": 50,
      "outputs": []
    },
    {
      "cell_type": "code",
      "source": [
        "sns.distplot(token_lens)\n",
        "plt.xlim([0, 256]);\n",
        "plt.xlabel('Token count')"
      ],
      "metadata": {
        "colab": {
          "base_uri": "https://localhost:8080/",
          "height": 302
        },
        "id": "jOvoorlPTEwp",
        "outputId": "d99b84dc-927d-45e3-d7e1-e5f729ee74e9"
      },
      "execution_count": 51,
      "outputs": [
        {
          "output_type": "execute_result",
          "data": {
            "text/plain": [
              "Text(0.5, 0, 'Token count')"
            ]
          },
          "metadata": {},
          "execution_count": 51
        },
        {
          "output_type": "display_data",
          "data": {
            "text/plain": [
              "<Figure size 432x288 with 1 Axes>"
            ],
            "image/png": "[encoded data removed]"
          },
          "metadata": {}
        }
      ]
    },
    {
      "cell_type": "code",
      "source": [
        "MAX_LEN=100"
      ],
      "metadata": {
        "id": "FocjvHleTEuJ"
      },
      "execution_count": 52,
      "outputs": []
    },
    {
      "cell_type": "code",
      "source": [
        "class Covid19Tweet(Dataset):\n",
        "    \n",
        "    def __init__(self, tweets, sentiment, tokenizer, max_len):\n",
        "        \n",
        "        \n",
        "        self.tweets = tweets\n",
        "        self.sentiment = sentiment\n",
        "        self.tokenizer = tokenizer\n",
        "        self.max_len = max_len\n",
        "    def __len__(self):\n",
        "        return len(self.tweets)\n",
        "    def __getitem__(self, item):\n",
        "        \n",
        "        tweets = str(self.tweets[item])\n",
        "        sentiment = self.sentiment[item]\n",
        "        encoding = self.tokenizer.encode_plus(\n",
        "        tweets,\n",
        "        add_special_tokens=True,\n",
        "        max_length=self.max_len,\n",
        "        return_token_type_ids=False,\n",
        "        pad_to_max_length=True,\n",
        "        return_attention_mask=True,\n",
        "        return_tensors='pt')\n",
        "        return {\n",
        "        'tweet_text': tweets,\n",
        "         'input_ids': encoding['input_ids'].flatten(),\n",
        "         'attention_mask': encoding['attention_mask'].flatten(),\n",
        "         'sentiments': torch.tensor(sentiment, dtype=torch.long)\n",
        "          }"
      ],
      "metadata": {
        "id": "xo1OsqoWTEro"
      },
      "execution_count": 53,
      "outputs": []
    },
    {
      "cell_type": "code",
      "source": [
        "data.head()"
      ],
      "metadata": {
        "colab": {
          "base_uri": "https://localhost:8080/",
          "height": 206
        },
        "id": "01ECobPWTEoy",
        "outputId": "65242ce9-af29-406c-98f9-9bad28d2bb28"
      },
      "execution_count": 54,
      "outputs": [
        {
          "output_type": "execute_result",
          "data": {
            "text/plain": [
              "   Unnamed: 0  sentiment                                               text\n",
              "0        3204          3  agree the poor in india are treated badly thei...\n",
              "1        1431          2  if only i could have spent the with this cutie...\n",
              "2         654          2  will nature conservation remain a priority in ...\n",
              "3        2530          3  coronavirus disappearing in italy show this to...\n",
              "4        2296          3  uk records lowest daily virus death toll since..."
            ],
            "text/html": [
              "\n",
              "  <div id=\"df-4c85c5ec-b817-4e02-81ae-38d75677607d\">\n",
              "    <div class=\"colab-df-container\">\n",
              "      <div>\n",
              "<style scoped>\n",
              "    .dataframe tbody tr th:only-of-type {\n",
              "        vertical-align: middle;\n",
              "    }\n",
              "\n",
              "    .dataframe tbody tr th {\n",
              "        vertical-align: top;\n",
              "    }\n",
              "\n",
              "    .dataframe thead th {\n",
              "        text-align: right;\n",
              "    }\n",
              "</style>\n",
              "<table border=\"1\" class=\"dataframe\">\n",
              "  <thead>\n",
              "    <tr style=\"text-align: right;\">\n",
              "      <th></th>\n",
              "      <th>Unnamed: 0</th>\n",
              "      <th>sentiment</th>\n",
              "      <th>text</th>\n",
              "    </tr>\n",
              "  </thead>\n",
              "  <tbody>\n",
              "    <tr>\n",
              "      <th>0</th>\n",
              "      <td>3204</td>\n",
              "      <td>3</td>\n",
              "      <td>agree the poor in india are treated badly thei...</td>\n",
              "    </tr>\n",
              "    <tr>\n",
              "      <th>1</th>\n",
              "      <td>1431</td>\n",
              "      <td>2</td>\n",
              "      <td>if only i could have spent the with this cutie...</td>\n",
              "    </tr>\n",
              "    <tr>\n",
              "      <th>2</th>\n",
              "      <td>654</td>\n",
              "      <td>2</td>\n",
              "      <td>will nature conservation remain a priority in ...</td>\n",
              "    </tr>\n",
              "    <tr>\n",
              "      <th>3</th>\n",
              "      <td>2530</td>\n",
              "      <td>3</td>\n",
              "      <td>coronavirus disappearing in italy show this to...</td>\n",
              "    </tr>\n",
              "    <tr>\n",
              "      <th>4</th>\n",
              "      <td>2296</td>\n",
              "      <td>3</td>\n",
              "      <td>uk records lowest daily virus death toll since...</td>\n",
              "    </tr>\n",
              "  </tbody>\n",
              "</table>\n",
              "</div>\n",
              "      <button class=\"colab-df-convert\" onclick=\"convertToInteractive('df-4c85c5ec-b817-4e02-81ae-38d75677607d')\"\n",
              "              title=\"Convert this dataframe to an interactive table.\"\n",
              "              style=\"display:none;\">\n",
              "        \n",
              "  <svg xmlns=\"http://www.w3.org/2000/svg\" height=\"24px\"viewBox=\"0 0 24 24\"\n",
              "       width=\"24px\">\n",
              "    <path d=\"M0 0h24v24H0V0z\" fill=\"none\"/>\n",
              "    <path d=\"M18.56 5.44l.94 2.06.94-2.06 2.06-.94-2.06-.94-.94-2.06-.94 2.06-2.06.94zm-11 1L8.5 8.5l.94-2.06 2.06-.94-2.06-.94L8.5 2.5l-.94 2.06-2.06.94zm10 10l.94 2.06.94-2.06 2.06-.94-2.06-.94-.94-2.06-.94 2.06-2.06.94z\"/><path d=\"M17.41 7.96l-1.37-1.37c-.4-.4-.92-.59-1.43-.59-.52 0-1.04.2-1.43.59L10.3 9.45l-7.72 7.72c-.78.78-.78 2.05 0 2.83L4 21.41c.39.39.9.59 1.41.59.51 0 1.02-.2 1.41-.59l7.78-7.78 2.81-2.81c.8-.78.8-2.07 0-2.86zM5.41 20L4 18.59l7.72-7.72 1.47 1.35L5.41 20z\"/>\n",
              "  </svg>\n",
              "      </button>\n",
              "      \n",
              "  <style>\n",
              "    .colab-df-container {\n",
              "      display:flex;\n",
              "      flex-wrap:wrap;\n",
              "      gap: 12px;\n",
              "    }\n",
              "\n",
              "    .colab-df-convert {\n",
              "      background-color: #E8F0FE;\n",
              "      border: none;\n",
              "      border-radius: 50%;\n",
              "      cursor: pointer;\n",
              "      display: none;\n",
              "      fill: #1967D2;\n",
              "      height: 32px;\n",
              "      padding: 0 0 0 0;\n",
              "      width: 32px;\n",
              "    }\n",
              "\n",
              "    .colab-df-convert:hover {\n",
              "      background-color: #E2EBFA;\n",
              "      box-shadow: 0px 1px 2px rgba(60, 64, 67, 0.3), 0px 1px 3px 1px rgba(60, 64, 67, 0.15);\n",
              "      fill: #174EA6;\n",
              "    }\n",
              "\n",
              "    [theme=dark] .colab-df-convert {\n",
              "      background-color: #3B4455;\n",
              "      fill: #D2E3FC;\n",
              "    }\n",
              "\n",
              "    [theme=dark] .colab-df-convert:hover {\n",
              "      background-color: #434B5C;\n",
              "      box-shadow: 0px 1px 3px 1px rgba(0, 0, 0, 0.15);\n",
              "      filter: drop-shadow(0px 1px 2px rgba(0, 0, 0, 0.3));\n",
              "      fill: #FFFFFF;\n",
              "    }\n",
              "  </style>\n",
              "\n",
              "      <script>\n",
              "        const buttonEl =\n",
              "          document.querySelector('#df-4c85c5ec-b817-4e02-81ae-38d75677607d button.colab-df-convert');\n",
              "        buttonEl.style.display =\n",
              "          google.colab.kernel.accessAllowed ? 'block' : 'none';\n",
              "\n",
              "        async function convertToInteractive(key) {\n",
              "          const element = document.querySelector('#df-4c85c5ec-b817-4e02-81ae-38d75677607d');\n",
              "          const dataTable =\n",
              "            await google.colab.kernel.invokeFunction('convertToInteractive',\n",
              "                                                     [key], {});\n",
              "          if (!dataTable) return;\n",
              "\n",
              "          const docLinkHtml = 'Like what you see? Visit the ' +\n",
              "            '<a target=\"_blank\" href=https://colab.research.google.com/notebooks/data_table.ipynb>data table notebook</a>'\n",
              "            + ' to learn more about interactive tables.';\n",
              "          element.innerHTML = '';\n",
              "          dataTable['output_type'] = 'display_data';\n",
              "          await google.colab.output.renderOutput(dataTable, element);\n",
              "          const docLink = document.createElement('div');\n",
              "          docLink.innerHTML = docLinkHtml;\n",
              "          element.appendChild(docLink);\n",
              "        }\n",
              "      </script>\n",
              "    </div>\n",
              "  </div>\n",
              "  "
            ]
          },
          "metadata": {},
          "execution_count": 54
        }
      ]
    },
    {
      "cell_type": "code",
      "source": [
        "from sklearn.model_selection import train_test_split"
      ],
      "metadata": {
        "id": "4BiVl42kTEmY"
      },
      "execution_count": 55,
      "outputs": []
    },
    {
      "cell_type": "code",
      "source": [
        "train, val = train_test_split(\n",
        "  data,\n",
        "  test_size=0.1,\n",
        "  random_state=RANDOM_SEED\n",
        ")"
      ],
      "metadata": {
        "id": "0a6q0kMyTEkA"
      },
      "execution_count": 56,
      "outputs": []
    },
    {
      "cell_type": "code",
      "source": [
        "train.shape,val.shape"
      ],
      "metadata": {
        "colab": {
          "base_uri": "https://localhost:8080/"
        },
        "id": "3Yckn8dnTQu5",
        "outputId": "46937411-deca-480a-c08b-52fe4e87b1de"
      },
      "execution_count": 57,
      "outputs": [
        {
          "output_type": "execute_result",
          "data": {
            "text/plain": [
              "((2781, 3), (309, 3))"
            ]
          },
          "metadata": {},
          "execution_count": 57
        }
      ]
    },
    {
      "cell_type": "code",
      "source": [
        "def create_data_loader(data, tokenizer, max_len, batch_size):\n",
        "    \n",
        "    ds = Covid19Tweet(tweets=data.text.to_numpy(),\n",
        "    sentiment=data.sentiment.to_numpy(),\n",
        "    tokenizer=tokenizer,\n",
        "    max_len=max_len)\n",
        "    return DataLoader(\n",
        "    ds,\n",
        "    batch_size=batch_size,\n",
        "    num_workers=4)\n",
        "BATCH_SIZE = 32\n",
        "train_data_loader = create_data_loader(train, tokenizer, MAX_LEN, BATCH_SIZE)\n",
        "val_data_loader = create_data_loader(val, tokenizer, MAX_LEN, BATCH_SIZE)"
      ],
      "metadata": {
        "id": "c06iPDKFTQsY"
      },
      "execution_count": 58,
      "outputs": []
    },
    {
      "cell_type": "code",
      "source": [
        "df = next(iter(train_data_loader))\n",
        "df.keys()"
      ],
      "metadata": {
        "colab": {
          "base_uri": "https://localhost:8080/"
        },
        "id": "gkKcUSFbTQpt",
        "outputId": "e4cff083-2a7c-4781-8d6f-4debe1b07125"
      },
      "execution_count": 59,
      "outputs": [
        {
          "output_type": "execute_result",
          "data": {
            "text/plain": [
              "dict_keys(['tweet_text', 'input_ids', 'attention_mask', 'sentiments'])"
            ]
          },
          "metadata": {},
          "execution_count": 59
        }
      ]
    },
    {
      "cell_type": "code",
      "source": [
        "print(df['input_ids'].shape)\n",
        "print(df['attention_mask'].shape)\n",
        "print(df['sentiments'].shape)"
      ],
      "metadata": {
        "colab": {
          "base_uri": "https://localhost:8080/"
        },
        "id": "k-tKUT1yTQnI",
        "outputId": "9be6be05-af12-4a92-e173-3d5e67cd9937"
      },
      "execution_count": 60,
      "outputs": [
        {
          "output_type": "stream",
          "name": "stdout",
          "text": [
            "torch.Size([32, 100])\n",
            "torch.Size([32, 100])\n",
            "torch.Size([32])\n"
          ]
        }
      ]
    },
    {
      "cell_type": "code",
      "source": [
        "bert_model = BertModel.from_pretrained(PRE_TRAINED_MODEL_NAME)"
      ],
      "metadata": {
        "colab": {
          "base_uri": "https://localhost:8080/",
          "height": 121,
          "referenced_widgets": [
            "8282cb4180714759b5be85ad78069eec",
            "ce7b79d5aac54e438e389446b675ad37",
            "c0aeaeb2705f407d8903a00769a5ced3",
            "cb5dc8cbf4c347848b108740f3590bbe",
            "61ab6b6757e542f898999e26faf261cd",
            "1390b74c7c86492181d36bc49b58d81f",
            "626d8913d2d54f9ca952729bf5cf6331",
            "c7102b5cf129424d8ec334b790b3de3a",
            "1aa5259c627c4496a9a1ee9076855337",
            "87c515c976d04911af249e40f17165e0",
            "aacd081f8a7e4ac29796cdb4377784d9"
          ]
        },
        "id": "j515pEXHTaTX",
        "outputId": "f8ad42e2-1585-4cd7-df5b-af308aa3158e"
      },
      "execution_count": 61,
      "outputs": [
        {
          "output_type": "display_data",
          "data": {
            "text/plain": [
              "Downloading:   0%|          | 0.00/420M [00:00<?, ?B/s]"
            ],
            "application/vnd.jupyter.widget-view+json": {
              "version_major": 2,
              "version_minor": 0,
              "model_id": "8282cb4180714759b5be85ad78069eec"
            }
          },
          "metadata": {}
        },
        {
          "output_type": "stream",
          "name": "stderr",
          "text": [
            "Some weights of the model checkpoint at bert-base-uncased were not used when initializing BertModel: ['cls.seq_relationship.weight', 'cls.predictions.bias', 'cls.predictions.transform.LayerNorm.bias', 'cls.predictions.transform.LayerNorm.weight', 'cls.seq_relationship.bias', 'cls.predictions.transform.dense.bias', 'cls.predictions.decoder.weight', 'cls.predictions.transform.dense.weight']\n",
            "- This IS expected if you are initializing BertModel from the checkpoint of a model trained on another task or with another architecture (e.g. initializing a BertForSequenceClassification model from a BertForPreTraining model).\n",
            "- This IS NOT expected if you are initializing BertModel from the checkpoint of a model that you expect to be exactly identical (initializing a BertForSequenceClassification model from a BertForSequenceClassification model).\n"
          ]
        }
      ]
    },
    {
      "cell_type": "code",
      "source": [
        "class SentimentClassifier(nn.Module):\n",
        "    \n",
        "    def __init__(self, n_classes):\n",
        "        \n",
        "        super(SentimentClassifier, self).__init__()\n",
        "        self.bert = BertModel.from_pretrained(PRE_TRAINED_MODEL_NAME,  return_dict=False)\n",
        "        self.drop = nn.Dropout(p=0.3)\n",
        "        self.out = nn.Linear(self.bert.config.hidden_size, n_classes)\n",
        "    def forward(self, input_ids, attention_mask):\n",
        "        \n",
        "        _, pooled_output = self.bert(\n",
        "        input_ids=input_ids,\n",
        "        attention_mask=attention_mask\n",
        "    )\n",
        "        output = self.drop(pooled_output)\n",
        "        return self.out(output)"
      ],
      "metadata": {
        "id": "te9vM0WbTaQm"
      },
      "execution_count": 62,
      "outputs": []
    },
    {
      "cell_type": "code",
      "source": [
        "n_classes= 4"
      ],
      "metadata": {
        "id": "Wk0jP-q9TaON"
      },
      "execution_count": 63,
      "outputs": []
    },
    {
      "cell_type": "code",
      "source": [
        "model = SentimentClassifier(n_classes)\n",
        "model = model.to(device)"
      ],
      "metadata": {
        "colab": {
          "base_uri": "https://localhost:8080/"
        },
        "id": "cR4-eOzTTaL0",
        "outputId": "a37fac7f-1d7e-4dc2-d5d0-5ff31d416bc0"
      },
      "execution_count": 64,
      "outputs": [
        {
          "output_type": "stream",
          "name": "stderr",
          "text": [
            "Some weights of the model checkpoint at bert-base-uncased were not used when initializing BertModel: ['cls.seq_relationship.weight', 'cls.predictions.bias', 'cls.predictions.transform.LayerNorm.bias', 'cls.predictions.transform.LayerNorm.weight', 'cls.seq_relationship.bias', 'cls.predictions.transform.dense.bias', 'cls.predictions.decoder.weight', 'cls.predictions.transform.dense.weight']\n",
            "- This IS expected if you are initializing BertModel from the checkpoint of a model trained on another task or with another architecture (e.g. initializing a BertForSequenceClassification model from a BertForPreTraining model).\n",
            "- This IS NOT expected if you are initializing BertModel from the checkpoint of a model that you expect to be exactly identical (initializing a BertForSequenceClassification model from a BertForSequenceClassification model).\n"
          ]
        }
      ]
    },
    {
      "cell_type": "code",
      "source": [
        "input_ids = df['input_ids'].to(device)\n",
        "attention_mask = df['attention_mask'].to(device)"
      ],
      "metadata": {
        "id": "E9xrwkgXTaJJ"
      },
      "execution_count": 65,
      "outputs": []
    },
    {
      "cell_type": "code",
      "source": [
        "print(input_ids.shape) # batch size x seq length\n",
        "print(attention_mask.shape)"
      ],
      "metadata": {
        "colab": {
          "base_uri": "https://localhost:8080/"
        },
        "id": "D64o2tRfTaGY",
        "outputId": "ad67109f-61c7-401a-d3fa-7a1b9a90aa31"
      },
      "execution_count": 66,
      "outputs": [
        {
          "output_type": "stream",
          "name": "stdout",
          "text": [
            "torch.Size([32, 100])\n",
            "torch.Size([32, 100])\n"
          ]
        }
      ]
    },
    {
      "cell_type": "code",
      "source": [
        "import torch.nn.functional as F"
      ],
      "metadata": {
        "id": "GvVKb46mTaDv"
      },
      "execution_count": 67,
      "outputs": []
    },
    {
      "cell_type": "code",
      "source": [
        "F.softmax(model(input_ids, attention_mask))\n"
      ],
      "metadata": {
        "colab": {
          "base_uri": "https://localhost:8080/"
        },
        "id": "S9rtLg20TaBI",
        "outputId": "deb5377c-fb63-4ae3-bea0-f871d800e5a1"
      },
      "execution_count": 68,
      "outputs": [
        {
          "output_type": "execute_result",
          "data": {
            "text/plain": [
              "tensor([[0.2135, 0.2156, 0.2768, 0.2941],\n",
              "        [0.1782, 0.1983, 0.2902, 0.3333],\n",
              "        [0.1790, 0.2430, 0.3028, 0.2753],\n",
              "        [0.2508, 0.1772, 0.3385, 0.2335],\n",
              "        [0.1719, 0.2428, 0.3280, 0.2573],\n",
              "        [0.1623, 0.1682, 0.3329, 0.3366],\n",
              "        [0.1868, 0.2135, 0.2875, 0.3121],\n",
              "        [0.3090, 0.2343, 0.2237, 0.2330],\n",
              "        [0.2319, 0.1994, 0.2077, 0.3609],\n",
              "        [0.1288, 0.2139, 0.3706, 0.2866],\n",
              "        [0.2614, 0.2518, 0.2471, 0.2397],\n",
              "        [0.2201, 0.2838, 0.2806, 0.2155],\n",
              "        [0.1523, 0.2685, 0.3236, 0.2556],\n",
              "        [0.1391, 0.2178, 0.4012, 0.2419],\n",
              "        [0.1650, 0.1860, 0.2071, 0.4418],\n",
              "        [0.1438, 0.1831, 0.3421, 0.3311],\n",
              "        [0.2613, 0.2098, 0.3167, 0.2121],\n",
              "        [0.2465, 0.2086, 0.2958, 0.2492],\n",
              "        [0.2119, 0.2386, 0.3319, 0.2176],\n",
              "        [0.2086, 0.2989, 0.2538, 0.2388],\n",
              "        [0.2567, 0.1768, 0.2566, 0.3099],\n",
              "        [0.1178, 0.2841, 0.2551, 0.3430],\n",
              "        [0.2228, 0.1993, 0.2422, 0.3357],\n",
              "        [0.1741, 0.2366, 0.2898, 0.2995],\n",
              "        [0.2019, 0.1544, 0.3456, 0.2981],\n",
              "        [0.2534, 0.1715, 0.3150, 0.2601],\n",
              "        [0.2995, 0.2157, 0.2817, 0.2031],\n",
              "        [0.1652, 0.2626, 0.2248, 0.3474],\n",
              "        [0.2682, 0.1354, 0.3365, 0.2598],\n",
              "        [0.2122, 0.1785, 0.2862, 0.3232],\n",
              "        [0.2407, 0.2221, 0.2566, 0.2806],\n",
              "        [0.2636, 0.1928, 0.3128, 0.2309]], grad_fn=<SoftmaxBackward0>)"
            ]
          },
          "metadata": {},
          "execution_count": 68
        }
      ]
    },
    {
      "cell_type": "code",
      "source": [
        "model.parameters"
      ],
      "metadata": {
        "colab": {
          "base_uri": "https://localhost:8080/"
        },
        "id": "2aPlXBpaTkg2",
        "outputId": "ebcee04f-4377-40e0-9574-0663b0b66c6d"
      },
      "execution_count": 69,
      "outputs": [
        {
          "output_type": "execute_result",
          "data": {
            "text/plain": [
              "<bound method Module.parameters of SentimentClassifier(\n",
              "  (bert): BertModel(\n",
              "    (embeddings): BertEmbeddings(\n",
              "      (word_embeddings): Embedding(30522, 768, padding_idx=0)\n",
              "      (position_embeddings): Embedding(512, 768)\n",
              "      (token_type_embeddings): Embedding(2, 768)\n",
              "      (LayerNorm): LayerNorm((768,), eps=1e-12, elementwise_affine=True)\n",
              "      (dropout): Dropout(p=0.1, inplace=False)\n",
              "    )\n",
              "    (encoder): BertEncoder(\n",
              "      (layer): ModuleList(\n",
              "        (0): BertLayer(\n",
              "          (attention): BertAttention(\n",
              "            (self): BertSelfAttention(\n",
              "              (query): Linear(in_features=768, out_features=768, bias=True)\n",
              "              (key): Linear(in_features=768, out_features=768, bias=True)\n",
              "              (value): Linear(in_features=768, out_features=768, bias=True)\n",
              "              (dropout): Dropout(p=0.1, inplace=False)\n",
              "            )\n",
              "            (output): BertSelfOutput(\n",
              "              (dense): Linear(in_features=768, out_features=768, bias=True)\n",
              "              (LayerNorm): LayerNorm((768,), eps=1e-12, elementwise_affine=True)\n",
              "              (dropout): Dropout(p=0.1, inplace=False)\n",
              "            )\n",
              "          )\n",
              "          (intermediate): BertIntermediate(\n",
              "            (dense): Linear(in_features=768, out_features=3072, bias=True)\n",
              "            (intermediate_act_fn): GELUActivation()\n",
              "          )\n",
              "          (output): BertOutput(\n",
              "            (dense): Linear(in_features=3072, out_features=768, bias=True)\n",
              "            (LayerNorm): LayerNorm((768,), eps=1e-12, elementwise_affine=True)\n",
              "            (dropout): Dropout(p=0.1, inplace=False)\n",
              "          )\n",
              "        )\n",
              "        (1): BertLayer(\n",
              "          (attention): BertAttention(\n",
              "            (self): BertSelfAttention(\n",
              "              (query): Linear(in_features=768, out_features=768, bias=True)\n",
              "              (key): Linear(in_features=768, out_features=768, bias=True)\n",
              "              (value): Linear(in_features=768, out_features=768, bias=True)\n",
              "              (dropout): Dropout(p=0.1, inplace=False)\n",
              "            )\n",
              "            (output): BertSelfOutput(\n",
              "              (dense): Linear(in_features=768, out_features=768, bias=True)\n",
              "              (LayerNorm): LayerNorm((768,), eps=1e-12, elementwise_affine=True)\n",
              "              (dropout): Dropout(p=0.1, inplace=False)\n",
              "            )\n",
              "          )\n",
              "          (intermediate): BertIntermediate(\n",
              "            (dense): Linear(in_features=768, out_features=3072, bias=True)\n",
              "            (intermediate_act_fn): GELUActivation()\n",
              "          )\n",
              "          (output): BertOutput(\n",
              "            (dense): Linear(in_features=3072, out_features=768, bias=True)\n",
              "            (LayerNorm): LayerNorm((768,), eps=1e-12, elementwise_affine=True)\n",
              "            (dropout): Dropout(p=0.1, inplace=False)\n",
              "          )\n",
              "        )\n",
              "        (2): BertLayer(\n",
              "          (attention): BertAttention(\n",
              "            (self): BertSelfAttention(\n",
              "              (query): Linear(in_features=768, out_features=768, bias=True)\n",
              "              (key): Linear(in_features=768, out_features=768, bias=True)\n",
              "              (value): Linear(in_features=768, out_features=768, bias=True)\n",
              "              (dropout): Dropout(p=0.1, inplace=False)\n",
              "            )\n",
              "            (output): BertSelfOutput(\n",
              "              (dense): Linear(in_features=768, out_features=768, bias=True)\n",
              "              (LayerNorm): LayerNorm((768,), eps=1e-12, elementwise_affine=True)\n",
              "              (dropout): Dropout(p=0.1, inplace=False)\n",
              "            )\n",
              "          )\n",
              "          (intermediate): BertIntermediate(\n",
              "            (dense): Linear(in_features=768, out_features=3072, bias=True)\n",
              "            (intermediate_act_fn): GELUActivation()\n",
              "          )\n",
              "          (output): BertOutput(\n",
              "            (dense): Linear(in_features=3072, out_features=768, bias=True)\n",
              "            (LayerNorm): LayerNorm((768,), eps=1e-12, elementwise_affine=True)\n",
              "            (dropout): Dropout(p=0.1, inplace=False)\n",
              "          )\n",
              "        )\n",
              "        (3): BertLayer(\n",
              "          (attention): BertAttention(\n",
              "            (self): BertSelfAttention(\n",
              "              (query): Linear(in_features=768, out_features=768, bias=True)\n",
              "              (key): Linear(in_features=768, out_features=768, bias=True)\n",
              "              (value): Linear(in_features=768, out_features=768, bias=True)\n",
              "              (dropout): Dropout(p=0.1, inplace=False)\n",
              "            )\n",
              "            (output): BertSelfOutput(\n",
              "              (dense): Linear(in_features=768, out_features=768, bias=True)\n",
              "              (LayerNorm): LayerNorm((768,), eps=1e-12, elementwise_affine=True)\n",
              "              (dropout): Dropout(p=0.1, inplace=False)\n",
              "            )\n",
              "          )\n",
              "          (intermediate): BertIntermediate(\n",
              "            (dense): Linear(in_features=768, out_features=3072, bias=True)\n",
              "            (intermediate_act_fn): GELUActivation()\n",
              "          )\n",
              "          (output): BertOutput(\n",
              "            (dense): Linear(in_features=3072, out_features=768, bias=True)\n",
              "            (LayerNorm): LayerNorm((768,), eps=1e-12, elementwise_affine=True)\n",
              "            (dropout): Dropout(p=0.1, inplace=False)\n",
              "          )\n",
              "        )\n",
              "        (4): BertLayer(\n",
              "          (attention): BertAttention(\n",
              "            (self): BertSelfAttention(\n",
              "              (query): Linear(in_features=768, out_features=768, bias=True)\n",
              "              (key): Linear(in_features=768, out_features=768, bias=True)\n",
              "              (value): Linear(in_features=768, out_features=768, bias=True)\n",
              "              (dropout): Dropout(p=0.1, inplace=False)\n",
              "            )\n",
              "            (output): BertSelfOutput(\n",
              "              (dense): Linear(in_features=768, out_features=768, bias=True)\n",
              "              (LayerNorm): LayerNorm((768,), eps=1e-12, elementwise_affine=True)\n",
              "              (dropout): Dropout(p=0.1, inplace=False)\n",
              "            )\n",
              "          )\n",
              "          (intermediate): BertIntermediate(\n",
              "            (dense): Linear(in_features=768, out_features=3072, bias=True)\n",
              "            (intermediate_act_fn): GELUActivation()\n",
              "          )\n",
              "          (output): BertOutput(\n",
              "            (dense): Linear(in_features=3072, out_features=768, bias=True)\n",
              "            (LayerNorm): LayerNorm((768,), eps=1e-12, elementwise_affine=True)\n",
              "            (dropout): Dropout(p=0.1, inplace=False)\n",
              "          )\n",
              "        )\n",
              "        (5): BertLayer(\n",
              "          (attention): BertAttention(\n",
              "            (self): BertSelfAttention(\n",
              "              (query): Linear(in_features=768, out_features=768, bias=True)\n",
              "              (key): Linear(in_features=768, out_features=768, bias=True)\n",
              "              (value): Linear(in_features=768, out_features=768, bias=True)\n",
              "              (dropout): Dropout(p=0.1, inplace=False)\n",
              "            )\n",
              "            (output): BertSelfOutput(\n",
              "              (dense): Linear(in_features=768, out_features=768, bias=True)\n",
              "              (LayerNorm): LayerNorm((768,), eps=1e-12, elementwise_affine=True)\n",
              "              (dropout): Dropout(p=0.1, inplace=False)\n",
              "            )\n",
              "          )\n",
              "          (intermediate): BertIntermediate(\n",
              "            (dense): Linear(in_features=768, out_features=3072, bias=True)\n",
              "            (intermediate_act_fn): GELUActivation()\n",
              "          )\n",
              "          (output): BertOutput(\n",
              "            (dense): Linear(in_features=3072, out_features=768, bias=True)\n",
              "            (LayerNorm): LayerNorm((768,), eps=1e-12, elementwise_affine=True)\n",
              "            (dropout): Dropout(p=0.1, inplace=False)\n",
              "          )\n",
              "        )\n",
              "        (6): BertLayer(\n",
              "          (attention): BertAttention(\n",
              "            (self): BertSelfAttention(\n",
              "              (query): Linear(in_features=768, out_features=768, bias=True)\n",
              "              (key): Linear(in_features=768, out_features=768, bias=True)\n",
              "              (value): Linear(in_features=768, out_features=768, bias=True)\n",
              "              (dropout): Dropout(p=0.1, inplace=False)\n",
              "            )\n",
              "            (output): BertSelfOutput(\n",
              "              (dense): Linear(in_features=768, out_features=768, bias=True)\n",
              "              (LayerNorm): LayerNorm((768,), eps=1e-12, elementwise_affine=True)\n",
              "              (dropout): Dropout(p=0.1, inplace=False)\n",
              "            )\n",
              "          )\n",
              "          (intermediate): BertIntermediate(\n",
              "            (dense): Linear(in_features=768, out_features=3072, bias=True)\n",
              "            (intermediate_act_fn): GELUActivation()\n",
              "          )\n",
              "          (output): BertOutput(\n",
              "            (dense): Linear(in_features=3072, out_features=768, bias=True)\n",
              "            (LayerNorm): LayerNorm((768,), eps=1e-12, elementwise_affine=True)\n",
              "            (dropout): Dropout(p=0.1, inplace=False)\n",
              "          )\n",
              "        )\n",
              "        (7): BertLayer(\n",
              "          (attention): BertAttention(\n",
              "            (self): BertSelfAttention(\n",
              "              (query): Linear(in_features=768, out_features=768, bias=True)\n",
              "              (key): Linear(in_features=768, out_features=768, bias=True)\n",
              "              (value): Linear(in_features=768, out_features=768, bias=True)\n",
              "              (dropout): Dropout(p=0.1, inplace=False)\n",
              "            )\n",
              "            (output): BertSelfOutput(\n",
              "              (dense): Linear(in_features=768, out_features=768, bias=True)\n",
              "              (LayerNorm): LayerNorm((768,), eps=1e-12, elementwise_affine=True)\n",
              "              (dropout): Dropout(p=0.1, inplace=False)\n",
              "            )\n",
              "          )\n",
              "          (intermediate): BertIntermediate(\n",
              "            (dense): Linear(in_features=768, out_features=3072, bias=True)\n",
              "            (intermediate_act_fn): GELUActivation()\n",
              "          )\n",
              "          (output): BertOutput(\n",
              "            (dense): Linear(in_features=3072, out_features=768, bias=True)\n",
              "            (LayerNorm): LayerNorm((768,), eps=1e-12, elementwise_affine=True)\n",
              "            (dropout): Dropout(p=0.1, inplace=False)\n",
              "          )\n",
              "        )\n",
              "        (8): BertLayer(\n",
              "          (attention): BertAttention(\n",
              "            (self): BertSelfAttention(\n",
              "              (query): Linear(in_features=768, out_features=768, bias=True)\n",
              "              (key): Linear(in_features=768, out_features=768, bias=True)\n",
              "              (value): Linear(in_features=768, out_features=768, bias=True)\n",
              "              (dropout): Dropout(p=0.1, inplace=False)\n",
              "            )\n",
              "            (output): BertSelfOutput(\n",
              "              (dense): Linear(in_features=768, out_features=768, bias=True)\n",
              "              (LayerNorm): LayerNorm((768,), eps=1e-12, elementwise_affine=True)\n",
              "              (dropout): Dropout(p=0.1, inplace=False)\n",
              "            )\n",
              "          )\n",
              "          (intermediate): BertIntermediate(\n",
              "            (dense): Linear(in_features=768, out_features=3072, bias=True)\n",
              "            (intermediate_act_fn): GELUActivation()\n",
              "          )\n",
              "          (output): BertOutput(\n",
              "            (dense): Linear(in_features=3072, out_features=768, bias=True)\n",
              "            (LayerNorm): LayerNorm((768,), eps=1e-12, elementwise_affine=True)\n",
              "            (dropout): Dropout(p=0.1, inplace=False)\n",
              "          )\n",
              "        )\n",
              "        (9): BertLayer(\n",
              "          (attention): BertAttention(\n",
              "            (self): BertSelfAttention(\n",
              "              (query): Linear(in_features=768, out_features=768, bias=True)\n",
              "              (key): Linear(in_features=768, out_features=768, bias=True)\n",
              "              (value): Linear(in_features=768, out_features=768, bias=True)\n",
              "              (dropout): Dropout(p=0.1, inplace=False)\n",
              "            )\n",
              "            (output): BertSelfOutput(\n",
              "              (dense): Linear(in_features=768, out_features=768, bias=True)\n",
              "              (LayerNorm): LayerNorm((768,), eps=1e-12, elementwise_affine=True)\n",
              "              (dropout): Dropout(p=0.1, inplace=False)\n",
              "            )\n",
              "          )\n",
              "          (intermediate): BertIntermediate(\n",
              "            (dense): Linear(in_features=768, out_features=3072, bias=True)\n",
              "            (intermediate_act_fn): GELUActivation()\n",
              "          )\n",
              "          (output): BertOutput(\n",
              "            (dense): Linear(in_features=3072, out_features=768, bias=True)\n",
              "            (LayerNorm): LayerNorm((768,), eps=1e-12, elementwise_affine=True)\n",
              "            (dropout): Dropout(p=0.1, inplace=False)\n",
              "          )\n",
              "        )\n",
              "        (10): BertLayer(\n",
              "          (attention): BertAttention(\n",
              "            (self): BertSelfAttention(\n",
              "              (query): Linear(in_features=768, out_features=768, bias=True)\n",
              "              (key): Linear(in_features=768, out_features=768, bias=True)\n",
              "              (value): Linear(in_features=768, out_features=768, bias=True)\n",
              "              (dropout): Dropout(p=0.1, inplace=False)\n",
              "            )\n",
              "            (output): BertSelfOutput(\n",
              "              (dense): Linear(in_features=768, out_features=768, bias=True)\n",
              "              (LayerNorm): LayerNorm((768,), eps=1e-12, elementwise_affine=True)\n",
              "              (dropout): Dropout(p=0.1, inplace=False)\n",
              "            )\n",
              "          )\n",
              "          (intermediate): BertIntermediate(\n",
              "            (dense): Linear(in_features=768, out_features=3072, bias=True)\n",
              "            (intermediate_act_fn): GELUActivation()\n",
              "          )\n",
              "          (output): BertOutput(\n",
              "            (dense): Linear(in_features=3072, out_features=768, bias=True)\n",
              "            (LayerNorm): LayerNorm((768,), eps=1e-12, elementwise_affine=True)\n",
              "            (dropout): Dropout(p=0.1, inplace=False)\n",
              "          )\n",
              "        )\n",
              "        (11): BertLayer(\n",
              "          (attention): BertAttention(\n",
              "            (self): BertSelfAttention(\n",
              "              (query): Linear(in_features=768, out_features=768, bias=True)\n",
              "              (key): Linear(in_features=768, out_features=768, bias=True)\n",
              "              (value): Linear(in_features=768, out_features=768, bias=True)\n",
              "              (dropout): Dropout(p=0.1, inplace=False)\n",
              "            )\n",
              "            (output): BertSelfOutput(\n",
              "              (dense): Linear(in_features=768, out_features=768, bias=True)\n",
              "              (LayerNorm): LayerNorm((768,), eps=1e-12, elementwise_affine=True)\n",
              "              (dropout): Dropout(p=0.1, inplace=False)\n",
              "            )\n",
              "          )\n",
              "          (intermediate): BertIntermediate(\n",
              "            (dense): Linear(in_features=768, out_features=3072, bias=True)\n",
              "            (intermediate_act_fn): GELUActivation()\n",
              "          )\n",
              "          (output): BertOutput(\n",
              "            (dense): Linear(in_features=3072, out_features=768, bias=True)\n",
              "            (LayerNorm): LayerNorm((768,), eps=1e-12, elementwise_affine=True)\n",
              "            (dropout): Dropout(p=0.1, inplace=False)\n",
              "          )\n",
              "        )\n",
              "      )\n",
              "    )\n",
              "    (pooler): BertPooler(\n",
              "      (dense): Linear(in_features=768, out_features=768, bias=True)\n",
              "      (activation): Tanh()\n",
              "    )\n",
              "  )\n",
              "  (drop): Dropout(p=0.3, inplace=False)\n",
              "  (out): Linear(in_features=768, out_features=4, bias=True)\n",
              ")>"
            ]
          },
          "metadata": {},
          "execution_count": 69
        }
      ]
    },
    {
      "cell_type": "code",
      "source": [
        "EPOCHS = 5\n",
        "optimizer = AdamW(model.parameters(), lr=2e-5, correct_bias=False)\n",
        "total_steps = len(train_data_loader) * EPOCHS\n",
        "scheduler = get_linear_schedule_with_warmup(\n",
        "  optimizer,\n",
        "  num_warmup_steps=0,\n",
        "  num_training_steps=total_steps\n",
        ")\n",
        "loss_fn = nn.CrossEntropyLoss().to(device)"
      ],
      "metadata": {
        "id": "cs0472_iTkee"
      },
      "execution_count": 70,
      "outputs": []
    },
    {
      "cell_type": "code",
      "source": [
        "def train_epoch(model,data_loader,loss_fn,optimizer,device,scheduler, n_examples):  \n",
        "    model = model.train()\n",
        "    losses = []\n",
        "    correct_predictions = 0\n",
        "    for d in data_loader:\n",
        "        \n",
        "        input_ids = d[\"input_ids\"].to(device)\n",
        "        attention_mask = d[\"attention_mask\"].to(device)\n",
        "        targets = d[\"sentiments\"].to(device)\n",
        "        outputs = model(input_ids=input_ids,attention_mask=attention_mask)\n",
        "        _, preds = torch.max(outputs, dim=1)\n",
        "        loss = loss_fn(outputs, targets)\n",
        "        correct_predictions += torch.sum(preds == targets)\n",
        "        losses.append(loss.item())\n",
        "        loss.backward()\n",
        "        nn.utils.clip_grad_norm_(model.parameters(), max_norm=1.0)\n",
        "        optimizer.step()\n",
        "        scheduler.step()\n",
        "        optimizer.zero_grad()\n",
        "    return correct_predictions.double() / n_examples, np.mean(losses)\n"
      ],
      "metadata": {
        "id": "6pLvpddSTkcE"
      },
      "execution_count": 71,
      "outputs": []
    },
    {
      "cell_type": "code",
      "source": [
        "def eval_model(model, data_loader, loss_fn, device, n_examples):\n",
        "    \n",
        "    model = model.eval()\n",
        "    losses = []\n",
        "    correct_predictions = 0\n",
        "    with torch.no_grad():\n",
        "        for d in data_loader:\n",
        "            input_ids = d[\"input_ids\"].to(device)\n",
        "            attention_mask = d[\"attention_mask\"].to(device)\n",
        "            targets = d[\"sentiments\"].to(device)\n",
        "            outputs = model(input_ids=input_ids,attention_mask=attention_mask)\n",
        "            _, preds = torch.max(outputs, dim=1)\n",
        "            loss = loss_fn(outputs, targets)\n",
        "            correct_predictions += torch.sum(preds == targets)\n",
        "            losses.append(loss.item())\n",
        "        return correct_predictions.double() / n_examples, np.mean(losses)\n",
        "            "
      ],
      "metadata": {
        "id": "h5VGOq34TkZc"
      },
      "execution_count": 72,
      "outputs": []
    },
    {
      "cell_type": "code",
      "source": [
        "from collections import defaultdict"
      ],
      "metadata": {
        "id": "jswk2T--TkWx"
      },
      "execution_count": 73,
      "outputs": []
    },
    {
      "cell_type": "code",
      "source": [
        "# %%time\n",
        "# history = defaultdict(list)\n",
        "# best_accuracy = 0\n",
        "# for epoch in range(EPOCHS):\n",
        "#     print(f'Epoch {epoch + 1}/{EPOCHS}')\n",
        "#     print('-' * 10)\n",
        "#     train_acc, train_loss = train_epoch(model,train_data_loader,loss_fn,optimizer,device,scheduler,len(train))\n",
        "#     print(f'Train loss {train_loss} accuracy {train_acc}')\n",
        "#     val_acc, val_loss = eval_model(model,val_data_loader,loss_fn,device,len(val))\n",
        "#     print(f'Val   loss {val_loss} accuracy {val_acc}')\n",
        "#     print()\n",
        "#     history['train_acc'].append(train_acc)\n",
        "#     history['train_loss'].append(train_loss)\n",
        "#     history['val_acc'].append(val_acc)\n",
        "#     history['val_loss'].append(val_loss)\n",
        "#     if val_acc > best_accuracy:\n",
        "        \n",
        "#         torch.save(model.state_dict(), '/content/drive/MyDrive/sentiment analysis/bert base uncased/pytorch_model.bin')\n",
        "#         best_accuracy = val_acc"
      ],
      "metadata": {
        "id": "Stw9IEMYTkUQ"
      },
      "execution_count": 74,
      "outputs": []
    },
    {
      "cell_type": "code",
      "source": [
        "model = SentimentClassifier(n_classes)\n",
        "model.load_state_dict(torch.load('/content/drive/MyDrive/sentiment analysis/bert base uncased/pytorch_model.bin'))\n",
        "model = model.to(device)"
      ],
      "metadata": {
        "colab": {
          "base_uri": "https://localhost:8080/"
        },
        "id": "UyG28Z4MTzN_",
        "outputId": "39ec524e-5a7c-4869-91c3-f32a6a46d03a"
      },
      "execution_count": 75,
      "outputs": [
        {
          "output_type": "stream",
          "name": "stderr",
          "text": [
            "Some weights of the model checkpoint at bert-base-uncased were not used when initializing BertModel: ['cls.seq_relationship.weight', 'cls.predictions.bias', 'cls.predictions.transform.LayerNorm.bias', 'cls.predictions.transform.LayerNorm.weight', 'cls.seq_relationship.bias', 'cls.predictions.transform.dense.bias', 'cls.predictions.decoder.weight', 'cls.predictions.transform.dense.weight']\n",
            "- This IS expected if you are initializing BertModel from the checkpoint of a model trained on another task or with another architecture (e.g. initializing a BertForSequenceClassification model from a BertForPreTraining model).\n",
            "- This IS NOT expected if you are initializing BertModel from the checkpoint of a model that you expect to be exactly identical (initializing a BertForSequenceClassification model from a BertForSequenceClassification model).\n"
          ]
        }
      ]
    },
    {
      "cell_type": "code",
      "source": [
        "review_text = 'Life has come to standstill due to this pandemic, milllions have lost their job '"
      ],
      "metadata": {
        "id": "1ZdcDNXnTzKj"
      },
      "execution_count": 76,
      "outputs": []
    },
    {
      "cell_type": "code",
      "source": [
        "encoded_review = tokenizer.encode_plus(review_text,max_length=MAX_LEN,add_special_tokens=True,\n",
        "                                           return_token_type_ids=False,pad_to_max_length=True,return_attention_mask=True,\n",
        "                                           return_tensors='pt')"
      ],
      "metadata": {
        "id": "hRZcuSjmTzG5"
      },
      "execution_count": 77,
      "outputs": []
    },
    {
      "cell_type": "code",
      "source": [
        "input_ids = encoded_review['input_ids'].to(device)\n",
        "attention_mask = encoded_review['attention_mask'].to(device)\n",
        "output = model(input_ids, attention_mask)\n",
        "_, prediction = torch.max(output, dim=1)\n",
        "print('Review text :{}'.format(review_text))\n",
        "print('Sentiment :{}'.format(classes[prediction]))"
      ],
      "metadata": {
        "colab": {
          "base_uri": "https://localhost:8080/"
        },
        "id": "flNTyUpGTzDF",
        "outputId": "65225cf0-3278-4572-d348-679934fcfd70"
      },
      "execution_count": 78,
      "outputs": [
        {
          "output_type": "stream",
          "name": "stdout",
          "text": [
            "Review text :Life has come to standstill due to this pandemic, milllions have lost their job \n",
            "Sentiment :sad\n"
          ]
        }
      ]
    },
    {
      "cell_type": "code",
      "source": [
        "plt.plot(['train_acc'], label='train accuracy')\n",
        "plt.plot(['val_acc'], label='validation accuracy')\n",
        "plt.title('Training history')\n",
        "plt.ylabel('Accuracy')\n",
        "plt.xlabel('Epoch')\n",
        "plt.legend()\n",
        "plt.ylim([0, 1]);"
      ],
      "metadata": {
        "colab": {
          "base_uri": "https://localhost:8080/",
          "height": 301
        },
        "id": "icWswSQ6T5ye",
        "outputId": "409aea9e-ffc3-45cf-85d6-17081730db6f"
      },
      "execution_count": 79,
      "outputs": [
        {
          "output_type": "display_data",
          "data": {
            "text/plain": [
              "<Figure size 432x288 with 1 Axes>"
            ],
            "image/png": "[encoded data removed]"
          },
          "metadata": {}
        }
      ]
    }
  ]
}